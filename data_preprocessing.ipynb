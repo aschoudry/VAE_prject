{
 "cells": [
  {
   "cell_type": "code",
   "execution_count": 36,
   "id": "0727678f-42a4-466d-972a-9d772818a2ed",
   "metadata": {
    "tags": []
   },
   "outputs": [],
   "source": [
    "import numpy as np\n",
    "import pandas as pd\n",
    "from sklearn.preprocessing import StandardScaler\n",
    "from sklearn import preprocessing"
   ]
  },
  {
   "cell_type": "code",
   "execution_count": 37,
   "id": "0536c522-84f9-4907-95be-da0613857189",
   "metadata": {
    "tags": []
   },
   "outputs": [],
   "source": [
    "tcga_train_file_location = 'data/train_tcga_expression_matrix_processed.tsv.gz'\n",
    "target_train_file_location = 'data/train_target_expression_matrix_processed.tsv.gz'\n",
    "gtex_train_file_location = 'data/train_gtex_expression_matrix_processed.tsv.gz'\n",
    "tcga_tybalt_file_location = 'data/pancan_scaled_zeroone_rnaseq.tsv.gz'"
   ]
  },
  {
   "cell_type": "code",
   "execution_count": 38,
   "id": "93a72e01-3757-4ba6-b260-38060b9bfb46",
   "metadata": {
    "tags": []
   },
   "outputs": [],
   "source": [
    "tcga_df = pd.read_table(tcga_train_file_location)\n",
    "target_df = pd.read_table(target_train_file_location)\n",
    "gtex_df = pd.read_table(gtex_train_file_location)"
   ]
  },
  {
   "cell_type": "code",
   "execution_count": 39,
   "id": "c8273ba6-3519-40d7-bb06-df04bc5308e5",
   "metadata": {
    "tags": []
   },
   "outputs": [],
   "source": [
    "tcga_df.drop(columns=tcga_df.columns[0], axis=1,  inplace=True)\n",
    "target_df.drop(columns=target_df.columns[0], axis=1,  inplace=True)\n",
    "gtex_df.drop(columns=gtex_df.columns[0], axis=1,  inplace=True)\n",
    "tcga_df = tcga_df.dropna()\n",
    "target_df = target_df.dropna()\n",
    "gtex_df = gtex_df.dropna()"
   ]
  },
  {
   "cell_type": "code",
   "execution_count": 40,
   "id": "da7f66d2-9d15-40d7-9a2e-67a54f08e854",
   "metadata": {
    "tags": []
   },
   "outputs": [],
   "source": [
    "scaler = StandardScaler()"
   ]
  },
  {
   "cell_type": "code",
   "execution_count": 41,
   "id": "7c5427fc-c5da-42b3-8c94-abc35ee6d08d",
   "metadata": {
    "tags": []
   },
   "outputs": [],
   "source": [
    "# Scale RNAseq data using z-scores\n",
    "tcga_df_sort = preprocessing.MinMaxScaler().fit_transform(tcga_df)\n",
    "target_df_sort = preprocessing.MinMaxScaler().fit_transform(target_df)\n",
    "gtex_df_sort = preprocessing.MinMaxScaler().fit_transform(gtex_df)\n",
    "\n",
    "tcga_df_sort = pd.DataFrame(tcga_df_sort,\n",
    "                                columns=tcga_df.columns)\n",
    "target_df_sort = pd.DataFrame(target_df_sort,\n",
    "                                columns=target_df.columns)\n",
    "gtex_df_sort = pd.DataFrame(gtex_df_sort,\n",
    "                                columns=gtex_df.columns)"
   ]
  },
  {
   "cell_type": "code",
   "execution_count": 42,
   "id": "1e15c9e8-07d8-4998-aae2-d3e27f396412",
   "metadata": {
    "tags": []
   },
   "outputs": [],
   "source": [
    "# Calculate standard deviation of each column\n",
    "std_tcga = tcga_df_sort.std()\n",
    "std_target = target_df_sort.std()\n",
    "std_gtex = gtex_df_sort.std()\n",
    "\n",
    "# Sort the standard deviations in descending order\n",
    "std_sorted_tcga = std_tcga.sort_values(ascending=False)\n",
    "std_sorted_target = std_target.sort_values(ascending=False)\n",
    "std_sorted_gtex = std_gtex.sort_values(ascending=False)\n",
    "\n",
    "# Print the columns with the highest standard deviations\n",
    "tcga_df_sort = tcga_df_sort[std_sorted_tcga.index[:5000]]\n",
    "target_df_sort = target_df_sort[std_sorted_target.index[:5000]]\n",
    "gtex_df_sort = gtex_df_sort[std_sorted_gtex.index[:5000]]"
   ]
  },
  {
   "cell_type": "code",
   "execution_count": 43,
   "id": "926c3d53-af23-4ca0-a5e1-f0dbaa1ef8fa",
   "metadata": {
    "tags": []
   },
   "outputs": [],
   "source": [
    "tcga_df_sort.to_csv('data/rescaled_5000_tcga_df_sort.tsv.gz', sep='\\t', compression='gzip')\n",
    "target_df_sort.to_csv('data/rescaled_5000_target_df_sort.tsv.gz', sep='\\t', compression='gzip')\n",
    "gtex_df_sort.to_csv('data/rescaled_5000_gtex_df_sort.tsv.gz', sep='\\t', compression='gzip')"
   ]
  },
  {
   "cell_type": "code",
   "execution_count": 44,
   "id": "400936ac-6373-4625-a8e0-843c3e2342db",
   "metadata": {
    "tags": []
   },
   "outputs": [
    {
     "data": {
      "text/html": [
       "<div>\n",
       "<style scoped>\n",
       "    .dataframe tbody tr th:only-of-type {\n",
       "        vertical-align: middle;\n",
       "    }\n",
       "\n",
       "    .dataframe tbody tr th {\n",
       "        vertical-align: top;\n",
       "    }\n",
       "\n",
       "    .dataframe thead th {\n",
       "        text-align: right;\n",
       "    }\n",
       "</style>\n",
       "<table border=\"1\" class=\"dataframe\">\n",
       "  <thead>\n",
       "    <tr style=\"text-align: right;\">\n",
       "      <th></th>\n",
       "      <th>1</th>\n",
       "      <th>10</th>\n",
       "      <th>100</th>\n",
       "      <th>1000</th>\n",
       "      <th>10000</th>\n",
       "      <th>10001</th>\n",
       "      <th>10002</th>\n",
       "      <th>10003</th>\n",
       "      <th>100037417</th>\n",
       "      <th>10004</th>\n",
       "      <th>...</th>\n",
       "      <th>9987</th>\n",
       "      <th>9988</th>\n",
       "      <th>9989</th>\n",
       "      <th>999</th>\n",
       "      <th>9990</th>\n",
       "      <th>9991</th>\n",
       "      <th>9992</th>\n",
       "      <th>9993</th>\n",
       "      <th>9994</th>\n",
       "      <th>9997</th>\n",
       "    </tr>\n",
       "  </thead>\n",
       "  <tbody>\n",
       "    <tr>\n",
       "      <th>0</th>\n",
       "      <td>202.0</td>\n",
       "      <td>28.5</td>\n",
       "      <td>329.0</td>\n",
       "      <td>84.5</td>\n",
       "      <td>492.0</td>\n",
       "      <td>448.0</td>\n",
       "      <td>4.590</td>\n",
       "      <td>14.70</td>\n",
       "      <td>337.0</td>\n",
       "      <td>129.0</td>\n",
       "      <td>...</td>\n",
       "      <td>3430.0</td>\n",
       "      <td>717.0</td>\n",
       "      <td>1800.0</td>\n",
       "      <td>6360.0</td>\n",
       "      <td>299.0</td>\n",
       "      <td>2310.0</td>\n",
       "      <td>10.60</td>\n",
       "      <td>3190.0</td>\n",
       "      <td>337.0</td>\n",
       "      <td>892.0</td>\n",
       "    </tr>\n",
       "    <tr>\n",
       "      <th>1</th>\n",
       "      <td>77.5</td>\n",
       "      <td>22.5</td>\n",
       "      <td>74.5</td>\n",
       "      <td>13.1</td>\n",
       "      <td>784.0</td>\n",
       "      <td>333.0</td>\n",
       "      <td>2.540</td>\n",
       "      <td>176.00</td>\n",
       "      <td>153.0</td>\n",
       "      <td>68.3</td>\n",
       "      <td>...</td>\n",
       "      <td>6050.0</td>\n",
       "      <td>923.0</td>\n",
       "      <td>2490.0</td>\n",
       "      <td>11300.0</td>\n",
       "      <td>1150.0</td>\n",
       "      <td>4030.0</td>\n",
       "      <td>9.08</td>\n",
       "      <td>2890.0</td>\n",
       "      <td>316.0</td>\n",
       "      <td>301.0</td>\n",
       "    </tr>\n",
       "    <tr>\n",
       "      <th>2</th>\n",
       "      <td>152.0</td>\n",
       "      <td>0.0</td>\n",
       "      <td>3020.0</td>\n",
       "      <td>26.6</td>\n",
       "      <td>486.0</td>\n",
       "      <td>497.0</td>\n",
       "      <td>0.000</td>\n",
       "      <td>8.47</td>\n",
       "      <td>348.0</td>\n",
       "      <td>91.6</td>\n",
       "      <td>...</td>\n",
       "      <td>4930.0</td>\n",
       "      <td>897.0</td>\n",
       "      <td>861.0</td>\n",
       "      <td>39.7</td>\n",
       "      <td>464.0</td>\n",
       "      <td>3320.0</td>\n",
       "      <td>0.00</td>\n",
       "      <td>1330.0</td>\n",
       "      <td>606.0</td>\n",
       "      <td>558.0</td>\n",
       "    </tr>\n",
       "    <tr>\n",
       "      <th>3</th>\n",
       "      <td>80.5</td>\n",
       "      <td>40.0</td>\n",
       "      <td>70.6</td>\n",
       "      <td>284.0</td>\n",
       "      <td>2420.0</td>\n",
       "      <td>325.0</td>\n",
       "      <td>1.200</td>\n",
       "      <td>91.40</td>\n",
       "      <td>231.0</td>\n",
       "      <td>241.0</td>\n",
       "      <td>...</td>\n",
       "      <td>3890.0</td>\n",
       "      <td>737.0</td>\n",
       "      <td>1410.0</td>\n",
       "      <td>10.9</td>\n",
       "      <td>1120.0</td>\n",
       "      <td>1990.0</td>\n",
       "      <td>5.24</td>\n",
       "      <td>3090.0</td>\n",
       "      <td>673.0</td>\n",
       "      <td>263.0</td>\n",
       "    </tr>\n",
       "    <tr>\n",
       "      <th>4</th>\n",
       "      <td>319.0</td>\n",
       "      <td>0.0</td>\n",
       "      <td>422.0</td>\n",
       "      <td>184.0</td>\n",
       "      <td>423.0</td>\n",
       "      <td>392.0</td>\n",
       "      <td>0.945</td>\n",
       "      <td>2.36</td>\n",
       "      <td>585.0</td>\n",
       "      <td>143.0</td>\n",
       "      <td>...</td>\n",
       "      <td>1930.0</td>\n",
       "      <td>328.0</td>\n",
       "      <td>1340.0</td>\n",
       "      <td>7010.0</td>\n",
       "      <td>450.0</td>\n",
       "      <td>563.0</td>\n",
       "      <td>10.90</td>\n",
       "      <td>3780.0</td>\n",
       "      <td>37.3</td>\n",
       "      <td>1120.0</td>\n",
       "    </tr>\n",
       "  </tbody>\n",
       "</table>\n",
       "<p>5 rows × 16148 columns</p>\n",
       "</div>"
      ],
      "text/plain": [
       "       1    10     100   1000   10000  10001  10002   10003  100037417  10004  \\\n",
       "0  202.0  28.5   329.0   84.5   492.0  448.0  4.590   14.70      337.0  129.0   \n",
       "1   77.5  22.5    74.5   13.1   784.0  333.0  2.540  176.00      153.0   68.3   \n",
       "2  152.0   0.0  3020.0   26.6   486.0  497.0  0.000    8.47      348.0   91.6   \n",
       "3   80.5  40.0    70.6  284.0  2420.0  325.0  1.200   91.40      231.0  241.0   \n",
       "4  319.0   0.0   422.0  184.0   423.0  392.0  0.945    2.36      585.0  143.0   \n",
       "\n",
       "   ...    9987   9988    9989      999    9990    9991   9992    9993   9994  \\\n",
       "0  ...  3430.0  717.0  1800.0   6360.0   299.0  2310.0  10.60  3190.0  337.0   \n",
       "1  ...  6050.0  923.0  2490.0  11300.0  1150.0  4030.0   9.08  2890.0  316.0   \n",
       "2  ...  4930.0  897.0   861.0     39.7   464.0  3320.0   0.00  1330.0  606.0   \n",
       "3  ...  3890.0  737.0  1410.0     10.9  1120.0  1990.0   5.24  3090.0  673.0   \n",
       "4  ...  1930.0  328.0  1340.0   7010.0   450.0   563.0  10.90  3780.0   37.3   \n",
       "\n",
       "     9997  \n",
       "0   892.0  \n",
       "1   301.0  \n",
       "2   558.0  \n",
       "3   263.0  \n",
       "4  1120.0  \n",
       "\n",
       "[5 rows x 16148 columns]"
      ]
     },
     "execution_count": 44,
     "metadata": {},
     "output_type": "execute_result"
    }
   ],
   "source": [
    "tcga_df.head()"
   ]
  },
  {
   "cell_type": "code",
   "execution_count": null,
   "id": "2fad82d6-9a96-41c3-898f-ff950e2d157a",
   "metadata": {},
   "outputs": [],
   "source": []
  },
  {
   "cell_type": "code",
   "execution_count": null,
   "id": "02afca58-aaa4-48e0-9c19-287f96caf958",
   "metadata": {},
   "outputs": [],
   "source": []
  }
 ],
 "metadata": {
  "kernelspec": {
   "display_name": "Python 3 (ipykernel)",
   "language": "python",
   "name": "python3"
  },
  "language_info": {
   "codemirror_mode": {
    "name": "ipython",
    "version": 3
   },
   "file_extension": ".py",
   "mimetype": "text/x-python",
   "name": "python",
   "nbconvert_exporter": "python",
   "pygments_lexer": "ipython3",
   "version": "3.11.2"
  }
 },
 "nbformat": 4,
 "nbformat_minor": 5
}
