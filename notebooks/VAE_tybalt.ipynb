{
 "cells": [
  {
   "cell_type": "code",
   "execution_count": 1,
   "id": "088ec08c-d677-426b-aa50-e1b2007fb393",
   "metadata": {
    "tags": []
   },
   "outputs": [],
   "source": [
    "import torch\n",
    "import torch.nn as nn\n",
    "import torch.nn.functional as F\n",
    "import torch.optim as optim\n",
    "from torchvision import datasets, transforms\n",
    "from torch.autograd import Variable\n",
    "from torchvision.utils import save_image\n",
    "from torchvision.transforms import ToTensor\n",
    "\n",
    "from torch.distributions.multivariate_normal import MultivariateNormal\n",
    "from torch.distributions.kl import kl_divergence\n",
    "import torchvision\n",
    "import numpy as np\n",
    "import pandas as pd\n",
    "from sklearn.preprocessing import StandardScaler"
   ]
  },
  {
   "cell_type": "code",
   "execution_count": 2,
   "id": "f7fb5d5e-8533-4cd3-87c4-7cce50c13d50",
   "metadata": {
    "tags": []
   },
   "outputs": [],
   "source": [
    "tcga_train_file_location = 'data/train_tcga_expression_matrix_processed.tsv.gz'\n",
    "target_train_file_location = 'data/train_target_expression_matrix_processed.tsv.gz'\n",
    "gtex_train_file_location = 'data/train_gtex_expression_matrix_processed.tsv.gz'"
   ]
  },
  {
   "cell_type": "code",
   "execution_count": null,
   "id": "1546e991-6b44-45d2-b779-31664402481d",
   "metadata": {
    "tags": []
   },
   "outputs": [],
   "source": [
    "tcga_df = pd.read_table(tcga_train_file_location)\n",
    "target_df = pd.read_table(target_train_file_location)\n",
    "gtex_df = pd.read_table(gtex_train_file_location)"
   ]
  },
  {
   "cell_type": "code",
   "execution_count": null,
   "id": "5a6aecf5-d1d7-4ce6-9ff5-88795893ec16",
   "metadata": {
    "tags": []
   },
   "outputs": [],
   "source": [
    "tcga_df.head(2)"
   ]
  },
  {
   "cell_type": "code",
   "execution_count": null,
   "id": "f7cfc67e-4d91-4cb1-be2b-07858ddbdcaf",
   "metadata": {
    "tags": []
   },
   "outputs": [],
   "source": [
    "target_df.head(2)"
   ]
  },
  {
   "cell_type": "code",
   "execution_count": null,
   "id": "3ea5930e-1c15-48d8-949f-0ad6c983ac9f",
   "metadata": {
    "tags": []
   },
   "outputs": [],
   "source": [
    "gtex_df.head(2)"
   ]
  },
  {
   "cell_type": "code",
   "execution_count": null,
   "id": "c1ed1d23-6004-45c5-8d8b-a54eb888e314",
   "metadata": {
    "tags": []
   },
   "outputs": [],
   "source": [
    "scaler = StandardScaler()"
   ]
  },
  {
   "cell_type": "code",
   "execution_count": null,
   "id": "63fb62f1-1426-498c-8354-0a307a55af5c",
   "metadata": {
    "tags": []
   },
   "outputs": [],
   "source": [
    "gtex_df_sort = gtex_df[list(gtex_df.columns)]\n",
    "gtex_df_sort = gtex_df_sort.drop(columns='sample_id')\n",
    "gtex_df_sort = gtex_df_sort.dropna()\n"
   ]
  },
  {
   "cell_type": "code",
   "execution_count": null,
   "id": "846762aa-118e-4a5a-ac4a-d8b8748a8e04",
   "metadata": {
    "tags": []
   },
   "outputs": [],
   "source": [
    "gtex_df_sort = scaler.fit_transform(gtex_df_sort)"
   ]
  },
  {
   "cell_type": "code",
   "execution_count": null,
   "id": "ac6e5f62-8d74-499b-92b0-24663a0a1eae",
   "metadata": {
    "tags": []
   },
   "outputs": [],
   "source": [
    "train_loader = torch.utils.data.DataLoader(dataset=torch.Tensor(gtex_df_sort), batch_size=100, shuffle=True)"
   ]
  },
  {
   "cell_type": "code",
   "execution_count": null,
   "id": "8aa2b280-60fb-4db9-bb0b-c08fd6952925",
   "metadata": {
    "tags": []
   },
   "outputs": [],
   "source": [
    "gtex_df_sort.shape"
   ]
  },
  {
   "cell_type": "markdown",
   "id": "1888f9cb-5a1a-487a-a341-d603d6a8bef3",
   "metadata": {},
   "source": [
    "VAE model"
   ]
  },
  {
   "cell_type": "code",
   "execution_count": null,
   "id": "68fdf3ca-8301-41dc-a512-18764e96a408",
   "metadata": {
    "tags": []
   },
   "outputs": [],
   "source": [
    "class VAE(nn.Module):\n",
    "    def __init__(self, input_dim: int, hidden_dim: list, z_dim):\n",
    "        super(VAE, self).__init__()\n",
    "        \n",
    "        self.z_dim = z_dim\n",
    "        \n",
    "        self.encoder_layers = nn.ModuleList([nn.Linear(input_dim, hidden_dim[0])])\n",
    "        self.decoder_layers = nn.ModuleList([nn.Linear(hidden_dim[0], input_dim)])\n",
    "                \n",
    "        if len(hidden_dim)>1:\n",
    "            for i in range(len(hidden_dim)-1):\n",
    "                self.encoder_layers.append(nn.Linear(hidden_dim[i], hidden_dim[i+1]))\n",
    "                self.decoder_layers.insert(0, nn.Linear(hidden_dim[i+1], hidden_dim[i]))\n",
    "                \n",
    "        self.encoder_layers.append(nn.Linear(hidden_dim[-1], 2 * z_dim))\n",
    "        self.decoder_layers.insert(0, nn.Linear(z_dim, hidden_dim[-1]))\n",
    "\n",
    "        \n",
    "    def encoder(self, x):\n",
    "        for idx, layer in enumerate(self.encoder_layers):\n",
    "            x = layer(x)\n",
    "            if idx < len(self.encoder_layers) - 1:\n",
    "                # x = F.dropout(x, 0.01)\n",
    "                x = F.relu(x)\n",
    "                #x = nn.BatchNorm1d(x)\n",
    "        return x[...,:self.z_dim], x[...,self.z_dim:] # mu, log_var\n",
    "    \n",
    "    def sampling(self, mu, log_var):\n",
    "        std = torch.exp(0.5*log_var)\n",
    "        # std = torch.abs(log_var)\n",
    "        eps = torch.randn_like(std)\n",
    "        return eps.mul(std).add_(mu) # return z sample\n",
    "        \n",
    "    def decoder(self, z):\n",
    "        for idx, layer in enumerate(self.decoder_layers):\n",
    "            z = layer(z)\n",
    "            if idx < len(self.decoder_layers) - 1:\n",
    "                # x = F.dropout(x, 0.01)\n",
    "                z = F.relu(z)\n",
    "        return torch.sigmoid(z) \n",
    "    \n",
    "    def forward(self, x):\n",
    "        mu, log_var = self.encoder(x.view(-1, input_dim))\n",
    "        \n",
    "        \n",
    "    #    z = self.sampling(mu, log_var)\n",
    "        latent = MultivariateNormal(loc = mu, \n",
    "                                    scale_tril=torch.diag_embed(torch.exp(0.5*log_var)))\n",
    "        z = latent.rsample()\n",
    "           \n",
    "    #    return self.decoder(z), mu, log_var\n",
    "        return self.decoder(z), latent\n",
    "\n",
    "    @staticmethod\n",
    "    def loss_function(recon_x, x, mu, log_var):\n",
    "        BCE = F.binary_cross_entropy(recon_x, x.view(-1, input_dim), reduction='sum')\n",
    "        KLD = -0.5 * torch.sum(1 + log_var - mu.pow(2) - log_var.exp())\n",
    "        return BCE + KLD\n",
    "    \n",
    "    @staticmethod\n",
    "    def loss_function_dist(recon_x, x, latent, input_dim):\n",
    "        prior = MultivariateNormal(loc = torch.zeros(latent.mean.shape[1]),\n",
    "                                   scale_tril=torch.eye(latent.mean.shape[1]))\n",
    "        \n",
    "        BCE = F.binary_cross_entropy(recon_x, x.view(-1, input_dim), reduction='sum')\n",
    "        KLD = torch.sum(kl_divergence(latent, prior))\n",
    "        return BCE + input_dim*KLD"
   ]
  },
  {
   "cell_type": "code",
   "execution_count": null,
   "id": "43864443-dce3-4500-b20a-96033646f07a",
   "metadata": {
    "tags": []
   },
   "outputs": [],
   "source": [
    "# build model\n",
    "input_dim=gtex_df_sort.shape[1]\n",
    "#%%\n",
    "print(input_dim)\n",
    "vae = VAE(input_dim=input_dim, hidden_dim=[512,512], z_dim=100)\n",
    "# if torch.backends.mps.is_available():\n",
    "#     DEVICE = 'mps'\n",
    "# else:\n",
    "#train_loader = torch.utils.data.DataLoader(dataset=torch.Tensor(torch.randn(30, 5000)), batch_size=100, shuffle=True)\n",
    "\n",
    "DEVICE = 'cpu'\n",
    "    \n",
    "vae.to(DEVICE)\n",
    "\n",
    "optimizer = optim.Adam(vae.parameters())\n",
    "avg_loss = []\n",
    "def train(epoch, input_dim):\n",
    "    vae.train()\n",
    "    train_loss = 0\n",
    "    for batch_idx, data in enumerate(train_loader):\n",
    "        \n",
    "        \n",
    "        data = data.to(DEVICE)\n",
    "        optimizer.zero_grad()\n",
    "        \n",
    "        #recon_batch, mu, log_var = vae(data, unmask_id = None)\n",
    "        #recon_batch, mu, log_var = vae(data)\n",
    "        #loss = VAE.loss_function(recon_batch, data, mu, log_var)\n",
    "        recon_batch, latent = vae(data)\n",
    "        loss = VAE.loss_function_dist(recon_batch, data, latent, input_dim)\n",
    "        \n",
    "        loss.backward()\n",
    "        train_loss += loss.item()\n",
    "        optimizer.step()\n",
    "        \n",
    "        if batch_idx % 100 == 0:\n",
    "            print('Train Epoch: {} [{}/{} ({:.0f}%)]\\tLoss: {:.6f}'.format(\n",
    "                epoch, batch_idx * len(data), len(train_loader.dataset),\n",
    "                100. * batch_idx / len(train_loader), loss.item() / len(data)))\n",
    "    print('====> Epoch: {} Average loss: {:.4f}'.format(epoch, abs(train_loss) / len(train_loader.dataset)))\n",
    "    avg_loss.append(abs(train_loss) / len(train_loader.dataset))"
   ]
  },
  {
   "cell_type": "code",
   "execution_count": null,
   "id": "6fbaacd2-86fc-4259-bf1b-b8904bc528dd",
   "metadata": {
    "tags": []
   },
   "outputs": [],
   "source": [
    "vae(torch.rand(5,gtex_df_sort.shape[1]))"
   ]
  },
  {
   "cell_type": "code",
   "execution_count": null,
   "id": "e9099b09-942f-4f91-b42b-8912d41b8594",
   "metadata": {
    "tags": []
   },
   "outputs": [],
   "source": [
    "#%%\n",
    "def test():\n",
    "    vae.eval()\n",
    "    test_loss= 0\n",
    "    with torch.no_grad():\n",
    "        for data in test_loader:\n",
    "            data = data.to(DEVICE)\n",
    "            #recon, mu, log_var = vae(data)\n",
    "            recon, latent = vae(data)\n",
    "            \n",
    "            # sum up batch loss\n",
    "            #test_loss += VAE.loss_function(recon, data, mu, log_var).item()\n",
    "            test_loss += VAE.loss_function_dist(recon, data, latent).item()\n",
    "        \n",
    "    test_loss /= len(test_loader.dataset)\n",
    "    print('====> Test set loss: {:.4f}'.format(abs(test_loss)))"
   ]
  },
  {
   "cell_type": "code",
   "execution_count": null,
   "id": "46894604-7be2-4f60-809a-5b89f51e1273",
   "metadata": {},
   "outputs": [],
   "source": []
  },
  {
   "cell_type": "code",
   "execution_count": null,
   "id": "0811242a-6fbf-48d5-8d72-56bdc43b9a49",
   "metadata": {
    "tags": []
   },
   "outputs": [],
   "source": [
    "#%%\n",
    "for epoch in range(1, 5):\n",
    "    train(epoch, input_dim)\n",
    "    #test()"
   ]
  },
  {
   "cell_type": "code",
   "execution_count": null,
   "id": "3ac2f639-c61f-4ee4-83e9-8a96c8475796",
   "metadata": {
    "tags": []
   },
   "outputs": [],
   "source": [
    "import matplotlib.pyplot as plt\n",
    "plt.plot(avg_loss)"
   ]
  },
  {
   "cell_type": "code",
   "execution_count": null,
   "id": "5573302a-db10-4013-9b0b-00be264adb67",
   "metadata": {
    "tags": []
   },
   "outputs": [],
   "source": [
    "summary(vae)"
   ]
  },
  {
   "cell_type": "code",
   "execution_count": null,
   "id": "9165c4ea-b014-48f2-8b10-38fe1efaa100",
   "metadata": {},
   "outputs": [],
   "source": []
  }
 ],
 "metadata": {
  "kernelspec": {
   "display_name": "Python 3 (ipykernel)",
   "language": "python",
   "name": "python3"
  },
  "language_info": {
   "codemirror_mode": {
    "name": "ipython",
    "version": 3
   },
   "file_extension": ".py",
   "mimetype": "text/x-python",
   "name": "python",
   "nbconvert_exporter": "python",
   "pygments_lexer": "ipython3",
   "version": "3.11.2"
  }
 },
 "nbformat": 4,
 "nbformat_minor": 5
}
