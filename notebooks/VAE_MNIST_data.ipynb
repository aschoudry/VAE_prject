{
 "cells": [
  {
   "cell_type": "code",
   "execution_count": 35,
   "id": "0f7d9c19-e2aa-4327-a51c-6db0f5d3165c",
   "metadata": {
    "tags": []
   },
   "outputs": [],
   "source": [
    "from datetime import datetime\n",
    "\n",
    "import matplotlib.pyplot as plt\n",
    "import numpy as np\n",
    "import pandas as pd\n",
    "import seaborn as sns\n",
    "import torch\n",
    "import torch.nn as nn\n",
    "import torch.nn.functional as F\n",
    "import torch.optim as optim\n",
    "import torchvision\n",
    "from torch.autograd import Variable\n",
    "from torch.distributions.kl import kl_divergence\n",
    "from torch.distributions.multivariate_normal import MultivariateNormal\n",
    "from torch.utils.data import DataLoader\n",
    "from torch.utils.tensorboard import SummaryWriter\n",
    "from torchvision import datasets, transforms\n",
    "from torchvision.transforms import ToTensor\n",
    "from torchvision.utils import save_image\n",
    "\n",
    "writer = SummaryWriter(\"mnist_experiment_1\")"
   ]
  },
  {
   "cell_type": "code",
   "execution_count": 88,
   "id": "239df458-66aa-4d10-87ca-93498797a68f",
   "metadata": {
    "tags": []
   },
   "outputs": [],
   "source": [
    "bs = 16\n",
    "# MNIST Dataset\n",
    "train_dataset = datasets.MNIST(\n",
    "    root=\"data\", train=True, download=True, transform=ToTensor()\n",
    ")\n",
    "\n",
    "test_dataset = datasets.MNIST(\n",
    "    root=\"data\", train=False, download=True, transform=ToTensor()\n",
    ")\n",
    "# Data Loader (Input Pipeline)\n",
    "train_loader = torch.utils.data.DataLoader(\n",
    "    dataset=train_dataset, batch_size=bs, shuffle=True\n",
    ")\n",
    "validation_loader = torch.utils.data.DataLoader(\n",
    "    dataset=test_dataset, batch_size=bs, shuffle=False\n",
    ")"
   ]
  },
  {
   "cell_type": "code",
   "execution_count": 89,
   "id": "5be4befb-a772-4098-8e99-48a0e6eef827",
   "metadata": {
    "tags": []
   },
   "outputs": [],
   "source": [
    "class VAE(nn.Module):\n",
    "    def __init__(self, input_dim: int, hidden_dim: list, z_dim):\n",
    "        super(VAE, self).__init__()\n",
    "\n",
    "        self.z_dim = z_dim\n",
    "\n",
    "        self.encoder_layers = nn.ModuleList([nn.Linear(input_dim, hidden_dim[0])])\n",
    "        self.decoder_layers = nn.ModuleList([nn.Linear(hidden_dim[0], input_dim)])\n",
    "\n",
    "        if len(hidden_dim) > 1:\n",
    "            for i in range(len(hidden_dim) - 1):\n",
    "                self.encoder_layers.append(nn.Linear(hidden_dim[i], hidden_dim[i + 1]))\n",
    "                self.decoder_layers.insert(\n",
    "                    0, nn.Linear(hidden_dim[i + 1], hidden_dim[i])\n",
    "                )\n",
    "\n",
    "        self.encoder_layers.append(nn.Linear(hidden_dim[-1], 2 * z_dim))\n",
    "        self.decoder_layers.insert(0, nn.Linear(z_dim, hidden_dim[-1]))\n",
    "\n",
    "    def encoder(self, x):\n",
    "        for idx, layer in enumerate(self.encoder_layers):\n",
    "            x = layer(x)\n",
    "            if idx < len(self.encoder_layers) - 1:\n",
    "                # x = F.dropout(x, 0.01)\n",
    "                x = F.relu(x)\n",
    "        return x[..., : self.z_dim], x[..., self.z_dim :]  # mu, log_var\n",
    "\n",
    "    def sampling(self, mu, log_var):\n",
    "        std = torch.exp(0.5 * log_var)\n",
    "        # std = torch.abs(log_var)\n",
    "        eps = torch.randn_like(std)\n",
    "        return eps.mul(std).add_(mu)  # return z sample\n",
    "\n",
    "    def decoder(self, z):\n",
    "        for idx, layer in enumerate(self.decoder_layers):\n",
    "            z = layer(z)\n",
    "            if idx < len(self.decoder_layers) - 1:\n",
    "                # x = F.dropout(x, 0.01)\n",
    "                z = F.relu(z)\n",
    "        return torch.sigmoid(z)\n",
    "\n",
    "    def forward(self, x):\n",
    "        mu, log_var = self.encoder(x.view(-1, 784))\n",
    "\n",
    "        #    z = self.sampling(mu, log_var)\n",
    "        latent = MultivariateNormal(\n",
    "            loc=mu, scale_tril=torch.diag_embed(torch.exp(0.5 * log_var))\n",
    "        )\n",
    "        z = latent.rsample()\n",
    "\n",
    "        #    return self.decoder(z), mu, log_var\n",
    "        return self.decoder(z), latent, z\n",
    "\n",
    "    @staticmethod\n",
    "    def loss_function(recon_x, x, mu, log_var):\n",
    "        BCE = F.binary_cross_entropy(recon_x, x.view(-1, 784), reduction=\"sum\")\n",
    "        KLD = -0.5 * torch.sum(1 + log_var - mu.pow(2) - log_var.exp())\n",
    "        return BCE + KLD\n",
    "\n",
    "    @staticmethod\n",
    "    def loss_function_dist(recon_x, x, latent):\n",
    "        prior = MultivariateNormal(\n",
    "            loc=torch.zeros(latent.mean.shape[1]),\n",
    "            scale_tril=torch.eye(latent.mean.shape[1]),\n",
    "        )\n",
    "\n",
    "        BCE = F.binary_cross_entropy(recon_x, x.view(-1, 784), reduction=\"sum\")\n",
    "        KLD = torch.sum(kl_divergence(latent, prior))\n",
    "        return BCE + KLD"
   ]
  },
  {
   "cell_type": "code",
   "execution_count": 90,
   "id": "ccbadad3-cafe-4169-a72e-c42c3fabe247",
   "metadata": {
    "tags": []
   },
   "outputs": [],
   "source": [
    "def train_one_epoch(epoch_index, tb_writer):\n",
    "    running_loss = 0.0\n",
    "    last_loss = 0.0\n",
    "\n",
    "    # Here, we use enumerate(training_loader) instead of\n",
    "    # iter(training_loader) so that we can track the batch\n",
    "    # index and do some intra-epoch reporting\n",
    "    for i, (data, _) in enumerate(train_loader):\n",
    "        # Every data instance\n",
    "        data = data.to(DEVICE)\n",
    "\n",
    "        # Zero your gradients for every batch!\n",
    "        optimizer.zero_grad()\n",
    "\n",
    "        # Make predictions for this batch\n",
    "        recon_batch, latent, z = vae(data)\n",
    "\n",
    "        # Compute the loss and its gradients\n",
    "        loss = VAE.loss_function_dist(recon_batch, data, latent)\n",
    "        loss.backward()\n",
    "\n",
    "        # Adjust learning weights\n",
    "        optimizer.step()\n",
    "\n",
    "        # Gather data and report\n",
    "        running_loss += loss.item()\n",
    "        if i % 1000 == 999:\n",
    "            last_loss = running_loss / 1000  # loss per batch\n",
    "            print(\"  batch {} loss: {}\".format(i + 1, last_loss))\n",
    "            tb_x = epoch_index * len(train_loader) + i + 1\n",
    "            tb_writer.add_scalar(\"Loss/train\", last_loss, tb_x)\n",
    "            running_loss = 0.0\n",
    "\n",
    "    return last_loss"
   ]
  },
  {
   "cell_type": "code",
   "execution_count": 91,
   "id": "388fda07-eff1-4746-a293-4cafe553c7a4",
   "metadata": {
    "tags": []
   },
   "outputs": [
    {
     "name": "stdout",
     "output_type": "stream",
     "text": [
      "EPOCH 1:\n",
      "  batch 1000 loss: 2788.403889526367\n",
      "  batch 2000 loss: 2184.14864855957\n",
      "  batch 3000 loss: 2031.7818149414063\n",
      "LOSS train 2031.7818149414063 valid 1927.2020263671875\n",
      "EPOCH 2:\n",
      "  batch 1000 loss: 1906.9812685546874\n",
      "  batch 2000 loss: 1881.320148803711\n",
      "  batch 3000 loss: 1859.2270234375\n",
      "LOSS train 1859.2270234375 valid 1815.9661865234375\n",
      "EPOCH 3:\n",
      "  batch 1000 loss: 1818.3405036621093\n",
      "  batch 2000 loss: 1799.6561943359375\n",
      "  batch 3000 loss: 1783.8739400634765\n",
      "LOSS train 1783.8739400634765 valid 1761.2161865234375\n",
      "EPOCH 4:\n",
      "  batch 1000 loss: 1754.6400571289062\n",
      "  batch 2000 loss: 1759.922014526367\n",
      "  batch 3000 loss: 1754.0397690429688\n",
      "LOSS train 1754.0397690429688 valid 1733.652587890625\n",
      "EPOCH 5:\n",
      "  batch 1000 loss: 1728.2391251220704\n",
      "  batch 2000 loss: 1730.6410325927734\n",
      "  batch 3000 loss: 1726.6325330810546\n",
      "LOSS train 1726.6325330810546 valid 1716.995361328125\n",
      "EPOCH 6:\n",
      "  batch 1000 loss: 1709.537234008789\n",
      "  batch 2000 loss: 1718.4894558105468\n",
      "  batch 3000 loss: 1705.1193331298828\n",
      "LOSS train 1705.1193331298828 valid 1711.760986328125\n",
      "EPOCH 7:\n",
      "  batch 1000 loss: 1697.608279296875\n",
      "  batch 2000 loss: 1701.4885288085939\n",
      "  batch 3000 loss: 1701.0135355224609\n",
      "LOSS train 1701.0135355224609 valid 1705.7230224609375\n",
      "EPOCH 8:\n",
      "  batch 1000 loss: 1686.1805057373047\n",
      "  batch 2000 loss: 1689.5921395263672\n",
      "  batch 3000 loss: 1693.527051513672\n",
      "LOSS train 1693.527051513672 valid 1690.920654296875\n",
      "EPOCH 9:\n",
      "  batch 1000 loss: 1685.6957606201172\n",
      "  batch 2000 loss: 1685.0073479003906\n",
      "  batch 3000 loss: 1678.2221169433594\n",
      "LOSS train 1678.2221169433594 valid 1687.505615234375\n",
      "EPOCH 10:\n",
      "  batch 1000 loss: 1673.5019466552735\n",
      "  batch 2000 loss: 1680.024850463867\n",
      "  batch 3000 loss: 1679.285199584961\n",
      "LOSS train 1679.285199584961 valid 1681.7349853515625\n",
      "EPOCH 11:\n",
      "  batch 1000 loss: 1668.8405314941406\n",
      "  batch 2000 loss: 1669.5721197509765\n",
      "  batch 3000 loss: 1671.3642474365233\n",
      "LOSS train 1671.3642474365233 valid 1678.8443603515625\n",
      "EPOCH 12:\n",
      "  batch 1000 loss: 1657.5015665283204\n",
      "  batch 2000 loss: 1664.2671936035156\n",
      "  batch 3000 loss: 1670.5040677490235\n",
      "LOSS train 1670.5040677490235 valid 1686.8642578125\n",
      "EPOCH 13:\n",
      "  batch 1000 loss: 1651.808107421875\n",
      "  batch 2000 loss: 1662.31470703125\n",
      "  batch 3000 loss: 1666.9960432128905\n",
      "LOSS train 1666.9960432128905 valid 1679.2064208984375\n",
      "EPOCH 14:\n",
      "  batch 1000 loss: 1655.3793715820314\n",
      "  batch 2000 loss: 1659.2488557128906\n",
      "  batch 3000 loss: 1654.8603596191406\n",
      "LOSS train 1654.8603596191406 valid 1665.5909423828125\n",
      "EPOCH 15:\n",
      "  batch 1000 loss: 1652.3172790527344\n",
      "  batch 2000 loss: 1654.1440733642578\n",
      "  batch 3000 loss: 1655.7735598144532\n",
      "LOSS train 1655.7735598144532 valid 1670.2030029296875\n",
      "EPOCH 16:\n",
      "  batch 1000 loss: 1642.9714520263672\n",
      "  batch 2000 loss: 1651.9689425048828\n",
      "  batch 3000 loss: 1652.2558797607421\n",
      "LOSS train 1652.2558797607421 valid 1679.7149658203125\n",
      "EPOCH 17:\n",
      "  batch 1000 loss: 1642.3017213134765\n",
      "  batch 2000 loss: 1649.051121459961\n",
      "  batch 3000 loss: 1651.2794001464845\n",
      "LOSS train 1651.2794001464845 valid 1670.0196533203125\n",
      "EPOCH 18:\n",
      "  batch 1000 loss: 1638.6998489990235\n",
      "  batch 2000 loss: 1652.0666572265625\n",
      "  batch 3000 loss: 1645.2809324951172\n",
      "LOSS train 1645.2809324951172 valid 1672.4110107421875\n",
      "EPOCH 19:\n",
      "  batch 1000 loss: 1640.897336669922\n",
      "  batch 2000 loss: 1641.2718100585937\n",
      "  batch 3000 loss: 1646.1762225341797\n",
      "LOSS train 1646.1762225341797 valid 1667.077880859375\n",
      "EPOCH 20:\n",
      "  batch 1000 loss: 1634.194650756836\n",
      "  batch 2000 loss: 1643.762016479492\n",
      "  batch 3000 loss: 1646.7762797851562\n",
      "LOSS train 1646.7762797851562 valid 1659.6705322265625\n"
     ]
    }
   ],
   "source": [
    "# build model\n",
    "\n",
    "vae = VAE(input_dim=784, hidden_dim=[512, 256], z_dim=32)\n",
    "# if torch.backends.mps.is_available():\n",
    "#     DEVICE = 'mps'\n",
    "# else:\n",
    "# train_loader = torch.utils.data.DataLoader(dataset=torch.Tensor(torch.randn(30, 5000)), batch_size=100, shuffle=True)\n",
    "\n",
    "DEVICE = \"cpu\"\n",
    "\n",
    "vae.to(DEVICE)\n",
    "\n",
    "optimizer = optim.Adam(vae.parameters())\n",
    "\n",
    "\n",
    "# Initializing in a separate cell so we can easily add more epochs to the same run\n",
    "timestamp = datetime.now().strftime(\"%Y%m%d_%H%M%S\")\n",
    "writer = SummaryWriter(\"runs/tcga_trainer_{}\".format(timestamp))\n",
    "epoch_number = 0\n",
    "\n",
    "EPOCHS = 20\n",
    "\n",
    "best_vloss = 1_000_000.0\n",
    "\n",
    "for epoch in range(EPOCHS):\n",
    "    print(\"EPOCH {}:\".format(epoch_number + 1))\n",
    "\n",
    "    # Make sure gradient tracking is on, and do a pass over the data\n",
    "    vae.train(True)\n",
    "    avg_loss = train_one_epoch(epoch_number, writer)\n",
    "\n",
    "    # We don't need gradients on to do reporting\n",
    "    vae.train(False)\n",
    "\n",
    "    running_vloss = 0.0\n",
    "    for i, (vdata, _) in enumerate(validation_loader):\n",
    "        vinputs = vdata\n",
    "        voutputs, latent, z = vae(vinputs)\n",
    "\n",
    "        vloss = VAE.loss_function_dist(voutputs, vinputs, latent)\n",
    "        running_vloss += vloss\n",
    "\n",
    "    avg_vloss = running_vloss / (i + 1)\n",
    "\n",
    "    print(\"LOSS train {} valid {}\".format(avg_loss, avg_vloss))\n",
    "\n",
    "    # Log the running loss averaged per batch\n",
    "    # for both training and validation\n",
    "    writer.add_scalars(\n",
    "        \"Training vs. Validation Loss\",\n",
    "        {\"Training\": avg_loss, \"Validation\": avg_vloss},\n",
    "        epoch_number + 1,\n",
    "    )\n",
    "    writer.flush()\n",
    "\n",
    "    # Track best performance, and save the model's state\n",
    "    if avg_vloss < best_vloss:\n",
    "        best_vloss = avg_vloss\n",
    "        model_path = \"model_{}_{}\".format(timestamp, epoch_number)\n",
    "        # torch.save(vae.state_dict(), model_path)\n",
    "\n",
    "    epoch_number += 1"
   ]
  },
  {
   "cell_type": "code",
   "execution_count": 92,
   "id": "9e6b343a-bbc1-4bf1-8baa-a9c45cb2cbf8",
   "metadata": {
    "tags": []
   },
   "outputs": [],
   "source": [
    "def plot_latent(autoencoder, data, num_batches=100):\n",
    "    for i, (x, y) in enumerate(data):\n",
    "        z = autoencoder.encoder(x.to(device))\n",
    "        z = z.to('cpu').detach().numpy()\n",
    "        plt.scatter(z[:, 0], z[:, 1], c=y, cmap='tab10')\n",
    "        if i > num_batches:\n",
    "            plt.colorbar()\n",
    "            break"
   ]
  },
  {
   "cell_type": "code",
   "execution_count": 93,
   "id": "1abf1fd7-25e9-4b4e-8319-3a36fb141f4d",
   "metadata": {
    "tags": []
   },
   "outputs": [],
   "source": [
    "data = torch.utils.data.DataLoader(\n",
    "        torchvision.datasets.MNIST('./data',\n",
    "               transform=torchvision.transforms.ToTensor(),\n",
    "               download=True),\n",
    "        batch_size=50,\n",
    "        shuffle=True)"
   ]
  },
  {
   "cell_type": "markdown",
   "id": "e2eef8a0-96d3-4272-9c16-c844db9e9966",
   "metadata": {
    "tags": []
   },
   "source": [
    "Permute some pixals of an image"
   ]
  },
  {
   "cell_type": "markdown",
   "id": "e9c1adf0-e5ed-424a-8b05-cf9fb0c2ca28",
   "metadata": {},
   "source": [
    "Effect of adding noise on reconstruction loss metrices"
   ]
  },
  {
   "cell_type": "code",
   "execution_count": 94,
   "id": "17ff9b07-9faf-4d58-96de-673735035ef8",
   "metadata": {
    "tags": []
   },
   "outputs": [],
   "source": [
    "class AddGaussianNoise(object):\n",
    "    def __init__(self, mean=0.0, std=1.0):\n",
    "        self.std = std\n",
    "        self.mean = mean\n",
    "\n",
    "    def __call__(self, tensor):\n",
    "        return tensor + torch.randn(tensor.size()) * self.std + self.mean\n",
    "\n",
    "    def __repr__(self):\n",
    "        return self.__class__.__name__ + \"(mean={0}, std={1})\".format(\n",
    "            self.mean, self.std\n",
    "        )"
   ]
  },
  {
   "cell_type": "code",
   "execution_count": 95,
   "id": "9aaaa2b1-20eb-41ae-8db1-8c87e45bbc35",
   "metadata": {
    "tags": []
   },
   "outputs": [
    {
     "data": {
      "image/png": "[encoded data removed]",
      "text/plain": [
       "<Figure size 640x480 with 1 Axes>"
      ]
     },
     "metadata": {},
     "output_type": "display_data"
    },
    {
     "data": {
      "text/plain": [
       "<Figure size 640x480 with 0 Axes>"
      ]
     },
     "metadata": {},
     "output_type": "display_data"
    }
   ],
   "source": [
    "image, label = test_dataset[13]\n",
    "image = image.squeeze(0)  # Remove the channel dimension\n",
    "\n",
    "# Plot the image\n",
    "plt.imshow(image)\n",
    "plt.title(f\"Label: {label}\")\n",
    "plt.show()\n",
    "plt.savefig(\"original0.png\")"
   ]
  },
  {
   "cell_type": "code",
   "execution_count": 96,
   "id": "09007a09-35a1-41cb-a146-aba2f320ab03",
   "metadata": {
    "tags": []
   },
   "outputs": [],
   "source": [
    "test_dataset_noisy_0p1 = datasets.MNIST(\n",
    "    root=\"data\",\n",
    "    train=False,\n",
    "    download=True,\n",
    "    transform=transforms.Compose(\n",
    "        [\n",
    "            transforms.ToTensor(),\n",
    "            transforms.Normalize((0.0,), (1.0,)),\n",
    "            AddGaussianNoise(0.0, 0.1),\n",
    "        ]\n",
    "    ),\n",
    ")\n",
    "\n",
    "test_dataset_noisy_0p3 = datasets.MNIST(\n",
    "    root=\"data\",\n",
    "    train=False,\n",
    "    download=True,\n",
    "    transform=transforms.Compose(\n",
    "        [\n",
    "            transforms.ToTensor(),\n",
    "            transforms.Normalize((0.0,), (1.0,)),\n",
    "            AddGaussianNoise(0.0, 0.3),\n",
    "        ]\n",
    "    ),\n",
    ")\n",
    "\n",
    "test_dataset_noisy_0p5 = datasets.MNIST(\n",
    "    root=\"data\",\n",
    "    train=False,\n",
    "    download=True,\n",
    "    transform=transforms.Compose(\n",
    "        [\n",
    "            transforms.ToTensor(),\n",
    "            transforms.Normalize((0.0,), (1.0,)),\n",
    "            AddGaussianNoise(0.0, 0.5),\n",
    "        ]\n",
    "    ),\n",
    ")\n",
    "\n",
    "test_dataset_noisy_0p6 = datasets.MNIST(\n",
    "    root=\"data\",\n",
    "    train=False,\n",
    "    download=True,\n",
    "    transform=transforms.Compose(\n",
    "        [\n",
    "            transforms.ToTensor(),\n",
    "            transforms.Normalize((0.0,), (1.0,)),\n",
    "            AddGaussianNoise(0.0, 0.60),\n",
    "        ]\n",
    "    ),\n",
    ")"
   ]
  },
  {
   "cell_type": "code",
   "execution_count": 97,
   "id": "5ea22c9e-c915-4dff-a7c5-90a8a8389141",
   "metadata": {
    "tags": []
   },
   "outputs": [
    {
     "data": {
      "text/plain": [
       "<matplotlib.image.AxesImage at 0x1343f1130>"
      ]
     },
     "execution_count": 97,
     "metadata": {},
     "output_type": "execute_result"
    },
    {
     "data": {
      "image/png": "[encoded data removed]",
      "text/plain": [
       "<Figure size 640x480 with 1 Axes>"
      ]
     },
     "metadata": {},
     "output_type": "display_data"
    }
   ],
   "source": [
    "for image, label in test_dataset_noisy_0p1:\n",
    "    img = image\n",
    "    lb = label\n",
    "    if label == 8:\n",
    "        break\n",
    "\n",
    "#image, label = test_dataset_noisy_0p6[13]\n",
    "image = img.squeeze(0)  # Remove the channel dimension\n",
    "image.data\n",
    "# Plot the image\n",
    "plt.imshow(image)\n",
    "# plt.title(f'Label: {label}')\n"
   ]
  },
  {
   "cell_type": "code",
   "execution_count": 98,
   "id": "c3c548c0-3ac6-443f-88bf-ca3481ab694a",
   "metadata": {
    "tags": []
   },
   "outputs": [],
   "source": [
    "import numpy as np\n",
    "def calculate_snr(image):\n",
    "    # Calculate the mean signal and standard deviation of the noise\n",
    "    signal = np.mean(image)\n",
    "    noise = np.std(image)\n",
    "\n",
    "    # Calculate the SNR\n",
    "    snr = signal / noise\n",
    "\n",
    "    return snr"
   ]
  },
  {
   "cell_type": "code",
   "execution_count": 99,
   "id": "e7f0d16b-cb25-41a8-bbec-e3b1165228df",
   "metadata": {
    "tags": []
   },
   "outputs": [
    {
     "data": {
      "text/plain": [
       "0.4499705"
      ]
     },
     "execution_count": 99,
     "metadata": {},
     "output_type": "execute_result"
    }
   ],
   "source": [
    "calculate_snr(np.array(image))"
   ]
  },
  {
   "cell_type": "code",
   "execution_count": 100,
   "id": "83bbc1cc-b469-40d9-8f60-e564957b664e",
   "metadata": {
    "tags": []
   },
   "outputs": [],
   "source": [
    "recon_test_noisy, latent_test_noisy, z = vae(image)"
   ]
  },
  {
   "cell_type": "code",
   "execution_count": 101,
   "id": "bd596a81-b029-4f4c-a632-7ae12cffc761",
   "metadata": {
    "tags": []
   },
   "outputs": [
    {
     "data": {
      "text/plain": [
       "0.5615548"
      ]
     },
     "execution_count": 101,
     "metadata": {},
     "output_type": "execute_result"
    }
   ],
   "source": [
    "calculate_snr(np.array(recon_test_noisy.detach().view(1, 28, 28).permute(1, 2, 0)))"
   ]
  },
  {
   "cell_type": "code",
   "execution_count": 102,
   "id": "9265cf18-c184-4c44-9c77-9a6490187ccc",
   "metadata": {
    "tags": []
   },
   "outputs": [
    {
     "data": {
      "text/plain": [
       "<matplotlib.image.AxesImage at 0x1341d11c0>"
      ]
     },
     "execution_count": 102,
     "metadata": {},
     "output_type": "execute_result"
    },
    {
     "data": {
      "image/png": "[encoded data removed]",
      "text/plain": [
       "<Figure size 640x480 with 1 Axes>"
      ]
     },
     "metadata": {},
     "output_type": "display_data"
    }
   ],
   "source": [
    "plt.imshow(recon_test_noisy.detach().view(1, 28, 28).permute(1, 2, 0))\n",
    "#plt.savefig(\"reconstructed_noisy0.png\")"
   ]
  },
  {
   "cell_type": "code",
   "execution_count": 104,
   "id": "28bbeb23-11f6-4273-a16e-d2738fcad0fb",
   "metadata": {
    "tags": []
   },
   "outputs": [
    {
     "name": "stdout",
     "output_type": "stream",
     "text": [
      "Epoch 1 loss: 0.4919\n",
      "Epoch 2 loss: 0.3191\n",
      "Epoch 3 loss: 0.2904\n",
      "Epoch 4 loss: 0.2605\n",
      "Epoch 5 loss: 0.2467\n",
      "Epoch 6 loss: 0.2383\n",
      "Epoch 7 loss: 0.2263\n",
      "Epoch 8 loss: 0.2217\n",
      "Epoch 9 loss: 0.2151\n",
      "Epoch 10 loss: 0.2136\n",
      "Test accuracy: 0.9342\n"
     ]
    }
   ],
   "source": [
    "import torch\n",
    "import torch.nn as nn\n",
    "import torch.optim as optim\n",
    "import torchvision.datasets as datasets\n",
    "import torchvision.transforms as transforms\n",
    "from torch.utils.data import DataLoader\n",
    "\n",
    "# Define the transform to apply to the data\n",
    "transform = transforms.Compose([\n",
    "    transforms.ToTensor(),\n",
    "    transforms.Normalize((0.1307,), (0.3081,))\n",
    "])\n",
    "\n",
    "# Load the MNIST dataset\n",
    "train_dataset = datasets.MNIST(root='data/', train=True, transform=transform, download=True)\n",
    "test_dataset = datasets.MNIST(root='data/', train=False, transform=transform, download=True)\n",
    "\n",
    "# Create data loaders for the training and testing sets\n",
    "train_loader = DataLoader(train_dataset, batch_size=64, shuffle=True)\n",
    "test_loader = DataLoader(test_dataset, batch_size=64, shuffle=False)\n",
    "\n",
    "# Load the pre-trained VAE model and extract its encoder\n",
    "\n",
    "# Define the classifier architecture\n",
    "class Classifier(nn.Module):\n",
    "    def __init__(self, input_dim, output_dim):\n",
    "        super(Classifier, self).__init__()\n",
    "        self.fc1 = nn.Linear(input_dim, 128)\n",
    "        self.fc2 = nn.Linear(128, 64)\n",
    "        self.fc3 = nn.Linear(64, output_dim)\n",
    "\n",
    "    def forward(self, x):\n",
    "        x = nn.functional.relu(self.fc1(x))\n",
    "        x = nn.functional.relu(self.fc2(x))\n",
    "        x = nn.functional.log_softmax(self.fc3(x), dim=1)\n",
    "        return x\n",
    "\n",
    "# Create an instance of the classifier\n",
    "classifier = Classifier(input_dim=32, output_dim=10)\n",
    "\n",
    "# Define the loss function and optimizer\n",
    "criterion = nn.NLLLoss()\n",
    "optimizer = optim.Adam(classifier.parameters(), lr=0.001)\n",
    "\n",
    "# Train the classifier using the pre-trained VAE embeddings\n",
    "for epoch in range(10):\n",
    "    running_loss = 0.0\n",
    "    for i, (x, y) in enumerate(train_loader):\n",
    "        with torch.no_grad():\n",
    "            _, _, z = vae(x)\n",
    "        y_pred = classifier(z)\n",
    "        loss = criterion(y_pred, y)\n",
    "        optimizer.zero_grad()\n",
    "        loss.backward()\n",
    "        optimizer.step()\n",
    "        running_loss += loss.item() * x.size(0)\n",
    "    epoch_loss = running_loss / len(train_dataset)\n",
    "    print(f\"Epoch {epoch + 1} loss: {epoch_loss:.4f}\")\n",
    "\n",
    "# Evaluate the classifier on the test set\n",
    "correct = 0\n",
    "total = 0\n",
    "with torch.no_grad():\n",
    "    for x, y in test_loader:\n",
    "        _, _, z = vae(x)\n",
    "        y_pred = classifier(z).argmax(dim=1)\n",
    "        total += y.size(0)\n",
    "        correct += (y_pred == y).sum().item()\n",
    "accuracy = correct / total\n",
    "print(f\"Test accuracy: {accuracy:.4f}\")\n"
   ]
  },
  {
   "cell_type": "code",
   "execution_count": 111,
   "id": "d8422347-3d3c-44a1-b28d-7d1941db8e10",
   "metadata": {
    "tags": []
   },
   "outputs": [],
   "source": [
    "test_dataset = datasets.MNIST(\n",
    "    root=\"data\",\n",
    "    train=False,\n",
    "    download=True,\n",
    "    transform=transforms.Compose(\n",
    "        [\n",
    "            transforms.ToTensor(),\n",
    "            transforms.Normalize((0.0,), (1.0,)),\n",
    "            AddGaussianNoise(0.0, 0.00001),\n",
    "        ]\n",
    "    ),\n",
    ")"
   ]
  },
  {
   "cell_type": "code",
   "execution_count": 112,
   "id": "aaa68e8b-9109-47a3-b1c5-f0b9b6de91f0",
   "metadata": {
    "tags": []
   },
   "outputs": [
    {
     "name": "stdout",
     "output_type": "stream",
     "text": [
      "Test accuracy: 0.2160\n"
     ]
    }
   ],
   "source": [
    "# Evaluate the classifier on the test set\n",
    "test_loader = DataLoader(test_dataset, batch_size=50, shuffle=False)\n",
    "correct = 0\n",
    "total = 0\n",
    "with torch.no_grad():\n",
    "    for x, y in test_loader:\n",
    "        _, _, z = vae(x)\n",
    "        y_pred = classifier(z).argmax(dim=1)\n",
    "        total += y.size(0)\n",
    "        correct += (y_pred == y).sum().item()\n",
    "accuracy = correct / total\n",
    "print(f\"Test accuracy: {accuracy:.4f}\")\n"
   ]
  },
  {
   "cell_type": "code",
   "execution_count": 113,
   "id": "d3b6f6ad-cf38-4101-a3fe-a05b0c06d440",
   "metadata": {
    "tags": []
   },
   "outputs": [
    {
     "name": "stdout",
     "output_type": "stream",
     "text": [
      "Test accuracy: 0.2192\n"
     ]
    }
   ],
   "source": [
    "# Evaluate the classifier on the test set\n",
    "test_loader_noisy_0p1 = DataLoader(test_dataset_noisy_0p1, batch_size=50, shuffle=False)\n",
    "\n",
    "correct = 0\n",
    "total = 0\n",
    "with torch.no_grad():\n",
    "    for x, y in test_loader_noisy_0p1:\n",
    "        _, _, z = vae(x)\n",
    "        y_pred = classifier(z).argmax(dim=1)\n",
    "        total += y.size(0)\n",
    "        correct += (y_pred == y).sum().item()\n",
    "accuracy = correct / total\n",
    "print(f\"Test accuracy: {accuracy:.4f}\")\n"
   ]
  },
  {
   "cell_type": "code",
   "execution_count": 114,
   "id": "459f3230-de51-4094-a398-7d4fada586d3",
   "metadata": {
    "tags": []
   },
   "outputs": [
    {
     "name": "stdout",
     "output_type": "stream",
     "text": [
      "Test accuracy: 0.2179\n"
     ]
    }
   ],
   "source": [
    "# Evaluate the classifier on the test set\n",
    "test_loader_noisy_0p3 = DataLoader(test_dataset_noisy_0p3, batch_size=50, shuffle=False)\n",
    "\n",
    "correct = 0\n",
    "total = 0\n",
    "with torch.no_grad():\n",
    "    for x, y in test_loader_noisy_0p3:\n",
    "        _, _, z = vae(x)\n",
    "        y_pred = classifier(z).argmax(dim=1)\n",
    "        total += y.size(0)\n",
    "        correct += (y_pred == y).sum().item()\n",
    "accuracy = correct / total\n",
    "print(f\"Test accuracy: {accuracy:.4f}\")\n"
   ]
  },
  {
   "cell_type": "code",
   "execution_count": 115,
   "id": "99d4ebc4-e6ac-4c27-8509-812bdc47d3a1",
   "metadata": {
    "tags": []
   },
   "outputs": [
    {
     "name": "stdout",
     "output_type": "stream",
     "text": [
      "Test accuracy: 0.2262\n"
     ]
    }
   ],
   "source": [
    "# Evaluate the classifier on the test set\n",
    "test_loader_noisy_0p5 = DataLoader(test_dataset_noisy_0p5, batch_size=16, shuffle=False)\n",
    "\n",
    "correct = 0\n",
    "total = 0\n",
    "with torch.no_grad():\n",
    "    for x, y in test_loader_noisy_0p5:\n",
    "        _, _, z = vae(x)\n",
    "        y_pred = classifier(z).argmax(dim=1)\n",
    "        total += y.size(0)\n",
    "        correct += (y_pred == y).sum().item()\n",
    "accuracy = correct / total\n",
    "print(f\"Test accuracy: {accuracy:.4f}\")\n"
   ]
  },
  {
   "cell_type": "code",
   "execution_count": 110,
   "id": "f42530b1-fa7e-4643-aac4-9525ae6e4d3f",
   "metadata": {
    "tags": []
   },
   "outputs": [
    {
     "name": "stdout",
     "output_type": "stream",
     "text": [
      "Test accuracy: 0.2195\n"
     ]
    }
   ],
   "source": [
    "# Evaluate the classifier on the test set\n",
    "test_loader_noisy_0p6 = DataLoader(test_dataset_noisy_0p6, batch_size=50, shuffle=False)\n",
    "\n",
    "correct = 0\n",
    "total = 0\n",
    "with torch.no_grad():\n",
    "    for x, y in test_loader_noisy_0p6:\n",
    "        _, _, z = vae(x)\n",
    "        y_pred = classifier(z).argmax(dim=1)\n",
    "        total += y.size(0)\n",
    "        correct += (y_pred == y).sum().item()\n",
    "accuracy = correct / total\n",
    "print(f\"Test accuracy: {accuracy:.4f}\")\n"
   ]
  },
  {
   "cell_type": "code",
   "execution_count": 62,
   "id": "0c9260d1-14d0-4631-a810-bd31f872e2d3",
   "metadata": {
    "tags": []
   },
   "outputs": [],
   "source": [
    "test_dataset = datasets.MNIST(\n",
    "    root=\"data\",\n",
    "    train=False,\n",
    "    download=True,\n",
    "    transform=transforms.Compose(\n",
    "        [\n",
    "            transforms.ToTensor(),\n",
    "            transforms.Normalize((0.0,), (1.0,)),\n",
    "            AddGaussianNoise(0.0, 0.00001),\n",
    "        ]\n",
    "    ),\n",
    ")"
   ]
  },
  {
   "cell_type": "code",
   "execution_count": 63,
   "id": "f2ea5cb8-f247-40ec-b43e-6dfd2bd6ee35",
   "metadata": {
    "tags": []
   },
   "outputs": [],
   "source": [
    "snr=[]\n",
    "snr_op1=[]\n",
    "snr_op3=[]\n",
    "snr_op5=[]\n",
    "snr_op6=[]\n",
    "\n",
    "for image, label in test_dataset:\n",
    "    snr.append(calculate_snr(np.array(image)))\n",
    "\n",
    "for image, label in test_dataset_noisy_0p1:\n",
    "    snr_op1.append(calculate_snr(np.array(image)))\n",
    "    \n",
    "for image, label in test_dataset_noisy_0p3:\n",
    "    snr_op3.append(calculate_snr(np.array(image)))\n",
    "\n",
    "for image, label in test_dataset_noisy_0p5:\n",
    "    snr_op5.append(calculate_snr(np.array(image)))\n",
    "\n",
    "for image, label in test_dataset_noisy_0p6:\n",
    "    snr_op6.append(calculate_snr(np.array(image)))\n"
   ]
  },
  {
   "cell_type": "code",
   "execution_count": 64,
   "id": "7a7d05e4-2514-442f-9f6a-e1e61e93ab54",
   "metadata": {
    "tags": []
   },
   "outputs": [
    {
     "name": "stdout",
     "output_type": "stream",
     "text": [
      "0.42458585\n",
      "0.40327758\n",
      "0.3035395\n",
      "0.22342193\n",
      "0.19547324\n"
     ]
    }
   ],
   "source": [
    "print(np.mean(snr))\n",
    "print(np.mean(snr_op1))\n",
    "print(np.mean(snr_op3))\n",
    "print(np.mean(snr_op5))\n",
    "print(np.mean(snr_op6))"
   ]
  },
  {
   "cell_type": "code",
   "execution_count": 65,
   "id": "67766dc5-31e8-4bd0-8c23-a2cd5a905d3a",
   "metadata": {
    "tags": []
   },
   "outputs": [],
   "source": [
    "SNRs = [np.mean(snr), np.mean(snr_op1), np.mean(snr_op3), np.mean(snr_op5), np.mean(snr_op6)]"
   ]
  },
  {
   "cell_type": "code",
   "execution_count": 66,
   "id": "8d68bf08-f97b-4045-aa06-031628fa25bc",
   "metadata": {
    "tags": []
   },
   "outputs": [
    {
     "data": {
      "text/plain": [
       "[0.42458585, 0.40327758, 0.3035395, 0.22342193, 0.19547324]"
      ]
     },
     "execution_count": 66,
     "metadata": {},
     "output_type": "execute_result"
    }
   ],
   "source": [
    "SNRs"
   ]
  },
  {
   "cell_type": "code",
   "execution_count": 67,
   "id": "6b50e907-fcb8-4b75-aad7-9f285aca16a2",
   "metadata": {
    "tags": []
   },
   "outputs": [],
   "source": [
    "batch_50_z_128_acc =[0.2897, 0.2875, 0.2935,  0.3207, 0.3236] #overfits\n",
    "batch_50_z_64_acc =[0.2709, 0.2597, 0.2836,  0.2971, 0.3209] #overfits\n",
    "batch_50_z_32_acc =[0.2875, 0.2933, 0.3041,  0.3283, 0.3425] #overfits"
   ]
  },
  {
   "cell_type": "code",
   "execution_count": 68,
   "id": "eb2fbac0-db4d-4dcc-a815-a9bbd331b217",
   "metadata": {
    "tags": []
   },
   "outputs": [],
   "source": [
    "batch_32_z_100_acc =[0.1889, 0.1908, 0.1965,  0.2085, 0.2081] #no overfits\n",
    "batch_32_z_64_acc =[0.1362, 0.1356, 0.1453,  0.1565, 0.1622] #no overfits\n",
    "batch_16_z_32_acc =[0.1362, 0.1356, 0.1453,  0.1565, 0.1622] #no overfits"
   ]
  },
  {
   "cell_type": "code",
   "execution_count": 85,
   "id": "01623c4a-41fa-488f-9b66-4b09dba58abc",
   "metadata": {
    "tags": []
   },
   "outputs": [
    {
     "data": {
      "text/plain": [
       "<matplotlib.legend.Legend at 0x134443d00>"
      ]
     },
     "execution_count": 85,
     "metadata": {},
     "output_type": "execute_result"
    },
    {
     "data": {
      "image/png": "[encoded data removed]",
      "text/plain": [
       "<Figure size 640x480 with 1 Axes>"
      ]
     },
     "metadata": {},
     "output_type": "display_data"
    }
   ],
   "source": [
    "plt.title(\"VAE overfit\")\n",
    "plt.plot(SNRs, batch_50_z_128_acc, \"-o\",label=\"bs = 50, z = 128\")\n",
    "plt.plot(SNRs, batch_50_z_64_acc, \"-o\", label=\"bs = 50, z = 64\")\n",
    "plt.plot(SNRs, batch_50_z_32_acc, \"-o\", label=\"bs = 50, z = 32\")\n",
    "plt.ylim(0,0.5)\n",
    "plt.xlabel(\"SNR\")\n",
    "plt.ylabel(\"Accuracy\")\n",
    "plt.legend()"
   ]
  },
  {
   "cell_type": "code",
   "execution_count": 87,
   "id": "385b536b-4b28-454f-ae7a-0bad6e6e37fd",
   "metadata": {
    "tags": []
   },
   "outputs": [
    {
     "data": {
      "text/plain": [
       "<matplotlib.legend.Legend at 0x134642df0>"
      ]
     },
     "execution_count": 87,
     "metadata": {},
     "output_type": "execute_result"
    },
    {
     "data": {
      "image/png": "[encoded data removed]",
      "text/plain": [
       "<Figure size 640x480 with 1 Axes>"
      ]
     },
     "metadata": {},
     "output_type": "display_data"
    }
   ],
   "source": [
    "plt.title(\"VAE train\")\n",
    "plt.plot(SNRs, batch_32_z_100_acc, \"-o\", label=\"bs = 32, z = 100\")\n",
    "plt.plot(SNRs, batch_32_z_64_acc, \"-o\", label=\"bs = 32, z = 64\")\n",
    "plt.ylim(0,0.5)\n",
    "plt.xlabel(\"SNR\")\n",
    "plt.ylabel(\"Accuracy\")\n",
    "plt.legend()"
   ]
  },
  {
   "cell_type": "code",
   "execution_count": null,
   "id": "c4be474d-40e6-4e4d-aa10-04065c61cd78",
   "metadata": {},
   "outputs": [],
   "source": []
  }
 ],
 "metadata": {
  "kernelspec": {
   "display_name": "Python 3 (ipykernel)",
   "language": "python",
   "name": "python3"
  },
  "language_info": {
   "codemirror_mode": {
    "name": "ipython",
    "version": 3
   },
   "file_extension": ".py",
   "mimetype": "text/x-python",
   "name": "python",
   "nbconvert_exporter": "python",
   "pygments_lexer": "ipython3",
   "version": "3.9.6"
  }
 },
 "nbformat": 4,
 "nbformat_minor": 5
}
