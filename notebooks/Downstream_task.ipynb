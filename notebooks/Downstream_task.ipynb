{
 "cells": [
  {
   "cell_type": "code",
   "execution_count": 40,
   "id": "181f3629-69fa-42e7-880d-da8e78627396",
   "metadata": {
    "tags": []
   },
   "outputs": [],
   "source": [
    "import sys\n",
    "\n",
    "import matplotlib.pyplot as plt\n",
    "import numpy as np\n",
    "import pandas as pd\n",
    "import seaborn as sns\n",
    "import torch\n",
    "import torch.nn as nn\n",
    "import torch.optim as optim\n",
    "import torchvision.datasets as datasets\n",
    "import torchvision.transforms as transforms\n",
    "from sklearn.decomposition import PCA\n",
    "from sklearn.model_selection import train_test_split\n",
    "from sklearn.preprocessing import StandardScaler\n",
    "from torch.utils.data import DataLoader, Dataset"
   ]
  },
  {
   "cell_type": "code",
   "execution_count": 2,
   "id": "44f5bf97-e7c4-4ace-8ea2-c5158dda2e24",
   "metadata": {
    "tags": []
   },
   "outputs": [],
   "source": [
    "path = \"/Users/M283455/VAE_prject/scripts/\"\n",
    "sys.path.insert(0, path)"
   ]
  },
  {
   "cell_type": "code",
   "execution_count": 3,
   "id": "8ad39308-594c-4cb2-b66e-274f639b49f9",
   "metadata": {
    "tags": []
   },
   "outputs": [],
   "source": [
    "import VAE_tybalt\n",
    "from VAE_tybalt import VAE"
   ]
  },
  {
   "cell_type": "code",
   "execution_count": 4,
   "id": "c02ad6ca-42a5-4f9d-884e-3e61a6738320",
   "metadata": {
    "tags": []
   },
   "outputs": [],
   "source": [
    "clincal_file = \"../../VAE_prject_data/raw/clinical_data.tsv\"\n",
    "clincal_df = pd.read_table(clincal_file)"
   ]
  },
  {
   "cell_type": "code",
   "execution_count": 5,
   "id": "fc8b246b-5354-448b-9bfb-1aaf4f2dcc37",
   "metadata": {
    "tags": []
   },
   "outputs": [
    {
     "name": "stdout",
     "output_type": "stream",
     "text": [
      "(10459, 5000)\n"
     ]
    }
   ],
   "source": [
    "# load the complete input file\n",
    "gene_file = \"../../VAE_prject_data/raw/pancan_scaled_zeroone_rnaseq.tsv.gz\"\n",
    "rnaseq_df_test = pd.read_table(gene_file, index_col=0)\n",
    "print(rnaseq_df_test.shape)\n",
    "rnaseq_df_test.head(2)\n",
    "rnaseq_df_test = rnaseq_df_test.drop(\"TCGA-33-4579-01\", axis=0)"
   ]
  },
  {
   "cell_type": "code",
   "execution_count": 6,
   "id": "0e7f1ef2-a483-4592-968c-6b82cf2b2bce",
   "metadata": {
    "tags": []
   },
   "outputs": [],
   "source": [
    "# Input used to obtain the embeddings\n",
    "tcga_tybalt_file_location = \"../../VAE_prject_data/raw/rnaseq_df_test.csv\"\n",
    "rnaseq_df = pd.read_csv(tcga_tybalt_file_location)\n",
    "rnaseq_df.drop(columns=rnaseq_df.columns[0], axis=1, inplace=True)\n",
    "rnaseq_df = rnaseq_df.dropna()"
   ]
  },
  {
   "cell_type": "code",
   "execution_count": 7,
   "id": "feb9be2e-cace-4e24-822a-4cfd6e43f6de",
   "metadata": {
    "tags": []
   },
   "outputs": [],
   "source": [
    "def find_matching_row_indices(df1, df2):\n",
    "    # Concatenate the two DataFrames and reset their indices\n",
    "    combined_df = pd.concat([df1, df2]).reset_index(drop=True)\n",
    "\n",
    "    # Find the duplicated rows in the combined DataFrame and retrieve their indices\n",
    "    duplicated_rows = combined_df.duplicated(keep=False)\n",
    "    matching_indices = combined_df[duplicated_rows].index\n",
    "\n",
    "    # Separate the indices for the two original DataFrames\n",
    "    df1_indices = matching_indices[matching_indices < len(df1)]\n",
    "    df2_indices = matching_indices[matching_indices >= len(df1)] - len(df1)\n",
    "\n",
    "    return df1_indices, df2_indices\n",
    "\n",
    "\n",
    "df1_matching_indices, df2_matching_indices = find_matching_row_indices(\n",
    "    rnaseq_df, rnaseq_df_test\n",
    ")"
   ]
  },
  {
   "cell_type": "code",
   "execution_count": 8,
   "id": "44a9bd11-4ae0-48fa-96b5-b7dfc23aa132",
   "metadata": {
    "tags": []
   },
   "outputs": [],
   "source": [
    "all_indices = list(rnaseq_df_test.index)"
   ]
  },
  {
   "cell_type": "code",
   "execution_count": 9,
   "id": "4ecd9710-6e1f-4381-ade0-06d282dfc671",
   "metadata": {
    "tags": []
   },
   "outputs": [],
   "source": [
    "rnaseq_df_indexes = [all_indices[i] for i in df1_matching_indices]"
   ]
  },
  {
   "cell_type": "code",
   "execution_count": 10,
   "id": "55035a37-8c2b-46ec-8d5a-28b1171044b3",
   "metadata": {
    "tags": []
   },
   "outputs": [
    {
     "data": {
      "text/plain": [
       "2092"
      ]
     },
     "execution_count": 10,
     "metadata": {},
     "output_type": "execute_result"
    }
   ],
   "source": [
    "len(rnaseq_df_indexes)"
   ]
  },
  {
   "cell_type": "code",
   "execution_count": 11,
   "id": "2cd984fa-8709-498f-b7e8-59455f27a2a5",
   "metadata": {
    "tags": []
   },
   "outputs": [
    {
     "data": {
      "text/plain": [
       "2092"
      ]
     },
     "execution_count": 11,
     "metadata": {},
     "output_type": "execute_result"
    }
   ],
   "source": [
    "len(df2_matching_indices)"
   ]
  },
  {
   "cell_type": "code",
   "execution_count": 12,
   "id": "589ed5b3-fc81-4b2f-8373-53743526d0cd",
   "metadata": {
    "tags": []
   },
   "outputs": [
    {
     "name": "stderr",
     "output_type": "stream",
     "text": [
      "/var/folders/pz/58p838cs59d_ph9d15d3ltgc0000gs/T/ipykernel_43556/478908844.py:12: SettingWithCopyWarning: \n",
      "A value is trying to be set on a copy of a slice from a DataFrame.\n",
      "Try using .loc[row_indexer,col_indexer] = value instead\n",
      "\n",
      "See the caveats in the documentation: https://pandas.pydata.org/pandas-docs/stable/user_guide/indexing.html#returning-a-view-versus-a-copy\n",
      "  matching_rows[column_name] = matching_rows[column_name].apply(\n"
     ]
    }
   ],
   "source": [
    "def find_rows_with_substring(df, column_name, substring_list):\n",
    "    # Find the rows where the specified column contains any of the substrings\n",
    "    matching_rows = df[\n",
    "        df[column_name].apply(\n",
    "            lambda x: any(substring in x for substring in substring_list)\n",
    "            if isinstance(x, str)\n",
    "            else False\n",
    "        )\n",
    "    ]\n",
    "\n",
    "    # Update the column values to the values in the substring list\n",
    "    matching_rows[column_name] = matching_rows[column_name].apply(\n",
    "        lambda x: next((substring for substring in substring_list if substring in x), x)\n",
    "    )\n",
    "\n",
    "    return matching_rows\n",
    "\n",
    "\n",
    "column_name = \"portion_id\"\n",
    "substring_list = rnaseq_df_indexes\n",
    "\n",
    "result = find_rows_with_substring(clincal_df, column_name, substring_list)"
   ]
  },
  {
   "cell_type": "code",
   "execution_count": 13,
   "id": "d26a3c8f-0383-4d7e-b2f6-a33bff4c15dc",
   "metadata": {
    "tags": []
   },
   "outputs": [],
   "source": [
    "def keep_first_duplicate(df, column_name):\n",
    "    unique_rows_df = df.drop_duplicates(subset=column_name, keep=\"first\")\n",
    "    return unique_rows_df\n",
    "\n",
    "\n",
    "rnaseq_unique_rows_df = keep_first_duplicate(result, column_name)"
   ]
  },
  {
   "cell_type": "code",
   "execution_count": 14,
   "id": "8be930b9-ba42-418a-b252-30ebfc040fb4",
   "metadata": {
    "tags": []
   },
   "outputs": [
    {
     "data": {
      "text/html": [
       "<div>\n",
       "<style scoped>\n",
       "    .dataframe tbody tr th:only-of-type {\n",
       "        vertical-align: middle;\n",
       "    }\n",
       "\n",
       "    .dataframe tbody tr th {\n",
       "        vertical-align: top;\n",
       "    }\n",
       "\n",
       "    .dataframe thead th {\n",
       "        text-align: right;\n",
       "    }\n",
       "</style>\n",
       "<table border=\"1\" class=\"dataframe\">\n",
       "  <thead>\n",
       "    <tr style=\"text-align: right;\">\n",
       "      <th></th>\n",
       "      <th>sample_id</th>\n",
       "      <th>ethnicity</th>\n",
       "      <th>year_of_diagnosis</th>\n",
       "      <th>gender</th>\n",
       "      <th>race</th>\n",
       "      <th>organ</th>\n",
       "      <th>percent_tumor_nuclei</th>\n",
       "      <th>age_at_diagnosis</th>\n",
       "      <th>sample_type</th>\n",
       "      <th>analysis_center</th>\n",
       "      <th>vital_status</th>\n",
       "      <th>acronym</th>\n",
       "      <th>portion_id</th>\n",
       "      <th>disease</th>\n",
       "      <th>drug</th>\n",
       "      <th>platform</th>\n",
       "      <th>stage</th>\n",
       "    </tr>\n",
       "  </thead>\n",
       "  <tbody>\n",
       "    <tr>\n",
       "      <th>5</th>\n",
       "      <td>TCGA-2G-AAKD</td>\n",
       "      <td>not hispanic or latino</td>\n",
       "      <td>NaN</td>\n",
       "      <td>male</td>\n",
       "      <td>white</td>\n",
       "      <td>Testis</td>\n",
       "      <td>60.0</td>\n",
       "      <td>18.0</td>\n",
       "      <td>Primary Tumor</td>\n",
       "      <td>UNC</td>\n",
       "      <td>alive</td>\n",
       "      <td>TGCT</td>\n",
       "      <td>TCGA-2G-AAKD-01</td>\n",
       "      <td>Testicular Germ Cell Tumors</td>\n",
       "      <td>Cisplatin</td>\n",
       "      <td>Illumina HiSeq</td>\n",
       "      <td>Stage III</td>\n",
       "    </tr>\n",
       "    <tr>\n",
       "      <th>8</th>\n",
       "      <td>TCGA-A2-A0CL</td>\n",
       "      <td>not hispanic or latino</td>\n",
       "      <td>2006</td>\n",
       "      <td>female</td>\n",
       "      <td>black or african american</td>\n",
       "      <td>Breast</td>\n",
       "      <td>60.0</td>\n",
       "      <td>37.0</td>\n",
       "      <td>Primary Tumor</td>\n",
       "      <td>UNC</td>\n",
       "      <td>alive</td>\n",
       "      <td>BRCA</td>\n",
       "      <td>TCGA-A2-A0CL-01</td>\n",
       "      <td>Breast invasive carcinoma</td>\n",
       "      <td>Taxol</td>\n",
       "      <td>Illumina HiSeq</td>\n",
       "      <td>Stage IIIA</td>\n",
       "    </tr>\n",
       "    <tr>\n",
       "      <th>16</th>\n",
       "      <td>TCGA-A2-A0D2</td>\n",
       "      <td>not hispanic or latino</td>\n",
       "      <td>2008</td>\n",
       "      <td>female</td>\n",
       "      <td>white</td>\n",
       "      <td>Breast</td>\n",
       "      <td>80.0</td>\n",
       "      <td>45.0</td>\n",
       "      <td>Primary Tumor</td>\n",
       "      <td>UNC</td>\n",
       "      <td>alive</td>\n",
       "      <td>BRCA</td>\n",
       "      <td>TCGA-A2-A0D2-01</td>\n",
       "      <td>Breast invasive carcinoma</td>\n",
       "      <td>Adriamycin</td>\n",
       "      <td>Illumina HiSeq</td>\n",
       "      <td>Stage IIA</td>\n",
       "    </tr>\n",
       "    <tr>\n",
       "      <th>24</th>\n",
       "      <td>TCGA-78-7542</td>\n",
       "      <td>not reported</td>\n",
       "      <td>1993</td>\n",
       "      <td>male</td>\n",
       "      <td>white</td>\n",
       "      <td>Lung</td>\n",
       "      <td>80.0</td>\n",
       "      <td>56.0</td>\n",
       "      <td>Primary Tumor</td>\n",
       "      <td>UNC</td>\n",
       "      <td>dead</td>\n",
       "      <td>LUAD</td>\n",
       "      <td>TCGA-78-7542-01</td>\n",
       "      <td>Lung adenocarcinoma</td>\n",
       "      <td>NaN</td>\n",
       "      <td>Illumina HiSeq</td>\n",
       "      <td>Stage IB</td>\n",
       "    </tr>\n",
       "    <tr>\n",
       "      <th>29</th>\n",
       "      <td>TCGA-56-7823</td>\n",
       "      <td>not hispanic or latino</td>\n",
       "      <td>2011</td>\n",
       "      <td>female</td>\n",
       "      <td>white</td>\n",
       "      <td>Lung</td>\n",
       "      <td>NaN</td>\n",
       "      <td>NaN</td>\n",
       "      <td>Solid Tissue Normal</td>\n",
       "      <td>UNC</td>\n",
       "      <td>alive</td>\n",
       "      <td>LUSC</td>\n",
       "      <td>TCGA-56-7823-11</td>\n",
       "      <td>Lung squamous cell carcinoma</td>\n",
       "      <td>NaN</td>\n",
       "      <td>Illumina HiSeq</td>\n",
       "      <td>Stage IIA</td>\n",
       "    </tr>\n",
       "    <tr>\n",
       "      <th>35</th>\n",
       "      <td>TCGA-31-1959</td>\n",
       "      <td>not hispanic or latino</td>\n",
       "      <td>2009</td>\n",
       "      <td>female</td>\n",
       "      <td>white</td>\n",
       "      <td>Ovary</td>\n",
       "      <td>75.0</td>\n",
       "      <td>49.0</td>\n",
       "      <td>Primary Tumor</td>\n",
       "      <td>BCGSC</td>\n",
       "      <td>alive</td>\n",
       "      <td>OV</td>\n",
       "      <td>TCGA-31-1959-01</td>\n",
       "      <td>Ovarian serous cystadenocarcinoma</td>\n",
       "      <td>Paciltaxel</td>\n",
       "      <td>Illumina HiSeq</td>\n",
       "      <td>NaN</td>\n",
       "    </tr>\n",
       "  </tbody>\n",
       "</table>\n",
       "</div>"
      ],
      "text/plain": [
       "       sample_id               ethnicity year_of_diagnosis  gender  \\\n",
       "5   TCGA-2G-AAKD  not hispanic or latino               NaN    male   \n",
       "8   TCGA-A2-A0CL  not hispanic or latino              2006  female   \n",
       "16  TCGA-A2-A0D2  not hispanic or latino              2008  female   \n",
       "24  TCGA-78-7542            not reported              1993    male   \n",
       "29  TCGA-56-7823  not hispanic or latino              2011  female   \n",
       "35  TCGA-31-1959  not hispanic or latino              2009  female   \n",
       "\n",
       "                         race   organ  percent_tumor_nuclei  age_at_diagnosis  \\\n",
       "5                       white  Testis                  60.0              18.0   \n",
       "8   black or african american  Breast                  60.0              37.0   \n",
       "16                      white  Breast                  80.0              45.0   \n",
       "24                      white    Lung                  80.0              56.0   \n",
       "29                      white    Lung                   NaN               NaN   \n",
       "35                      white   Ovary                  75.0              49.0   \n",
       "\n",
       "            sample_type analysis_center vital_status acronym       portion_id  \\\n",
       "5         Primary Tumor             UNC        alive    TGCT  TCGA-2G-AAKD-01   \n",
       "8         Primary Tumor             UNC        alive    BRCA  TCGA-A2-A0CL-01   \n",
       "16        Primary Tumor             UNC        alive    BRCA  TCGA-A2-A0D2-01   \n",
       "24        Primary Tumor             UNC         dead    LUAD  TCGA-78-7542-01   \n",
       "29  Solid Tissue Normal             UNC        alive    LUSC  TCGA-56-7823-11   \n",
       "35        Primary Tumor           BCGSC        alive      OV  TCGA-31-1959-01   \n",
       "\n",
       "                              disease        drug        platform       stage  \n",
       "5         Testicular Germ Cell Tumors   Cisplatin  Illumina HiSeq   Stage III  \n",
       "8           Breast invasive carcinoma       Taxol  Illumina HiSeq  Stage IIIA  \n",
       "16          Breast invasive carcinoma  Adriamycin  Illumina HiSeq   Stage IIA  \n",
       "24                Lung adenocarcinoma         NaN  Illumina HiSeq    Stage IB  \n",
       "29       Lung squamous cell carcinoma         NaN  Illumina HiSeq   Stage IIA  \n",
       "35  Ovarian serous cystadenocarcinoma  Paciltaxel  Illumina HiSeq         NaN  "
      ]
     },
     "execution_count": 14,
     "metadata": {},
     "output_type": "execute_result"
    }
   ],
   "source": [
    "rnaseq_unique_rows_df.head(6)"
   ]
  },
  {
   "cell_type": "code",
   "execution_count": 15,
   "id": "ac25d44f-005b-4519-8eb4-73d4e2f9dd44",
   "metadata": {
    "tags": []
   },
   "outputs": [],
   "source": [
    "disease_labels = list(rnaseq_unique_rows_df[\"disease\"])"
   ]
  },
  {
   "cell_type": "markdown",
   "id": "77bf4164-aed5-462e-80cb-891abbf1d13f",
   "metadata": {},
   "source": [
    "### Downstream tasks"
   ]
  },
  {
   "cell_type": "code",
   "execution_count": 16,
   "id": "8a43d7a4-8a7f-4d82-a794-c4ddc4d185cd",
   "metadata": {
    "tags": []
   },
   "outputs": [],
   "source": [
    "model = VAE(input_dim=5000, hidden_dim=[100], z_dim=100)"
   ]
  },
  {
   "cell_type": "code",
   "execution_count": 31,
   "id": "246b9677-539e-4827-a3f0-fdec04a40d57",
   "metadata": {
    "tags": []
   },
   "outputs": [],
   "source": [
    "# load model\n",
    "def load_trained_model(model, model_name):\n",
    "    model.load_state_dict(\n",
    "        torch.load(\"../output/models/models_batc_size_32/\" + model_name)\n",
    "    )\n",
    "    return model\n",
    "\n",
    "\n",
    "# How well does the model reconstruct the input RNAseq data\n",
    "def VAE_latent_z_out(df, model):\n",
    "    z = model.forward(torch.tensor(df.values, dtype=torch.float32))[4]\n",
    "    column_names = [str(i) for i in range(100)]\n",
    "\n",
    "    z = pd.DataFrame(z.detach().numpy(), columns=column_names)\n",
    "\n",
    "    return z"
   ]
  },
  {
   "cell_type": "code",
   "execution_count": 32,
   "id": "36ab334a-78d7-4b0f-aeaa-722d290e4f73",
   "metadata": {
    "tags": []
   },
   "outputs": [],
   "source": [
    "model = load_trained_model(model, \"tcga_rnaseq_df_0p00vae_weights.pth\")\n",
    "z_latent = VAE_latent_z_out(rnaseq_df, model)"
   ]
  },
  {
   "cell_type": "code",
   "execution_count": 33,
   "id": "f27fbd69-71d5-44ea-8b93-fcb4d57618f6",
   "metadata": {},
   "outputs": [],
   "source": [
    "labels = list(set(rnaseq_unique_rows_df[\"disease\"]))"
   ]
  },
  {
   "cell_type": "code",
   "execution_count": 34,
   "id": "495f6c39-30d1-4226-a05e-d9ed89ff9646",
   "metadata": {
    "tags": []
   },
   "outputs": [],
   "source": [
    "X = z_latent\n",
    "y = rnaseq_unique_rows_df.copy()\n",
    "y[\"disease\"].replace(labels, list(range(24)), inplace=True)\n",
    "y = y[\"disease\"]"
   ]
  },
  {
   "cell_type": "code",
   "execution_count": 41,
   "id": "6f502c59-ab91-423d-a601-67374a54f263",
   "metadata": {},
   "outputs": [],
   "source": [
    "# Define custom dataset class\n",
    "class CustomDataset(Dataset):\n",
    "    def __init__(self, data):\n",
    "        self.data = data\n",
    "\n",
    "    def __len__(self):\n",
    "        return len(self.data)\n",
    "\n",
    "    def __getitem__(self, idx):\n",
    "        return torch.tensor(self.data.iloc[idx].values, dtype=torch.float32)"
   ]
  },
  {
   "cell_type": "code",
   "execution_count": null,
   "id": "2a1999b1-42f4-4f76-828b-34b45c9e0f06",
   "metadata": {},
   "outputs": [],
   "source": [
    "# Create data loaders for the training and testing sets\n",
    "train_loader = DataLoader(train_dataset, batch_size=64, shuffle=True)\n",
    "# test_loader = DataLoader(test_dataset, batch_size=64, shuffle=False)\n",
    "\n",
    "# Load the pre-trained VAE model and extract its encoder\n",
    "\n",
    "\n",
    "# Define the classifier architecture\n",
    "class Classifier(nn.Module):\n",
    "    def __init__(self, input_dim, output_dim):\n",
    "        super(Classifier, self).__init__()\n",
    "        self.fc1 = nn.Linear(input_dim, 128)\n",
    "        self.fc2 = nn.Linear(128, 64)\n",
    "        self.fc3 = nn.Linear(64, output_dim)\n",
    "\n",
    "    def forward(self, x):\n",
    "        x = nn.functional.relu(self.fc1(x))\n",
    "        x = nn.functional.relu(self.fc2(x))\n",
    "        x = nn.functional.log_softmax(self.fc3(x), dim=1)\n",
    "        return x\n",
    "\n",
    "\n",
    "# Create an instance of the classifier\n",
    "classifier = Classifier(input_dim=5000, output_dim=24)\n",
    "\n",
    "# Define the loss function and optimizer\n",
    "criterion = nn.NLLLoss()\n",
    "optimizer = optim.Adam(classifier.parameters(), lr=0.001)\n",
    "\n",
    "# Train the classifier using the pre-trained VAE embeddings\n",
    "for epoch in range(10):\n",
    "    running_loss = 0.0\n",
    "    for i, (x, y) in enumerate(train_loader):\n",
    "        with torch.no_grad():\n",
    "            _, _, z = vae(x)\n",
    "        y_pred = classifier(z)\n",
    "        loss = criterion(y_pred, y)\n",
    "        optimizer.zero_grad()\n",
    "        loss.backward()\n",
    "        optimizer.step()\n",
    "        running_loss += loss.item() * x.size(0)\n",
    "    epoch_loss = running_loss / len(train_dataset)\n",
    "    print(f\"Epoch {epoch + 1} loss: {epoch_loss:.4f}\")"
   ]
  },
  {
   "cell_type": "code",
   "execution_count": null,
   "id": "67382d7a-c1d9-4a0e-b55d-972f9151a956",
   "metadata": {},
   "outputs": [],
   "source": [
    "# Evaluate the classifier on the test set\n",
    "correct = 0\n",
    "total = 0\n",
    "with torch.no_grad():\n",
    "    for x, y in test_loader:\n",
    "        _, _, z = vae(x)\n",
    "        y_pred = classifier(z).argmax(dim=1)\n",
    "        total += y.size(0)\n",
    "        correct += (y_pred == y).sum().item()\n",
    "accuracy = correct / total\n",
    "print(f\"Test accuracy: {accuracy:.4f}\")"
   ]
  }
 ],
 "metadata": {
  "kernelspec": {
   "display_name": "Python 3 (ipykernel)",
   "language": "python",
   "name": "python3"
  },
  "language_info": {
   "codemirror_mode": {
    "name": "ipython",
    "version": 3
   },
   "file_extension": ".py",
   "mimetype": "text/x-python",
   "name": "python",
   "nbconvert_exporter": "python",
   "pygments_lexer": "ipython3",
   "version": "3.9.6"
  }
 },
 "nbformat": 4,
 "nbformat_minor": 5
}
