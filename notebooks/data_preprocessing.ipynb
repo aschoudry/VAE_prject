{
 "cells": [
  {
   "cell_type": "code",
   "execution_count": 1,
   "id": "0727678f-42a4-466d-972a-9d772818a2ed",
   "metadata": {
    "tags": []
   },
   "outputs": [],
   "source": [
    "import numpy as np\n",
    "import pandas as pd\n",
    "from sklearn.preprocessing import StandardScaler\n",
    "from sklearn import preprocessing"
   ]
  },
  {
   "cell_type": "code",
   "execution_count": 2,
   "id": "0536c522-84f9-4907-95be-da0613857189",
   "metadata": {
    "tags": []
   },
   "outputs": [],
   "source": [
    "tcga_train_file_location = 'data/train_tcga_expression_matrix_processed.tsv.gz'\n",
    "target_train_file_location = 'data/train_target_expression_matrix_processed.tsv.gz'\n",
    "gtex_train_file_location = 'data/train_gtex_expression_matrix_processed.tsv.gz'\n",
    "tcga_tybalt_file_location = 'data/pancan_scaled_zeroone_rnaseq.tsv.gz'"
   ]
  },
  {
   "cell_type": "code",
   "execution_count": 3,
   "id": "93a72e01-3757-4ba6-b260-38060b9bfb46",
   "metadata": {
    "tags": []
   },
   "outputs": [],
   "source": [
    "tcga_df = pd.read_table(tcga_train_file_location)\n",
    "target_df = pd.read_table(target_train_file_location)\n",
    "gtex_df = pd.read_table(gtex_train_file_location)"
   ]
  },
  {
   "cell_type": "code",
   "execution_count": 4,
   "id": "c8273ba6-3519-40d7-bb06-df04bc5308e5",
   "metadata": {
    "tags": []
   },
   "outputs": [],
   "source": [
    "tcga_df = tcga_df.dropna()\n",
    "target_df = target_df.dropna()\n",
    "gtex_df = gtex_df.dropna()"
   ]
  },
  {
   "cell_type": "code",
   "execution_count": 13,
   "id": "238207c4-69bc-4075-91e3-6ca66a34b2ee",
   "metadata": {
    "tags": []
   },
   "outputs": [],
   "source": [
    "# Commit from https://github.com/cognoma/genes\n",
    "genes_commit = 'ad9631bb4e77e2cdc5413b0d77cb8f7e93fc5bee'"
   ]
  },
  {
   "cell_type": "code",
   "execution_count": 14,
   "id": "a5430ec5-dc72-4130-ba69-57fe7b16ed72",
   "metadata": {
    "tags": []
   },
   "outputs": [
    {
     "name": "stdout",
     "output_type": "stream",
     "text": [
      "(20395, 7)\n"
     ]
    },
    {
     "data": {
      "text/html": [
       "<div>\n",
       "<style scoped>\n",
       "    .dataframe tbody tr th:only-of-type {\n",
       "        vertical-align: middle;\n",
       "    }\n",
       "\n",
       "    .dataframe tbody tr th {\n",
       "        vertical-align: top;\n",
       "    }\n",
       "\n",
       "    .dataframe thead th {\n",
       "        text-align: right;\n",
       "    }\n",
       "</style>\n",
       "<table border=\"1\" class=\"dataframe\">\n",
       "  <thead>\n",
       "    <tr style=\"text-align: right;\">\n",
       "      <th></th>\n",
       "      <th>entrez_gene_id</th>\n",
       "      <th>symbol</th>\n",
       "      <th>description</th>\n",
       "      <th>chromosome</th>\n",
       "      <th>gene_type</th>\n",
       "      <th>synonyms</th>\n",
       "      <th>aliases</th>\n",
       "    </tr>\n",
       "  </thead>\n",
       "  <tbody>\n",
       "    <tr>\n",
       "      <th>0</th>\n",
       "      <td>1</td>\n",
       "      <td>A1BG</td>\n",
       "      <td>alpha-1-B glycoprotein</td>\n",
       "      <td>19</td>\n",
       "      <td>protein-coding</td>\n",
       "      <td>A1B|ABG|GAB|HYST2477</td>\n",
       "      <td>alpha-1B-glycoprotein|HEL-S-163pA|epididymis s...</td>\n",
       "    </tr>\n",
       "    <tr>\n",
       "      <th>1</th>\n",
       "      <td>2</td>\n",
       "      <td>A2M</td>\n",
       "      <td>alpha-2-macroglobulin</td>\n",
       "      <td>12</td>\n",
       "      <td>protein-coding</td>\n",
       "      <td>A2MD|CPAMD5|FWP007|S863-7</td>\n",
       "      <td>alpha-2-macroglobulin|C3 and PZP-like alpha-2-...</td>\n",
       "    </tr>\n",
       "  </tbody>\n",
       "</table>\n",
       "</div>"
      ],
      "text/plain": [
       "   entrez_gene_id symbol             description chromosome       gene_type  \\\n",
       "0               1   A1BG  alpha-1-B glycoprotein         19  protein-coding   \n",
       "1               2    A2M   alpha-2-macroglobulin         12  protein-coding   \n",
       "\n",
       "                    synonyms  \\\n",
       "0       A1B|ABG|GAB|HYST2477   \n",
       "1  A2MD|CPAMD5|FWP007|S863-7   \n",
       "\n",
       "                                             aliases  \n",
       "0  alpha-1B-glycoprotein|HEL-S-163pA|epididymis s...  \n",
       "1  alpha-2-macroglobulin|C3 and PZP-like alpha-2-...  "
      ]
     },
     "execution_count": 14,
     "metadata": {},
     "output_type": "execute_result"
    }
   ],
   "source": [
    "url = 'https://raw.githubusercontent.com/cognoma/genes/{}/data/genes.tsv'.format(genes_commit)\n",
    "gene_df = pd.read_table(url)\n",
    "\n",
    "# Only consider protein-coding genes\n",
    "gene_df = (\n",
    "    gene_df.query(\"gene_type == 'protein-coding'\")\n",
    ")\n",
    "\n",
    "print(gene_df.shape)\n",
    "gene_df.head(2)\n"
   ]
  },
  {
   "cell_type": "code",
   "execution_count": 15,
   "id": "662e9da7-18d2-4aa0-95d4-4cce7c5275e9",
   "metadata": {
    "tags": []
   },
   "outputs": [],
   "source": [
    "gene_dict = {str(i):j for i,j in zip(gene_df['entrez_gene_id'], gene_df['symbol'])}"
   ]
  },
  {
   "cell_type": "code",
   "execution_count": 16,
   "id": "ae8eecf2-d035-4574-b4f5-a855369322d3",
   "metadata": {
    "tags": []
   },
   "outputs": [],
   "source": [
    "tcga_gene_column_ids = [i for i in tcga_df.columns[1:] if i in gene_dict.keys()]\n",
    "target_gene_column_ids = [i for i in target_df.columns[1:] if i in gene_dict.keys()]\n",
    "gtex_gene_column_ids = [i for i in gtex_df.columns[1:] if i in gene_dict.keys()]\n",
    "\n",
    "tcga_gene_column_names = [gene_dict[i] for i in tcga_df.columns[1:] if i in gene_dict.keys()]\n",
    "target_gene_column_names = [gene_dict[i] for i in target_df.columns[1:] if i in gene_dict.keys()]\n",
    "gtex_gene_column_names = [gene_dict[i] for i in gtex_df.columns[1:] if i in gene_dict.keys()]"
   ]
  },
  {
   "cell_type": "code",
   "execution_count": 38,
   "id": "3f3d28df-843c-427b-99fd-4fcaba8a8452",
   "metadata": {
    "tags": []
   },
   "outputs": [],
   "source": [
    "tcga_df_sorted = tcga_df[tcga_gene_column_ids]\n",
    "target_df_sorted = target_df[target_gene_column_ids]\n",
    "gtex_df_sorted = gtex_df[gtex_gene_column_ids]"
   ]
  },
  {
   "cell_type": "code",
   "execution_count": 39,
   "id": "43b6c2fa-8581-4d27-bda1-a9ba9ce62529",
   "metadata": {
    "tags": []
   },
   "outputs": [],
   "source": [
    "tcga_df_sorted = tcga_df_sorted.rename(columns={i:j for i, j in zip(tcga_gene_column_ids, tcga_gene_column_names)})\n",
    "target_df_sorted = target_df_sorted.rename(columns={i:j for i, j in zip(target_gene_column_ids, target_gene_column_names)})\n",
    "gtex_df_sorted = gtex_df_sorted.rename(columns={i:j for i, j in zip(gtex_gene_column_ids, gtex_gene_column_names)})"
   ]
  },
  {
   "cell_type": "code",
   "execution_count": 40,
   "id": "5783ab41-9bb7-4b8f-926b-f0b0756a42ca",
   "metadata": {
    "tags": []
   },
   "outputs": [
    {
     "data": {
      "text/html": [
       "<div>\n",
       "<style scoped>\n",
       "    .dataframe tbody tr th:only-of-type {\n",
       "        vertical-align: middle;\n",
       "    }\n",
       "\n",
       "    .dataframe tbody tr th {\n",
       "        vertical-align: top;\n",
       "    }\n",
       "\n",
       "    .dataframe thead th {\n",
       "        text-align: right;\n",
       "    }\n",
       "</style>\n",
       "<table border=\"1\" class=\"dataframe\">\n",
       "  <thead>\n",
       "    <tr style=\"text-align: right;\">\n",
       "      <th></th>\n",
       "      <th>A1BG</th>\n",
       "      <th>A2M</th>\n",
       "      <th>NAT1</th>\n",
       "      <th>NAT2</th>\n",
       "      <th>SERPINA3</th>\n",
       "      <th>AADAC</th>\n",
       "      <th>AAMP</th>\n",
       "      <th>AANAT</th>\n",
       "      <th>AARS</th>\n",
       "      <th>ABAT</th>\n",
       "      <th>...</th>\n",
       "      <th>LINC00694</th>\n",
       "      <th>CH507-42P11.6</th>\n",
       "      <th>GAGE10</th>\n",
       "      <th>PRR33</th>\n",
       "      <th>POTEB3</th>\n",
       "      <th>TBC1D3I</th>\n",
       "      <th>CCNYL3</th>\n",
       "      <th>UPK3B</th>\n",
       "      <th>LRRC53</th>\n",
       "      <th>KLF18</th>\n",
       "    </tr>\n",
       "  </thead>\n",
       "  <tbody>\n",
       "    <tr>\n",
       "      <th>0</th>\n",
       "      <td>4.69</td>\n",
       "      <td>7.370</td>\n",
       "      <td>0.455</td>\n",
       "      <td>-6.51</td>\n",
       "      <td>-3.03</td>\n",
       "      <td>-9.97</td>\n",
       "      <td>5.84</td>\n",
       "      <td>0.058</td>\n",
       "      <td>5.16</td>\n",
       "      <td>3.590</td>\n",
       "      <td>...</td>\n",
       "      <td>-3.170</td>\n",
       "      <td>-0.913</td>\n",
       "      <td>-9.97</td>\n",
       "      <td>-0.783</td>\n",
       "      <td>-9.97</td>\n",
       "      <td>1.470</td>\n",
       "      <td>-9.97</td>\n",
       "      <td>-0.619</td>\n",
       "      <td>-9.97</td>\n",
       "      <td>-9.97</td>\n",
       "    </tr>\n",
       "    <tr>\n",
       "      <th>1</th>\n",
       "      <td>4.52</td>\n",
       "      <td>-0.860</td>\n",
       "      <td>0.099</td>\n",
       "      <td>-9.97</td>\n",
       "      <td>-8.24</td>\n",
       "      <td>-9.97</td>\n",
       "      <td>4.15</td>\n",
       "      <td>-3.460</td>\n",
       "      <td>3.35</td>\n",
       "      <td>1.110</td>\n",
       "      <td>...</td>\n",
       "      <td>3.090</td>\n",
       "      <td>-9.970</td>\n",
       "      <td>-9.97</td>\n",
       "      <td>1.180</td>\n",
       "      <td>-9.97</td>\n",
       "      <td>-3.050</td>\n",
       "      <td>-9.97</td>\n",
       "      <td>-2.180</td>\n",
       "      <td>-9.97</td>\n",
       "      <td>-9.97</td>\n",
       "    </tr>\n",
       "    <tr>\n",
       "      <th>2</th>\n",
       "      <td>7.16</td>\n",
       "      <td>-0.913</td>\n",
       "      <td>1.200</td>\n",
       "      <td>-9.97</td>\n",
       "      <td>-9.97</td>\n",
       "      <td>-9.97</td>\n",
       "      <td>4.21</td>\n",
       "      <td>-9.970</td>\n",
       "      <td>3.88</td>\n",
       "      <td>0.527</td>\n",
       "      <td>...</td>\n",
       "      <td>-0.834</td>\n",
       "      <td>-9.970</td>\n",
       "      <td>-9.97</td>\n",
       "      <td>-3.460</td>\n",
       "      <td>-9.97</td>\n",
       "      <td>-9.970</td>\n",
       "      <td>-9.97</td>\n",
       "      <td>-9.970</td>\n",
       "      <td>-9.97</td>\n",
       "      <td>-9.97</td>\n",
       "    </tr>\n",
       "    <tr>\n",
       "      <th>3</th>\n",
       "      <td>5.19</td>\n",
       "      <td>6.630</td>\n",
       "      <td>-1.060</td>\n",
       "      <td>-4.61</td>\n",
       "      <td>-2.12</td>\n",
       "      <td>-5.57</td>\n",
       "      <td>6.55</td>\n",
       "      <td>-1.350</td>\n",
       "      <td>5.49</td>\n",
       "      <td>4.790</td>\n",
       "      <td>...</td>\n",
       "      <td>-5.010</td>\n",
       "      <td>-2.470</td>\n",
       "      <td>-3.46</td>\n",
       "      <td>-1.320</td>\n",
       "      <td>-9.97</td>\n",
       "      <td>-0.512</td>\n",
       "      <td>-9.97</td>\n",
       "      <td>0.228</td>\n",
       "      <td>-4.04</td>\n",
       "      <td>-9.97</td>\n",
       "    </tr>\n",
       "  </tbody>\n",
       "</table>\n",
       "<p>4 rows × 18753 columns</p>\n",
       "</div>"
      ],
      "text/plain": [
       "   A1BG    A2M   NAT1  NAT2  SERPINA3  AADAC  AAMP  AANAT  AARS   ABAT  ...  \\\n",
       "0  4.69  7.370  0.455 -6.51     -3.03  -9.97  5.84  0.058  5.16  3.590  ...   \n",
       "1  4.52 -0.860  0.099 -9.97     -8.24  -9.97  4.15 -3.460  3.35  1.110  ...   \n",
       "2  7.16 -0.913  1.200 -9.97     -9.97  -9.97  4.21 -9.970  3.88  0.527  ...   \n",
       "3  5.19  6.630 -1.060 -4.61     -2.12  -5.57  6.55 -1.350  5.49  4.790  ...   \n",
       "\n",
       "   LINC00694  CH507-42P11.6  GAGE10  PRR33  POTEB3  TBC1D3I  CCNYL3  UPK3B  \\\n",
       "0     -3.170         -0.913   -9.97 -0.783   -9.97    1.470   -9.97 -0.619   \n",
       "1      3.090         -9.970   -9.97  1.180   -9.97   -3.050   -9.97 -2.180   \n",
       "2     -0.834         -9.970   -9.97 -3.460   -9.97   -9.970   -9.97 -9.970   \n",
       "3     -5.010         -2.470   -3.46 -1.320   -9.97   -0.512   -9.97  0.228   \n",
       "\n",
       "   LRRC53  KLF18  \n",
       "0   -9.97  -9.97  \n",
       "1   -9.97  -9.97  \n",
       "2   -9.97  -9.97  \n",
       "3   -4.04  -9.97  \n",
       "\n",
       "[4 rows x 18753 columns]"
      ]
     },
     "execution_count": 40,
     "metadata": {},
     "output_type": "execute_result"
    }
   ],
   "source": [
    "target_df_sorted.head(4)"
   ]
  },
  {
   "cell_type": "markdown",
   "id": "ed2041a6-a149-491a-96ed-525c2b13fd1f",
   "metadata": {},
   "source": [
    "Read column names from tybalt tcga data\n"
   ]
  },
  {
   "cell_type": "code",
   "execution_count": 41,
   "id": "0e6fdb83-3575-4c67-82d5-b7c8bc5b6c11",
   "metadata": {
    "tags": []
   },
   "outputs": [],
   "source": [
    "tcga_df_tybalt = pd.read_table(tcga_tybalt_file_location)"
   ]
  },
  {
   "cell_type": "code",
   "execution_count": 42,
   "id": "f987e9c3-f065-45a3-9bd0-1584c38c4404",
   "metadata": {
    "tags": []
   },
   "outputs": [],
   "source": [
    "tcga_df_columns_filterd = [i for i in tcga_df_tybalt.columns[1:] if i in tcga_df_sorted]\n",
    "target_df_columns_filterd = [i for i in tcga_df_tybalt.columns[1:] if i in target_df_sorted]\n",
    "gtex_df_columns_filterd = [i for i in tcga_df_tybalt.columns[1:] if i in gtex_df_sorted]"
   ]
  },
  {
   "cell_type": "code",
   "execution_count": 43,
   "id": "f9bd0f61-a502-4c7d-94c8-79559e776c14",
   "metadata": {
    "tags": []
   },
   "outputs": [],
   "source": [
    "tcga_df_sorted = tcga_df_sorted[tcga_df_columns_filterd]\n",
    "target_df_sorted = target_df_sorted[target_df_columns_filterd]\n",
    "gtex_df_sorted = gtex_df_sorted[gtex_df_columns_filterd]"
   ]
  },
  {
   "cell_type": "code",
   "execution_count": 44,
   "id": "dc86cc4a-7b57-4979-b5d3-f179baf3e71a",
   "metadata": {
    "tags": []
   },
   "outputs": [],
   "source": [
    "#tcga_df_sorted = tcga_df_sorted / tcga_df_sorted.std()\n",
    "#tcga_df_sorted = np.log(tcga_df_sorted + 1)"
   ]
  },
  {
   "cell_type": "code",
   "execution_count": 45,
   "id": "a22b1dfe-a815-404d-872b-4ea720e56779",
   "metadata": {
    "tags": []
   },
   "outputs": [],
   "source": [
    "#target_df_sorted = target_df_sorted / target_df_sorted.std()\n",
    "#target_df_sorted = np.log(target_df_sorted + 1)"
   ]
  },
  {
   "cell_type": "code",
   "execution_count": 46,
   "id": "d10908c0-bf02-4aad-8296-11b144ac363c",
   "metadata": {
    "tags": []
   },
   "outputs": [],
   "source": [
    "#gtex_df_sorted = gtex_df_sorted / gtex_df_sorted.std()\n",
    "#gtex_df_sorted = np.log(gtex_df_sorted + 1)"
   ]
  },
  {
   "cell_type": "code",
   "execution_count": 47,
   "id": "7c5427fc-c5da-42b3-8c94-abc35ee6d08d",
   "metadata": {
    "tags": []
   },
   "outputs": [],
   "source": [
    "# Scale RNAseq data using z-scores\n",
    "tcga_df_sort = preprocessing.MinMaxScaler().fit_transform(tcga_df_sorted)\n",
    "target_df_sort = preprocessing.MinMaxScaler().fit_transform(target_df_sorted)\n",
    "gtex_df_sort = preprocessing.MinMaxScaler().fit_transform(gtex_df_sorted)\n",
    "\n",
    "tcga_df_sort = pd.DataFrame(tcga_df_sort,\n",
    "                                columns=tcga_df_sorted.columns)\n",
    "target_df_sort = pd.DataFrame(target_df_sort,\n",
    "                                columns=target_df_sorted.columns)\n",
    "gtex_df_sort = pd.DataFrame(gtex_df_sort,\n",
    "                                columns=gtex_df_sorted.columns)"
   ]
  },
  {
   "cell_type": "code",
   "execution_count": 48,
   "id": "22df06a3-f163-44c2-b082-3f0bcd194dfa",
   "metadata": {
    "tags": []
   },
   "outputs": [],
   "source": [
    "tcga_df_sort = tcga_df_sort.dropna()\n",
    "target_df_sort = target_df_sort.dropna()\n",
    "gtex_df_sort = gtex_df_sort.dropna()"
   ]
  },
  {
   "cell_type": "code",
   "execution_count": 60,
   "id": "21e3bb43-402a-4b0d-b369-581eca52add0",
   "metadata": {
    "tags": []
   },
   "outputs": [
    {
     "name": "stdout",
     "output_type": "stream",
     "text": [
      "(9954, 4065)\n",
      "(660, 4493)\n",
      "(10519, 4479)\n"
     ]
    }
   ],
   "source": [
    "print(tcga_df_sort.shape)\n",
    "print(target_df_sort.shape)\n",
    "print(gtex_df_sort.shape)"
   ]
  },
  {
   "cell_type": "code",
   "execution_count": 65,
   "id": "b30ff000-d890-4b76-b93f-98f4c79704ea",
   "metadata": {
    "tags": []
   },
   "outputs": [
    {
     "name": "stdout",
     "output_type": "stream",
     "text": [
      "Intersection: [2, 4]\n"
     ]
    }
   ],
   "source": [
    "def intersection_of_three_lists(list1, list2, list3):\n",
    "    # Convert the lists to sets\n",
    "    set1 = set(list1)\n",
    "    set2 = set(list2)\n",
    "    set3 = set(list3)\n",
    "\n",
    "    # Find the intersection of the three sets\n",
    "    intersection = set1.intersection(set2, set3)\n",
    "\n",
    "    # Convert the intersection back to a list\n",
    "    intersection_list = list(intersection)\n",
    "\n",
    "    return intersection_list\n",
    "\n",
    "# Example usage\n",
    "list1 = [1, 2, 3, 4, 5]\n",
    "list2 = [2, 4, 6, 8]\n",
    "list3 = [1, 2, 4, 7]\n",
    "\n",
    "result = intersection_of_three_lists(list1, list2, list3)\n",
    "print(\"Intersection:\", result)\n"
   ]
  },
  {
   "cell_type": "code",
   "execution_count": 66,
   "id": "446857d0-6877-4958-afaa-a2df8f6251f5",
   "metadata": {
    "tags": []
   },
   "outputs": [],
   "source": [
    "common_genes = intersection_of_three_lists(tcga_df_sort.columns, target_df_sort.columns, gtex_df_sort.columns)"
   ]
  },
  {
   "cell_type": "code",
   "execution_count": 69,
   "id": "008596d2-1917-4dc9-893e-001a263f9b5c",
   "metadata": {
    "tags": []
   },
   "outputs": [],
   "source": [
    "tcga_df_sort = tcga_df_sort[common_genes]\n",
    "target_df_sort = target_df_sort[common_genes]\n",
    "gtex_df_sort = gtex_df_sort[common_genes]"
   ]
  },
  {
   "cell_type": "code",
   "execution_count": 70,
   "id": "926c3d53-af23-4ca0-a5e1-f0dbaa1ef8fa",
   "metadata": {
    "tags": []
   },
   "outputs": [],
   "source": [
    "tcga_df_sort.to_csv('data/rescaled_minmax_tcga_df_sort.tsv.gz', sep='\\t', compression='gzip')\n",
    "target_df_sort.to_csv('data/rescaled_minmax_target_df_sort.tsv.gz', sep='\\t', compression='gzip')\n",
    "gtex_df_sort.to_csv('data/rescaled_minmax_gtex_df_sort.tsv.gz', sep='\\t', compression='gzip')"
   ]
  },
  {
   "cell_type": "code",
   "execution_count": 71,
   "id": "18f92a25-ec96-4ce9-8157-f48cbf8d251a",
   "metadata": {
    "tags": []
   },
   "outputs": [
    {
     "data": {
      "text/plain": [
       "0    0.000040\n",
       "1    0.000091\n",
       "2    0.000163\n",
       "3    0.307263\n",
       "Name: KRT5, dtype: float64"
      ]
     },
     "execution_count": 71,
     "metadata": {},
     "output_type": "execute_result"
    }
   ],
   "source": [
    "gtex_df_sort['KRT5'].head(4)"
   ]
  },
  {
   "cell_type": "code",
   "execution_count": 72,
   "id": "5bf991d5-d1c4-4e96-ae36-9fd24b4b3dc1",
   "metadata": {
    "tags": []
   },
   "outputs": [
    {
     "data": {
      "text/html": [
       "<div>\n",
       "<style scoped>\n",
       "    .dataframe tbody tr th:only-of-type {\n",
       "        vertical-align: middle;\n",
       "    }\n",
       "\n",
       "    .dataframe tbody tr th {\n",
       "        vertical-align: top;\n",
       "    }\n",
       "\n",
       "    .dataframe thead th {\n",
       "        text-align: right;\n",
       "    }\n",
       "</style>\n",
       "<table border=\"1\" class=\"dataframe\">\n",
       "  <thead>\n",
       "    <tr style=\"text-align: right;\">\n",
       "      <th></th>\n",
       "      <th>NUDT10</th>\n",
       "      <th>STOX2</th>\n",
       "      <th>TRIM10</th>\n",
       "      <th>SAA1</th>\n",
       "      <th>LRRC31</th>\n",
       "      <th>GRIN1</th>\n",
       "      <th>FAM72D</th>\n",
       "      <th>ATCAY</th>\n",
       "      <th>KCNT1</th>\n",
       "      <th>VSIG1</th>\n",
       "      <th>...</th>\n",
       "      <th>COL4A6</th>\n",
       "      <th>TCEAL5</th>\n",
       "      <th>LRIG1</th>\n",
       "      <th>GRM8</th>\n",
       "      <th>PKNOX2</th>\n",
       "      <th>FAM184A</th>\n",
       "      <th>SOD3</th>\n",
       "      <th>SPAG4</th>\n",
       "      <th>PCDHAC1</th>\n",
       "      <th>BAIAP2L2</th>\n",
       "    </tr>\n",
       "  </thead>\n",
       "  <tbody>\n",
       "    <tr>\n",
       "      <th>0</th>\n",
       "      <td>0.845023</td>\n",
       "      <td>0.820495</td>\n",
       "      <td>0.322707</td>\n",
       "      <td>0.000000</td>\n",
       "      <td>0.480807</td>\n",
       "      <td>0.961859</td>\n",
       "      <td>0.800974</td>\n",
       "      <td>0.899633</td>\n",
       "      <td>0.667855</td>\n",
       "      <td>0.737949</td>\n",
       "      <td>...</td>\n",
       "      <td>0.235214</td>\n",
       "      <td>0.878825</td>\n",
       "      <td>0.658215</td>\n",
       "      <td>0.900000</td>\n",
       "      <td>0.719877</td>\n",
       "      <td>0.892072</td>\n",
       "      <td>0.722820</td>\n",
       "      <td>0.874555</td>\n",
       "      <td>0.681886</td>\n",
       "      <td>0.860394</td>\n",
       "    </tr>\n",
       "    <tr>\n",
       "      <th>1</th>\n",
       "      <td>0.683634</td>\n",
       "      <td>0.584594</td>\n",
       "      <td>0.637801</td>\n",
       "      <td>0.000000</td>\n",
       "      <td>0.000000</td>\n",
       "      <td>0.206198</td>\n",
       "      <td>0.760150</td>\n",
       "      <td>0.000000</td>\n",
       "      <td>0.410888</td>\n",
       "      <td>0.469763</td>\n",
       "      <td>...</td>\n",
       "      <td>0.386132</td>\n",
       "      <td>0.303550</td>\n",
       "      <td>0.449493</td>\n",
       "      <td>0.000000</td>\n",
       "      <td>0.299523</td>\n",
       "      <td>0.461026</td>\n",
       "      <td>0.378902</td>\n",
       "      <td>0.770563</td>\n",
       "      <td>0.000000</td>\n",
       "      <td>0.613386</td>\n",
       "    </tr>\n",
       "    <tr>\n",
       "      <th>2</th>\n",
       "      <td>0.000000</td>\n",
       "      <td>0.000000</td>\n",
       "      <td>0.782043</td>\n",
       "      <td>0.000000</td>\n",
       "      <td>0.000000</td>\n",
       "      <td>0.000000</td>\n",
       "      <td>0.802322</td>\n",
       "      <td>0.000000</td>\n",
       "      <td>0.000000</td>\n",
       "      <td>0.000000</td>\n",
       "      <td>...</td>\n",
       "      <td>0.000000</td>\n",
       "      <td>0.000000</td>\n",
       "      <td>0.770791</td>\n",
       "      <td>0.000000</td>\n",
       "      <td>0.000000</td>\n",
       "      <td>0.453031</td>\n",
       "      <td>0.000000</td>\n",
       "      <td>0.847470</td>\n",
       "      <td>0.000000</td>\n",
       "      <td>0.875591</td>\n",
       "    </tr>\n",
       "    <tr>\n",
       "      <th>3</th>\n",
       "      <td>0.917168</td>\n",
       "      <td>0.825309</td>\n",
       "      <td>0.000000</td>\n",
       "      <td>0.000000</td>\n",
       "      <td>0.426522</td>\n",
       "      <td>0.766389</td>\n",
       "      <td>0.871161</td>\n",
       "      <td>0.972460</td>\n",
       "      <td>0.368114</td>\n",
       "      <td>0.825241</td>\n",
       "      <td>...</td>\n",
       "      <td>0.364378</td>\n",
       "      <td>0.955936</td>\n",
       "      <td>0.492901</td>\n",
       "      <td>0.836364</td>\n",
       "      <td>0.705310</td>\n",
       "      <td>0.936709</td>\n",
       "      <td>0.702368</td>\n",
       "      <td>0.867427</td>\n",
       "      <td>0.567365</td>\n",
       "      <td>0.945669</td>\n",
       "    </tr>\n",
       "    <tr>\n",
       "      <th>4</th>\n",
       "      <td>0.734803</td>\n",
       "      <td>0.741816</td>\n",
       "      <td>0.000000</td>\n",
       "      <td>0.366508</td>\n",
       "      <td>0.519581</td>\n",
       "      <td>0.353397</td>\n",
       "      <td>0.786292</td>\n",
       "      <td>0.211750</td>\n",
       "      <td>0.384316</td>\n",
       "      <td>0.625767</td>\n",
       "      <td>...</td>\n",
       "      <td>0.851801</td>\n",
       "      <td>0.905141</td>\n",
       "      <td>0.883367</td>\n",
       "      <td>0.648606</td>\n",
       "      <td>0.957794</td>\n",
       "      <td>0.774151</td>\n",
       "      <td>0.919268</td>\n",
       "      <td>0.961511</td>\n",
       "      <td>0.693039</td>\n",
       "      <td>0.782858</td>\n",
       "    </tr>\n",
       "  </tbody>\n",
       "</table>\n",
       "<p>5 rows × 4046 columns</p>\n",
       "</div>"
      ],
      "text/plain": [
       "     NUDT10     STOX2    TRIM10      SAA1    LRRC31     GRIN1    FAM72D  \\\n",
       "0  0.845023  0.820495  0.322707  0.000000  0.480807  0.961859  0.800974   \n",
       "1  0.683634  0.584594  0.637801  0.000000  0.000000  0.206198  0.760150   \n",
       "2  0.000000  0.000000  0.782043  0.000000  0.000000  0.000000  0.802322   \n",
       "3  0.917168  0.825309  0.000000  0.000000  0.426522  0.766389  0.871161   \n",
       "4  0.734803  0.741816  0.000000  0.366508  0.519581  0.353397  0.786292   \n",
       "\n",
       "      ATCAY     KCNT1     VSIG1  ...    COL4A6    TCEAL5     LRIG1      GRM8  \\\n",
       "0  0.899633  0.667855  0.737949  ...  0.235214  0.878825  0.658215  0.900000   \n",
       "1  0.000000  0.410888  0.469763  ...  0.386132  0.303550  0.449493  0.000000   \n",
       "2  0.000000  0.000000  0.000000  ...  0.000000  0.000000  0.770791  0.000000   \n",
       "3  0.972460  0.368114  0.825241  ...  0.364378  0.955936  0.492901  0.836364   \n",
       "4  0.211750  0.384316  0.625767  ...  0.851801  0.905141  0.883367  0.648606   \n",
       "\n",
       "     PKNOX2   FAM184A      SOD3     SPAG4   PCDHAC1  BAIAP2L2  \n",
       "0  0.719877  0.892072  0.722820  0.874555  0.681886  0.860394  \n",
       "1  0.299523  0.461026  0.378902  0.770563  0.000000  0.613386  \n",
       "2  0.000000  0.453031  0.000000  0.847470  0.000000  0.875591  \n",
       "3  0.705310  0.936709  0.702368  0.867427  0.567365  0.945669  \n",
       "4  0.957794  0.774151  0.919268  0.961511  0.693039  0.782858  \n",
       "\n",
       "[5 rows x 4046 columns]"
      ]
     },
     "execution_count": 72,
     "metadata": {},
     "output_type": "execute_result"
    }
   ],
   "source": [
    "target_df_sort.head()"
   ]
  },
  {
   "cell_type": "code",
   "execution_count": 73,
   "id": "9c28df9d-df72-4c7f-9bef-e909c892cd50",
   "metadata": {
    "tags": []
   },
   "outputs": [
    {
     "data": {
      "text/html": [
       "<div>\n",
       "<style scoped>\n",
       "    .dataframe tbody tr th:only-of-type {\n",
       "        vertical-align: middle;\n",
       "    }\n",
       "\n",
       "    .dataframe tbody tr th {\n",
       "        vertical-align: top;\n",
       "    }\n",
       "\n",
       "    .dataframe thead th {\n",
       "        text-align: right;\n",
       "    }\n",
       "</style>\n",
       "<table border=\"1\" class=\"dataframe\">\n",
       "  <thead>\n",
       "    <tr style=\"text-align: right;\">\n",
       "      <th></th>\n",
       "      <th>NUDT10</th>\n",
       "      <th>STOX2</th>\n",
       "      <th>TRIM10</th>\n",
       "      <th>SAA1</th>\n",
       "      <th>LRRC31</th>\n",
       "      <th>GRIN1</th>\n",
       "      <th>FAM72D</th>\n",
       "      <th>ATCAY</th>\n",
       "      <th>KCNT1</th>\n",
       "      <th>VSIG1</th>\n",
       "      <th>...</th>\n",
       "      <th>COL4A6</th>\n",
       "      <th>TCEAL5</th>\n",
       "      <th>LRIG1</th>\n",
       "      <th>GRM8</th>\n",
       "      <th>PKNOX2</th>\n",
       "      <th>FAM184A</th>\n",
       "      <th>SOD3</th>\n",
       "      <th>SPAG4</th>\n",
       "      <th>PCDHAC1</th>\n",
       "      <th>BAIAP2L2</th>\n",
       "    </tr>\n",
       "  </thead>\n",
       "  <tbody>\n",
       "    <tr>\n",
       "      <th>0</th>\n",
       "      <td>0.010398</td>\n",
       "      <td>0.010045</td>\n",
       "      <td>0.000060</td>\n",
       "      <td>2.066038e-03</td>\n",
       "      <td>0.001961</td>\n",
       "      <td>0.001141</td>\n",
       "      <td>0.057238</td>\n",
       "      <td>0.000037</td>\n",
       "      <td>0.000686</td>\n",
       "      <td>0.000108</td>\n",
       "      <td>...</td>\n",
       "      <td>0.008247</td>\n",
       "      <td>0.027951</td>\n",
       "      <td>0.050610</td>\n",
       "      <td>0.000566</td>\n",
       "      <td>0.002410</td>\n",
       "      <td>0.027414</td>\n",
       "      <td>0.007775</td>\n",
       "      <td>0.00690</td>\n",
       "      <td>0.009055</td>\n",
       "      <td>0.002555</td>\n",
       "    </tr>\n",
       "    <tr>\n",
       "      <th>1</th>\n",
       "      <td>0.002684</td>\n",
       "      <td>0.108628</td>\n",
       "      <td>0.000299</td>\n",
       "      <td>6.730837e-06</td>\n",
       "      <td>0.053782</td>\n",
       "      <td>0.000321</td>\n",
       "      <td>0.011429</td>\n",
       "      <td>0.000064</td>\n",
       "      <td>0.010800</td>\n",
       "      <td>0.001179</td>\n",
       "      <td>...</td>\n",
       "      <td>0.002528</td>\n",
       "      <td>0.004978</td>\n",
       "      <td>0.067007</td>\n",
       "      <td>0.002910</td>\n",
       "      <td>0.011035</td>\n",
       "      <td>0.159884</td>\n",
       "      <td>0.020307</td>\n",
       "      <td>0.01578</td>\n",
       "      <td>0.028547</td>\n",
       "      <td>0.000908</td>\n",
       "    </tr>\n",
       "    <tr>\n",
       "      <th>2</th>\n",
       "      <td>0.000936</td>\n",
       "      <td>0.003245</td>\n",
       "      <td>0.001579</td>\n",
       "      <td>1.613270e-05</td>\n",
       "      <td>0.000261</td>\n",
       "      <td>0.000038</td>\n",
       "      <td>0.319048</td>\n",
       "      <td>0.000018</td>\n",
       "      <td>0.000299</td>\n",
       "      <td>0.000109</td>\n",
       "      <td>...</td>\n",
       "      <td>0.000012</td>\n",
       "      <td>0.001016</td>\n",
       "      <td>0.006065</td>\n",
       "      <td>0.000350</td>\n",
       "      <td>0.002278</td>\n",
       "      <td>0.091022</td>\n",
       "      <td>0.002926</td>\n",
       "      <td>0.00418</td>\n",
       "      <td>0.000963</td>\n",
       "      <td>0.000515</td>\n",
       "    </tr>\n",
       "    <tr>\n",
       "      <th>3</th>\n",
       "      <td>0.051981</td>\n",
       "      <td>0.052009</td>\n",
       "      <td>0.000283</td>\n",
       "      <td>7.373827e-07</td>\n",
       "      <td>0.000134</td>\n",
       "      <td>0.000000</td>\n",
       "      <td>0.009714</td>\n",
       "      <td>0.000000</td>\n",
       "      <td>0.000510</td>\n",
       "      <td>0.000008</td>\n",
       "      <td>...</td>\n",
       "      <td>0.060192</td>\n",
       "      <td>0.025673</td>\n",
       "      <td>0.042412</td>\n",
       "      <td>0.000295</td>\n",
       "      <td>0.017635</td>\n",
       "      <td>0.011193</td>\n",
       "      <td>0.026698</td>\n",
       "      <td>0.00244</td>\n",
       "      <td>0.006865</td>\n",
       "      <td>0.004009</td>\n",
       "    </tr>\n",
       "    <tr>\n",
       "      <th>4</th>\n",
       "      <td>0.001629</td>\n",
       "      <td>0.016776</td>\n",
       "      <td>0.000370</td>\n",
       "      <td>3.894035e-04</td>\n",
       "      <td>0.000030</td>\n",
       "      <td>0.000250</td>\n",
       "      <td>0.049524</td>\n",
       "      <td>0.000038</td>\n",
       "      <td>0.000281</td>\n",
       "      <td>0.000445</td>\n",
       "      <td>...</td>\n",
       "      <td>0.000055</td>\n",
       "      <td>0.008110</td>\n",
       "      <td>0.010310</td>\n",
       "      <td>0.000412</td>\n",
       "      <td>0.157344</td>\n",
       "      <td>0.001670</td>\n",
       "      <td>0.008151</td>\n",
       "      <td>0.01986</td>\n",
       "      <td>0.027880</td>\n",
       "      <td>0.036184</td>\n",
       "    </tr>\n",
       "  </tbody>\n",
       "</table>\n",
       "<p>5 rows × 4046 columns</p>\n",
       "</div>"
      ],
      "text/plain": [
       "     NUDT10     STOX2    TRIM10          SAA1    LRRC31     GRIN1    FAM72D  \\\n",
       "0  0.010398  0.010045  0.000060  2.066038e-03  0.001961  0.001141  0.057238   \n",
       "1  0.002684  0.108628  0.000299  6.730837e-06  0.053782  0.000321  0.011429   \n",
       "2  0.000936  0.003245  0.001579  1.613270e-05  0.000261  0.000038  0.319048   \n",
       "3  0.051981  0.052009  0.000283  7.373827e-07  0.000134  0.000000  0.009714   \n",
       "4  0.001629  0.016776  0.000370  3.894035e-04  0.000030  0.000250  0.049524   \n",
       "\n",
       "      ATCAY     KCNT1     VSIG1  ...    COL4A6    TCEAL5     LRIG1      GRM8  \\\n",
       "0  0.000037  0.000686  0.000108  ...  0.008247  0.027951  0.050610  0.000566   \n",
       "1  0.000064  0.010800  0.001179  ...  0.002528  0.004978  0.067007  0.002910   \n",
       "2  0.000018  0.000299  0.000109  ...  0.000012  0.001016  0.006065  0.000350   \n",
       "3  0.000000  0.000510  0.000008  ...  0.060192  0.025673  0.042412  0.000295   \n",
       "4  0.000038  0.000281  0.000445  ...  0.000055  0.008110  0.010310  0.000412   \n",
       "\n",
       "     PKNOX2   FAM184A      SOD3    SPAG4   PCDHAC1  BAIAP2L2  \n",
       "0  0.002410  0.027414  0.007775  0.00690  0.009055  0.002555  \n",
       "1  0.011035  0.159884  0.020307  0.01578  0.028547  0.000908  \n",
       "2  0.002278  0.091022  0.002926  0.00418  0.000963  0.000515  \n",
       "3  0.017635  0.011193  0.026698  0.00244  0.006865  0.004009  \n",
       "4  0.157344  0.001670  0.008151  0.01986  0.027880  0.036184  \n",
       "\n",
       "[5 rows x 4046 columns]"
      ]
     },
     "execution_count": 73,
     "metadata": {},
     "output_type": "execute_result"
    }
   ],
   "source": [
    "tcga_df_sort.head()"
   ]
  },
  {
   "cell_type": "code",
   "execution_count": 74,
   "id": "1ef4ebc0-5ad1-4db3-8e66-a33e8d9a3840",
   "metadata": {
    "tags": []
   },
   "outputs": [
    {
     "data": {
      "text/html": [
       "<div>\n",
       "<style scoped>\n",
       "    .dataframe tbody tr th:only-of-type {\n",
       "        vertical-align: middle;\n",
       "    }\n",
       "\n",
       "    .dataframe tbody tr th {\n",
       "        vertical-align: top;\n",
       "    }\n",
       "\n",
       "    .dataframe thead th {\n",
       "        text-align: right;\n",
       "    }\n",
       "</style>\n",
       "<table border=\"1\" class=\"dataframe\">\n",
       "  <thead>\n",
       "    <tr style=\"text-align: right;\">\n",
       "      <th></th>\n",
       "      <th>NUDT10</th>\n",
       "      <th>STOX2</th>\n",
       "      <th>TRIM10</th>\n",
       "      <th>SAA1</th>\n",
       "      <th>LRRC31</th>\n",
       "      <th>GRIN1</th>\n",
       "      <th>FAM72D</th>\n",
       "      <th>ATCAY</th>\n",
       "      <th>KCNT1</th>\n",
       "      <th>VSIG1</th>\n",
       "      <th>...</th>\n",
       "      <th>COL4A6</th>\n",
       "      <th>TCEAL5</th>\n",
       "      <th>LRIG1</th>\n",
       "      <th>GRM8</th>\n",
       "      <th>PKNOX2</th>\n",
       "      <th>FAM184A</th>\n",
       "      <th>SOD3</th>\n",
       "      <th>SPAG4</th>\n",
       "      <th>PCDHAC1</th>\n",
       "      <th>BAIAP2L2</th>\n",
       "    </tr>\n",
       "  </thead>\n",
       "  <tbody>\n",
       "    <tr>\n",
       "      <th>0</th>\n",
       "      <td>0.010769</td>\n",
       "      <td>0.016115</td>\n",
       "      <td>0.067705</td>\n",
       "      <td>0.000003</td>\n",
       "      <td>0.000385</td>\n",
       "      <td>0.000008</td>\n",
       "      <td>0.001724</td>\n",
       "      <td>0.000083</td>\n",
       "      <td>0.000073</td>\n",
       "      <td>0.000047</td>\n",
       "      <td>...</td>\n",
       "      <td>0.002783</td>\n",
       "      <td>0.000271</td>\n",
       "      <td>0.008541</td>\n",
       "      <td>0.003669</td>\n",
       "      <td>0.019206</td>\n",
       "      <td>0.049302</td>\n",
       "      <td>0.030613</td>\n",
       "      <td>0.035231</td>\n",
       "      <td>0.000000</td>\n",
       "      <td>0.359042</td>\n",
       "    </tr>\n",
       "    <tr>\n",
       "      <th>1</th>\n",
       "      <td>0.001487</td>\n",
       "      <td>0.068504</td>\n",
       "      <td>0.000190</td>\n",
       "      <td>0.000034</td>\n",
       "      <td>0.000351</td>\n",
       "      <td>0.000414</td>\n",
       "      <td>0.001177</td>\n",
       "      <td>0.000413</td>\n",
       "      <td>0.000626</td>\n",
       "      <td>0.000085</td>\n",
       "      <td>...</td>\n",
       "      <td>0.000220</td>\n",
       "      <td>0.000409</td>\n",
       "      <td>0.116403</td>\n",
       "      <td>0.001947</td>\n",
       "      <td>0.043968</td>\n",
       "      <td>0.032093</td>\n",
       "      <td>0.018290</td>\n",
       "      <td>0.191538</td>\n",
       "      <td>0.061562</td>\n",
       "      <td>0.007165</td>\n",
       "    </tr>\n",
       "    <tr>\n",
       "      <th>2</th>\n",
       "      <td>0.000897</td>\n",
       "      <td>0.025564</td>\n",
       "      <td>0.000000</td>\n",
       "      <td>0.000035</td>\n",
       "      <td>0.000000</td>\n",
       "      <td>0.000069</td>\n",
       "      <td>0.000000</td>\n",
       "      <td>0.001183</td>\n",
       "      <td>0.029000</td>\n",
       "      <td>0.000096</td>\n",
       "      <td>...</td>\n",
       "      <td>0.000248</td>\n",
       "      <td>0.000184</td>\n",
       "      <td>0.076454</td>\n",
       "      <td>0.000000</td>\n",
       "      <td>0.098413</td>\n",
       "      <td>0.005837</td>\n",
       "      <td>0.001239</td>\n",
       "      <td>0.002138</td>\n",
       "      <td>0.000000</td>\n",
       "      <td>0.001322</td>\n",
       "    </tr>\n",
       "    <tr>\n",
       "      <th>3</th>\n",
       "      <td>0.006103</td>\n",
       "      <td>0.233858</td>\n",
       "      <td>0.000000</td>\n",
       "      <td>0.000027</td>\n",
       "      <td>0.000000</td>\n",
       "      <td>0.001065</td>\n",
       "      <td>0.034764</td>\n",
       "      <td>0.000511</td>\n",
       "      <td>0.003078</td>\n",
       "      <td>0.000714</td>\n",
       "      <td>...</td>\n",
       "      <td>0.002379</td>\n",
       "      <td>0.001407</td>\n",
       "      <td>0.082116</td>\n",
       "      <td>0.003023</td>\n",
       "      <td>0.015095</td>\n",
       "      <td>0.021581</td>\n",
       "      <td>0.053871</td>\n",
       "      <td>0.012692</td>\n",
       "      <td>0.004288</td>\n",
       "      <td>0.009301</td>\n",
       "    </tr>\n",
       "    <tr>\n",
       "      <th>4</th>\n",
       "      <td>0.003214</td>\n",
       "      <td>0.035696</td>\n",
       "      <td>0.000000</td>\n",
       "      <td>0.022475</td>\n",
       "      <td>0.000812</td>\n",
       "      <td>0.000000</td>\n",
       "      <td>0.008150</td>\n",
       "      <td>0.000000</td>\n",
       "      <td>0.000191</td>\n",
       "      <td>0.000123</td>\n",
       "      <td>...</td>\n",
       "      <td>0.001123</td>\n",
       "      <td>0.000000</td>\n",
       "      <td>0.197245</td>\n",
       "      <td>0.000000</td>\n",
       "      <td>0.017619</td>\n",
       "      <td>0.028837</td>\n",
       "      <td>0.112581</td>\n",
       "      <td>0.006077</td>\n",
       "      <td>0.046554</td>\n",
       "      <td>0.007722</td>\n",
       "    </tr>\n",
       "  </tbody>\n",
       "</table>\n",
       "<p>5 rows × 4046 columns</p>\n",
       "</div>"
      ],
      "text/plain": [
       "     NUDT10     STOX2    TRIM10      SAA1    LRRC31     GRIN1    FAM72D  \\\n",
       "0  0.010769  0.016115  0.067705  0.000003  0.000385  0.000008  0.001724   \n",
       "1  0.001487  0.068504  0.000190  0.000034  0.000351  0.000414  0.001177   \n",
       "2  0.000897  0.025564  0.000000  0.000035  0.000000  0.000069  0.000000   \n",
       "3  0.006103  0.233858  0.000000  0.000027  0.000000  0.001065  0.034764   \n",
       "4  0.003214  0.035696  0.000000  0.022475  0.000812  0.000000  0.008150   \n",
       "\n",
       "      ATCAY     KCNT1     VSIG1  ...    COL4A6    TCEAL5     LRIG1      GRM8  \\\n",
       "0  0.000083  0.000073  0.000047  ...  0.002783  0.000271  0.008541  0.003669   \n",
       "1  0.000413  0.000626  0.000085  ...  0.000220  0.000409  0.116403  0.001947   \n",
       "2  0.001183  0.029000  0.000096  ...  0.000248  0.000184  0.076454  0.000000   \n",
       "3  0.000511  0.003078  0.000714  ...  0.002379  0.001407  0.082116  0.003023   \n",
       "4  0.000000  0.000191  0.000123  ...  0.001123  0.000000  0.197245  0.000000   \n",
       "\n",
       "     PKNOX2   FAM184A      SOD3     SPAG4   PCDHAC1  BAIAP2L2  \n",
       "0  0.019206  0.049302  0.030613  0.035231  0.000000  0.359042  \n",
       "1  0.043968  0.032093  0.018290  0.191538  0.061562  0.007165  \n",
       "2  0.098413  0.005837  0.001239  0.002138  0.000000  0.001322  \n",
       "3  0.015095  0.021581  0.053871  0.012692  0.004288  0.009301  \n",
       "4  0.017619  0.028837  0.112581  0.006077  0.046554  0.007722  \n",
       "\n",
       "[5 rows x 4046 columns]"
      ]
     },
     "execution_count": 74,
     "metadata": {},
     "output_type": "execute_result"
    }
   ],
   "source": [
    "gtex_df_sort.head()"
   ]
  },
  {
   "cell_type": "code",
   "execution_count": 75,
   "id": "f172d093-2be5-4c9b-a12f-f8b6cf08ac2e",
   "metadata": {
    "tags": []
   },
   "outputs": [
    {
     "data": {
      "text/plain": [
       "(660, 4046)"
      ]
     },
     "execution_count": 75,
     "metadata": {},
     "output_type": "execute_result"
    }
   ],
   "source": [
    "target_df_sort.shape"
   ]
  },
  {
   "cell_type": "code",
   "execution_count": 76,
   "id": "0398a24a-3c50-485b-8b36-8d66e5c3eaba",
   "metadata": {
    "tags": []
   },
   "outputs": [
    {
     "data": {
      "text/plain": [
       "(9954, 4046)"
      ]
     },
     "execution_count": 76,
     "metadata": {},
     "output_type": "execute_result"
    }
   ],
   "source": [
    "tcga_df_sort.shape"
   ]
  },
  {
   "cell_type": "code",
   "execution_count": 77,
   "id": "376336f5-207e-4aae-bbc6-9c89f3f15013",
   "metadata": {
    "tags": []
   },
   "outputs": [
    {
     "data": {
      "text/plain": [
       "(10519, 4046)"
      ]
     },
     "execution_count": 77,
     "metadata": {},
     "output_type": "execute_result"
    }
   ],
   "source": [
    "gtex_df_sort.shape"
   ]
  },
  {
   "cell_type": "code",
   "execution_count": null,
   "id": "35892de4-9af9-4b24-bb13-5faf1c7561ab",
   "metadata": {},
   "outputs": [],
   "source": []
  }
 ],
 "metadata": {
  "kernelspec": {
   "display_name": "Python 3 (ipykernel)",
   "language": "python",
   "name": "python3"
  },
  "language_info": {
   "codemirror_mode": {
    "name": "ipython",
    "version": 3
   },
   "file_extension": ".py",
   "mimetype": "text/x-python",
   "name": "python",
   "nbconvert_exporter": "python",
   "pygments_lexer": "ipython3",
   "version": "3.9.6"
  }
 },
 "nbformat": 4,
 "nbformat_minor": 5
}
