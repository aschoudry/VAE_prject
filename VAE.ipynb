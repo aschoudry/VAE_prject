{
 "cells": [
  {
   "cell_type": "code",
   "execution_count": 67,
   "id": "e3263004-2800-4aea-98a9-5309ffd5fb32",
   "metadata": {
    "tags": []
   },
   "outputs": [
    {
     "name": "stdout",
     "output_type": "stream",
     "text": [
      "The nb_black extension is already loaded. To reload it, use:\n",
      "  %reload_ext nb_black\n"
     ]
    },
    {
     "data": {
      "application/javascript": [
       "\n",
       "            setTimeout(function() {\n",
       "                var nbb_cell_id = 67;\n",
       "                var nbb_unformatted_code = \"%load_ext nb_black\";\n",
       "                var nbb_formatted_code = \"%load_ext nb_black\";\n",
       "                var nbb_cells = Jupyter.notebook.get_cells();\n",
       "                for (var i = 0; i < nbb_cells.length; ++i) {\n",
       "                    if (nbb_cells[i].input_prompt_number == nbb_cell_id) {\n",
       "                        if (nbb_cells[i].get_text() == nbb_unformatted_code) {\n",
       "                             nbb_cells[i].set_text(nbb_formatted_code);\n",
       "                        }\n",
       "                        break;\n",
       "                    }\n",
       "                }\n",
       "            }, 500);\n",
       "            "
      ],
      "text/plain": [
       "<IPython.core.display.Javascript object>"
      ]
     },
     "metadata": {},
     "output_type": "display_data"
    }
   ],
   "source": [
    "%load_ext nb_black"
   ]
  },
  {
   "cell_type": "code",
   "execution_count": 68,
   "id": "0f7d9c19-e2aa-4327-a51c-6db0f5d3165c",
   "metadata": {
    "tags": []
   },
   "outputs": [
    {
     "data": {
      "application/javascript": [
       "\n",
       "            setTimeout(function() {\n",
       "                var nbb_cell_id = 68;\n",
       "                var nbb_unformatted_code = \"import torch\\nimport torch.nn as nn\\nimport torch.nn.functional as F\\nimport torch.optim as optim\\nfrom torchvision import datasets, transforms\\nfrom torch.autograd import Variable\\nfrom torchvision.utils import save_image\\nfrom torchvision.transforms import ToTensor\\n\\nfrom torch.distributions.multivariate_normal import MultivariateNormal\\nfrom torch.distributions.kl import kl_divergence\\nimport torchvision\\nimport numpy as np\\n\\nimport torch\\nfrom torch.utils.tensorboard import SummaryWriter\\nfrom datetime import datetime\\nimport matplotlib.pyplot as plt \\nwriter = SummaryWriter('mnist_experiment_1')\";\n",
       "                var nbb_formatted_code = \"import torch\\nimport torch.nn as nn\\nimport torch.nn.functional as F\\nimport torch.optim as optim\\nfrom torchvision import datasets, transforms\\nfrom torch.autograd import Variable\\nfrom torchvision.utils import save_image\\nfrom torchvision.transforms import ToTensor\\n\\nfrom torch.distributions.multivariate_normal import MultivariateNormal\\nfrom torch.distributions.kl import kl_divergence\\nimport torchvision\\nimport numpy as np\\n\\nimport torch\\nfrom torch.utils.tensorboard import SummaryWriter\\nfrom datetime import datetime\\nimport matplotlib.pyplot as plt\\n\\nwriter = SummaryWriter(\\\"mnist_experiment_1\\\")\";\n",
       "                var nbb_cells = Jupyter.notebook.get_cells();\n",
       "                for (var i = 0; i < nbb_cells.length; ++i) {\n",
       "                    if (nbb_cells[i].input_prompt_number == nbb_cell_id) {\n",
       "                        if (nbb_cells[i].get_text() == nbb_unformatted_code) {\n",
       "                             nbb_cells[i].set_text(nbb_formatted_code);\n",
       "                        }\n",
       "                        break;\n",
       "                    }\n",
       "                }\n",
       "            }, 500);\n",
       "            "
      ],
      "text/plain": [
       "<IPython.core.display.Javascript object>"
      ]
     },
     "metadata": {},
     "output_type": "display_data"
    }
   ],
   "source": [
    "import torch\n",
    "import torch.nn as nn\n",
    "import torch.nn.functional as F\n",
    "import torch.optim as optim\n",
    "from torchvision import datasets, transforms\n",
    "from torch.autograd import Variable\n",
    "from torchvision.utils import save_image\n",
    "from torchvision.transforms import ToTensor\n",
    "\n",
    "from torch.distributions.multivariate_normal import MultivariateNormal\n",
    "from torch.distributions.kl import kl_divergence\n",
    "import torchvision\n",
    "import numpy as np\n",
    "\n",
    "import torch\n",
    "from torch.utils.tensorboard import SummaryWriter\n",
    "from datetime import datetime\n",
    "import matplotlib.pyplot as plt \n",
    "writer = SummaryWriter('mnist_experiment_1')"
   ]
  },
  {
   "cell_type": "code",
   "execution_count": 69,
   "id": "239df458-66aa-4d10-87ca-93498797a68f",
   "metadata": {
    "tags": []
   },
   "outputs": [
    {
     "data": {
      "application/javascript": [
       "\n",
       "            setTimeout(function() {\n",
       "                var nbb_cell_id = 69;\n",
       "                var nbb_unformatted_code = \"bs = 16\\n# MNIST Dataset\\ntrain_dataset = datasets.MNIST(\\n    root=\\\"data\\\",\\n    train=True,\\n    download=True,\\n    transform=ToTensor()\\n)\\n\\ntest_dataset = datasets.MNIST(\\n    root=\\\"data\\\",\\n    train=False,\\n    download=True,\\n    transform=ToTensor()\\n)\\n# Data Loader (Input Pipeline)\\ntrain_loader = torch.utils.data.DataLoader(dataset=train_dataset, batch_size=bs, shuffle=True)\\ntest_loader = torch.utils.data.DataLoader(dataset=test_dataset, batch_size=bs, shuffle=False)\";\n",
       "                var nbb_formatted_code = \"bs = 16\\n# MNIST Dataset\\ntrain_dataset = datasets.MNIST(\\n    root=\\\"data\\\", train=True, download=True, transform=ToTensor()\\n)\\n\\ntest_dataset = datasets.MNIST(\\n    root=\\\"data\\\", train=False, download=True, transform=ToTensor()\\n)\\n# Data Loader (Input Pipeline)\\ntrain_loader = torch.utils.data.DataLoader(\\n    dataset=train_dataset, batch_size=bs, shuffle=True\\n)\\ntest_loader = torch.utils.data.DataLoader(\\n    dataset=test_dataset, batch_size=bs, shuffle=False\\n)\";\n",
       "                var nbb_cells = Jupyter.notebook.get_cells();\n",
       "                for (var i = 0; i < nbb_cells.length; ++i) {\n",
       "                    if (nbb_cells[i].input_prompt_number == nbb_cell_id) {\n",
       "                        if (nbb_cells[i].get_text() == nbb_unformatted_code) {\n",
       "                             nbb_cells[i].set_text(nbb_formatted_code);\n",
       "                        }\n",
       "                        break;\n",
       "                    }\n",
       "                }\n",
       "            }, 500);\n",
       "            "
      ],
      "text/plain": [
       "<IPython.core.display.Javascript object>"
      ]
     },
     "metadata": {},
     "output_type": "display_data"
    }
   ],
   "source": [
    "bs = 16\n",
    "# MNIST Dataset\n",
    "train_dataset = datasets.MNIST(\n",
    "    root=\"data\",\n",
    "    train=True,\n",
    "    download=True,\n",
    "    transform=ToTensor()\n",
    ")\n",
    "\n",
    "test_dataset = datasets.MNIST(\n",
    "    root=\"data\",\n",
    "    train=False,\n",
    "    download=True,\n",
    "    transform=ToTensor()\n",
    ")\n",
    "# Data Loader (Input Pipeline)\n",
    "train_loader = torch.utils.data.DataLoader(dataset=train_dataset, batch_size=bs, shuffle=True)\n",
    "test_loader = torch.utils.data.DataLoader(dataset=test_dataset, batch_size=bs, shuffle=False)\n"
   ]
  },
  {
   "cell_type": "code",
   "execution_count": 70,
   "id": "5be4befb-a772-4098-8e99-48a0e6eef827",
   "metadata": {
    "tags": []
   },
   "outputs": [
    {
     "data": {
      "application/javascript": [
       "\n",
       "            setTimeout(function() {\n",
       "                var nbb_cell_id = 70;\n",
       "                var nbb_unformatted_code = \"class VAE(nn.Module):\\n    def __init__(self, input_dim: int, hidden_dim: list, z_dim):\\n        super(VAE, self).__init__()\\n        \\n        self.z_dim = z_dim\\n        \\n        self.encoder_layers = nn.ModuleList([nn.Linear(input_dim, hidden_dim[0])])\\n        self.decoder_layers = nn.ModuleList([nn.Linear(hidden_dim[0], input_dim)])\\n                \\n        if len(hidden_dim)>1:\\n            for i in range(len(hidden_dim)-1):\\n                self.encoder_layers.append(nn.Linear(hidden_dim[i], hidden_dim[i+1]))\\n                self.decoder_layers.insert(0, nn.Linear(hidden_dim[i+1], hidden_dim[i]))\\n                \\n        self.encoder_layers.append(nn.Linear(hidden_dim[-1], 2 * z_dim))\\n        self.decoder_layers.insert(0, nn.Linear(z_dim, hidden_dim[-1]))\\n\\n        \\n    def encoder(self, x):\\n        for idx, layer in enumerate(self.encoder_layers):\\n            x = layer(x)\\n            if idx < len(self.encoder_layers) - 1:\\n                # x = F.dropout(x, 0.01)\\n                x = F.relu(x)\\n        return x[...,:self.z_dim], x[...,self.z_dim:] # mu, log_var\\n    \\n    def sampling(self, mu, log_var):\\n        std = torch.exp(0.5*log_var)\\n        # std = torch.abs(log_var)\\n        eps = torch.randn_like(std)\\n        return eps.mul(std).add_(mu) # return z sample\\n        \\n    def decoder(self, z):\\n        for idx, layer in enumerate(self.decoder_layers):\\n            z = layer(z)\\n            if idx < len(self.decoder_layers) - 1:\\n                # x = F.dropout(x, 0.01)\\n                z = F.relu(z)\\n        return torch.sigmoid(z) \\n    \\n    def forward(self, x):\\n        mu, log_var = self.encoder(x.view(-1, 784))\\n        \\n    #    z = self.sampling(mu, log_var)\\n        latent = MultivariateNormal(loc = mu, \\n                                    scale_tril=torch.diag_embed(torch.exp(0.5*log_var)))\\n        z = latent.rsample()\\n           \\n    #    return self.decoder(z), mu, log_var\\n        return self.decoder(z), latent\\n\\n    @staticmethod\\n    def loss_function(recon_x, x, mu, log_var):\\n        BCE = F.binary_cross_entropy(recon_x, x.view(-1, 784), reduction='sum')\\n        KLD = -0.5 * torch.sum(1 + log_var - mu.pow(2) - log_var.exp())\\n        return BCE + KLD\\n    \\n    @staticmethod\\n    def loss_function_dist(recon_x, x, latent):\\n        prior = MultivariateNormal(loc = torch.zeros(latent.mean.shape[1]),\\n                                   scale_tril=torch.eye(latent.mean.shape[1]))\\n        \\n        BCE = F.binary_cross_entropy(recon_x, x.view(-1, 784), reduction='sum')\\n        KLD = torch.sum(kl_divergence(latent, prior))\\n        return BCE + KLD\";\n",
       "                var nbb_formatted_code = \"class VAE(nn.Module):\\n    def __init__(self, input_dim: int, hidden_dim: list, z_dim):\\n        super(VAE, self).__init__()\\n\\n        self.z_dim = z_dim\\n\\n        self.encoder_layers = nn.ModuleList([nn.Linear(input_dim, hidden_dim[0])])\\n        self.decoder_layers = nn.ModuleList([nn.Linear(hidden_dim[0], input_dim)])\\n\\n        if len(hidden_dim) > 1:\\n            for i in range(len(hidden_dim) - 1):\\n                self.encoder_layers.append(nn.Linear(hidden_dim[i], hidden_dim[i + 1]))\\n                self.decoder_layers.insert(\\n                    0, nn.Linear(hidden_dim[i + 1], hidden_dim[i])\\n                )\\n\\n        self.encoder_layers.append(nn.Linear(hidden_dim[-1], 2 * z_dim))\\n        self.decoder_layers.insert(0, nn.Linear(z_dim, hidden_dim[-1]))\\n\\n    def encoder(self, x):\\n        for idx, layer in enumerate(self.encoder_layers):\\n            x = layer(x)\\n            if idx < len(self.encoder_layers) - 1:\\n                # x = F.dropout(x, 0.01)\\n                x = F.relu(x)\\n        return x[..., : self.z_dim], x[..., self.z_dim :]  # mu, log_var\\n\\n    def sampling(self, mu, log_var):\\n        std = torch.exp(0.5 * log_var)\\n        # std = torch.abs(log_var)\\n        eps = torch.randn_like(std)\\n        return eps.mul(std).add_(mu)  # return z sample\\n\\n    def decoder(self, z):\\n        for idx, layer in enumerate(self.decoder_layers):\\n            z = layer(z)\\n            if idx < len(self.decoder_layers) - 1:\\n                # x = F.dropout(x, 0.01)\\n                z = F.relu(z)\\n        return torch.sigmoid(z)\\n\\n    def forward(self, x):\\n        mu, log_var = self.encoder(x.view(-1, 784))\\n\\n        #    z = self.sampling(mu, log_var)\\n        latent = MultivariateNormal(\\n            loc=mu, scale_tril=torch.diag_embed(torch.exp(0.5 * log_var))\\n        )\\n        z = latent.rsample()\\n\\n        #    return self.decoder(z), mu, log_var\\n        return self.decoder(z), latent\\n\\n    @staticmethod\\n    def loss_function(recon_x, x, mu, log_var):\\n        BCE = F.binary_cross_entropy(recon_x, x.view(-1, 784), reduction=\\\"sum\\\")\\n        KLD = -0.5 * torch.sum(1 + log_var - mu.pow(2) - log_var.exp())\\n        return BCE + KLD\\n\\n    @staticmethod\\n    def loss_function_dist(recon_x, x, latent):\\n        prior = MultivariateNormal(\\n            loc=torch.zeros(latent.mean.shape[1]),\\n            scale_tril=torch.eye(latent.mean.shape[1]),\\n        )\\n\\n        BCE = F.binary_cross_entropy(recon_x, x.view(-1, 784), reduction=\\\"sum\\\")\\n        KLD = torch.sum(kl_divergence(latent, prior))\\n        return BCE + KLD\";\n",
       "                var nbb_cells = Jupyter.notebook.get_cells();\n",
       "                for (var i = 0; i < nbb_cells.length; ++i) {\n",
       "                    if (nbb_cells[i].input_prompt_number == nbb_cell_id) {\n",
       "                        if (nbb_cells[i].get_text() == nbb_unformatted_code) {\n",
       "                             nbb_cells[i].set_text(nbb_formatted_code);\n",
       "                        }\n",
       "                        break;\n",
       "                    }\n",
       "                }\n",
       "            }, 500);\n",
       "            "
      ],
      "text/plain": [
       "<IPython.core.display.Javascript object>"
      ]
     },
     "metadata": {},
     "output_type": "display_data"
    }
   ],
   "source": [
    "class VAE(nn.Module):\n",
    "    def __init__(self, input_dim: int, hidden_dim: list, z_dim):\n",
    "        super(VAE, self).__init__()\n",
    "        \n",
    "        self.z_dim = z_dim\n",
    "        \n",
    "        self.encoder_layers = nn.ModuleList([nn.Linear(input_dim, hidden_dim[0])])\n",
    "        self.decoder_layers = nn.ModuleList([nn.Linear(hidden_dim[0], input_dim)])\n",
    "                \n",
    "        if len(hidden_dim)>1:\n",
    "            for i in range(len(hidden_dim)-1):\n",
    "                self.encoder_layers.append(nn.Linear(hidden_dim[i], hidden_dim[i+1]))\n",
    "                self.decoder_layers.insert(0, nn.Linear(hidden_dim[i+1], hidden_dim[i]))\n",
    "                \n",
    "        self.encoder_layers.append(nn.Linear(hidden_dim[-1], 2 * z_dim))\n",
    "        self.decoder_layers.insert(0, nn.Linear(z_dim, hidden_dim[-1]))\n",
    "\n",
    "        \n",
    "    def encoder(self, x):\n",
    "        for idx, layer in enumerate(self.encoder_layers):\n",
    "            x = layer(x)\n",
    "            if idx < len(self.encoder_layers) - 1:\n",
    "                # x = F.dropout(x, 0.01)\n",
    "                x = F.relu(x)\n",
    "        return x[...,:self.z_dim], x[...,self.z_dim:] # mu, log_var\n",
    "    \n",
    "    def sampling(self, mu, log_var):\n",
    "        std = torch.exp(0.5*log_var)\n",
    "        # std = torch.abs(log_var)\n",
    "        eps = torch.randn_like(std)\n",
    "        return eps.mul(std).add_(mu) # return z sample\n",
    "        \n",
    "    def decoder(self, z):\n",
    "        for idx, layer in enumerate(self.decoder_layers):\n",
    "            z = layer(z)\n",
    "            if idx < len(self.decoder_layers) - 1:\n",
    "                # x = F.dropout(x, 0.01)\n",
    "                z = F.relu(z)\n",
    "        return torch.sigmoid(z) \n",
    "    \n",
    "    def forward(self, x):\n",
    "        mu, log_var = self.encoder(x.view(-1, 784))\n",
    "        \n",
    "    #    z = self.sampling(mu, log_var)\n",
    "        latent = MultivariateNormal(loc = mu, \n",
    "                                    scale_tril=torch.diag_embed(torch.exp(0.5*log_var)))\n",
    "        z = latent.rsample()\n",
    "           \n",
    "    #    return self.decoder(z), mu, log_var\n",
    "        return self.decoder(z), latent\n",
    "\n",
    "    @staticmethod\n",
    "    def loss_function(recon_x, x, mu, log_var):\n",
    "        BCE = F.binary_cross_entropy(recon_x, x.view(-1, 784), reduction='sum')\n",
    "        KLD = -0.5 * torch.sum(1 + log_var - mu.pow(2) - log_var.exp())\n",
    "        return BCE + KLD\n",
    "    \n",
    "    @staticmethod\n",
    "    def loss_function_dist(recon_x, x, latent):\n",
    "        prior = MultivariateNormal(loc = torch.zeros(latent.mean.shape[1]),\n",
    "                                   scale_tril=torch.eye(latent.mean.shape[1]))\n",
    "        \n",
    "        BCE = F.binary_cross_entropy(recon_x, x.view(-1, 784), reduction='sum')\n",
    "        KLD = torch.sum(kl_divergence(latent, prior))\n",
    "        return BCE + KLD"
   ]
  },
  {
   "cell_type": "code",
   "execution_count": 71,
   "id": "7315ede0-e993-4db1-be61-d4c6e5d755ab",
   "metadata": {
    "tags": []
   },
   "outputs": [
    {
     "data": {
      "application/javascript": [
       "\n",
       "            setTimeout(function() {\n",
       "                var nbb_cell_id = 71;\n",
       "                var nbb_unformatted_code = \"# build model\\n\\n#%%\\nvae = VAE(input_dim=784, hidden_dim=[512, 256], z_dim=16)\\n# if torch.backends.mps.is_available():\\n#     DEVICE = 'mps'\\n# else:\\nDEVICE = 'cpu'\\n    \\nvae.to(DEVICE)\\n\\noptimizer = optim.Adam(vae.parameters())\\n\\ndef train(epoch):\\n    vae.train()\\n    train_loss = 0\\n    for batch_idx, (data, _) in enumerate(train_loader):\\n        \\n        \\n        data = data.to(DEVICE)\\n        optimizer.zero_grad()\\n        \\n        recon_batch, latent = vae(data)\\n        loss = VAE.loss_function_dist(recon_batch, data, latent)\\n        writer.add_scalar(\\\"Loss/train\\\", loss, epoch)\\n        \\n        loss.backward()\\n        train_loss += loss.item()\\n        optimizer.step()\\n        \\n        if batch_idx % 100 == 0:\\n            print('Train Epoch: {} [{}/{} ({:.0f}%)]\\\\tLoss: {:.6f}'.format(\\n                epoch, batch_idx * len(data), len(train_loader.dataset),\\n                100. * batch_idx / len(train_loader), loss.item() / len(data)))\\n    print('====> Epoch: {} Average loss: {:.4f}'.format(epoch, train_loss / len(train_loader.dataset)))\\n    \";\n",
       "                var nbb_formatted_code = \"# build model\\n\\n# %%\\nvae = VAE(input_dim=784, hidden_dim=[512, 256], z_dim=16)\\n# if torch.backends.mps.is_available():\\n#     DEVICE = 'mps'\\n# else:\\nDEVICE = \\\"cpu\\\"\\n\\nvae.to(DEVICE)\\n\\noptimizer = optim.Adam(vae.parameters())\\n\\n\\ndef train(epoch):\\n    vae.train()\\n    train_loss = 0\\n    for batch_idx, (data, _) in enumerate(train_loader):\\n        data = data.to(DEVICE)\\n        optimizer.zero_grad()\\n\\n        recon_batch, latent = vae(data)\\n        loss = VAE.loss_function_dist(recon_batch, data, latent)\\n        writer.add_scalar(\\\"Loss/train\\\", loss, epoch)\\n\\n        loss.backward()\\n        train_loss += loss.item()\\n        optimizer.step()\\n\\n        if batch_idx % 100 == 0:\\n            print(\\n                \\\"Train Epoch: {} [{}/{} ({:.0f}%)]\\\\tLoss: {:.6f}\\\".format(\\n                    epoch,\\n                    batch_idx * len(data),\\n                    len(train_loader.dataset),\\n                    100.0 * batch_idx / len(train_loader),\\n                    loss.item() / len(data),\\n                )\\n            )\\n    print(\\n        \\\"====> Epoch: {} Average loss: {:.4f}\\\".format(\\n            epoch, train_loss / len(train_loader.dataset)\\n        )\\n    )\";\n",
       "                var nbb_cells = Jupyter.notebook.get_cells();\n",
       "                for (var i = 0; i < nbb_cells.length; ++i) {\n",
       "                    if (nbb_cells[i].input_prompt_number == nbb_cell_id) {\n",
       "                        if (nbb_cells[i].get_text() == nbb_unformatted_code) {\n",
       "                             nbb_cells[i].set_text(nbb_formatted_code);\n",
       "                        }\n",
       "                        break;\n",
       "                    }\n",
       "                }\n",
       "            }, 500);\n",
       "            "
      ],
      "text/plain": [
       "<IPython.core.display.Javascript object>"
      ]
     },
     "metadata": {},
     "output_type": "display_data"
    }
   ],
   "source": [
    "# build model\n",
    "\n",
    "#%%\n",
    "vae = VAE(input_dim=784, hidden_dim=[512, 256], z_dim=16)\n",
    "# if torch.backends.mps.is_available():\n",
    "#     DEVICE = 'mps'\n",
    "# else:\n",
    "DEVICE = 'cpu'\n",
    "    \n",
    "vae.to(DEVICE)\n",
    "\n",
    "optimizer = optim.Adam(vae.parameters())\n",
    "\n",
    "def train(epoch):\n",
    "    vae.train()\n",
    "    train_loss = 0\n",
    "    for batch_idx, (data, _) in enumerate(train_loader):\n",
    "        \n",
    "        \n",
    "        data = data.to(DEVICE)\n",
    "        optimizer.zero_grad()\n",
    "        \n",
    "        recon_batch, latent = vae(data)\n",
    "        loss = VAE.loss_function_dist(recon_batch, data, latent)\n",
    "        writer.add_scalar(\"Loss/train\", loss, epoch)\n",
    "        \n",
    "        loss.backward()\n",
    "        train_loss += loss.item()\n",
    "        optimizer.step()\n",
    "        \n",
    "        if batch_idx % 100 == 0:\n",
    "            print('Train Epoch: {} [{}/{} ({:.0f}%)]\\tLoss: {:.6f}'.format(\n",
    "                epoch, batch_idx * len(data), len(train_loader.dataset),\n",
    "                100. * batch_idx / len(train_loader), loss.item() / len(data)))\n",
    "    print('====> Epoch: {} Average loss: {:.4f}'.format(epoch, train_loss / len(train_loader.dataset)))\n",
    "    "
   ]
  },
  {
   "cell_type": "code",
   "execution_count": 72,
   "id": "26d0d712-e769-494d-8a01-3beb255f3bc8",
   "metadata": {
    "tags": []
   },
   "outputs": [
    {
     "data": {
      "application/javascript": [
       "\n",
       "            setTimeout(function() {\n",
       "                var nbb_cell_id = 72;\n",
       "                var nbb_unformatted_code = \"#%%\\ndef test():\\n    vae.eval()\\n    test_loss= 0\\n    with torch.no_grad():\\n        for data, _ in test_loader:\\n            data = data.to(DEVICE)\\n            #recon, mu, log_var = vae(data)\\n            recon, latent = vae(data)\\n            \\n            test_loss += VAE.loss_function_dist(recon, data, latent).item()\\n        \\n    test_loss /= len(test_loader.dataset)\\n    print('====> Test set loss: {:.4f}'.format(test_loss))\";\n",
       "                var nbb_formatted_code = \"# %%\\ndef test():\\n    vae.eval()\\n    test_loss = 0\\n    with torch.no_grad():\\n        for data, _ in test_loader:\\n            data = data.to(DEVICE)\\n            # recon, mu, log_var = vae(data)\\n            recon, latent = vae(data)\\n\\n            test_loss += VAE.loss_function_dist(recon, data, latent).item()\\n\\n    test_loss /= len(test_loader.dataset)\\n    print(\\\"====> Test set loss: {:.4f}\\\".format(test_loss))\";\n",
       "                var nbb_cells = Jupyter.notebook.get_cells();\n",
       "                for (var i = 0; i < nbb_cells.length; ++i) {\n",
       "                    if (nbb_cells[i].input_prompt_number == nbb_cell_id) {\n",
       "                        if (nbb_cells[i].get_text() == nbb_unformatted_code) {\n",
       "                             nbb_cells[i].set_text(nbb_formatted_code);\n",
       "                        }\n",
       "                        break;\n",
       "                    }\n",
       "                }\n",
       "            }, 500);\n",
       "            "
      ],
      "text/plain": [
       "<IPython.core.display.Javascript object>"
      ]
     },
     "metadata": {},
     "output_type": "display_data"
    }
   ],
   "source": [
    "#%%\n",
    "def test():\n",
    "    vae.eval()\n",
    "    test_loss= 0\n",
    "    with torch.no_grad():\n",
    "        for data, _ in test_loader:\n",
    "            data = data.to(DEVICE)\n",
    "            #recon, mu, log_var = vae(data)\n",
    "            recon, latent = vae(data)\n",
    "            \n",
    "            test_loss += VAE.loss_function_dist(recon, data, latent).item()\n",
    "        \n",
    "    test_loss /= len(test_loader.dataset)\n",
    "    print('====> Test set loss: {:.4f}'.format(test_loss))"
   ]
  },
  {
   "cell_type": "code",
   "execution_count": 73,
   "id": "9250808b-b978-4d1a-9f9f-def2617dde3c",
   "metadata": {
    "tags": []
   },
   "outputs": [
    {
     "name": "stdout",
     "output_type": "stream",
     "text": [
      "Train Epoch: 1 [0/60000 (0%)]\tLoss: 543.244812\n",
      "Train Epoch: 1 [1600/60000 (3%)]\tLoss: 222.569534\n",
      "Train Epoch: 1 [3200/60000 (5%)]\tLoss: 204.033539\n",
      "Train Epoch: 1 [4800/60000 (8%)]\tLoss: 165.067505\n",
      "Train Epoch: 1 [6400/60000 (11%)]\tLoss: 168.547974\n",
      "Train Epoch: 1 [8000/60000 (13%)]\tLoss: 143.615097\n",
      "Train Epoch: 1 [9600/60000 (16%)]\tLoss: 132.929901\n",
      "Train Epoch: 1 [11200/60000 (19%)]\tLoss: 156.778931\n",
      "Train Epoch: 1 [12800/60000 (21%)]\tLoss: 126.202980\n",
      "Train Epoch: 1 [14400/60000 (24%)]\tLoss: 136.198090\n",
      "Train Epoch: 1 [16000/60000 (27%)]\tLoss: 137.735611\n",
      "Train Epoch: 1 [17600/60000 (29%)]\tLoss: 144.933182\n",
      "Train Epoch: 1 [19200/60000 (32%)]\tLoss: 114.093796\n",
      "Train Epoch: 1 [20800/60000 (35%)]\tLoss: 139.265091\n",
      "Train Epoch: 1 [22400/60000 (37%)]\tLoss: 137.249222\n",
      "Train Epoch: 1 [24000/60000 (40%)]\tLoss: 138.788467\n",
      "Train Epoch: 1 [25600/60000 (43%)]\tLoss: 129.764053\n",
      "Train Epoch: 1 [27200/60000 (45%)]\tLoss: 126.012100\n",
      "Train Epoch: 1 [28800/60000 (48%)]\tLoss: 138.891541\n",
      "Train Epoch: 1 [30400/60000 (51%)]\tLoss: 116.667946\n",
      "Train Epoch: 1 [32000/60000 (53%)]\tLoss: 118.180611\n",
      "Train Epoch: 1 [33600/60000 (56%)]\tLoss: 122.866356\n",
      "Train Epoch: 1 [35200/60000 (59%)]\tLoss: 137.590836\n",
      "Train Epoch: 1 [36800/60000 (61%)]\tLoss: 135.090897\n",
      "Train Epoch: 1 [38400/60000 (64%)]\tLoss: 136.053253\n",
      "Train Epoch: 1 [40000/60000 (67%)]\tLoss: 119.483780\n",
      "Train Epoch: 1 [41600/60000 (69%)]\tLoss: 139.565735\n",
      "Train Epoch: 1 [43200/60000 (72%)]\tLoss: 136.167603\n",
      "Train Epoch: 1 [44800/60000 (75%)]\tLoss: 123.951584\n",
      "Train Epoch: 1 [46400/60000 (77%)]\tLoss: 139.259033\n",
      "Train Epoch: 1 [48000/60000 (80%)]\tLoss: 131.730011\n",
      "Train Epoch: 1 [49600/60000 (83%)]\tLoss: 112.927994\n",
      "Train Epoch: 1 [51200/60000 (85%)]\tLoss: 129.475464\n",
      "Train Epoch: 1 [52800/60000 (88%)]\tLoss: 114.033295\n",
      "Train Epoch: 1 [54400/60000 (91%)]\tLoss: 112.176537\n",
      "Train Epoch: 1 [56000/60000 (93%)]\tLoss: 122.350868\n",
      "Train Epoch: 1 [57600/60000 (96%)]\tLoss: 119.110725\n",
      "Train Epoch: 1 [59200/60000 (99%)]\tLoss: 133.565262\n",
      "====> Epoch: 1 Average loss: 137.7160\n",
      "====> Test set loss: 120.3460\n",
      "Train Epoch: 2 [0/60000 (0%)]\tLoss: 124.710564\n",
      "Train Epoch: 2 [1600/60000 (3%)]\tLoss: 118.233086\n",
      "Train Epoch: 2 [3200/60000 (5%)]\tLoss: 129.199066\n",
      "Train Epoch: 2 [4800/60000 (8%)]\tLoss: 127.076035\n",
      "Train Epoch: 2 [6400/60000 (11%)]\tLoss: 109.195755\n",
      "Train Epoch: 2 [8000/60000 (13%)]\tLoss: 136.929352\n",
      "Train Epoch: 2 [9600/60000 (16%)]\tLoss: 106.616791\n",
      "Train Epoch: 2 [11200/60000 (19%)]\tLoss: 135.847244\n",
      "Train Epoch: 2 [12800/60000 (21%)]\tLoss: 113.319992\n",
      "Train Epoch: 2 [14400/60000 (24%)]\tLoss: 136.356277\n",
      "Train Epoch: 2 [16000/60000 (27%)]\tLoss: 108.281090\n",
      "Train Epoch: 2 [17600/60000 (29%)]\tLoss: 128.949829\n",
      "Train Epoch: 2 [19200/60000 (32%)]\tLoss: 125.048096\n",
      "Train Epoch: 2 [20800/60000 (35%)]\tLoss: 109.941177\n",
      "Train Epoch: 2 [22400/60000 (37%)]\tLoss: 118.173981\n",
      "Train Epoch: 2 [24000/60000 (40%)]\tLoss: 117.269173\n",
      "Train Epoch: 2 [25600/60000 (43%)]\tLoss: 116.932297\n",
      "Train Epoch: 2 [27200/60000 (45%)]\tLoss: 117.397263\n",
      "Train Epoch: 2 [28800/60000 (48%)]\tLoss: 127.595093\n",
      "Train Epoch: 2 [30400/60000 (51%)]\tLoss: 132.793060\n",
      "Train Epoch: 2 [32000/60000 (53%)]\tLoss: 115.330673\n",
      "Train Epoch: 2 [33600/60000 (56%)]\tLoss: 120.976486\n",
      "Train Epoch: 2 [35200/60000 (59%)]\tLoss: 119.714981\n",
      "Train Epoch: 2 [36800/60000 (61%)]\tLoss: 113.934647\n",
      "Train Epoch: 2 [38400/60000 (64%)]\tLoss: 112.481995\n",
      "Train Epoch: 2 [40000/60000 (67%)]\tLoss: 109.131668\n",
      "Train Epoch: 2 [41600/60000 (69%)]\tLoss: 119.353004\n",
      "Train Epoch: 2 [43200/60000 (72%)]\tLoss: 106.963646\n",
      "Train Epoch: 2 [44800/60000 (75%)]\tLoss: 112.234116\n",
      "Train Epoch: 2 [46400/60000 (77%)]\tLoss: 119.549789\n",
      "Train Epoch: 2 [48000/60000 (80%)]\tLoss: 118.858406\n",
      "Train Epoch: 2 [49600/60000 (83%)]\tLoss: 120.554352\n",
      "Train Epoch: 2 [51200/60000 (85%)]\tLoss: 127.587242\n",
      "Train Epoch: 2 [52800/60000 (88%)]\tLoss: 111.866737\n",
      "Train Epoch: 2 [54400/60000 (91%)]\tLoss: 117.057358\n",
      "Train Epoch: 2 [56000/60000 (93%)]\tLoss: 110.218208\n",
      "Train Epoch: 2 [57600/60000 (96%)]\tLoss: 113.624870\n",
      "Train Epoch: 2 [59200/60000 (99%)]\tLoss: 111.370041\n",
      "====> Epoch: 2 Average loss: 116.5273\n",
      "====> Test set loss: 112.0578\n",
      "Train Epoch: 3 [0/60000 (0%)]\tLoss: 122.631622\n",
      "Train Epoch: 3 [1600/60000 (3%)]\tLoss: 104.062897\n",
      "Train Epoch: 3 [3200/60000 (5%)]\tLoss: 109.434135\n",
      "Train Epoch: 3 [4800/60000 (8%)]\tLoss: 120.183136\n",
      "Train Epoch: 3 [6400/60000 (11%)]\tLoss: 118.559982\n",
      "Train Epoch: 3 [8000/60000 (13%)]\tLoss: 111.745895\n",
      "Train Epoch: 3 [9600/60000 (16%)]\tLoss: 117.852837\n",
      "Train Epoch: 3 [11200/60000 (19%)]\tLoss: 112.229431\n",
      "Train Epoch: 3 [12800/60000 (21%)]\tLoss: 111.003387\n",
      "Train Epoch: 3 [14400/60000 (24%)]\tLoss: 104.237724\n",
      "Train Epoch: 3 [16000/60000 (27%)]\tLoss: 110.028778\n",
      "Train Epoch: 3 [17600/60000 (29%)]\tLoss: 107.424225\n",
      "Train Epoch: 3 [19200/60000 (32%)]\tLoss: 128.877136\n",
      "Train Epoch: 3 [20800/60000 (35%)]\tLoss: 99.587639\n",
      "Train Epoch: 3 [22400/60000 (37%)]\tLoss: 97.957474\n",
      "Train Epoch: 3 [24000/60000 (40%)]\tLoss: 136.912231\n",
      "Train Epoch: 3 [25600/60000 (43%)]\tLoss: 108.678635\n",
      "Train Epoch: 3 [27200/60000 (45%)]\tLoss: 128.402283\n",
      "Train Epoch: 3 [28800/60000 (48%)]\tLoss: 104.666962\n",
      "Train Epoch: 3 [30400/60000 (51%)]\tLoss: 111.634743\n",
      "Train Epoch: 3 [32000/60000 (53%)]\tLoss: 106.719788\n",
      "Train Epoch: 3 [33600/60000 (56%)]\tLoss: 105.026009\n",
      "Train Epoch: 3 [35200/60000 (59%)]\tLoss: 114.516830\n",
      "Train Epoch: 3 [36800/60000 (61%)]\tLoss: 112.981956\n",
      "Train Epoch: 3 [38400/60000 (64%)]\tLoss: 119.042557\n",
      "Train Epoch: 3 [40000/60000 (67%)]\tLoss: 102.643860\n",
      "Train Epoch: 3 [41600/60000 (69%)]\tLoss: 115.632492\n",
      "Train Epoch: 3 [43200/60000 (72%)]\tLoss: 110.545250\n",
      "Train Epoch: 3 [44800/60000 (75%)]\tLoss: 113.458588\n",
      "Train Epoch: 3 [46400/60000 (77%)]\tLoss: 111.678749\n",
      "Train Epoch: 3 [48000/60000 (80%)]\tLoss: 111.555740\n",
      "Train Epoch: 3 [49600/60000 (83%)]\tLoss: 113.981995\n",
      "Train Epoch: 3 [51200/60000 (85%)]\tLoss: 100.143761\n",
      "Train Epoch: 3 [52800/60000 (88%)]\tLoss: 95.599945\n",
      "Train Epoch: 3 [54400/60000 (91%)]\tLoss: 112.987534\n",
      "Train Epoch: 3 [56000/60000 (93%)]\tLoss: 103.475502\n",
      "Train Epoch: 3 [57600/60000 (96%)]\tLoss: 112.834488\n",
      "Train Epoch: 3 [59200/60000 (99%)]\tLoss: 119.882301\n",
      "====> Epoch: 3 Average loss: 111.3752\n",
      "====> Test set loss: 109.9166\n",
      "Train Epoch: 4 [0/60000 (0%)]\tLoss: 101.958649\n",
      "Train Epoch: 4 [1600/60000 (3%)]\tLoss: 100.470413\n",
      "Train Epoch: 4 [3200/60000 (5%)]\tLoss: 102.350372\n",
      "Train Epoch: 4 [4800/60000 (8%)]\tLoss: 100.988861\n",
      "Train Epoch: 4 [6400/60000 (11%)]\tLoss: 105.290207\n",
      "Train Epoch: 4 [8000/60000 (13%)]\tLoss: 113.770859\n",
      "Train Epoch: 4 [9600/60000 (16%)]\tLoss: 114.887947\n",
      "Train Epoch: 4 [11200/60000 (19%)]\tLoss: 125.528397\n",
      "Train Epoch: 4 [12800/60000 (21%)]\tLoss: 113.505219\n",
      "Train Epoch: 4 [14400/60000 (24%)]\tLoss: 115.327950\n",
      "Train Epoch: 4 [16000/60000 (27%)]\tLoss: 104.926071\n",
      "Train Epoch: 4 [17600/60000 (29%)]\tLoss: 110.769562\n",
      "Train Epoch: 4 [19200/60000 (32%)]\tLoss: 125.313385\n",
      "Train Epoch: 4 [20800/60000 (35%)]\tLoss: 130.682373\n",
      "Train Epoch: 4 [22400/60000 (37%)]\tLoss: 113.463943\n",
      "Train Epoch: 4 [24000/60000 (40%)]\tLoss: 116.682297\n",
      "Train Epoch: 4 [25600/60000 (43%)]\tLoss: 103.692818\n",
      "Train Epoch: 4 [27200/60000 (45%)]\tLoss: 123.094589\n",
      "Train Epoch: 4 [28800/60000 (48%)]\tLoss: 122.268112\n",
      "Train Epoch: 4 [30400/60000 (51%)]\tLoss: 121.704361\n",
      "Train Epoch: 4 [32000/60000 (53%)]\tLoss: 99.152885\n",
      "Train Epoch: 4 [33600/60000 (56%)]\tLoss: 110.849060\n",
      "Train Epoch: 4 [35200/60000 (59%)]\tLoss: 122.795410\n",
      "Train Epoch: 4 [36800/60000 (61%)]\tLoss: 116.420135\n",
      "Train Epoch: 4 [38400/60000 (64%)]\tLoss: 105.066086\n",
      "Train Epoch: 4 [40000/60000 (67%)]\tLoss: 83.405853\n",
      "Train Epoch: 4 [41600/60000 (69%)]\tLoss: 110.483528\n",
      "Train Epoch: 4 [43200/60000 (72%)]\tLoss: 121.159035\n",
      "Train Epoch: 4 [44800/60000 (75%)]\tLoss: 111.075111\n",
      "Train Epoch: 4 [46400/60000 (77%)]\tLoss: 104.434052\n",
      "Train Epoch: 4 [48000/60000 (80%)]\tLoss: 110.399139\n",
      "Train Epoch: 4 [49600/60000 (83%)]\tLoss: 123.602814\n",
      "Train Epoch: 4 [51200/60000 (85%)]\tLoss: 96.922791\n",
      "Train Epoch: 4 [52800/60000 (88%)]\tLoss: 116.577957\n",
      "Train Epoch: 4 [54400/60000 (91%)]\tLoss: 99.148010\n",
      "Train Epoch: 4 [56000/60000 (93%)]\tLoss: 101.586304\n",
      "Train Epoch: 4 [57600/60000 (96%)]\tLoss: 116.756470\n",
      "Train Epoch: 4 [59200/60000 (99%)]\tLoss: 105.024406\n",
      "====> Epoch: 4 Average loss: 109.2711\n",
      "====> Test set loss: 108.4647\n"
     ]
    },
    {
     "data": {
      "image/png": "[encoded data removed]",
      "text/plain": [
       "<Figure size 640x480 with 1 Axes>"
      ]
     },
     "metadata": {},
     "output_type": "display_data"
    },
    {
     "data": {
      "application/javascript": [
       "\n",
       "            setTimeout(function() {\n",
       "                var nbb_cell_id = 73;\n",
       "                var nbb_unformatted_code = \"#%%\\nfor epoch in range(1, 5):\\n    train(epoch)\\n    test()\\n# %%\\nimport matplotlib.pyplot as plt\\nz = torch.randn(64, 16)\\nsample = vae.decoder(z).detach()\\nplt.imshow(sample.view(64, 1, 28, 28)[2].permute(1, 2, 0)  )\\n#%%\\nfor batch_idx, (data, _) in enumerate(train_loader):\\n    data = data.to(DEVICE)\\n    optimizer.zero_grad()\\n    \\n    recon_batch, latent = vae(data)\\n    \\n    break\\n#%%\\n\\nprior = MultivariateNormal(loc = torch.zeros(latent.mean.shape[1]),\\n                           scale_tril=torch.eye(latent.mean.shape[1]))\\n\\nBCE = F.binary_cross_entropy(recon_batch, data.view(-1, 784), reduction='none')\\nKLD = kl_divergence(latent, prior)\";\n",
       "                var nbb_formatted_code = \"# %%\\nfor epoch in range(1, 5):\\n    train(epoch)\\n    test()\\n# %%\\nimport matplotlib.pyplot as plt\\n\\nz = torch.randn(64, 16)\\nsample = vae.decoder(z).detach()\\nplt.imshow(sample.view(64, 1, 28, 28)[2].permute(1, 2, 0))\\n# %%\\nfor batch_idx, (data, _) in enumerate(train_loader):\\n    data = data.to(DEVICE)\\n    optimizer.zero_grad()\\n\\n    recon_batch, latent = vae(data)\\n\\n    break\\n# %%\\n\\nprior = MultivariateNormal(\\n    loc=torch.zeros(latent.mean.shape[1]), scale_tril=torch.eye(latent.mean.shape[1])\\n)\\n\\nBCE = F.binary_cross_entropy(recon_batch, data.view(-1, 784), reduction=\\\"none\\\")\\nKLD = kl_divergence(latent, prior)\";\n",
       "                var nbb_cells = Jupyter.notebook.get_cells();\n",
       "                for (var i = 0; i < nbb_cells.length; ++i) {\n",
       "                    if (nbb_cells[i].input_prompt_number == nbb_cell_id) {\n",
       "                        if (nbb_cells[i].get_text() == nbb_unformatted_code) {\n",
       "                             nbb_cells[i].set_text(nbb_formatted_code);\n",
       "                        }\n",
       "                        break;\n",
       "                    }\n",
       "                }\n",
       "            }, 500);\n",
       "            "
      ],
      "text/plain": [
       "<IPython.core.display.Javascript object>"
      ]
     },
     "metadata": {},
     "output_type": "display_data"
    }
   ],
   "source": [
    "#%%\n",
    "for epoch in range(1, 5):\n",
    "    train(epoch)\n",
    "    test()\n",
    "# %%\n",
    "import matplotlib.pyplot as plt\n",
    "z = torch.randn(64, 16)\n",
    "sample = vae.decoder(z).detach()\n",
    "plt.imshow(sample.view(64, 1, 28, 28)[2].permute(1, 2, 0)  )\n",
    "#%%\n",
    "for batch_idx, (data, _) in enumerate(train_loader):\n",
    "    data = data.to(DEVICE)\n",
    "    optimizer.zero_grad()\n",
    "    \n",
    "    recon_batch, latent = vae(data)\n",
    "    \n",
    "    break\n",
    "#%%\n",
    "\n",
    "prior = MultivariateNormal(loc = torch.zeros(latent.mean.shape[1]),\n",
    "                           scale_tril=torch.eye(latent.mean.shape[1]))\n",
    "\n",
    "BCE = F.binary_cross_entropy(recon_batch, data.view(-1, 784), reduction='none')\n",
    "KLD = kl_divergence(latent, prior)"
   ]
  },
  {
   "cell_type": "code",
   "execution_count": 74,
   "id": "40673fb4-6552-437f-a472-d78c4374a776",
   "metadata": {
    "tags": []
   },
   "outputs": [
    {
     "data": {
      "text/plain": [
       "<matplotlib.image.AxesImage at 0x167899b90>"
      ]
     },
     "execution_count": 74,
     "metadata": {},
     "output_type": "execute_result"
    },
    {
     "data": {
      "image/png": "[encoded data removed]",
      "text/plain": [
       "<Figure size 640x480 with 2 Axes>"
      ]
     },
     "metadata": {},
     "output_type": "display_data"
    },
    {
     "data": {
      "application/javascript": [
       "\n",
       "            setTimeout(function() {\n",
       "                var nbb_cell_id = 74;\n",
       "                var nbb_unformatted_code = \"# %%\\nidx = 4\\nax = plt.subplot(2,1,1)\\nplt.imshow(data[idx,:].permute(1, 2, 0)  )\\nax = plt.subplot(2,1,2)\\nplt.imshow(recon_batch.detach().view(16, 1, 28, 28)[idx].permute(1, 2, 0))\\n\\n# %%\";\n",
       "                var nbb_formatted_code = \"# %%\\nidx = 4\\nax = plt.subplot(2, 1, 1)\\nplt.imshow(data[idx, :].permute(1, 2, 0))\\nax = plt.subplot(2, 1, 2)\\nplt.imshow(recon_batch.detach().view(16, 1, 28, 28)[idx].permute(1, 2, 0))\\n\\n# %%\";\n",
       "                var nbb_cells = Jupyter.notebook.get_cells();\n",
       "                for (var i = 0; i < nbb_cells.length; ++i) {\n",
       "                    if (nbb_cells[i].input_prompt_number == nbb_cell_id) {\n",
       "                        if (nbb_cells[i].get_text() == nbb_unformatted_code) {\n",
       "                             nbb_cells[i].set_text(nbb_formatted_code);\n",
       "                        }\n",
       "                        break;\n",
       "                    }\n",
       "                }\n",
       "            }, 500);\n",
       "            "
      ],
      "text/plain": [
       "<IPython.core.display.Javascript object>"
      ]
     },
     "metadata": {},
     "output_type": "display_data"
    }
   ],
   "source": [
    "# %%\n",
    "idx = 4\n",
    "ax = plt.subplot(2,1,1)\n",
    "plt.imshow(data[idx,:].permute(1, 2, 0)  )\n",
    "ax = plt.subplot(2,1,2)\n",
    "plt.imshow(recon_batch.detach().view(16, 1, 28, 28)[idx].permute(1, 2, 0))\n",
    "\n",
    "# %%"
   ]
  },
  {
   "cell_type": "markdown",
   "id": "e2eef8a0-96d3-4272-9c16-c844db9e9966",
   "metadata": {
    "tags": []
   },
   "source": [
    "Permute some pixals of an image"
   ]
  },
  {
   "cell_type": "code",
   "execution_count": 75,
   "id": "ed3073ec-28fc-4334-b8c8-6c3d72875054",
   "metadata": {
    "tags": []
   },
   "outputs": [
    {
     "data": {
      "application/javascript": [
       "\n",
       "            setTimeout(function() {\n",
       "                var nbb_cell_id = 75;\n",
       "                var nbb_unformatted_code = \"\\n# Get the dimensions of the image tensor\\nC, H, W = data[1].shape\\n\\n# Define the number of pixels to permute and randomly select pixel indices\\nnum_pixels_to_permute = int(H*W*0.4) # permute only 50% of pixels\\nperm_indices = torch.randperm(H*W)[:num_pixels_to_permute]\\n\\n# Define the subset of pixels to be permuted\\nsubset_indices = torch.randperm(num_pixels_to_permute)[:num_pixels_to_permute//2]\\n\\n# Create a tensor to hold the permutation order for the selected pixels\\nperm_order = torch.randperm(num_pixels_to_permute//2)\\n\\n# Flatten the image tensor and permute the selected pixels\\nflat_img_tensor = data[1].detach().clone().view(C, H*W)\\nflat_img_tensor[:, perm_indices[subset_indices]] = flat_img_tensor[:, perm_indices[subset_indices[perm_order]]]\\n\\n# Reshape the permuted tensor back to its original shape\\npermuted_img_tensor = flat_img_tensor.view(C, H, W)\";\n",
       "                var nbb_formatted_code = \"# Get the dimensions of the image tensor\\nC, H, W = data[1].shape\\n\\n# Define the number of pixels to permute and randomly select pixel indices\\nnum_pixels_to_permute = int(H * W * 0.4)  # permute only 50% of pixels\\nperm_indices = torch.randperm(H * W)[:num_pixels_to_permute]\\n\\n# Define the subset of pixels to be permuted\\nsubset_indices = torch.randperm(num_pixels_to_permute)[: num_pixels_to_permute // 2]\\n\\n# Create a tensor to hold the permutation order for the selected pixels\\nperm_order = torch.randperm(num_pixels_to_permute // 2)\\n\\n# Flatten the image tensor and permute the selected pixels\\nflat_img_tensor = data[1].detach().clone().view(C, H * W)\\nflat_img_tensor[:, perm_indices[subset_indices]] = flat_img_tensor[\\n    :, perm_indices[subset_indices[perm_order]]\\n]\\n\\n# Reshape the permuted tensor back to its original shape\\npermuted_img_tensor = flat_img_tensor.view(C, H, W)\";\n",
       "                var nbb_cells = Jupyter.notebook.get_cells();\n",
       "                for (var i = 0; i < nbb_cells.length; ++i) {\n",
       "                    if (nbb_cells[i].input_prompt_number == nbb_cell_id) {\n",
       "                        if (nbb_cells[i].get_text() == nbb_unformatted_code) {\n",
       "                             nbb_cells[i].set_text(nbb_formatted_code);\n",
       "                        }\n",
       "                        break;\n",
       "                    }\n",
       "                }\n",
       "            }, 500);\n",
       "            "
      ],
      "text/plain": [
       "<IPython.core.display.Javascript object>"
      ]
     },
     "metadata": {},
     "output_type": "display_data"
    }
   ],
   "source": [
    "\n",
    "# Get the dimensions of the image tensor\n",
    "C, H, W = data[1].shape\n",
    "\n",
    "# Define the number of pixels to permute and randomly select pixel indices\n",
    "num_pixels_to_permute = int(H*W*0.4) # permute only 50% of pixels\n",
    "perm_indices = torch.randperm(H*W)[:num_pixels_to_permute]\n",
    "\n",
    "# Define the subset of pixels to be permuted\n",
    "subset_indices = torch.randperm(num_pixels_to_permute)[:num_pixels_to_permute//2]\n",
    "\n",
    "# Create a tensor to hold the permutation order for the selected pixels\n",
    "perm_order = torch.randperm(num_pixels_to_permute//2)\n",
    "\n",
    "# Flatten the image tensor and permute the selected pixels\n",
    "flat_img_tensor = data[1].detach().clone().view(C, H*W)\n",
    "flat_img_tensor[:, perm_indices[subset_indices]] = flat_img_tensor[:, perm_indices[subset_indices[perm_order]]]\n",
    "\n",
    "# Reshape the permuted tensor back to its original shape\n",
    "permuted_img_tensor = flat_img_tensor.view(C, H, W)\n",
    "\n"
   ]
  },
  {
   "cell_type": "code",
   "execution_count": 76,
   "id": "86304756-270b-40e8-b8ee-630758835f80",
   "metadata": {
    "tags": []
   },
   "outputs": [
    {
     "data": {
      "application/javascript": [
       "\n",
       "            setTimeout(function() {\n",
       "                var nbb_cell_id = 76;\n",
       "                var nbb_unformatted_code = \"recon_test_orig, latent_test_orig = vae(data[1])\";\n",
       "                var nbb_formatted_code = \"recon_test_orig, latent_test_orig = vae(data[1])\";\n",
       "                var nbb_cells = Jupyter.notebook.get_cells();\n",
       "                for (var i = 0; i < nbb_cells.length; ++i) {\n",
       "                    if (nbb_cells[i].input_prompt_number == nbb_cell_id) {\n",
       "                        if (nbb_cells[i].get_text() == nbb_unformatted_code) {\n",
       "                             nbb_cells[i].set_text(nbb_formatted_code);\n",
       "                        }\n",
       "                        break;\n",
       "                    }\n",
       "                }\n",
       "            }, 500);\n",
       "            "
      ],
      "text/plain": [
       "<IPython.core.display.Javascript object>"
      ]
     },
     "metadata": {},
     "output_type": "display_data"
    }
   ],
   "source": [
    "recon_test_orig, latent_test_orig = vae(data[1])"
   ]
  },
  {
   "cell_type": "code",
   "execution_count": 77,
   "id": "7357d9b5-ee76-455b-baea-429c4d8cea79",
   "metadata": {
    "tags": []
   },
   "outputs": [
    {
     "data": {
      "application/javascript": [
       "\n",
       "            setTimeout(function() {\n",
       "                var nbb_cell_id = 77;\n",
       "                var nbb_unformatted_code = \"recon_test, latent_test = vae(permuted_img_tensor)\";\n",
       "                var nbb_formatted_code = \"recon_test, latent_test = vae(permuted_img_tensor)\";\n",
       "                var nbb_cells = Jupyter.notebook.get_cells();\n",
       "                for (var i = 0; i < nbb_cells.length; ++i) {\n",
       "                    if (nbb_cells[i].input_prompt_number == nbb_cell_id) {\n",
       "                        if (nbb_cells[i].get_text() == nbb_unformatted_code) {\n",
       "                             nbb_cells[i].set_text(nbb_formatted_code);\n",
       "                        }\n",
       "                        break;\n",
       "                    }\n",
       "                }\n",
       "            }, 500);\n",
       "            "
      ],
      "text/plain": [
       "<IPython.core.display.Javascript object>"
      ]
     },
     "metadata": {},
     "output_type": "display_data"
    }
   ],
   "source": [
    "recon_test, latent_test = vae(permuted_img_tensor)"
   ]
  },
  {
   "cell_type": "code",
   "execution_count": 78,
   "id": "ec55a29e-bc2f-4f59-8e84-e3559247dc45",
   "metadata": {
    "tags": []
   },
   "outputs": [
    {
     "data": {
      "text/plain": [
       "<matplotlib.image.AxesImage at 0x169eb3550>"
      ]
     },
     "execution_count": 78,
     "metadata": {},
     "output_type": "execute_result"
    },
    {
     "data": {
      "image/png": "[encoded data removed]",
      "text/plain": [
       "<Figure size 640x480 with 1 Axes>"
      ]
     },
     "metadata": {},
     "output_type": "display_data"
    },
    {
     "data": {
      "application/javascript": [
       "\n",
       "            setTimeout(function() {\n",
       "                var nbb_cell_id = 78;\n",
       "                var nbb_unformatted_code = \"plt.imshow(permuted_img_tensor.detach().view(1, 28, 28).permute(1, 2, 0))\";\n",
       "                var nbb_formatted_code = \"plt.imshow(permuted_img_tensor.detach().view(1, 28, 28).permute(1, 2, 0))\";\n",
       "                var nbb_cells = Jupyter.notebook.get_cells();\n",
       "                for (var i = 0; i < nbb_cells.length; ++i) {\n",
       "                    if (nbb_cells[i].input_prompt_number == nbb_cell_id) {\n",
       "                        if (nbb_cells[i].get_text() == nbb_unformatted_code) {\n",
       "                             nbb_cells[i].set_text(nbb_formatted_code);\n",
       "                        }\n",
       "                        break;\n",
       "                    }\n",
       "                }\n",
       "            }, 500);\n",
       "            "
      ],
      "text/plain": [
       "<IPython.core.display.Javascript object>"
      ]
     },
     "metadata": {},
     "output_type": "display_data"
    }
   ],
   "source": [
    "plt.imshow(permuted_img_tensor.detach().view(1, 28, 28).permute(1, 2, 0))"
   ]
  },
  {
   "cell_type": "code",
   "execution_count": 79,
   "id": "4de0bf06-5ce5-4a62-9c96-37c487c8da9e",
   "metadata": {
    "tags": []
   },
   "outputs": [
    {
     "data": {
      "text/plain": [
       "<matplotlib.image.AxesImage at 0x10819aad0>"
      ]
     },
     "execution_count": 79,
     "metadata": {},
     "output_type": "execute_result"
    },
    {
     "data": {
      "image/png": "[encoded data removed]",
      "text/plain": [
       "<Figure size 640x480 with 1 Axes>"
      ]
     },
     "metadata": {},
     "output_type": "display_data"
    },
    {
     "data": {
      "application/javascript": [
       "\n",
       "            setTimeout(function() {\n",
       "                var nbb_cell_id = 79;\n",
       "                var nbb_unformatted_code = \"plt.imshow(recon_test.detach().view(1, 28, 28).permute(1, 2, 0))\";\n",
       "                var nbb_formatted_code = \"plt.imshow(recon_test.detach().view(1, 28, 28).permute(1, 2, 0))\";\n",
       "                var nbb_cells = Jupyter.notebook.get_cells();\n",
       "                for (var i = 0; i < nbb_cells.length; ++i) {\n",
       "                    if (nbb_cells[i].input_prompt_number == nbb_cell_id) {\n",
       "                        if (nbb_cells[i].get_text() == nbb_unformatted_code) {\n",
       "                             nbb_cells[i].set_text(nbb_formatted_code);\n",
       "                        }\n",
       "                        break;\n",
       "                    }\n",
       "                }\n",
       "            }, 500);\n",
       "            "
      ],
      "text/plain": [
       "<IPython.core.display.Javascript object>"
      ]
     },
     "metadata": {},
     "output_type": "display_data"
    }
   ],
   "source": [
    "plt.imshow(recon_test.detach().view(1, 28, 28).permute(1, 2, 0))"
   ]
  },
  {
   "cell_type": "code",
   "execution_count": 80,
   "id": "286bb8d3-846d-4dc3-b4f6-0d25284a35f8",
   "metadata": {
    "tags": []
   },
   "outputs": [
    {
     "data": {
      "text/plain": [
       "<matplotlib.image.AxesImage at 0x10800ec10>"
      ]
     },
     "execution_count": 80,
     "metadata": {},
     "output_type": "execute_result"
    },
    {
     "data": {
      "image/png": "[encoded data removed]",
      "text/plain": [
       "<Figure size 640x480 with 1 Axes>"
      ]
     },
     "metadata": {},
     "output_type": "display_data"
    },
    {
     "data": {
      "application/javascript": [
       "\n",
       "            setTimeout(function() {\n",
       "                var nbb_cell_id = 80;\n",
       "                var nbb_unformatted_code = \"plt.imshow(recon_test_orig.detach().view(1, 28, 28).permute(1, 2, 0))\";\n",
       "                var nbb_formatted_code = \"plt.imshow(recon_test_orig.detach().view(1, 28, 28).permute(1, 2, 0))\";\n",
       "                var nbb_cells = Jupyter.notebook.get_cells();\n",
       "                for (var i = 0; i < nbb_cells.length; ++i) {\n",
       "                    if (nbb_cells[i].input_prompt_number == nbb_cell_id) {\n",
       "                        if (nbb_cells[i].get_text() == nbb_unformatted_code) {\n",
       "                             nbb_cells[i].set_text(nbb_formatted_code);\n",
       "                        }\n",
       "                        break;\n",
       "                    }\n",
       "                }\n",
       "            }, 500);\n",
       "            "
      ],
      "text/plain": [
       "<IPython.core.display.Javascript object>"
      ]
     },
     "metadata": {},
     "output_type": "display_data"
    }
   ],
   "source": [
    "plt.imshow(recon_test_orig.detach().view(1, 28, 28).permute(1, 2, 0))"
   ]
  },
  {
   "cell_type": "code",
   "execution_count": null,
   "id": "31ae28a9-b906-4eb7-bd30-16cd7efd6eb0",
   "metadata": {},
   "outputs": [],
   "source": []
  },
  {
   "cell_type": "code",
   "execution_count": null,
   "id": "8bee1baa-556d-4e0e-9da9-94d8421c16b3",
   "metadata": {},
   "outputs": [],
   "source": []
  }
 ],
 "metadata": {
  "kernelspec": {
   "display_name": "Python 3 (ipykernel)",
   "language": "python",
   "name": "python3"
  },
  "language_info": {
   "codemirror_mode": {
    "name": "ipython",
    "version": 3
   },
   "file_extension": ".py",
   "mimetype": "text/x-python",
   "name": "python",
   "nbconvert_exporter": "python",
   "pygments_lexer": "ipython3",
   "version": "3.11.2"
  }
 },
 "nbformat": 4,
 "nbformat_minor": 5
}
