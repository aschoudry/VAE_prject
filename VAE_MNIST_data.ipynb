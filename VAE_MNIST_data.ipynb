{
 "cells": [
  {
   "cell_type": "code",
   "execution_count": 1,
   "id": "0f7d9c19-e2aa-4327-a51c-6db0f5d3165c",
   "metadata": {
    "tags": []
   },
   "outputs": [],
   "source": [
    "import torch\n",
    "import torch.nn as nn\n",
    "import torch.nn.functional as F\n",
    "import torch.optim as optim\n",
    "from torchvision import datasets, transforms\n",
    "from torch.autograd import Variable\n",
    "from torchvision.utils import save_image\n",
    "from torchvision.transforms import ToTensor\n",
    "import pandas as pd\n",
    "\n",
    "from torch.distributions.multivariate_normal import MultivariateNormal\n",
    "from torch.distributions.kl import kl_divergence\n",
    "import torchvision\n",
    "import numpy as np\n",
    "import seaborn as sns\n",
    "from torch.utils.data import DataLoader\n",
    "\n",
    "import torch\n",
    "from torch.utils.tensorboard import SummaryWriter\n",
    "from datetime import datetime\n",
    "import matplotlib.pyplot as plt \n",
    "writer = SummaryWriter('mnist_experiment_1')"
   ]
  },
  {
   "cell_type": "code",
   "execution_count": 2,
   "id": "239df458-66aa-4d10-87ca-93498797a68f",
   "metadata": {
    "tags": []
   },
   "outputs": [],
   "source": [
    "bs = 16\n",
    "# MNIST Dataset\n",
    "train_dataset = datasets.MNIST(\n",
    "    root=\"data\",\n",
    "    train=True,\n",
    "    download=True,\n",
    "    transform=ToTensor()\n",
    ")\n",
    "\n",
    "test_dataset = datasets.MNIST(\n",
    "    root=\"data\",\n",
    "    train=False,\n",
    "    download=True,\n",
    "    transform=ToTensor()\n",
    ")\n",
    "# Data Loader (Input Pipeline)\n",
    "train_loader = torch.utils.data.DataLoader(dataset=train_dataset, batch_size=bs, shuffle=True)\n",
    "validation_loader = torch.utils.data.DataLoader(dataset=test_dataset, batch_size=bs, shuffle=False)\n"
   ]
  },
  {
   "cell_type": "code",
   "execution_count": 3,
   "id": "5be4befb-a772-4098-8e99-48a0e6eef827",
   "metadata": {
    "tags": []
   },
   "outputs": [],
   "source": [
    "class VAE(nn.Module):\n",
    "    def __init__(self, input_dim: int, hidden_dim: list, z_dim):\n",
    "        super(VAE, self).__init__()\n",
    "        \n",
    "        self.z_dim = z_dim\n",
    "        \n",
    "        self.encoder_layers = nn.ModuleList([nn.Linear(input_dim, hidden_dim[0])])\n",
    "        self.decoder_layers = nn.ModuleList([nn.Linear(hidden_dim[0], input_dim)])\n",
    "                \n",
    "        if len(hidden_dim)>1:\n",
    "            for i in range(len(hidden_dim)-1):\n",
    "                self.encoder_layers.append(nn.Linear(hidden_dim[i], hidden_dim[i+1]))\n",
    "                self.decoder_layers.insert(0, nn.Linear(hidden_dim[i+1], hidden_dim[i]))\n",
    "                \n",
    "        self.encoder_layers.append(nn.Linear(hidden_dim[-1], 2 * z_dim))\n",
    "        self.decoder_layers.insert(0, nn.Linear(z_dim, hidden_dim[-1]))\n",
    "\n",
    "        \n",
    "    def encoder(self, x):\n",
    "        for idx, layer in enumerate(self.encoder_layers):\n",
    "            x = layer(x)\n",
    "            if idx < len(self.encoder_layers) - 1:\n",
    "                # x = F.dropout(x, 0.01)\n",
    "                x = F.relu(x)\n",
    "        return x[...,:self.z_dim], x[...,self.z_dim:] # mu, log_var\n",
    "    \n",
    "    def sampling(self, mu, log_var):\n",
    "        std = torch.exp(0.5*log_var)\n",
    "        # std = torch.abs(log_var)\n",
    "        eps = torch.randn_like(std)\n",
    "        return eps.mul(std).add_(mu) # return z sample\n",
    "        \n",
    "    def decoder(self, z):\n",
    "        for idx, layer in enumerate(self.decoder_layers):\n",
    "            z = layer(z)\n",
    "            if idx < len(self.decoder_layers) - 1:\n",
    "                # x = F.dropout(x, 0.01)\n",
    "                z = F.relu(z)\n",
    "        return torch.sigmoid(z) \n",
    "    \n",
    "    def forward(self, x):\n",
    "        mu, log_var = self.encoder(x.view(-1, 784))\n",
    "        \n",
    "    #    z = self.sampling(mu, log_var)\n",
    "        latent = MultivariateNormal(loc = mu, \n",
    "                                    scale_tril=torch.diag_embed(torch.exp(0.5*log_var)))\n",
    "        z = latent.rsample()\n",
    "           \n",
    "    #    return self.decoder(z), mu, log_var\n",
    "        return self.decoder(z), latent\n",
    "\n",
    "    @staticmethod\n",
    "    def loss_function(recon_x, x, mu, log_var):\n",
    "        BCE = F.binary_cross_entropy(recon_x, x.view(-1, 784), reduction='sum')\n",
    "        KLD = -0.5 * torch.sum(1 + log_var - mu.pow(2) - log_var.exp())\n",
    "        return BCE + KLD\n",
    "    \n",
    "    @staticmethod\n",
    "    def loss_function_dist(recon_x, x, latent):\n",
    "        prior = MultivariateNormal(loc = torch.zeros(latent.mean.shape[1]),\n",
    "                                   scale_tril=torch.eye(latent.mean.shape[1]))\n",
    "        \n",
    "        BCE = F.binary_cross_entropy(recon_x, x.view(-1, 784), reduction='sum')\n",
    "        KLD = torch.sum(kl_divergence(latent, prior))\n",
    "        return BCE + KLD"
   ]
  },
  {
   "cell_type": "code",
   "execution_count": 4,
   "id": "ccbadad3-cafe-4169-a72e-c42c3fabe247",
   "metadata": {
    "tags": []
   },
   "outputs": [],
   "source": [
    " def train_one_epoch(epoch_index, tb_writer):\n",
    "    running_loss = 0.\n",
    "    last_loss = 0.\n",
    "\n",
    "    # Here, we use enumerate(training_loader) instead of\n",
    "    # iter(training_loader) so that we can track the batch\n",
    "    # index and do some intra-epoch reporting\n",
    "    for i, (data, _) in enumerate(train_loader):\n",
    "        \n",
    "        # Every data instance \n",
    "        data = data.to(DEVICE)\n",
    "\n",
    "        # Zero your gradients for every batch!\n",
    "        optimizer.zero_grad()\n",
    "\n",
    "        # Make predictions for this batch\n",
    "        recon_batch, latent = vae(data)\n",
    "\n",
    "        # Compute the loss and its gradients\n",
    "        loss = VAE.loss_function_dist(recon_batch, data, latent)\n",
    "        loss.backward()\n",
    "\n",
    "        # Adjust learning weights\n",
    "        optimizer.step()\n",
    "\n",
    "        # Gather data and report\n",
    "        running_loss += loss.item()\n",
    "        if i % 1000 == 999:\n",
    "            last_loss = running_loss / 1000 # loss per batch\n",
    "            print('  batch {} loss: {}'.format(i + 1, last_loss))\n",
    "            tb_x = epoch_index * len(train_loader) + i + 1\n",
    "            tb_writer.add_scalar('Loss/train', last_loss, tb_x)\n",
    "            running_loss = 0.\n",
    "\n",
    "    return last_loss"
   ]
  },
  {
   "cell_type": "code",
   "execution_count": 5,
   "id": "388fda07-eff1-4746-a293-4cafe553c7a4",
   "metadata": {
    "tags": []
   },
   "outputs": [
    {
     "name": "stdout",
     "output_type": "stream",
     "text": [
      "EPOCH 1:\n",
      "  batch 1000 loss: 2653.5408569335937\n",
      "  batch 2000 loss: 2111.975783325195\n",
      "  batch 3000 loss: 1981.9452559814454\n",
      "LOSS train 1981.9452559814454 valid 1886.1077880859375\n",
      "EPOCH 2:\n",
      "  batch 1000 loss: 1873.2883171386718\n",
      "  batch 2000 loss: 1844.294562133789\n",
      "  batch 3000 loss: 1818.187509765625\n",
      "LOSS train 1818.187509765625 valid 1783.829833984375\n",
      "EPOCH 3:\n",
      "  batch 1000 loss: 1780.009139526367\n",
      "  batch 2000 loss: 1774.6178796386719\n",
      "  batch 3000 loss: 1773.1735432128905\n",
      "LOSS train 1773.1735432128905 valid 1744.57177734375\n",
      "EPOCH 4:\n",
      "  batch 1000 loss: 1752.3663713378905\n",
      "  batch 2000 loss: 1742.6551243896483\n",
      "  batch 3000 loss: 1744.9157341308594\n",
      "LOSS train 1744.9157341308594 valid 1736.61376953125\n",
      "EPOCH 5:\n",
      "  batch 1000 loss: 1731.8785642089845\n",
      "  batch 2000 loss: 1733.901626586914\n",
      "  batch 3000 loss: 1727.516564086914\n",
      "LOSS train 1727.516564086914 valid 1721.1785888671875\n",
      "EPOCH 6:\n",
      "  batch 1000 loss: 1714.5651207275391\n",
      "  batch 2000 loss: 1715.813181640625\n",
      "  batch 3000 loss: 1710.1582172851563\n",
      "LOSS train 1710.1582172851563 valid 1711.6666259765625\n",
      "EPOCH 7:\n",
      "  batch 1000 loss: 1701.8432095947267\n",
      "  batch 2000 loss: 1706.3698607177735\n",
      "  batch 3000 loss: 1703.9637801513672\n",
      "LOSS train 1703.9637801513672 valid 1701.82421875\n",
      "EPOCH 8:\n",
      "  batch 1000 loss: 1695.3084024658203\n",
      "  batch 2000 loss: 1689.0949696044922\n",
      "  batch 3000 loss: 1695.9158330078126\n",
      "LOSS train 1695.9158330078126 valid 1701.4342041015625\n",
      "EPOCH 9:\n",
      "  batch 1000 loss: 1681.652675415039\n",
      "  batch 2000 loss: 1684.7914738769532\n",
      "  batch 3000 loss: 1693.0749816894531\n",
      "LOSS train 1693.0749816894531 valid 1692.069580078125\n",
      "EPOCH 10:\n",
      "  batch 1000 loss: 1682.361235961914\n",
      "  batch 2000 loss: 1680.3045196533203\n",
      "  batch 3000 loss: 1683.7714250488282\n",
      "LOSS train 1683.7714250488282 valid 1695.0318603515625\n",
      "EPOCH 11:\n",
      "  batch 1000 loss: 1675.2337829589844\n",
      "  batch 2000 loss: 1676.4428767089844\n",
      "  batch 3000 loss: 1672.3975362548829\n",
      "LOSS train 1672.3975362548829 valid 1690.427001953125\n",
      "EPOCH 12:\n",
      "  batch 1000 loss: 1670.090982788086\n",
      "  batch 2000 loss: 1679.0802766113281\n",
      "  batch 3000 loss: 1670.0418306884765\n",
      "LOSS train 1670.0418306884765 valid 1684.5858154296875\n",
      "EPOCH 13:\n",
      "  batch 1000 loss: 1662.3788361816407\n",
      "  batch 2000 loss: 1667.3918187255858\n",
      "  batch 3000 loss: 1676.1882497558595\n",
      "LOSS train 1676.1882497558595 valid 1684.9407958984375\n",
      "EPOCH 14:\n",
      "  batch 1000 loss: 1659.1708779296875\n",
      "  batch 2000 loss: 1661.4721575927733\n",
      "  batch 3000 loss: 1667.457025024414\n",
      "LOSS train 1667.457025024414 valid 1677.4051513671875\n",
      "EPOCH 15:\n",
      "  batch 1000 loss: 1657.2581938476562\n",
      "  batch 2000 loss: 1664.6184610595703\n",
      "  batch 3000 loss: 1657.0938598632813\n",
      "LOSS train 1657.0938598632813 valid 1683.6240234375\n",
      "EPOCH 16:\n",
      "  batch 1000 loss: 1653.287598876953\n",
      "  batch 2000 loss: 1658.4733625488282\n",
      "  batch 3000 loss: 1658.9260526123046\n",
      "LOSS train 1658.9260526123046 valid 1679.4720458984375\n",
      "EPOCH 17:\n",
      "  batch 1000 loss: 1655.4219815673828\n",
      "  batch 2000 loss: 1651.6389256591797\n",
      "  batch 3000 loss: 1654.933187866211\n",
      "LOSS train 1654.933187866211 valid 1680.7625732421875\n",
      "EPOCH 18:\n",
      "  batch 1000 loss: 1650.8761472167969\n",
      "  batch 2000 loss: 1648.2086704101562\n",
      "  batch 3000 loss: 1654.948614868164\n",
      "LOSS train 1654.948614868164 valid 1679.8587646484375\n",
      "EPOCH 19:\n",
      "  batch 1000 loss: 1646.7795024414063\n",
      "  batch 2000 loss: 1644.7575295410156\n",
      "  batch 3000 loss: 1658.7890032958985\n",
      "LOSS train 1658.7890032958985 valid 1677.6048583984375\n",
      "EPOCH 20:\n",
      "  batch 1000 loss: 1651.888945678711\n",
      "  batch 2000 loss: 1647.9769678955079\n",
      "  batch 3000 loss: 1652.0102399902344\n",
      "LOSS train 1652.0102399902344 valid 1674.398681640625\n"
     ]
    }
   ],
   "source": [
    "# build model\n",
    "\n",
    "vae = VAE(input_dim=784, hidden_dim=[512, 256], z_dim=16)\n",
    "# if torch.backends.mps.is_available():\n",
    "#     DEVICE = 'mps'\n",
    "# else:\n",
    "#train_loader = torch.utils.data.DataLoader(dataset=torch.Tensor(torch.randn(30, 5000)), batch_size=100, shuffle=True)\n",
    "\n",
    "DEVICE = 'cpu'\n",
    "    \n",
    "vae.to(DEVICE)\n",
    "\n",
    "optimizer = optim.Adam(vae.parameters())\n",
    "\n",
    "\n",
    "# Initializing in a separate cell so we can easily add more epochs to the same run\n",
    "timestamp = datetime.now().strftime('%Y%m%d_%H%M%S')\n",
    "writer = SummaryWriter('runs/tcga_trainer_{}'.format(timestamp))\n",
    "epoch_number = 0\n",
    "\n",
    "EPOCHS = 20\n",
    "\n",
    "best_vloss = 1_000_000.\n",
    "\n",
    "for epoch in range(EPOCHS):\n",
    "    print('EPOCH {}:'.format(epoch_number + 1))\n",
    "\n",
    "    # Make sure gradient tracking is on, and do a pass over the data\n",
    "    vae.train(True)\n",
    "    avg_loss = train_one_epoch(epoch_number, writer)\n",
    "\n",
    "    # We don't need gradients on to do reporting\n",
    "    vae.train(False)\n",
    "\n",
    "    running_vloss = 0.0\n",
    "    for i, (vdata, _) in enumerate(validation_loader):\n",
    "        vinputs = vdata\n",
    "        voutputs, latent = vae(vinputs)\n",
    "        \n",
    "        vloss = VAE.loss_function_dist(voutputs, vinputs, latent)\n",
    "        running_vloss += vloss\n",
    "\n",
    "    avg_vloss = running_vloss / (i + 1)\n",
    "    \n",
    "    print('LOSS train {} valid {}'.format(avg_loss, avg_vloss))\n",
    "\n",
    "    # Log the running loss averaged per batch\n",
    "    # for both training and validation\n",
    "    writer.add_scalars('Training vs. Validation Loss',\n",
    "                    { 'Training' : avg_loss, 'Validation' : avg_vloss },\n",
    "                    epoch_number + 1)\n",
    "    writer.flush()\n",
    "\n",
    "    # Track best performance, and save the model's state\n",
    "    if avg_vloss < best_vloss:\n",
    "        best_vloss = avg_vloss\n",
    "        model_path = 'model_{}_{}'.format(timestamp, epoch_number)\n",
    "        #torch.save(vae.state_dict(), model_path)\n",
    "\n",
    "    epoch_number += 1"
   ]
  },
  {
   "cell_type": "code",
   "execution_count": 17,
   "id": "9250808b-b978-4d1a-9f9f-def2617dde3c",
   "metadata": {
    "tags": []
   },
   "outputs": [
    {
     "data": {
      "text/plain": [
       "<matplotlib.image.AxesImage at 0x126c77550>"
      ]
     },
     "execution_count": 17,
     "metadata": {},
     "output_type": "execute_result"
    },
    {
     "data": {
      "image/png": "[encoded data removed]",
      "text/plain": [
       "<Figure size 640x480 with 1 Axes>"
      ]
     },
     "metadata": {},
     "output_type": "display_data"
    }
   ],
   "source": [
    "# %%\n",
    "import matplotlib.pyplot as plt\n",
    "z = torch.randn(64, 16)\n",
    "sample = vae.decoder(z).detach()\n",
    "plt.imshow(sample.view(64, 1, 28, 28)[2].permute(1, 2, 0)  )"
   ]
  },
  {
   "cell_type": "code",
   "execution_count": 18,
   "id": "40673fb4-6552-437f-a472-d78c4374a776",
   "metadata": {
    "tags": []
   },
   "outputs": [
    {
     "data": {
      "text/plain": [
       "<matplotlib.image.AxesImage at 0x14a240880>"
      ]
     },
     "execution_count": 18,
     "metadata": {},
     "output_type": "execute_result"
    },
    {
     "data": {
      "image/png": "[encoded data removed]",
      "text/plain": [
       "<Figure size 640x480 with 2 Axes>"
      ]
     },
     "metadata": {},
     "output_type": "display_data"
    }
   ],
   "source": [
    "# %%\n",
    "idx = 4\n",
    "ax = plt.subplot(2,1,1)\n",
    "plt.imshow(vdata[idx,:].permute(1, 2, 0)  )\n",
    "ax = plt.subplot(2,1,2)\n",
    "plt.imshow(voutputs.detach().view(16, 1, 28, 28)[idx].permute(1, 2, 0))\n",
    "\n",
    "# %%"
   ]
  },
  {
   "cell_type": "markdown",
   "id": "e2eef8a0-96d3-4272-9c16-c844db9e9966",
   "metadata": {
    "tags": []
   },
   "source": [
    "Permute some pixals of an image"
   ]
  },
  {
   "cell_type": "code",
   "execution_count": 19,
   "id": "ed3073ec-28fc-4334-b8c8-6c3d72875054",
   "metadata": {
    "tags": []
   },
   "outputs": [],
   "source": [
    "\n",
    "# Get the dimensions of the image tensor\n",
    "C, H, W = vdata[15].shape\n",
    "\n",
    "# Define the number of pixels to permute and randomly select pixel indices\n",
    "num_pixels_to_permute = int(H*W*0.4) # permute only 50% of pixels\n",
    "perm_indices = torch.randperm(H*W)[:num_pixels_to_permute]\n",
    "\n",
    "# Define the subset of pixels to be permuted\n",
    "subset_indices = torch.randperm(num_pixels_to_permute)[:num_pixels_to_permute//2]\n",
    "\n",
    "# Create a tensor to hold the permutation order for the selected pixels\n",
    "perm_order = torch.randperm(num_pixels_to_permute//2)\n",
    "\n",
    "# Flatten the image tensor and permute the selected pixels\n",
    "flat_img_tensor = vdata[15].detach().clone().view(C, H*W)\n",
    "flat_img_tensor[:, perm_indices[subset_indices]] = flat_img_tensor[:, perm_indices[subset_indices[perm_order]]]\n",
    "\n",
    "# Reshape the permuted tensor back to its original shape\n",
    "permuted_img_tensor = flat_img_tensor.view(C, H, W)\n",
    "\n"
   ]
  },
  {
   "cell_type": "code",
   "execution_count": 20,
   "id": "86304756-270b-40e8-b8ee-630758835f80",
   "metadata": {
    "tags": []
   },
   "outputs": [],
   "source": [
    "recon_test_orig, latent_test_orig = vae(vdata[15])"
   ]
  },
  {
   "cell_type": "code",
   "execution_count": 21,
   "id": "7357d9b5-ee76-455b-baea-429c4d8cea79",
   "metadata": {
    "tags": []
   },
   "outputs": [],
   "source": [
    "recon_test, latent_test = vae(permuted_img_tensor)"
   ]
  },
  {
   "cell_type": "code",
   "execution_count": 22,
   "id": "ec55a29e-bc2f-4f59-8e84-e3559247dc45",
   "metadata": {
    "tags": []
   },
   "outputs": [
    {
     "data": {
      "text/plain": [
       "<matplotlib.image.AxesImage at 0x14a2b97c0>"
      ]
     },
     "execution_count": 22,
     "metadata": {},
     "output_type": "execute_result"
    },
    {
     "data": {
      "image/png": "[encoded data removed]",
      "text/plain": [
       "<Figure size 640x480 with 1 Axes>"
      ]
     },
     "metadata": {},
     "output_type": "display_data"
    }
   ],
   "source": [
    "plt.imshow(permuted_img_tensor.detach().view(1, 28, 28).permute(1, 2, 0))"
   ]
  },
  {
   "cell_type": "code",
   "execution_count": 23,
   "id": "4de0bf06-5ce5-4a62-9c96-37c487c8da9e",
   "metadata": {
    "tags": []
   },
   "outputs": [
    {
     "data": {
      "text/plain": [
       "<matplotlib.image.AxesImage at 0x14a32ba30>"
      ]
     },
     "execution_count": 23,
     "metadata": {},
     "output_type": "execute_result"
    },
    {
     "data": {
      "image/png": "[encoded data removed]",
      "text/plain": [
       "<Figure size 640x480 with 1 Axes>"
      ]
     },
     "metadata": {},
     "output_type": "display_data"
    }
   ],
   "source": [
    "plt.imshow(recon_test.detach().view(1, 28, 28).permute(1, 2, 0))"
   ]
  },
  {
   "cell_type": "code",
   "execution_count": 24,
   "id": "286bb8d3-846d-4dc3-b4f6-0d25284a35f8",
   "metadata": {
    "tags": []
   },
   "outputs": [
    {
     "data": {
      "text/plain": [
       "<matplotlib.image.AxesImage at 0x14a3287c0>"
      ]
     },
     "execution_count": 24,
     "metadata": {},
     "output_type": "execute_result"
    },
    {
     "data": {
      "image/png": "[encoded data removed]",
      "text/plain": [
       "<Figure size 640x480 with 1 Axes>"
      ]
     },
     "metadata": {},
     "output_type": "display_data"
    }
   ],
   "source": [
    "plt.imshow(recon_test_orig.detach().view(1, 28, 28).permute(1, 2, 0))"
   ]
  },
  {
   "cell_type": "code",
   "execution_count": 25,
   "id": "01888136-44c0-4779-8e5d-c0d202dca44b",
   "metadata": {
    "tags": []
   },
   "outputs": [],
   "source": [
    "import warnings\n",
    "warnings.filterwarnings(\"ignore\")\n",
    "# Define the number of columns\n",
    "n = 784\n",
    "\n",
    "# Create an empty Pandas dataframe\n",
    "reconstructed_df = pd.DataFrame()\n",
    "original_df = pd.DataFrame()\n",
    "\n",
    "# Add n columns to the dataframe\n",
    "for i in range(n):\n",
    "    reconstructed_df[f'Column {i+1}'] = []\n",
    "    original_df[f'Column {i+1}'] = []"
   ]
  },
  {
   "cell_type": "code",
   "execution_count": 26,
   "id": "b3d12613-334e-405d-9649-e7830a6cd270",
   "metadata": {
    "tags": []
   },
   "outputs": [],
   "source": [
    "BCE_loss = []\n",
    "KLD_loss = []\n",
    "MSE_loss = []\n",
    "\n",
    "for (vdata, _) in validation_loader:\n",
    "    \n",
    "    for i in vdata:\n",
    "        reconstructed_df = reconstructed_df.append(\n",
    "            pd.DataFrame(vae.forward(i)[0].detach().numpy(), \n",
    "                         columns=reconstructed_df.columns), ignore_index=True)\n",
    "\n",
    "        original_df = original_df.append(pd.DataFrame(i.view(-1,784).numpy(), \n",
    "                                                      columns=original_df.columns), ignore_index=True)\n",
    "        \n",
    "        BCE_loss.append(F.binary_cross_entropy(vae.forward(i)[0], i.view(-1,784), reduction='sum').cpu().detach().item())\n",
    "        MSE_loss.append(F.mse_loss(vae.forward(i)[0], i.view(-1,784), reduction='sum').cpu().detach().item())\n",
    "        \n",
    "        prior = MultivariateNormal(loc = torch.zeros(vae.forward(i)[1].mean.shape[1]),\n",
    "                                   scale_tril=torch.eye(vae.forward(i)[1].mean.shape[1]))\n",
    "        KLD_loss.append(torch.sum(kl_divergence(vae.forward(i)[1], prior)).item())\n",
    "        \n"
   ]
  },
  {
   "cell_type": "code",
   "execution_count": 32,
   "id": "08fb6fcf-c5c3-4fb8-ae99-0d9a9290251e",
   "metadata": {
    "tags": []
   },
   "outputs": [],
   "source": [
    "reconstruction_fidelity = reconstructed_df - original_df"
   ]
  },
  {
   "cell_type": "code",
   "execution_count": 33,
   "id": "feab856e-6c1c-45d0-8577-4e6a2f3e9167",
   "metadata": {
    "tags": []
   },
   "outputs": [],
   "source": [
    "mnist_mean = reconstruction_fidelity.mean(axis=0)"
   ]
  },
  {
   "cell_type": "code",
   "execution_count": 34,
   "id": "f4634d8b-fce6-4872-bb1f-9c7662e6657e",
   "metadata": {
    "tags": []
   },
   "outputs": [],
   "source": [
    "mnist_abssum = reconstruction_fidelity.abs().sum(axis=0).divide(reconstructed_df.shape[0])"
   ]
  },
  {
   "cell_type": "code",
   "execution_count": 35,
   "id": "ec5bfc56-c43a-4b67-9c1d-9a169714f846",
   "metadata": {
    "tags": []
   },
   "outputs": [],
   "source": [
    "summary = pd.DataFrame([mnist_mean, mnist_abssum], index=['mean', 'abs(sum)']).T"
   ]
  },
  {
   "cell_type": "code",
   "execution_count": 36,
   "id": "4a70553e-693b-49d8-b2df-f5b7eca00fa5",
   "metadata": {
    "tags": []
   },
   "outputs": [
    {
     "data": {
      "text/html": [
       "<div>\n",
       "<style scoped>\n",
       "    .dataframe tbody tr th:only-of-type {\n",
       "        vertical-align: middle;\n",
       "    }\n",
       "\n",
       "    .dataframe tbody tr th {\n",
       "        vertical-align: top;\n",
       "    }\n",
       "\n",
       "    .dataframe thead th {\n",
       "        text-align: right;\n",
       "    }\n",
       "</style>\n",
       "<table border=\"1\" class=\"dataframe\">\n",
       "  <thead>\n",
       "    <tr style=\"text-align: right;\">\n",
       "      <th></th>\n",
       "      <th>mean</th>\n",
       "      <th>abs(sum)</th>\n",
       "    </tr>\n",
       "  </thead>\n",
       "  <tbody>\n",
       "    <tr>\n",
       "      <th>Column 214</th>\n",
       "      <td>0.020467</td>\n",
       "      <td>0.153673</td>\n",
       "    </tr>\n",
       "    <tr>\n",
       "      <th>Column 213</th>\n",
       "      <td>0.027275</td>\n",
       "      <td>0.150023</td>\n",
       "    </tr>\n",
       "    <tr>\n",
       "      <th>Column 242</th>\n",
       "      <td>0.013968</td>\n",
       "      <td>0.149621</td>\n",
       "    </tr>\n",
       "    <tr>\n",
       "      <th>Column 212</th>\n",
       "      <td>0.026589</td>\n",
       "      <td>0.148161</td>\n",
       "    </tr>\n",
       "    <tr>\n",
       "      <th>Column 241</th>\n",
       "      <td>0.028068</td>\n",
       "      <td>0.147724</td>\n",
       "    </tr>\n",
       "  </tbody>\n",
       "</table>\n",
       "</div>"
      ],
      "text/plain": [
       "                mean  abs(sum)\n",
       "Column 214  0.020467  0.153673\n",
       "Column 213  0.027275  0.150023\n",
       "Column 242  0.013968  0.149621\n",
       "Column 212  0.026589  0.148161\n",
       "Column 241  0.028068  0.147724"
      ]
     },
     "execution_count": 36,
     "metadata": {},
     "output_type": "execute_result"
    }
   ],
   "source": [
    "summary.sort_values(by='abs(sum)', ascending=False).head()"
   ]
  },
  {
   "cell_type": "code",
   "execution_count": 37,
   "id": "e30666d0-13cd-456e-8c2d-7d88f86349bf",
   "metadata": {
    "tags": []
   },
   "outputs": [
    {
     "data": {
      "image/png": "[encoded data removed]",
      "text/plain": [
       "<Figure size 600x600 with 3 Axes>"
      ]
     },
     "metadata": {},
     "output_type": "display_data"
    }
   ],
   "source": [
    "sns.jointplot(x = 'mean', y = 'abs(sum)',\n",
    "              kind = \"scatter\", data = summary)\n",
    "plt.savefig('results/no_permute.png')"
   ]
  },
  {
   "cell_type": "code",
   "execution_count": 38,
   "id": "06b95e12-89c8-4fa0-acb2-0c85f8e1a6c4",
   "metadata": {
    "tags": []
   },
   "outputs": [],
   "source": [
    "n = 784\n",
    "\n",
    "# Create an empty Pandas dataframe\n",
    "reconstructed_permuted_30_df = pd.DataFrame()\n",
    "reconstructed_permuted_50_df = pd.DataFrame()\n",
    "reconstructed_permuted_90_df = pd.DataFrame()\n",
    "\n",
    "# Add n columns to the dataframe\n",
    "for i in range(n):\n",
    "    reconstructed_permuted_30_df[f'Column {i+1}'] = []\n",
    "    reconstructed_permuted_50_df[f'Column {i+1}'] = []\n",
    "    reconstructed_permuted_90_df[f'Column {i+1}'] = []"
   ]
  },
  {
   "cell_type": "code",
   "execution_count": 39,
   "id": "93af6ec1-5634-4b4f-a1e6-9b10ce8697f3",
   "metadata": {
    "tags": []
   },
   "outputs": [],
   "source": [
    "# Create a clone of the original DataLoader object\n",
    "validation_loader_30_permute = DataLoader(validation_loader.dataset, \n",
    "                                          batch_size=validation_loader.batch_size)\n",
    "validation_loader_50_permute = DataLoader(validation_loader.dataset, \n",
    "                                          batch_size=validation_loader.batch_size)\n",
    "validation_loader_90_permute = DataLoader(validation_loader.dataset, \n",
    "                                          batch_size=validation_loader.batch_size)"
   ]
  },
  {
   "cell_type": "code",
   "execution_count": 40,
   "id": "e70cb244-732b-4a73-b27f-21bd5c79dd03",
   "metadata": {
    "tags": []
   },
   "outputs": [],
   "source": [
    "BCE_loss_30_permute = []\n",
    "KLD_loss_30_permute = []\n",
    "MSE_loss_30_permute = []\n",
    "\n",
    "for (vdata, _) in validation_loader_30_permute:\n",
    "    \n",
    "    for i in vdata:\n",
    "    \n",
    "        # Get the dimensions of the image tensor\n",
    "        C, H, W = i.shape\n",
    "\n",
    "        # Define the number of pixels to permute and randomly select pixel indices\n",
    "        num_pixels_to_permute = int(H*W*0.3) # permute only 50% of pixels\n",
    "        perm_indices = torch.randperm(H*W)[:num_pixels_to_permute]\n",
    "\n",
    "        # Define the subset of pixels to be permuted\n",
    "        subset_indices = torch.randperm(num_pixels_to_permute)[:num_pixels_to_permute//2]\n",
    "\n",
    "        # Create a tensor to hold the permutation order for the selected pixels\n",
    "        perm_order = torch.randperm(num_pixels_to_permute//2)\n",
    "\n",
    "        # Flatten the image tensor and permute the selected pixels\n",
    "        flat_img_tensor = i.detach().clone().view(C, H*W)\n",
    "        flat_img_tensor[:, perm_indices[subset_indices]] = flat_img_tensor[:, perm_indices[subset_indices[perm_order]]]\n",
    "\n",
    "        # Reshape the permuted tensor back to its original shape\n",
    "        permuted_img_tensor = flat_img_tensor.view(C, H, W)\n",
    "\n",
    "\n",
    "        reconstructed_permuted_30_df = reconstructed_permuted_30_df.append(\n",
    "            pd.DataFrame(vae.forward(permuted_img_tensor)[0].detach().numpy(), \n",
    "                         columns=reconstructed_permuted_30_df.columns), ignore_index=True)\n",
    "        \n",
    "        BCE_loss_30_permute.append(F.binary_cross_entropy(vae.forward(permuted_img_tensor)[0], \n",
    "                                                          i.view(-1,784), reduction='sum').cpu().detach().item())\n",
    "        MSE_loss_30_permute.append(F.mse_loss(vae.forward(permuted_img_tensor)[0], \n",
    "                                              i.view(-1,784), reduction='sum').cpu().detach().item())\n",
    "        \n",
    "        prior = MultivariateNormal(loc = torch.zeros(vae.forward(permuted_img_tensor)[1].mean.shape[1]),\n",
    "                                   scale_tril=torch.eye(vae.forward(permuted_img_tensor)[1].mean.shape[1]))\n",
    "        KLD_loss_30_permute.append(torch.sum(kl_divergence(vae.forward(permuted_img_tensor)[1], prior)).item())\n",
    "        "
   ]
  },
  {
   "cell_type": "code",
   "execution_count": 41,
   "id": "a552e5c7-9451-4f3b-a0a9-f472a85c128f",
   "metadata": {
    "tags": []
   },
   "outputs": [
    {
     "ename": "KeyboardInterrupt",
     "evalue": "",
     "output_type": "error",
     "traceback": [
      "\u001b[0;31m---------------------------------------------------------------------------\u001b[0m",
      "\u001b[0;31mKeyboardInterrupt\u001b[0m                         Traceback (most recent call last)",
      "Cell \u001b[0;32mIn[41], line 39\u001b[0m\n\u001b[1;32m     34\u001b[0m BCE_loss_50_permute\u001b[38;5;241m.\u001b[39mappend(F\u001b[38;5;241m.\u001b[39mbinary_cross_entropy(vae\u001b[38;5;241m.\u001b[39mforward(permuted_img_tensor)[\u001b[38;5;241m0\u001b[39m], \n\u001b[1;32m     35\u001b[0m                                                   i\u001b[38;5;241m.\u001b[39mview(\u001b[38;5;241m-\u001b[39m\u001b[38;5;241m1\u001b[39m,\u001b[38;5;241m784\u001b[39m), reduction\u001b[38;5;241m=\u001b[39m\u001b[38;5;124m'\u001b[39m\u001b[38;5;124msum\u001b[39m\u001b[38;5;124m'\u001b[39m)\u001b[38;5;241m.\u001b[39mcpu()\u001b[38;5;241m.\u001b[39mdetach()\u001b[38;5;241m.\u001b[39mitem())\n\u001b[1;32m     36\u001b[0m MSE_loss_50_permute\u001b[38;5;241m.\u001b[39mappend(F\u001b[38;5;241m.\u001b[39mmse_loss(vae\u001b[38;5;241m.\u001b[39mforward(permuted_img_tensor)[\u001b[38;5;241m0\u001b[39m], \n\u001b[1;32m     37\u001b[0m                                       i\u001b[38;5;241m.\u001b[39mview(\u001b[38;5;241m-\u001b[39m\u001b[38;5;241m1\u001b[39m,\u001b[38;5;241m784\u001b[39m), reduction\u001b[38;5;241m=\u001b[39m\u001b[38;5;124m'\u001b[39m\u001b[38;5;124msum\u001b[39m\u001b[38;5;124m'\u001b[39m)\u001b[38;5;241m.\u001b[39mcpu()\u001b[38;5;241m.\u001b[39mdetach()\u001b[38;5;241m.\u001b[39mitem())\n\u001b[0;32m---> 39\u001b[0m prior \u001b[38;5;241m=\u001b[39m MultivariateNormal(loc \u001b[38;5;241m=\u001b[39m torch\u001b[38;5;241m.\u001b[39mzeros(\u001b[43mvae\u001b[49m\u001b[38;5;241;43m.\u001b[39;49m\u001b[43mforward\u001b[49m\u001b[43m(\u001b[49m\u001b[43mpermuted_img_tensor\u001b[49m\u001b[43m)\u001b[49m[\u001b[38;5;241m1\u001b[39m]\u001b[38;5;241m.\u001b[39mmean\u001b[38;5;241m.\u001b[39mshape[\u001b[38;5;241m1\u001b[39m]),\n\u001b[1;32m     40\u001b[0m                            scale_tril\u001b[38;5;241m=\u001b[39mtorch\u001b[38;5;241m.\u001b[39meye(vae\u001b[38;5;241m.\u001b[39mforward(permuted_img_tensor)[\u001b[38;5;241m1\u001b[39m]\u001b[38;5;241m.\u001b[39mmean\u001b[38;5;241m.\u001b[39mshape[\u001b[38;5;241m1\u001b[39m]))\n\u001b[1;32m     41\u001b[0m KLD_loss_50_permute\u001b[38;5;241m.\u001b[39mappend(torch\u001b[38;5;241m.\u001b[39msum(kl_divergence(vae\u001b[38;5;241m.\u001b[39mforward(permuted_img_tensor)[\u001b[38;5;241m1\u001b[39m], prior))\u001b[38;5;241m.\u001b[39mitem())\n",
      "Cell \u001b[0;32mIn[3], line 42\u001b[0m, in \u001b[0;36mVAE.forward\u001b[0;34m(self, x)\u001b[0m\n\u001b[1;32m     41\u001b[0m \u001b[38;5;28;01mdef\u001b[39;00m \u001b[38;5;21mforward\u001b[39m(\u001b[38;5;28mself\u001b[39m, x):\n\u001b[0;32m---> 42\u001b[0m     mu, log_var \u001b[38;5;241m=\u001b[39m \u001b[38;5;28;43mself\u001b[39;49m\u001b[38;5;241;43m.\u001b[39;49m\u001b[43mencoder\u001b[49m\u001b[43m(\u001b[49m\u001b[43mx\u001b[49m\u001b[38;5;241;43m.\u001b[39;49m\u001b[43mview\u001b[49m\u001b[43m(\u001b[49m\u001b[38;5;241;43m-\u001b[39;49m\u001b[38;5;241;43m1\u001b[39;49m\u001b[43m,\u001b[49m\u001b[43m \u001b[49m\u001b[38;5;241;43m784\u001b[39;49m\u001b[43m)\u001b[49m\u001b[43m)\u001b[49m\n\u001b[1;32m     44\u001b[0m \u001b[38;5;66;03m#    z = self.sampling(mu, log_var)\u001b[39;00m\n\u001b[1;32m     45\u001b[0m     latent \u001b[38;5;241m=\u001b[39m MultivariateNormal(loc \u001b[38;5;241m=\u001b[39m mu, \n\u001b[1;32m     46\u001b[0m                                 scale_tril\u001b[38;5;241m=\u001b[39mtorch\u001b[38;5;241m.\u001b[39mdiag_embed(torch\u001b[38;5;241m.\u001b[39mexp(\u001b[38;5;241m0.5\u001b[39m\u001b[38;5;241m*\u001b[39mlog_var)))\n",
      "Cell \u001b[0;32mIn[3], line 21\u001b[0m, in \u001b[0;36mVAE.encoder\u001b[0;34m(self, x)\u001b[0m\n\u001b[1;32m     19\u001b[0m \u001b[38;5;28;01mdef\u001b[39;00m \u001b[38;5;21mencoder\u001b[39m(\u001b[38;5;28mself\u001b[39m, x):\n\u001b[1;32m     20\u001b[0m     \u001b[38;5;28;01mfor\u001b[39;00m idx, layer \u001b[38;5;129;01min\u001b[39;00m \u001b[38;5;28menumerate\u001b[39m(\u001b[38;5;28mself\u001b[39m\u001b[38;5;241m.\u001b[39mencoder_layers):\n\u001b[0;32m---> 21\u001b[0m         x \u001b[38;5;241m=\u001b[39m \u001b[43mlayer\u001b[49m\u001b[43m(\u001b[49m\u001b[43mx\u001b[49m\u001b[43m)\u001b[49m\n\u001b[1;32m     22\u001b[0m         \u001b[38;5;28;01mif\u001b[39;00m idx \u001b[38;5;241m<\u001b[39m \u001b[38;5;28mlen\u001b[39m(\u001b[38;5;28mself\u001b[39m\u001b[38;5;241m.\u001b[39mencoder_layers) \u001b[38;5;241m-\u001b[39m \u001b[38;5;241m1\u001b[39m:\n\u001b[1;32m     23\u001b[0m             \u001b[38;5;66;03m# x = F.dropout(x, 0.01)\u001b[39;00m\n\u001b[1;32m     24\u001b[0m             x \u001b[38;5;241m=\u001b[39m F\u001b[38;5;241m.\u001b[39mrelu(x)\n",
      "File \u001b[0;32m~/VAE_prject/venv/lib/python3.9/site-packages/torch/nn/modules/module.py:1501\u001b[0m, in \u001b[0;36mModule._call_impl\u001b[0;34m(self, *args, **kwargs)\u001b[0m\n\u001b[1;32m   1496\u001b[0m \u001b[38;5;66;03m# If we don't have any hooks, we want to skip the rest of the logic in\u001b[39;00m\n\u001b[1;32m   1497\u001b[0m \u001b[38;5;66;03m# this function, and just call forward.\u001b[39;00m\n\u001b[1;32m   1498\u001b[0m \u001b[38;5;28;01mif\u001b[39;00m \u001b[38;5;129;01mnot\u001b[39;00m (\u001b[38;5;28mself\u001b[39m\u001b[38;5;241m.\u001b[39m_backward_hooks \u001b[38;5;129;01mor\u001b[39;00m \u001b[38;5;28mself\u001b[39m\u001b[38;5;241m.\u001b[39m_backward_pre_hooks \u001b[38;5;129;01mor\u001b[39;00m \u001b[38;5;28mself\u001b[39m\u001b[38;5;241m.\u001b[39m_forward_hooks \u001b[38;5;129;01mor\u001b[39;00m \u001b[38;5;28mself\u001b[39m\u001b[38;5;241m.\u001b[39m_forward_pre_hooks\n\u001b[1;32m   1499\u001b[0m         \u001b[38;5;129;01mor\u001b[39;00m _global_backward_pre_hooks \u001b[38;5;129;01mor\u001b[39;00m _global_backward_hooks\n\u001b[1;32m   1500\u001b[0m         \u001b[38;5;129;01mor\u001b[39;00m _global_forward_hooks \u001b[38;5;129;01mor\u001b[39;00m _global_forward_pre_hooks):\n\u001b[0;32m-> 1501\u001b[0m     \u001b[38;5;28;01mreturn\u001b[39;00m \u001b[43mforward_call\u001b[49m\u001b[43m(\u001b[49m\u001b[38;5;241;43m*\u001b[39;49m\u001b[43margs\u001b[49m\u001b[43m,\u001b[49m\u001b[43m \u001b[49m\u001b[38;5;241;43m*\u001b[39;49m\u001b[38;5;241;43m*\u001b[39;49m\u001b[43mkwargs\u001b[49m\u001b[43m)\u001b[49m\n\u001b[1;32m   1502\u001b[0m \u001b[38;5;66;03m# Do not call functions when jit is used\u001b[39;00m\n\u001b[1;32m   1503\u001b[0m full_backward_hooks, non_full_backward_hooks \u001b[38;5;241m=\u001b[39m [], []\n",
      "File \u001b[0;32m~/VAE_prject/venv/lib/python3.9/site-packages/torch/nn/modules/linear.py:114\u001b[0m, in \u001b[0;36mLinear.forward\u001b[0;34m(self, input)\u001b[0m\n\u001b[1;32m    113\u001b[0m \u001b[38;5;28;01mdef\u001b[39;00m \u001b[38;5;21mforward\u001b[39m(\u001b[38;5;28mself\u001b[39m, \u001b[38;5;28minput\u001b[39m: Tensor) \u001b[38;5;241m-\u001b[39m\u001b[38;5;241m>\u001b[39m Tensor:\n\u001b[0;32m--> 114\u001b[0m     \u001b[38;5;28;01mreturn\u001b[39;00m F\u001b[38;5;241m.\u001b[39mlinear(\u001b[38;5;28minput\u001b[39m, \u001b[38;5;28;43mself\u001b[39;49m\u001b[38;5;241;43m.\u001b[39;49m\u001b[43mweight\u001b[49m, \u001b[38;5;28mself\u001b[39m\u001b[38;5;241m.\u001b[39mbias)\n",
      "File \u001b[0;32m~/VAE_prject/venv/lib/python3.9/site-packages/torch/nn/modules/module.py:1601\u001b[0m, in \u001b[0;36mModule.__getattr__\u001b[0;34m(self, name)\u001b[0m\n\u001b[1;32m   1598\u001b[0m     \u001b[38;5;28;01mif\u001b[39;00m \u001b[38;5;124m'\u001b[39m\u001b[38;5;124m_backward_pre_hooks\u001b[39m\u001b[38;5;124m'\u001b[39m \u001b[38;5;129;01mnot\u001b[39;00m \u001b[38;5;129;01min\u001b[39;00m \u001b[38;5;28mself\u001b[39m\u001b[38;5;241m.\u001b[39m\u001b[38;5;18m__dict__\u001b[39m:\n\u001b[1;32m   1599\u001b[0m         \u001b[38;5;28mself\u001b[39m\u001b[38;5;241m.\u001b[39m_backward_pre_hooks \u001b[38;5;241m=\u001b[39m OrderedDict()\n\u001b[0;32m-> 1601\u001b[0m \u001b[38;5;28;01mdef\u001b[39;00m \u001b[38;5;21m__getattr__\u001b[39m(\u001b[38;5;28mself\u001b[39m, name: \u001b[38;5;28mstr\u001b[39m) \u001b[38;5;241m-\u001b[39m\u001b[38;5;241m>\u001b[39m Union[Tensor, \u001b[38;5;124m'\u001b[39m\u001b[38;5;124mModule\u001b[39m\u001b[38;5;124m'\u001b[39m]:\n\u001b[1;32m   1602\u001b[0m     \u001b[38;5;28;01mif\u001b[39;00m \u001b[38;5;124m'\u001b[39m\u001b[38;5;124m_parameters\u001b[39m\u001b[38;5;124m'\u001b[39m \u001b[38;5;129;01min\u001b[39;00m \u001b[38;5;28mself\u001b[39m\u001b[38;5;241m.\u001b[39m\u001b[38;5;18m__dict__\u001b[39m:\n\u001b[1;32m   1603\u001b[0m         _parameters \u001b[38;5;241m=\u001b[39m \u001b[38;5;28mself\u001b[39m\u001b[38;5;241m.\u001b[39m\u001b[38;5;18m__dict__\u001b[39m[\u001b[38;5;124m'\u001b[39m\u001b[38;5;124m_parameters\u001b[39m\u001b[38;5;124m'\u001b[39m]\n",
      "\u001b[0;31mKeyboardInterrupt\u001b[0m: "
     ]
    }
   ],
   "source": [
    "BCE_loss_50_permute = []\n",
    "KLD_loss_50_permute = []\n",
    "MSE_loss_50_permute = []\n",
    "\n",
    "for (vdata, _) in validation_loader_50_permute:\n",
    "    \n",
    "    for i in vdata:\n",
    "    \n",
    "        # Get the dimensions of the image tensor\n",
    "        C, H, W = i.shape\n",
    "\n",
    "        # Define the number of pixels to permute and randomly select pixel indices\n",
    "        num_pixels_to_permute = int(H*W*0.5) # permute only 50% of pixels\n",
    "        perm_indices = torch.randperm(H*W)[:num_pixels_to_permute]\n",
    "\n",
    "        # Define the subset of pixels to be permuted\n",
    "        subset_indices = torch.randperm(num_pixels_to_permute)[:num_pixels_to_permute//2]\n",
    "\n",
    "        # Create a tensor to hold the permutation order for the selected pixels\n",
    "        perm_order = torch.randperm(num_pixels_to_permute//2)\n",
    "\n",
    "        # Flatten the image tensor and permute the selected pixels\n",
    "        flat_img_tensor = i.detach().clone().view(C, H*W)\n",
    "        flat_img_tensor[:, perm_indices[subset_indices]] = flat_img_tensor[:, perm_indices[subset_indices[perm_order]]]\n",
    "\n",
    "        # Reshape the permuted tensor back to its original shape\n",
    "        permuted_img_tensor = flat_img_tensor.view(C, H, W)\n",
    "\n",
    "\n",
    "        reconstructed_permuted_50_df = reconstructed_permuted_50_df.append(\n",
    "            pd.DataFrame(vae.forward(permuted_img_tensor)[0].detach().numpy(), \n",
    "                         columns=reconstructed_permuted_50_df.columns), ignore_index=True)\n",
    "        \n",
    "        BCE_loss_50_permute.append(F.binary_cross_entropy(vae.forward(permuted_img_tensor)[0], \n",
    "                                                          i.view(-1,784), reduction='sum').cpu().detach().item())\n",
    "        MSE_loss_50_permute.append(F.mse_loss(vae.forward(permuted_img_tensor)[0], \n",
    "                                              i.view(-1,784), reduction='sum').cpu().detach().item())\n",
    "        \n",
    "        prior = MultivariateNormal(loc = torch.zeros(vae.forward(permuted_img_tensor)[1].mean.shape[1]),\n",
    "                                   scale_tril=torch.eye(vae.forward(permuted_img_tensor)[1].mean.shape[1]))\n",
    "        KLD_loss_50_permute.append(torch.sum(kl_divergence(vae.forward(permuted_img_tensor)[1], prior)).item())\n",
    "        "
   ]
  },
  {
   "cell_type": "code",
   "execution_count": null,
   "id": "032f4dcb-fe04-497d-a090-b0f8e05e5863",
   "metadata": {
    "tags": []
   },
   "outputs": [],
   "source": [
    "BCE_loss_90_permute = []\n",
    "KLD_loss_90_permute = []\n",
    "MSE_loss_90_permute = []\n",
    "for (vdata, _) in validation_loader_90_permute:\n",
    "    \n",
    "    for i in vdata:\n",
    "    \n",
    "        # Get the dimensions of the image tensor\n",
    "        C, H, W = i.shape\n",
    "\n",
    "        # Define the number of pixels to permute and randomly select pixel indices\n",
    "        num_pixels_to_permute = int(H*W*0.8) # permute only 50% of pixels\n",
    "        perm_indices = torch.randperm(H*W)[:num_pixels_to_permute]\n",
    "\n",
    "        # Define the subset of pixels to be permuted\n",
    "        subset_indices = torch.randperm(num_pixels_to_permute)[:num_pixels_to_permute//2]\n",
    "\n",
    "        # Create a tensor to hold the permutation order for the selected pixels\n",
    "        perm_order = torch.randperm(num_pixels_to_permute//2)\n",
    "\n",
    "        # Flatten the image tensor and permute the selected pixels\n",
    "        flat_img_tensor = i.detach().clone().view(C, H*W)\n",
    "        flat_img_tensor[:, perm_indices[subset_indices]] = flat_img_tensor[:, perm_indices[subset_indices[perm_order]]]\n",
    "\n",
    "        # Reshape the permuted tensor back to its original shape\n",
    "        permuted_img_tensor = flat_img_tensor.view(C, H, W)\n",
    "\n",
    "\n",
    "        reconstructed_permuted_90_df = reconstructed_permuted_90_df.append(\n",
    "            pd.DataFrame(vae.forward(permuted_img_tensor)[0].detach().numpy(), \n",
    "                         columns=reconstructed_permuted_90_df.columns), ignore_index=True)\n",
    "        \n",
    "        BCE_loss_90_permute.append(F.binary_cross_entropy(vae.forward(permuted_img_tensor)[0], \n",
    "                                                          i.view(-1,784), reduction='sum').cpu().detach().item())\n",
    "        MSE_loss_90_permute.append(F.mse_loss(vae.forward(permuted_img_tensor)[0], \n",
    "                                              i.view(-1,784), reduction='sum').cpu().detach().item())\n",
    "        \n",
    "        prior = MultivariateNormal(loc = torch.zeros(vae.forward(permuted_img_tensor)[1].mean.shape[1]),\n",
    "                                   scale_tril=torch.eye(vae.forward(permuted_img_tensor)[1].mean.shape[1]))\n",
    "        KLD_loss_90_permute.append(torch.sum(kl_divergence(vae.forward(permuted_img_tensor)[1], prior)).item())\n",
    "        "
   ]
  },
  {
   "cell_type": "code",
   "execution_count": null,
   "id": "bf7c445b-e9d5-47ec-8fc0-20e529d5e86c",
   "metadata": {
    "tags": []
   },
   "outputs": [],
   "source": [
    "reconstruction_fidelity_30 = reconstructed_permuted_30_df - original_df\n",
    "reconstruction_fidelity_50 = reconstructed_permuted_50_df - original_df\n",
    "reconstruction_fidelity_90 = reconstructed_permuted_90_df - original_df"
   ]
  },
  {
   "cell_type": "code",
   "execution_count": null,
   "id": "bce0ec1f-3083-48ae-bd6b-0d7c8b67d52d",
   "metadata": {
    "tags": []
   },
   "outputs": [],
   "source": [
    "mnist_mean_30 = reconstruction_fidelity_30.mean(axis=0)\n",
    "mnist_mean_50 = reconstruction_fidelity_50.mean(axis=0)\n",
    "mnist_mean_90 = reconstruction_fidelity_90.mean(axis=0)"
   ]
  },
  {
   "cell_type": "code",
   "execution_count": null,
   "id": "e2904f6d-b562-4025-9110-e77da59650c8",
   "metadata": {
    "tags": []
   },
   "outputs": [],
   "source": [
    "mnist_abssum_30 = reconstruction_fidelity_30.abs().sum(axis=0).divide(reconstructed_permuted_30_df.shape[0])\n",
    "mnist_abssum_50 = reconstruction_fidelity_50.abs().sum(axis=0).divide(reconstructed_permuted_50_df.shape[0])\n",
    "mnist_abssum_90 = reconstruction_fidelity_90.abs().sum(axis=0).divide(reconstructed_permuted_90_df.shape[0])"
   ]
  },
  {
   "cell_type": "code",
   "execution_count": null,
   "id": "27f6df3e-3e58-499a-97a9-078b2cde20ef",
   "metadata": {
    "tags": []
   },
   "outputs": [],
   "source": [
    "summary_30 = pd.DataFrame([mnist_mean_30, mnist_abssum_30], index=['mean', 'abs(sum)']).T\n",
    "summary_50 = pd.DataFrame([mnist_mean_50, mnist_abssum_50], index=['mean', 'abs(sum)']).T\n",
    "summary_90 = pd.DataFrame([mnist_mean_90, mnist_abssum_90], index=['mean', 'abs(sum)']).T"
   ]
  },
  {
   "cell_type": "code",
   "execution_count": null,
   "id": "388feff2-e853-4f28-9289-88fb9f08da71",
   "metadata": {
    "tags": []
   },
   "outputs": [],
   "source": [
    "summary_30.sort_values(by='abs(sum)', ascending=False).head()"
   ]
  },
  {
   "cell_type": "code",
   "execution_count": null,
   "id": "911fb6b5-ff34-43d8-a900-4c1d8aba5cbe",
   "metadata": {
    "tags": []
   },
   "outputs": [],
   "source": [
    "sns.jointplot(x = 'mean', y = 'abs(sum)',\n",
    "              kind = \"scatter\", data = summary_30)\n",
    "plt.savefig('results/30_percent_permute.png')"
   ]
  },
  {
   "cell_type": "code",
   "execution_count": null,
   "id": "41702b04-b0cf-43e3-b7b7-8b1d51a648eb",
   "metadata": {
    "tags": []
   },
   "outputs": [],
   "source": [
    "sns.jointplot(x = 'mean', y = 'abs(sum)',\n",
    "              kind = \"scatter\", data = summary_50)\n",
    "plt.savefig('results/50_percent_permute.png')"
   ]
  },
  {
   "cell_type": "code",
   "execution_count": null,
   "id": "f0400ed2-5708-4037-bbb2-a824544c26a2",
   "metadata": {
    "tags": []
   },
   "outputs": [],
   "source": [
    "sns.jointplot(x = 'mean', y = 'abs(sum)',\n",
    "              kind = \"scatter\", data = summary_90)\n",
    "plt.savefig('results/90_percent_permute.png')"
   ]
  },
  {
   "cell_type": "markdown",
   "id": "75b4c3fd-9a84-48d3-bd80-d8c23985b4c2",
   "metadata": {},
   "source": [
    "plots"
   ]
  },
  {
   "cell_type": "code",
   "execution_count": null,
   "id": "c8d2b699-d9cc-4158-b7f1-45ead2d536af",
   "metadata": {
    "tags": []
   },
   "outputs": [],
   "source": [
    "## compare the performance here\n",
    "plt.figure(figsize=(8,6))\n",
    "\n",
    "plt.scatter([0], [np.mean(BCE_loss)], c='r', s=200, alpha=.6, label=\"Mean BCE\")\n",
    "plt.scatter([1], [np.mean(BCE_loss_30_permute)], c='r', s=200, alpha=.6)\n",
    "plt.scatter([2], [np.mean(BCE_loss_50_permute)], c='r', s=200, alpha=.6)\n",
    "plt.scatter([3], [np.mean(BCE_loss_90_permute)], c='r', s=200, alpha=.6)\n",
    "\n",
    "plt.legend(fontsize=14, loc=4)\n",
    "\n",
    "plt.yticks(fontsize=12)\n",
    "plt.xticks([0,1,2,3], ['No permutation', '30% permutation', '50% permutation', '90% permutation'], fontsize=12)\n",
    "\n",
    "plt.ylabel(\"BCE loss\", fontsize=14)\n",
    "plt.show()\n",
    "plt.savefig('results/BCE_loss.png')"
   ]
  },
  {
   "cell_type": "code",
   "execution_count": null,
   "id": "c9c542e1-e03c-4cdf-9113-88ddd1a3ce49",
   "metadata": {
    "tags": []
   },
   "outputs": [],
   "source": [
    "## compare the performance here\n",
    "plt.figure(figsize=(8,6))\n",
    "\n",
    "plt.scatter([0], [np.mean(KLD_loss)], c='r', s=200, alpha=.6, label=\"Mean KLD \")\n",
    "plt.scatter([1], [np.mean(KLD_loss_30_permute)], c='r', s=200, alpha=.6)\n",
    "plt.scatter([2], [np.mean(KLD_loss_50_permute)], c='r', s=200, alpha=.6)\n",
    "plt.scatter([3], [np.mean(KLD_loss_90_permute)], c='r', s=200, alpha=.6)\n",
    "\n",
    "plt.legend(fontsize=14, loc=4)\n",
    "\n",
    "plt.yticks(fontsize=12)\n",
    "plt.xticks([0,1,2,3], ['No permutation', '30% permutation', '50% permutation', '90% permutation'], fontsize=12)\n",
    "\n",
    "plt.ylabel(\"KLD loss\", fontsize=14)\n",
    "plt.show()\n",
    "plt.savefig('results/KLD_loss.png')"
   ]
  },
  {
   "cell_type": "code",
   "execution_count": null,
   "id": "45937f89-1636-4458-aa67-680c0d56302d",
   "metadata": {
    "tags": []
   },
   "outputs": [],
   "source": [
    "## compare the performance here\n",
    "plt.figure(figsize=(8,6))\n",
    "\n",
    "plt.scatter([0], [np.mean(MSE_loss)], c='r', s=200, alpha=.6, label=\"Mean MSE\")\n",
    "plt.scatter([1], [np.mean(MSE_loss_30_permute)], c='r', s=200, alpha=.6)\n",
    "plt.scatter([2], [np.mean(MSE_loss_50_permute)], c='r', s=200, alpha=.6)\n",
    "plt.scatter([3], [np.mean(MSE_loss_90_permute)], c='r', s=200, alpha=.6)\n",
    "\n",
    "plt.legend(fontsize=14, loc=4)\n",
    "\n",
    "plt.yticks(fontsize=12)\n",
    "plt.xticks([0,1,2,3], ['No permutation', '30% permutation', '50% permutation', '90% permutation'], fontsize=12)\n",
    "\n",
    "plt.ylabel(\"MSE loss\", fontsize=14)\n",
    "plt.show()\n",
    "plt.savefig('results/MSE_loss.png')"
   ]
  },
  {
   "cell_type": "markdown",
   "id": "e9c1adf0-e5ed-424a-8b05-cf9fb0c2ca28",
   "metadata": {},
   "source": [
    "Effect of adding noise on reconstruction loss metrices"
   ]
  },
  {
   "cell_type": "code",
   "execution_count": 42,
   "id": "17ff9b07-9faf-4d58-96de-673735035ef8",
   "metadata": {
    "tags": []
   },
   "outputs": [],
   "source": [
    "class AddGaussianNoise(object):\n",
    "    def __init__(self, mean=0., std=1.):\n",
    "        self.std = std\n",
    "        self.mean = mean\n",
    "        \n",
    "    def __call__(self, tensor):\n",
    "        return tensor + torch.randn(tensor.size()) * self.std + self.mean\n",
    "    \n",
    "    def __repr__(self):\n",
    "        return self.__class__.__name__ + '(mean={0}, std={1})'.format(self.mean, self.std)"
   ]
  },
  {
   "cell_type": "code",
   "execution_count": 60,
   "id": "9aaaa2b1-20eb-41ae-8db1-8c87e45bbc35",
   "metadata": {
    "tags": []
   },
   "outputs": [
    {
     "data": {
      "image/png": "[encoded data removed]",
      "text/plain": [
       "<Figure size 640x480 with 1 Axes>"
      ]
     },
     "metadata": {},
     "output_type": "display_data"
    }
   ],
   "source": [
    "image, label = test_dataset[13]\n",
    "image = image.squeeze(0)  # Remove the channel dimension\n",
    "\n",
    "# Plot the image\n",
    "plt.imshow(image)\n",
    "plt.title(f'Label: {label}')\n",
    "plt.show()"
   ]
  },
  {
   "cell_type": "code",
   "execution_count": 61,
   "id": "09007a09-35a1-41cb-a146-aba2f320ab03",
   "metadata": {
    "tags": []
   },
   "outputs": [],
   "source": [
    "test_dataset_noisy_0p1 = datasets.MNIST(\n",
    "    root=\"data\",\n",
    "    train=False,\n",
    "    download=True,\n",
    "    transform=transforms.Compose([transforms.ToTensor(), \n",
    "                                  transforms.Normalize((0.0,), (1.0,)), \n",
    "                                  AddGaussianNoise(0., 0.1)])\n",
    ")\n",
    "\n",
    "test_dataset_noisy_0p3 = datasets.MNIST(\n",
    "    root=\"data\",\n",
    "    train=False,\n",
    "    download=True,\n",
    "    transform=transforms.Compose([transforms.ToTensor(), \n",
    "                                  transforms.Normalize((0.0,), (1.0,)), \n",
    "                                  AddGaussianNoise(0., 0.3)])\n",
    ")\n",
    "\n",
    "test_dataset_noisy_0p5 = datasets.MNIST(\n",
    "    root=\"data\",\n",
    "    train=False,\n",
    "    download=True,\n",
    "    transform=transforms.Compose([transforms.ToTensor(), \n",
    "                                  transforms.Normalize((0.0,), (1.0,)), \n",
    "                                  AddGaussianNoise(0., 0.5)])\n",
    ")\n",
    "\n",
    "test_dataset_noisy_0p6 = datasets.MNIST(\n",
    "    root=\"data\",\n",
    "    train=False,\n",
    "    download=True,\n",
    "    transform=transforms.Compose([transforms.ToTensor(), \n",
    "                                  transforms.Normalize((0.0,), (1.0,)), \n",
    "                                  AddGaussianNoise(0., 0.60)])\n",
    ")"
   ]
  },
  {
   "cell_type": "code",
   "execution_count": 62,
   "id": "5ea22c9e-c915-4dff-a7c5-90a8a8389141",
   "metadata": {
    "tags": []
   },
   "outputs": [
    {
     "data": {
      "image/png": "[encoded data removed]",
      "text/plain": [
       "<Figure size 640x480 with 1 Axes>"
      ]
     },
     "metadata": {},
     "output_type": "display_data"
    }
   ],
   "source": [
    "image, label = test_dataset_noisy_0p6[13]\n",
    "image = image.squeeze(0)  # Remove the channel dimension\n",
    "\n",
    "# Plot the image\n",
    "plt.imshow(image)\n",
    "plt.title(f'Label: {label}')\n",
    "plt.show()"
   ]
  },
  {
   "cell_type": "code",
   "execution_count": 63,
   "id": "83bbc1cc-b469-40d9-8f60-e564957b664e",
   "metadata": {
    "tags": []
   },
   "outputs": [],
   "source": [
    "recon_test_noisy, latent_test_noisy = vae(image)"
   ]
  },
  {
   "cell_type": "code",
   "execution_count": 64,
   "id": "9265cf18-c184-4c44-9c77-9a6490187ccc",
   "metadata": {
    "tags": []
   },
   "outputs": [
    {
     "data": {
      "text/plain": [
       "<matplotlib.image.AxesImage at 0x14bfa0d60>"
      ]
     },
     "execution_count": 64,
     "metadata": {},
     "output_type": "execute_result"
    },
    {
     "data": {
      "image/png": "[encoded data removed]",
      "text/plain": [
       "<Figure size 640x480 with 1 Axes>"
      ]
     },
     "metadata": {},
     "output_type": "display_data"
    }
   ],
   "source": [
    "plt.imshow(recon_test_noisy.detach().view(1, 28, 28).permute(1, 2, 0))"
   ]
  },
  {
   "cell_type": "code",
   "execution_count": 48,
   "id": "9ef4d95e-0d4e-4460-8014-4b30379521df",
   "metadata": {
    "tags": []
   },
   "outputs": [],
   "source": [
    "# Data Loader (Input Pipeline)\n",
    "test_dataset_noisy_loader = torch.utils.data.DataLoader(dataset=test_dataset, batch_size=bs, shuffle=False)"
   ]
  },
  {
   "cell_type": "code",
   "execution_count": 49,
   "id": "82a0fa5f-b53b-4c89-bfda-a39898ebe4e1",
   "metadata": {
    "tags": []
   },
   "outputs": [
    {
     "ename": "KeyboardInterrupt",
     "evalue": "",
     "output_type": "error",
     "traceback": [
      "\u001b[0;31m---------------------------------------------------------------------------\u001b[0m",
      "\u001b[0;31mKeyboardInterrupt\u001b[0m                         Traceback (most recent call last)",
      "Cell \u001b[0;32mIn[49], line 12\u001b[0m\n\u001b[1;32m      7\u001b[0m \u001b[38;5;28;01mfor\u001b[39;00m i \u001b[38;5;129;01min\u001b[39;00m vdata:\n\u001b[1;32m      8\u001b[0m     reconstructed_df \u001b[38;5;241m=\u001b[39m reconstructed_df\u001b[38;5;241m.\u001b[39mappend(\n\u001b[1;32m      9\u001b[0m         pd\u001b[38;5;241m.\u001b[39mDataFrame(vae\u001b[38;5;241m.\u001b[39mforward(i)[\u001b[38;5;241m0\u001b[39m]\u001b[38;5;241m.\u001b[39mdetach()\u001b[38;5;241m.\u001b[39mnumpy(), \n\u001b[1;32m     10\u001b[0m                      columns\u001b[38;5;241m=\u001b[39mreconstructed_df\u001b[38;5;241m.\u001b[39mcolumns), ignore_index\u001b[38;5;241m=\u001b[39m\u001b[38;5;28;01mTrue\u001b[39;00m)\n\u001b[0;32m---> 12\u001b[0m     original_df \u001b[38;5;241m=\u001b[39m \u001b[43moriginal_df\u001b[49m\u001b[38;5;241;43m.\u001b[39;49m\u001b[43mappend\u001b[49m\u001b[43m(\u001b[49m\u001b[43mpd\u001b[49m\u001b[38;5;241;43m.\u001b[39;49m\u001b[43mDataFrame\u001b[49m\u001b[43m(\u001b[49m\u001b[43mi\u001b[49m\u001b[38;5;241;43m.\u001b[39;49m\u001b[43mview\u001b[49m\u001b[43m(\u001b[49m\u001b[38;5;241;43m-\u001b[39;49m\u001b[38;5;241;43m1\u001b[39;49m\u001b[43m,\u001b[49m\u001b[38;5;241;43m784\u001b[39;49m\u001b[43m)\u001b[49m\u001b[38;5;241;43m.\u001b[39;49m\u001b[43mnumpy\u001b[49m\u001b[43m(\u001b[49m\u001b[43m)\u001b[49m\u001b[43m,\u001b[49m\u001b[43m \u001b[49m\n\u001b[1;32m     13\u001b[0m \u001b[43m                                                  \u001b[49m\u001b[43mcolumns\u001b[49m\u001b[38;5;241;43m=\u001b[39;49m\u001b[43moriginal_df\u001b[49m\u001b[38;5;241;43m.\u001b[39;49m\u001b[43mcolumns\u001b[49m\u001b[43m)\u001b[49m\u001b[43m,\u001b[49m\u001b[43m \u001b[49m\u001b[43mignore_index\u001b[49m\u001b[38;5;241;43m=\u001b[39;49m\u001b[38;5;28;43;01mTrue\u001b[39;49;00m\u001b[43m)\u001b[49m\n\u001b[1;32m     15\u001b[0m     BCE_loss_noisy\u001b[38;5;241m.\u001b[39mappend(F\u001b[38;5;241m.\u001b[39mbinary_cross_entropy(vae\u001b[38;5;241m.\u001b[39mforward(i)[\u001b[38;5;241m0\u001b[39m], i\u001b[38;5;241m.\u001b[39mview(\u001b[38;5;241m-\u001b[39m\u001b[38;5;241m1\u001b[39m,\u001b[38;5;241m784\u001b[39m), reduction\u001b[38;5;241m=\u001b[39m\u001b[38;5;124m'\u001b[39m\u001b[38;5;124msum\u001b[39m\u001b[38;5;124m'\u001b[39m)\u001b[38;5;241m.\u001b[39mcpu()\u001b[38;5;241m.\u001b[39mdetach()\u001b[38;5;241m.\u001b[39mitem())\n\u001b[1;32m     16\u001b[0m     MSE_loss_noisy\u001b[38;5;241m.\u001b[39mappend(F\u001b[38;5;241m.\u001b[39mmse_loss(vae\u001b[38;5;241m.\u001b[39mforward(i)[\u001b[38;5;241m0\u001b[39m], i\u001b[38;5;241m.\u001b[39mview(\u001b[38;5;241m-\u001b[39m\u001b[38;5;241m1\u001b[39m,\u001b[38;5;241m784\u001b[39m), reduction\u001b[38;5;241m=\u001b[39m\u001b[38;5;124m'\u001b[39m\u001b[38;5;124msum\u001b[39m\u001b[38;5;124m'\u001b[39m)\u001b[38;5;241m.\u001b[39mcpu()\u001b[38;5;241m.\u001b[39mdetach()\u001b[38;5;241m.\u001b[39mitem())\n",
      "File \u001b[0;32m~/VAE_prject/venv/lib/python3.9/site-packages/pandas/core/frame.py:9768\u001b[0m, in \u001b[0;36mDataFrame.append\u001b[0;34m(self, other, ignore_index, verify_integrity, sort)\u001b[0m\n\u001b[1;32m   9665\u001b[0m \u001b[38;5;250m\u001b[39m\u001b[38;5;124;03m\"\"\"\u001b[39;00m\n\u001b[1;32m   9666\u001b[0m \u001b[38;5;124;03mAppend rows of `other` to the end of caller, returning a new object.\u001b[39;00m\n\u001b[1;32m   9667\u001b[0m \n\u001b[0;32m   (...)\u001b[0m\n\u001b[1;32m   9758\u001b[0m \u001b[38;5;124;03m4  4\u001b[39;00m\n\u001b[1;32m   9759\u001b[0m \u001b[38;5;124;03m\"\"\"\u001b[39;00m\n\u001b[1;32m   9760\u001b[0m warnings\u001b[38;5;241m.\u001b[39mwarn(\n\u001b[1;32m   9761\u001b[0m     \u001b[38;5;124m\"\u001b[39m\u001b[38;5;124mThe frame.append method is deprecated \u001b[39m\u001b[38;5;124m\"\u001b[39m\n\u001b[1;32m   9762\u001b[0m     \u001b[38;5;124m\"\u001b[39m\u001b[38;5;124mand will be removed from pandas in a future version. \u001b[39m\u001b[38;5;124m\"\u001b[39m\n\u001b[0;32m   (...)\u001b[0m\n\u001b[1;32m   9765\u001b[0m     stacklevel\u001b[38;5;241m=\u001b[39mfind_stack_level(),\n\u001b[1;32m   9766\u001b[0m )\n\u001b[0;32m-> 9768\u001b[0m \u001b[38;5;28;01mreturn\u001b[39;00m \u001b[38;5;28;43mself\u001b[39;49m\u001b[38;5;241;43m.\u001b[39;49m\u001b[43m_append\u001b[49m\u001b[43m(\u001b[49m\u001b[43mother\u001b[49m\u001b[43m,\u001b[49m\u001b[43m \u001b[49m\u001b[43mignore_index\u001b[49m\u001b[43m,\u001b[49m\u001b[43m \u001b[49m\u001b[43mverify_integrity\u001b[49m\u001b[43m,\u001b[49m\u001b[43m \u001b[49m\u001b[43msort\u001b[49m\u001b[43m)\u001b[49m\n",
      "File \u001b[0;32m~/VAE_prject/venv/lib/python3.9/site-packages/pandas/core/frame.py:9808\u001b[0m, in \u001b[0;36mDataFrame._append\u001b[0;34m(self, other, ignore_index, verify_integrity, sort)\u001b[0m\n\u001b[1;32m   9805\u001b[0m \u001b[38;5;28;01melse\u001b[39;00m:\n\u001b[1;32m   9806\u001b[0m     to_concat \u001b[38;5;241m=\u001b[39m [\u001b[38;5;28mself\u001b[39m, other]\n\u001b[0;32m-> 9808\u001b[0m result \u001b[38;5;241m=\u001b[39m \u001b[43mconcat\u001b[49m\u001b[43m(\u001b[49m\n\u001b[1;32m   9809\u001b[0m \u001b[43m    \u001b[49m\u001b[43mto_concat\u001b[49m\u001b[43m,\u001b[49m\n\u001b[1;32m   9810\u001b[0m \u001b[43m    \u001b[49m\u001b[43mignore_index\u001b[49m\u001b[38;5;241;43m=\u001b[39;49m\u001b[43mignore_index\u001b[49m\u001b[43m,\u001b[49m\n\u001b[1;32m   9811\u001b[0m \u001b[43m    \u001b[49m\u001b[43mverify_integrity\u001b[49m\u001b[38;5;241;43m=\u001b[39;49m\u001b[43mverify_integrity\u001b[49m\u001b[43m,\u001b[49m\n\u001b[1;32m   9812\u001b[0m \u001b[43m    \u001b[49m\u001b[43msort\u001b[49m\u001b[38;5;241;43m=\u001b[39;49m\u001b[43msort\u001b[49m\u001b[43m,\u001b[49m\n\u001b[1;32m   9813\u001b[0m \u001b[43m\u001b[49m\u001b[43m)\u001b[49m\n\u001b[1;32m   9814\u001b[0m \u001b[38;5;28;01mreturn\u001b[39;00m result\u001b[38;5;241m.\u001b[39m__finalize__(\u001b[38;5;28mself\u001b[39m, method\u001b[38;5;241m=\u001b[39m\u001b[38;5;124m\"\u001b[39m\u001b[38;5;124mappend\u001b[39m\u001b[38;5;124m\"\u001b[39m)\n",
      "File \u001b[0;32m~/VAE_prject/venv/lib/python3.9/site-packages/pandas/util/_decorators.py:331\u001b[0m, in \u001b[0;36mdeprecate_nonkeyword_arguments.<locals>.decorate.<locals>.wrapper\u001b[0;34m(*args, **kwargs)\u001b[0m\n\u001b[1;32m    325\u001b[0m \u001b[38;5;28;01mif\u001b[39;00m \u001b[38;5;28mlen\u001b[39m(args) \u001b[38;5;241m>\u001b[39m num_allow_args:\n\u001b[1;32m    326\u001b[0m     warnings\u001b[38;5;241m.\u001b[39mwarn(\n\u001b[1;32m    327\u001b[0m         msg\u001b[38;5;241m.\u001b[39mformat(arguments\u001b[38;5;241m=\u001b[39m_format_argument_list(allow_args)),\n\u001b[1;32m    328\u001b[0m         \u001b[38;5;167;01mFutureWarning\u001b[39;00m,\n\u001b[1;32m    329\u001b[0m         stacklevel\u001b[38;5;241m=\u001b[39mfind_stack_level(),\n\u001b[1;32m    330\u001b[0m     )\n\u001b[0;32m--> 331\u001b[0m \u001b[38;5;28;01mreturn\u001b[39;00m \u001b[43mfunc\u001b[49m\u001b[43m(\u001b[49m\u001b[38;5;241;43m*\u001b[39;49m\u001b[43margs\u001b[49m\u001b[43m,\u001b[49m\u001b[43m \u001b[49m\u001b[38;5;241;43m*\u001b[39;49m\u001b[38;5;241;43m*\u001b[39;49m\u001b[43mkwargs\u001b[49m\u001b[43m)\u001b[49m\n",
      "File \u001b[0;32m~/VAE_prject/venv/lib/python3.9/site-packages/pandas/core/reshape/concat.py:381\u001b[0m, in \u001b[0;36mconcat\u001b[0;34m(objs, axis, join, ignore_index, keys, levels, names, verify_integrity, sort, copy)\u001b[0m\n\u001b[1;32m    159\u001b[0m \u001b[38;5;250m\u001b[39m\u001b[38;5;124;03m\"\"\"\u001b[39;00m\n\u001b[1;32m    160\u001b[0m \u001b[38;5;124;03mConcatenate pandas objects along a particular axis.\u001b[39;00m\n\u001b[1;32m    161\u001b[0m \n\u001b[0;32m   (...)\u001b[0m\n\u001b[1;32m    366\u001b[0m \u001b[38;5;124;03m1   3   4\u001b[39;00m\n\u001b[1;32m    367\u001b[0m \u001b[38;5;124;03m\"\"\"\u001b[39;00m\n\u001b[1;32m    368\u001b[0m op \u001b[38;5;241m=\u001b[39m _Concatenator(\n\u001b[1;32m    369\u001b[0m     objs,\n\u001b[1;32m    370\u001b[0m     axis\u001b[38;5;241m=\u001b[39maxis,\n\u001b[0;32m   (...)\u001b[0m\n\u001b[1;32m    378\u001b[0m     sort\u001b[38;5;241m=\u001b[39msort,\n\u001b[1;32m    379\u001b[0m )\n\u001b[0;32m--> 381\u001b[0m \u001b[38;5;28;01mreturn\u001b[39;00m \u001b[43mop\u001b[49m\u001b[38;5;241;43m.\u001b[39;49m\u001b[43mget_result\u001b[49m\u001b[43m(\u001b[49m\u001b[43m)\u001b[49m\n",
      "File \u001b[0;32m~/VAE_prject/venv/lib/python3.9/site-packages/pandas/core/reshape/concat.py:616\u001b[0m, in \u001b[0;36m_Concatenator.get_result\u001b[0;34m(self)\u001b[0m\n\u001b[1;32m    612\u001b[0m             indexers[ax] \u001b[38;5;241m=\u001b[39m obj_labels\u001b[38;5;241m.\u001b[39mget_indexer(new_labels)\n\u001b[1;32m    614\u001b[0m     mgrs_indexers\u001b[38;5;241m.\u001b[39mappend((obj\u001b[38;5;241m.\u001b[39m_mgr, indexers))\n\u001b[0;32m--> 616\u001b[0m new_data \u001b[38;5;241m=\u001b[39m \u001b[43mconcatenate_managers\u001b[49m\u001b[43m(\u001b[49m\n\u001b[1;32m    617\u001b[0m \u001b[43m    \u001b[49m\u001b[43mmgrs_indexers\u001b[49m\u001b[43m,\u001b[49m\u001b[43m \u001b[49m\u001b[38;5;28;43mself\u001b[39;49m\u001b[38;5;241;43m.\u001b[39;49m\u001b[43mnew_axes\u001b[49m\u001b[43m,\u001b[49m\u001b[43m \u001b[49m\u001b[43mconcat_axis\u001b[49m\u001b[38;5;241;43m=\u001b[39;49m\u001b[38;5;28;43mself\u001b[39;49m\u001b[38;5;241;43m.\u001b[39;49m\u001b[43mbm_axis\u001b[49m\u001b[43m,\u001b[49m\u001b[43m \u001b[49m\u001b[43mcopy\u001b[49m\u001b[38;5;241;43m=\u001b[39;49m\u001b[38;5;28;43mself\u001b[39;49m\u001b[38;5;241;43m.\u001b[39;49m\u001b[43mcopy\u001b[49m\n\u001b[1;32m    618\u001b[0m \u001b[43m\u001b[49m\u001b[43m)\u001b[49m\n\u001b[1;32m    619\u001b[0m \u001b[38;5;28;01mif\u001b[39;00m \u001b[38;5;129;01mnot\u001b[39;00m \u001b[38;5;28mself\u001b[39m\u001b[38;5;241m.\u001b[39mcopy:\n\u001b[1;32m    620\u001b[0m     new_data\u001b[38;5;241m.\u001b[39m_consolidate_inplace()\n",
      "File \u001b[0;32m~/VAE_prject/venv/lib/python3.9/site-packages/pandas/core/internals/concat.py:205\u001b[0m, in \u001b[0;36mconcatenate_managers\u001b[0;34m(mgrs_indexers, axes, concat_axis, copy)\u001b[0m\n\u001b[1;32m    202\u001b[0m concat_plan \u001b[38;5;241m=\u001b[39m _combine_concat_plans(concat_plans, concat_axis)\n\u001b[1;32m    203\u001b[0m blocks \u001b[38;5;241m=\u001b[39m []\n\u001b[0;32m--> 205\u001b[0m \u001b[38;5;28;01mfor\u001b[39;00m placement, join_units \u001b[38;5;129;01min\u001b[39;00m concat_plan:\n\u001b[1;32m    206\u001b[0m     unit \u001b[38;5;241m=\u001b[39m join_units[\u001b[38;5;241m0\u001b[39m]\n\u001b[1;32m    207\u001b[0m     blk \u001b[38;5;241m=\u001b[39m unit\u001b[38;5;241m.\u001b[39mblock\n",
      "File \u001b[0;32m~/VAE_prject/venv/lib/python3.9/site-packages/pandas/core/internals/concat.py:760\u001b[0m, in \u001b[0;36m_combine_concat_plans\u001b[0;34m(plans, concat_axis)\u001b[0m\n\u001b[1;32m    756\u001b[0m yielded_units[i] \u001b[38;5;241m=\u001b[39m unit\n\u001b[1;32m    757\u001b[0m \u001b[38;5;28;01mif\u001b[39;00m \u001b[38;5;28mlen\u001b[39m(plc) \u001b[38;5;241m>\u001b[39m min_len:\n\u001b[1;32m    758\u001b[0m     \u001b[38;5;66;03m# _trim_join_unit updates unit in place, so only\u001b[39;00m\n\u001b[1;32m    759\u001b[0m     \u001b[38;5;66;03m# placement needs to be sliced to skip min_len.\u001b[39;00m\n\u001b[0;32m--> 760\u001b[0m     next_items[i] \u001b[38;5;241m=\u001b[39m (plc[min_len:], \u001b[43m_trim_join_unit\u001b[49m\u001b[43m(\u001b[49m\u001b[43munit\u001b[49m\u001b[43m,\u001b[49m\u001b[43m \u001b[49m\u001b[43mmin_len\u001b[49m\u001b[43m)\u001b[49m)\n\u001b[1;32m    761\u001b[0m \u001b[38;5;28;01melse\u001b[39;00m:\n\u001b[1;32m    762\u001b[0m     yielded_placement \u001b[38;5;241m=\u001b[39m plc\n",
      "File \u001b[0;32m~/VAE_prject/venv/lib/python3.9/site-packages/pandas/core/internals/concat.py:690\u001b[0m, in \u001b[0;36m_trim_join_unit\u001b[0;34m(join_unit, length)\u001b[0m\n\u001b[1;32m    688\u001b[0m         extra_block \u001b[38;5;241m=\u001b[39m \u001b[38;5;28;01mNone\u001b[39;00m\n\u001b[1;32m    689\u001b[0m     \u001b[38;5;28;01melse\u001b[39;00m:\n\u001b[0;32m--> 690\u001b[0m         extra_block \u001b[38;5;241m=\u001b[39m \u001b[43mjoin_unit\u001b[49m\u001b[38;5;241;43m.\u001b[39;49m\u001b[43mblock\u001b[49m\u001b[38;5;241;43m.\u001b[39;49m\u001b[43mgetitem_block\u001b[49m\u001b[43m(\u001b[49m\u001b[38;5;28;43mslice\u001b[39;49m\u001b[43m(\u001b[49m\u001b[43mlength\u001b[49m\u001b[43m,\u001b[49m\u001b[43m \u001b[49m\u001b[38;5;28;43;01mNone\u001b[39;49;00m\u001b[43m)\u001b[49m\u001b[43m)\u001b[49m\n\u001b[1;32m    691\u001b[0m         join_unit\u001b[38;5;241m.\u001b[39mblock \u001b[38;5;241m=\u001b[39m join_unit\u001b[38;5;241m.\u001b[39mblock\u001b[38;5;241m.\u001b[39mgetitem_block(\u001b[38;5;28mslice\u001b[39m(length))\n\u001b[1;32m    692\u001b[0m \u001b[38;5;28;01melse\u001b[39;00m:\n",
      "File \u001b[0;32m~/VAE_prject/venv/lib/python3.9/site-packages/pandas/core/internals/blocks.py:296\u001b[0m, in \u001b[0;36mBlock.getitem_block\u001b[0;34m(self, slicer)\u001b[0m\n\u001b[1;32m    292\u001b[0m new_mgr_locs \u001b[38;5;241m=\u001b[39m \u001b[38;5;28mself\u001b[39m\u001b[38;5;241m.\u001b[39m_mgr_locs[slicer]  \u001b[38;5;66;03m# type: ignore[index]\u001b[39;00m\n\u001b[1;32m    294\u001b[0m new_values \u001b[38;5;241m=\u001b[39m \u001b[38;5;28mself\u001b[39m\u001b[38;5;241m.\u001b[39m_slice(slicer)\n\u001b[0;32m--> 296\u001b[0m \u001b[38;5;28;01mif\u001b[39;00m \u001b[43mnew_values\u001b[49m\u001b[38;5;241;43m.\u001b[39;49m\u001b[43mndim\u001b[49m \u001b[38;5;241m!=\u001b[39m \u001b[38;5;28mself\u001b[39m\u001b[38;5;241m.\u001b[39mvalues\u001b[38;5;241m.\u001b[39mndim:\n\u001b[1;32m    297\u001b[0m     \u001b[38;5;28;01mraise\u001b[39;00m \u001b[38;5;167;01mValueError\u001b[39;00m(\u001b[38;5;124m\"\u001b[39m\u001b[38;5;124mOnly same dim slicing is allowed\u001b[39m\u001b[38;5;124m\"\u001b[39m)\n\u001b[1;32m    299\u001b[0m \u001b[38;5;28;01mreturn\u001b[39;00m \u001b[38;5;28mtype\u001b[39m(\u001b[38;5;28mself\u001b[39m)(new_values, new_mgr_locs, \u001b[38;5;28mself\u001b[39m\u001b[38;5;241m.\u001b[39mndim)\n",
      "\u001b[0;31mKeyboardInterrupt\u001b[0m: "
     ]
    }
   ],
   "source": [
    "BCE_loss_noisy = []\n",
    "KLD_loss_noisy = []\n",
    "MSE_loss_noisy = []\n",
    "\n",
    "for (vdata, _) in test_dataset_noisy_loader:\n",
    "    \n",
    "    for i in vdata:\n",
    "        reconstructed_df = reconstructed_df.append(\n",
    "            pd.DataFrame(vae.forward(i)[0].detach().numpy(), \n",
    "                         columns=reconstructed_df.columns), ignore_index=True)\n",
    "\n",
    "        original_df = original_df.append(pd.DataFrame(i.view(-1,784).numpy(), \n",
    "                                                      columns=original_df.columns), ignore_index=True)\n",
    "        \n",
    "        BCE_loss_noisy.append(F.binary_cross_entropy(vae.forward(i)[0], i.view(-1,784), reduction='sum').cpu().detach().item())\n",
    "        MSE_loss_noisy.append(F.mse_loss(vae.forward(i)[0], i.view(-1,784), reduction='sum').cpu().detach().item())\n",
    "        \n",
    "        prior = MultivariateNormal(loc = torch.zeros(vae.forward(i)[1].mean.shape[1]),\n",
    "                                   scale_tril=torch.eye(vae.forward(i)[1].mean.shape[1]))\n",
    "        KLD_loss_noisy.append(torch.sum(kl_divergence(vae.forward(i)[1], prior)).item())     "
   ]
  },
  {
   "cell_type": "code",
   "execution_count": null,
   "id": "81cf623f-4281-4791-b59a-806c82d87476",
   "metadata": {
    "tags": []
   },
   "outputs": [],
   "source": [
    "## compare the performance here\n",
    "plt.figure(figsize=(8,6))\n",
    "\n",
    "plt.scatter([0], [np.mean(BCE_loss)], c='r', s=200, alpha=.6, label=\"Mean BCE\")\n",
    "plt.scatter([1], [np.mean(BCE_loss_30_permute)], c='r', s=200, alpha=.6)\n",
    "\n",
    "\n",
    "plt.legend(fontsize=14, loc=4)\n",
    "\n",
    "plt.yticks(fontsize=12)\n",
    "plt.xticks([0,1,2,3], ['No permutation', '30% permutation', '50% permutation', '90% permutation'], fontsize=12)\n",
    "\n",
    "plt.ylabel(\"BCE loss\", fontsize=14)\n",
    "plt.show()\n",
    "plt.savefig('results/BCE_loss.png'"
   ]
  },
  {
   "cell_type": "code",
   "execution_count": null,
   "id": "31c44eb7-22f6-40fc-91c9-ecd8df565909",
   "metadata": {},
   "outputs": [],
   "source": []
  }
 ],
 "metadata": {
  "kernelspec": {
   "display_name": "Python 3 (ipykernel)",
   "language": "python",
   "name": "python3"
  },
  "language_info": {
   "codemirror_mode": {
    "name": "ipython",
    "version": 3
   },
   "file_extension": ".py",
   "mimetype": "text/x-python",
   "name": "python",
   "nbconvert_exporter": "python",
   "pygments_lexer": "ipython3",
   "version": "3.9.6"
  }
 },
 "nbformat": 4,
 "nbformat_minor": 5
}
