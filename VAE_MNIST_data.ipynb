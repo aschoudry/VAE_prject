{
 "cells": [
  {
   "cell_type": "code",
   "execution_count": 3,
   "id": "e3263004-2800-4aea-98a9-5309ffd5fb32",
   "metadata": {
    "tags": []
   },
   "outputs": [
    {
     "data": {
      "application/javascript": [
       "\n",
       "            setTimeout(function() {\n",
       "                var nbb_cell_id = 3;\n",
       "                var nbb_unformatted_code = \"%load_ext nb_black\";\n",
       "                var nbb_formatted_code = \"%load_ext nb_black\";\n",
       "                var nbb_cells = Jupyter.notebook.get_cells();\n",
       "                for (var i = 0; i < nbb_cells.length; ++i) {\n",
       "                    if (nbb_cells[i].input_prompt_number == nbb_cell_id) {\n",
       "                        if (nbb_cells[i].get_text() == nbb_unformatted_code) {\n",
       "                             nbb_cells[i].set_text(nbb_formatted_code);\n",
       "                        }\n",
       "                        break;\n",
       "                    }\n",
       "                }\n",
       "            }, 500);\n",
       "            "
      ],
      "text/plain": [
       "<IPython.core.display.Javascript object>"
      ]
     },
     "metadata": {},
     "output_type": "display_data"
    }
   ],
   "source": [
    "%load_ext nb_black"
   ]
  },
  {
   "cell_type": "code",
   "execution_count": 4,
   "id": "0f7d9c19-e2aa-4327-a51c-6db0f5d3165c",
   "metadata": {
    "tags": []
   },
   "outputs": [
    {
     "data": {
      "application/javascript": [
       "\n",
       "            setTimeout(function() {\n",
       "                var nbb_cell_id = 4;\n",
       "                var nbb_unformatted_code = \"import torch\\nimport torch.nn as nn\\nimport torch.nn.functional as F\\nimport torch.optim as optim\\nfrom torchvision import datasets, transforms\\nfrom torch.autograd import Variable\\nfrom torchvision.utils import save_image\\nfrom torchvision.transforms import ToTensor\\nimport pandas as pd\\n\\nfrom torch.distributions.multivariate_normal import MultivariateNormal\\nfrom torch.distributions.kl import kl_divergence\\nimport torchvision\\nimport numpy as np\\nimport seaborn as sns\\nfrom torch.utils.data import DataLoader\\n\\nimport torch\\nfrom torch.utils.tensorboard import SummaryWriter\\nfrom datetime import datetime\\nimport matplotlib.pyplot as plt \\nwriter = SummaryWriter('mnist_experiment_1')\";\n",
       "                var nbb_formatted_code = \"import torch\\nimport torch.nn as nn\\nimport torch.nn.functional as F\\nimport torch.optim as optim\\nfrom torchvision import datasets, transforms\\nfrom torch.autograd import Variable\\nfrom torchvision.utils import save_image\\nfrom torchvision.transforms import ToTensor\\nimport pandas as pd\\n\\nfrom torch.distributions.multivariate_normal import MultivariateNormal\\nfrom torch.distributions.kl import kl_divergence\\nimport torchvision\\nimport numpy as np\\nimport seaborn as sns\\nfrom torch.utils.data import DataLoader\\n\\nimport torch\\nfrom torch.utils.tensorboard import SummaryWriter\\nfrom datetime import datetime\\nimport matplotlib.pyplot as plt\\n\\nwriter = SummaryWriter(\\\"mnist_experiment_1\\\")\";\n",
       "                var nbb_cells = Jupyter.notebook.get_cells();\n",
       "                for (var i = 0; i < nbb_cells.length; ++i) {\n",
       "                    if (nbb_cells[i].input_prompt_number == nbb_cell_id) {\n",
       "                        if (nbb_cells[i].get_text() == nbb_unformatted_code) {\n",
       "                             nbb_cells[i].set_text(nbb_formatted_code);\n",
       "                        }\n",
       "                        break;\n",
       "                    }\n",
       "                }\n",
       "            }, 500);\n",
       "            "
      ],
      "text/plain": [
       "<IPython.core.display.Javascript object>"
      ]
     },
     "metadata": {},
     "output_type": "display_data"
    }
   ],
   "source": [
    "import torch\n",
    "import torch.nn as nn\n",
    "import torch.nn.functional as F\n",
    "import torch.optim as optim\n",
    "from torchvision import datasets, transforms\n",
    "from torch.autograd import Variable\n",
    "from torchvision.utils import save_image\n",
    "from torchvision.transforms import ToTensor\n",
    "import pandas as pd\n",
    "\n",
    "from torch.distributions.multivariate_normal import MultivariateNormal\n",
    "from torch.distributions.kl import kl_divergence\n",
    "import torchvision\n",
    "import numpy as np\n",
    "import seaborn as sns\n",
    "from torch.utils.data import DataLoader\n",
    "\n",
    "import torch\n",
    "from torch.utils.tensorboard import SummaryWriter\n",
    "from datetime import datetime\n",
    "import matplotlib.pyplot as plt \n",
    "writer = SummaryWriter('mnist_experiment_1')"
   ]
  },
  {
   "cell_type": "code",
   "execution_count": 5,
   "id": "239df458-66aa-4d10-87ca-93498797a68f",
   "metadata": {
    "tags": []
   },
   "outputs": [
    {
     "data": {
      "application/javascript": [
       "\n",
       "            setTimeout(function() {\n",
       "                var nbb_cell_id = 5;\n",
       "                var nbb_unformatted_code = \"bs = 16\\n# MNIST Dataset\\ntrain_dataset = datasets.MNIST(\\n    root=\\\"data\\\",\\n    train=True,\\n    download=True,\\n    transform=ToTensor()\\n)\\n\\ntest_dataset = datasets.MNIST(\\n    root=\\\"data\\\",\\n    train=False,\\n    download=True,\\n    transform=ToTensor()\\n)\\n# Data Loader (Input Pipeline)\\ntrain_loader = torch.utils.data.DataLoader(dataset=train_dataset, batch_size=bs, shuffle=True)\\nvalidation_loader = torch.utils.data.DataLoader(dataset=test_dataset, batch_size=bs, shuffle=False)\";\n",
       "                var nbb_formatted_code = \"bs = 16\\n# MNIST Dataset\\ntrain_dataset = datasets.MNIST(\\n    root=\\\"data\\\", train=True, download=True, transform=ToTensor()\\n)\\n\\ntest_dataset = datasets.MNIST(\\n    root=\\\"data\\\", train=False, download=True, transform=ToTensor()\\n)\\n# Data Loader (Input Pipeline)\\ntrain_loader = torch.utils.data.DataLoader(\\n    dataset=train_dataset, batch_size=bs, shuffle=True\\n)\\nvalidation_loader = torch.utils.data.DataLoader(\\n    dataset=test_dataset, batch_size=bs, shuffle=False\\n)\";\n",
       "                var nbb_cells = Jupyter.notebook.get_cells();\n",
       "                for (var i = 0; i < nbb_cells.length; ++i) {\n",
       "                    if (nbb_cells[i].input_prompt_number == nbb_cell_id) {\n",
       "                        if (nbb_cells[i].get_text() == nbb_unformatted_code) {\n",
       "                             nbb_cells[i].set_text(nbb_formatted_code);\n",
       "                        }\n",
       "                        break;\n",
       "                    }\n",
       "                }\n",
       "            }, 500);\n",
       "            "
      ],
      "text/plain": [
       "<IPython.core.display.Javascript object>"
      ]
     },
     "metadata": {},
     "output_type": "display_data"
    }
   ],
   "source": [
    "bs = 16\n",
    "# MNIST Dataset\n",
    "train_dataset = datasets.MNIST(\n",
    "    root=\"data\",\n",
    "    train=True,\n",
    "    download=True,\n",
    "    transform=ToTensor()\n",
    ")\n",
    "\n",
    "test_dataset = datasets.MNIST(\n",
    "    root=\"data\",\n",
    "    train=False,\n",
    "    download=True,\n",
    "    transform=ToTensor()\n",
    ")\n",
    "# Data Loader (Input Pipeline)\n",
    "train_loader = torch.utils.data.DataLoader(dataset=train_dataset, batch_size=bs, shuffle=True)\n",
    "validation_loader = torch.utils.data.DataLoader(dataset=test_dataset, batch_size=bs, shuffle=False)\n"
   ]
  },
  {
   "cell_type": "code",
   "execution_count": 6,
   "id": "5be4befb-a772-4098-8e99-48a0e6eef827",
   "metadata": {
    "tags": []
   },
   "outputs": [
    {
     "data": {
      "application/javascript": [
       "\n",
       "            setTimeout(function() {\n",
       "                var nbb_cell_id = 6;\n",
       "                var nbb_unformatted_code = \"class VAE(nn.Module):\\n    def __init__(self, input_dim: int, hidden_dim: list, z_dim):\\n        super(VAE, self).__init__()\\n        \\n        self.z_dim = z_dim\\n        \\n        self.encoder_layers = nn.ModuleList([nn.Linear(input_dim, hidden_dim[0])])\\n        self.decoder_layers = nn.ModuleList([nn.Linear(hidden_dim[0], input_dim)])\\n                \\n        if len(hidden_dim)>1:\\n            for i in range(len(hidden_dim)-1):\\n                self.encoder_layers.append(nn.Linear(hidden_dim[i], hidden_dim[i+1]))\\n                self.decoder_layers.insert(0, nn.Linear(hidden_dim[i+1], hidden_dim[i]))\\n                \\n        self.encoder_layers.append(nn.Linear(hidden_dim[-1], 2 * z_dim))\\n        self.decoder_layers.insert(0, nn.Linear(z_dim, hidden_dim[-1]))\\n\\n        \\n    def encoder(self, x):\\n        for idx, layer in enumerate(self.encoder_layers):\\n            x = layer(x)\\n            if idx < len(self.encoder_layers) - 1:\\n                # x = F.dropout(x, 0.01)\\n                x = F.relu(x)\\n        return x[...,:self.z_dim], x[...,self.z_dim:] # mu, log_var\\n    \\n    def sampling(self, mu, log_var):\\n        std = torch.exp(0.5*log_var)\\n        # std = torch.abs(log_var)\\n        eps = torch.randn_like(std)\\n        return eps.mul(std).add_(mu) # return z sample\\n        \\n    def decoder(self, z):\\n        for idx, layer in enumerate(self.decoder_layers):\\n            z = layer(z)\\n            if idx < len(self.decoder_layers) - 1:\\n                # x = F.dropout(x, 0.01)\\n                z = F.relu(z)\\n        return torch.sigmoid(z) \\n    \\n    def forward(self, x):\\n        mu, log_var = self.encoder(x.view(-1, 784))\\n        \\n    #    z = self.sampling(mu, log_var)\\n        latent = MultivariateNormal(loc = mu, \\n                                    scale_tril=torch.diag_embed(torch.exp(0.5*log_var)))\\n        z = latent.rsample()\\n           \\n    #    return self.decoder(z), mu, log_var\\n        return self.decoder(z), latent\\n\\n    @staticmethod\\n    def loss_function(recon_x, x, mu, log_var):\\n        BCE = F.binary_cross_entropy(recon_x, x.view(-1, 784), reduction='sum')\\n        KLD = -0.5 * torch.sum(1 + log_var - mu.pow(2) - log_var.exp())\\n        return BCE + KLD\\n    \\n    @staticmethod\\n    def loss_function_dist(recon_x, x, latent):\\n        prior = MultivariateNormal(loc = torch.zeros(latent.mean.shape[1]),\\n                                   scale_tril=torch.eye(latent.mean.shape[1]))\\n        \\n        BCE = F.binary_cross_entropy(recon_x, x.view(-1, 784), reduction='sum')\\n        KLD = torch.sum(kl_divergence(latent, prior))\\n        return BCE + KLD\";\n",
       "                var nbb_formatted_code = \"class VAE(nn.Module):\\n    def __init__(self, input_dim: int, hidden_dim: list, z_dim):\\n        super(VAE, self).__init__()\\n\\n        self.z_dim = z_dim\\n\\n        self.encoder_layers = nn.ModuleList([nn.Linear(input_dim, hidden_dim[0])])\\n        self.decoder_layers = nn.ModuleList([nn.Linear(hidden_dim[0], input_dim)])\\n\\n        if len(hidden_dim) > 1:\\n            for i in range(len(hidden_dim) - 1):\\n                self.encoder_layers.append(nn.Linear(hidden_dim[i], hidden_dim[i + 1]))\\n                self.decoder_layers.insert(\\n                    0, nn.Linear(hidden_dim[i + 1], hidden_dim[i])\\n                )\\n\\n        self.encoder_layers.append(nn.Linear(hidden_dim[-1], 2 * z_dim))\\n        self.decoder_layers.insert(0, nn.Linear(z_dim, hidden_dim[-1]))\\n\\n    def encoder(self, x):\\n        for idx, layer in enumerate(self.encoder_layers):\\n            x = layer(x)\\n            if idx < len(self.encoder_layers) - 1:\\n                # x = F.dropout(x, 0.01)\\n                x = F.relu(x)\\n        return x[..., : self.z_dim], x[..., self.z_dim :]  # mu, log_var\\n\\n    def sampling(self, mu, log_var):\\n        std = torch.exp(0.5 * log_var)\\n        # std = torch.abs(log_var)\\n        eps = torch.randn_like(std)\\n        return eps.mul(std).add_(mu)  # return z sample\\n\\n    def decoder(self, z):\\n        for idx, layer in enumerate(self.decoder_layers):\\n            z = layer(z)\\n            if idx < len(self.decoder_layers) - 1:\\n                # x = F.dropout(x, 0.01)\\n                z = F.relu(z)\\n        return torch.sigmoid(z)\\n\\n    def forward(self, x):\\n        mu, log_var = self.encoder(x.view(-1, 784))\\n\\n        #    z = self.sampling(mu, log_var)\\n        latent = MultivariateNormal(\\n            loc=mu, scale_tril=torch.diag_embed(torch.exp(0.5 * log_var))\\n        )\\n        z = latent.rsample()\\n\\n        #    return self.decoder(z), mu, log_var\\n        return self.decoder(z), latent\\n\\n    @staticmethod\\n    def loss_function(recon_x, x, mu, log_var):\\n        BCE = F.binary_cross_entropy(recon_x, x.view(-1, 784), reduction=\\\"sum\\\")\\n        KLD = -0.5 * torch.sum(1 + log_var - mu.pow(2) - log_var.exp())\\n        return BCE + KLD\\n\\n    @staticmethod\\n    def loss_function_dist(recon_x, x, latent):\\n        prior = MultivariateNormal(\\n            loc=torch.zeros(latent.mean.shape[1]),\\n            scale_tril=torch.eye(latent.mean.shape[1]),\\n        )\\n\\n        BCE = F.binary_cross_entropy(recon_x, x.view(-1, 784), reduction=\\\"sum\\\")\\n        KLD = torch.sum(kl_divergence(latent, prior))\\n        return BCE + KLD\";\n",
       "                var nbb_cells = Jupyter.notebook.get_cells();\n",
       "                for (var i = 0; i < nbb_cells.length; ++i) {\n",
       "                    if (nbb_cells[i].input_prompt_number == nbb_cell_id) {\n",
       "                        if (nbb_cells[i].get_text() == nbb_unformatted_code) {\n",
       "                             nbb_cells[i].set_text(nbb_formatted_code);\n",
       "                        }\n",
       "                        break;\n",
       "                    }\n",
       "                }\n",
       "            }, 500);\n",
       "            "
      ],
      "text/plain": [
       "<IPython.core.display.Javascript object>"
      ]
     },
     "metadata": {},
     "output_type": "display_data"
    }
   ],
   "source": [
    "class VAE(nn.Module):\n",
    "    def __init__(self, input_dim: int, hidden_dim: list, z_dim):\n",
    "        super(VAE, self).__init__()\n",
    "        \n",
    "        self.z_dim = z_dim\n",
    "        \n",
    "        self.encoder_layers = nn.ModuleList([nn.Linear(input_dim, hidden_dim[0])])\n",
    "        self.decoder_layers = nn.ModuleList([nn.Linear(hidden_dim[0], input_dim)])\n",
    "                \n",
    "        if len(hidden_dim)>1:\n",
    "            for i in range(len(hidden_dim)-1):\n",
    "                self.encoder_layers.append(nn.Linear(hidden_dim[i], hidden_dim[i+1]))\n",
    "                self.decoder_layers.insert(0, nn.Linear(hidden_dim[i+1], hidden_dim[i]))\n",
    "                \n",
    "        self.encoder_layers.append(nn.Linear(hidden_dim[-1], 2 * z_dim))\n",
    "        self.decoder_layers.insert(0, nn.Linear(z_dim, hidden_dim[-1]))\n",
    "\n",
    "        \n",
    "    def encoder(self, x):\n",
    "        for idx, layer in enumerate(self.encoder_layers):\n",
    "            x = layer(x)\n",
    "            if idx < len(self.encoder_layers) - 1:\n",
    "                # x = F.dropout(x, 0.01)\n",
    "                x = F.relu(x)\n",
    "        return x[...,:self.z_dim], x[...,self.z_dim:] # mu, log_var\n",
    "    \n",
    "    def sampling(self, mu, log_var):\n",
    "        std = torch.exp(0.5*log_var)\n",
    "        # std = torch.abs(log_var)\n",
    "        eps = torch.randn_like(std)\n",
    "        return eps.mul(std).add_(mu) # return z sample\n",
    "        \n",
    "    def decoder(self, z):\n",
    "        for idx, layer in enumerate(self.decoder_layers):\n",
    "            z = layer(z)\n",
    "            if idx < len(self.decoder_layers) - 1:\n",
    "                # x = F.dropout(x, 0.01)\n",
    "                z = F.relu(z)\n",
    "        return torch.sigmoid(z) \n",
    "    \n",
    "    def forward(self, x):\n",
    "        mu, log_var = self.encoder(x.view(-1, 784))\n",
    "        \n",
    "    #    z = self.sampling(mu, log_var)\n",
    "        latent = MultivariateNormal(loc = mu, \n",
    "                                    scale_tril=torch.diag_embed(torch.exp(0.5*log_var)))\n",
    "        z = latent.rsample()\n",
    "           \n",
    "    #    return self.decoder(z), mu, log_var\n",
    "        return self.decoder(z), latent\n",
    "\n",
    "    @staticmethod\n",
    "    def loss_function(recon_x, x, mu, log_var):\n",
    "        BCE = F.binary_cross_entropy(recon_x, x.view(-1, 784), reduction='sum')\n",
    "        KLD = -0.5 * torch.sum(1 + log_var - mu.pow(2) - log_var.exp())\n",
    "        return BCE + KLD\n",
    "    \n",
    "    @staticmethod\n",
    "    def loss_function_dist(recon_x, x, latent):\n",
    "        prior = MultivariateNormal(loc = torch.zeros(latent.mean.shape[1]),\n",
    "                                   scale_tril=torch.eye(latent.mean.shape[1]))\n",
    "        \n",
    "        BCE = F.binary_cross_entropy(recon_x, x.view(-1, 784), reduction='sum')\n",
    "        KLD = torch.sum(kl_divergence(latent, prior))\n",
    "        return BCE + KLD"
   ]
  },
  {
   "cell_type": "code",
   "execution_count": 7,
   "id": "ccbadad3-cafe-4169-a72e-c42c3fabe247",
   "metadata": {
    "tags": []
   },
   "outputs": [
    {
     "data": {
      "application/javascript": [
       "\n",
       "            setTimeout(function() {\n",
       "                var nbb_cell_id = 7;\n",
       "                var nbb_unformatted_code = \" def train_one_epoch(epoch_index, tb_writer):\\n    running_loss = 0.\\n    last_loss = 0.\\n\\n    # Here, we use enumerate(training_loader) instead of\\n    # iter(training_loader) so that we can track the batch\\n    # index and do some intra-epoch reporting\\n    for i, (data, _) in enumerate(train_loader):\\n        \\n        # Every data instance \\n        data = data.to(DEVICE)\\n\\n        # Zero your gradients for every batch!\\n        optimizer.zero_grad()\\n\\n        # Make predictions for this batch\\n        recon_batch, latent = vae(data)\\n\\n        # Compute the loss and its gradients\\n        loss = VAE.loss_function_dist(recon_batch, data, latent)\\n        loss.backward()\\n\\n        # Adjust learning weights\\n        optimizer.step()\\n\\n        # Gather data and report\\n        running_loss += loss.item()\\n        if i % 1000 == 999:\\n            last_loss = running_loss / 1000 # loss per batch\\n            print('  batch {} loss: {}'.format(i + 1, last_loss))\\n            tb_x = epoch_index * len(train_loader) + i + 1\\n            tb_writer.add_scalar('Loss/train', last_loss, tb_x)\\n            running_loss = 0.\\n\\n    return last_loss\";\n",
       "                var nbb_formatted_code = \"def train_one_epoch(epoch_index, tb_writer):\\n    running_loss = 0.0\\n    last_loss = 0.0\\n\\n    # Here, we use enumerate(training_loader) instead of\\n    # iter(training_loader) so that we can track the batch\\n    # index and do some intra-epoch reporting\\n    for i, (data, _) in enumerate(train_loader):\\n        # Every data instance\\n        data = data.to(DEVICE)\\n\\n        # Zero your gradients for every batch!\\n        optimizer.zero_grad()\\n\\n        # Make predictions for this batch\\n        recon_batch, latent = vae(data)\\n\\n        # Compute the loss and its gradients\\n        loss = VAE.loss_function_dist(recon_batch, data, latent)\\n        loss.backward()\\n\\n        # Adjust learning weights\\n        optimizer.step()\\n\\n        # Gather data and report\\n        running_loss += loss.item()\\n        if i % 1000 == 999:\\n            last_loss = running_loss / 1000  # loss per batch\\n            print(\\\"  batch {} loss: {}\\\".format(i + 1, last_loss))\\n            tb_x = epoch_index * len(train_loader) + i + 1\\n            tb_writer.add_scalar(\\\"Loss/train\\\", last_loss, tb_x)\\n            running_loss = 0.0\\n\\n    return last_loss\";\n",
       "                var nbb_cells = Jupyter.notebook.get_cells();\n",
       "                for (var i = 0; i < nbb_cells.length; ++i) {\n",
       "                    if (nbb_cells[i].input_prompt_number == nbb_cell_id) {\n",
       "                        if (nbb_cells[i].get_text() == nbb_unformatted_code) {\n",
       "                             nbb_cells[i].set_text(nbb_formatted_code);\n",
       "                        }\n",
       "                        break;\n",
       "                    }\n",
       "                }\n",
       "            }, 500);\n",
       "            "
      ],
      "text/plain": [
       "<IPython.core.display.Javascript object>"
      ]
     },
     "metadata": {},
     "output_type": "display_data"
    }
   ],
   "source": [
    " def train_one_epoch(epoch_index, tb_writer):\n",
    "    running_loss = 0.\n",
    "    last_loss = 0.\n",
    "\n",
    "    # Here, we use enumerate(training_loader) instead of\n",
    "    # iter(training_loader) so that we can track the batch\n",
    "    # index and do some intra-epoch reporting\n",
    "    for i, (data, _) in enumerate(train_loader):\n",
    "        \n",
    "        # Every data instance \n",
    "        data = data.to(DEVICE)\n",
    "\n",
    "        # Zero your gradients for every batch!\n",
    "        optimizer.zero_grad()\n",
    "\n",
    "        # Make predictions for this batch\n",
    "        recon_batch, latent = vae(data)\n",
    "\n",
    "        # Compute the loss and its gradients\n",
    "        loss = VAE.loss_function_dist(recon_batch, data, latent)\n",
    "        loss.backward()\n",
    "\n",
    "        # Adjust learning weights\n",
    "        optimizer.step()\n",
    "\n",
    "        # Gather data and report\n",
    "        running_loss += loss.item()\n",
    "        if i % 1000 == 999:\n",
    "            last_loss = running_loss / 1000 # loss per batch\n",
    "            print('  batch {} loss: {}'.format(i + 1, last_loss))\n",
    "            tb_x = epoch_index * len(train_loader) + i + 1\n",
    "            tb_writer.add_scalar('Loss/train', last_loss, tb_x)\n",
    "            running_loss = 0.\n",
    "\n",
    "    return last_loss"
   ]
  },
  {
   "cell_type": "code",
   "execution_count": 8,
   "id": "388fda07-eff1-4746-a293-4cafe553c7a4",
   "metadata": {
    "tags": []
   },
   "outputs": [
    {
     "name": "stdout",
     "output_type": "stream",
     "text": [
      "EPOCH 1:\n",
      "  batch 1000 loss: 2665.491913330078\n",
      "  batch 2000 loss: 2117.8309284667966\n",
      "  batch 3000 loss: 1998.014379638672\n",
      "LOSS train 1998.014379638672 valid 1899.58642578125\n",
      "EPOCH 2:\n",
      "  batch 1000 loss: 1896.6456954345704\n",
      "  batch 2000 loss: 1862.0338298339843\n",
      "  batch 3000 loss: 1840.5867249755859\n",
      "LOSS train 1840.5867249755859 valid 1807.5081787109375\n",
      "EPOCH 3:\n",
      "  batch 1000 loss: 1818.4597224121094\n",
      "  batch 2000 loss: 1792.374907836914\n",
      "  batch 3000 loss: 1778.7145704345703\n",
      "LOSS train 1778.7145704345703 valid 1764.85498046875\n",
      "EPOCH 4:\n",
      "  batch 1000 loss: 1759.0020806884766\n",
      "  batch 2000 loss: 1751.0394204101563\n",
      "  batch 3000 loss: 1746.8103354492187\n",
      "LOSS train 1746.8103354492187 valid 1734.64404296875\n",
      "EPOCH 5:\n",
      "  batch 1000 loss: 1733.5542026367189\n",
      "  batch 2000 loss: 1726.115698852539\n",
      "  batch 3000 loss: 1728.1253311767578\n",
      "LOSS train 1728.1253311767578 valid 1725.376220703125\n",
      "EPOCH 6:\n",
      "  batch 1000 loss: 1713.8523585205078\n",
      "  batch 2000 loss: 1715.4469758300781\n",
      "  batch 3000 loss: 1713.5805224609376\n",
      "LOSS train 1713.5805224609376 valid 1708.079345703125\n",
      "EPOCH 7:\n",
      "  batch 1000 loss: 1702.1458479003907\n",
      "  batch 2000 loss: 1700.0216173095703\n",
      "  batch 3000 loss: 1705.1372231445312\n",
      "LOSS train 1705.1372231445312 valid 1701.1844482421875\n",
      "EPOCH 8:\n",
      "  batch 1000 loss: 1692.038740966797\n",
      "  batch 2000 loss: 1699.1219404296876\n",
      "  batch 3000 loss: 1694.4271328125\n",
      "LOSS train 1694.4271328125 valid 1705.1973876953125\n",
      "EPOCH 9:\n",
      "  batch 1000 loss: 1684.8717077636718\n",
      "  batch 2000 loss: 1685.0487722167968\n",
      "  batch 3000 loss: 1695.6518502197266\n",
      "LOSS train 1695.6518502197266 valid 1691.3094482421875\n",
      "EPOCH 10:\n",
      "  batch 1000 loss: 1679.8103820800782\n",
      "  batch 2000 loss: 1674.990086303711\n",
      "  batch 3000 loss: 1687.1181824951173\n",
      "LOSS train 1687.1181824951173 valid 1688.37939453125\n",
      "EPOCH 11:\n",
      "  batch 1000 loss: 1673.731673828125\n",
      "  batch 2000 loss: 1672.955785888672\n",
      "  batch 3000 loss: 1680.6559465332032\n",
      "LOSS train 1680.6559465332032 valid 1692.7403564453125\n",
      "EPOCH 12:\n",
      "  batch 1000 loss: 1666.2865111083984\n",
      "  batch 2000 loss: 1667.6165123291016\n",
      "  batch 3000 loss: 1678.0320200195313\n",
      "LOSS train 1678.0320200195313 valid 1685.92333984375\n",
      "EPOCH 13:\n",
      "  batch 1000 loss: 1665.6673198242188\n",
      "  batch 2000 loss: 1663.5822374267577\n",
      "  batch 3000 loss: 1673.604004760742\n",
      "LOSS train 1673.604004760742 valid 1680.1378173828125\n",
      "EPOCH 14:\n",
      "  batch 1000 loss: 1658.1605004882813\n",
      "  batch 2000 loss: 1663.508845336914\n",
      "  batch 3000 loss: 1662.9096680908203\n",
      "LOSS train 1662.9096680908203 valid 1676.6715087890625\n",
      "EPOCH 15:\n",
      "  batch 1000 loss: 1655.962047607422\n",
      "  batch 2000 loss: 1669.7699212646485\n",
      "  batch 3000 loss: 1658.590528564453\n",
      "LOSS train 1658.590528564453 valid 1690.9442138671875\n",
      "EPOCH 16:\n",
      "  batch 1000 loss: 1652.3206026611329\n",
      "  batch 2000 loss: 1663.067766479492\n",
      "  batch 3000 loss: 1658.1022338867188\n",
      "LOSS train 1658.1022338867188 valid 1684.6343994140625\n",
      "EPOCH 17:\n",
      "  batch 1000 loss: 1658.4449500732421\n",
      "  batch 2000 loss: 1655.5137725830077\n",
      "  batch 3000 loss: 1650.6716076660157\n",
      "LOSS train 1650.6716076660157 valid 1682.6080322265625\n",
      "EPOCH 18:\n",
      "  batch 1000 loss: 1651.257195678711\n",
      "  batch 2000 loss: 1654.3817905273438\n",
      "  batch 3000 loss: 1652.366463989258\n",
      "LOSS train 1652.366463989258 valid 1683.766845703125\n",
      "EPOCH 19:\n",
      "  batch 1000 loss: 1645.6814377441406\n",
      "  batch 2000 loss: 1651.6141984863282\n",
      "  batch 3000 loss: 1649.2046892089843\n",
      "LOSS train 1649.2046892089843 valid 1687.9345703125\n",
      "EPOCH 20:\n",
      "  batch 1000 loss: 1645.7049227294922\n",
      "  batch 2000 loss: 1655.0547108154296\n",
      "  batch 3000 loss: 1645.3528758544921\n",
      "LOSS train 1645.3528758544921 valid 1674.6805419921875\n"
     ]
    },
    {
     "data": {
      "application/javascript": [
       "\n",
       "            setTimeout(function() {\n",
       "                var nbb_cell_id = 8;\n",
       "                var nbb_unformatted_code = \"# build model\\n\\nvae = VAE(input_dim=784, hidden_dim=[512, 256], z_dim=16)\\n# if torch.backends.mps.is_available():\\n#     DEVICE = 'mps'\\n# else:\\n#train_loader = torch.utils.data.DataLoader(dataset=torch.Tensor(torch.randn(30, 5000)), batch_size=100, shuffle=True)\\n\\nDEVICE = 'cpu'\\n    \\nvae.to(DEVICE)\\n\\noptimizer = optim.Adam(vae.parameters())\\n\\n\\n# Initializing in a separate cell so we can easily add more epochs to the same run\\ntimestamp = datetime.now().strftime('%Y%m%d_%H%M%S')\\nwriter = SummaryWriter('runs/tcga_trainer_{}'.format(timestamp))\\nepoch_number = 0\\n\\nEPOCHS = 20\\n\\nbest_vloss = 1_000_000.\\n\\nfor epoch in range(EPOCHS):\\n    print('EPOCH {}:'.format(epoch_number + 1))\\n\\n    # Make sure gradient tracking is on, and do a pass over the data\\n    vae.train(True)\\n    avg_loss = train_one_epoch(epoch_number, writer)\\n\\n    # We don't need gradients on to do reporting\\n    vae.train(False)\\n\\n    running_vloss = 0.0\\n    for i, (vdata, _) in enumerate(validation_loader):\\n        vinputs = vdata\\n        voutputs, latent = vae(vinputs)\\n        \\n        vloss = VAE.loss_function_dist(voutputs, vinputs, latent)\\n        running_vloss += vloss\\n\\n    avg_vloss = running_vloss / (i + 1)\\n    \\n    print('LOSS train {} valid {}'.format(avg_loss, avg_vloss))\\n\\n    # Log the running loss averaged per batch\\n    # for both training and validation\\n    writer.add_scalars('Training vs. Validation Loss',\\n                    { 'Training' : avg_loss, 'Validation' : avg_vloss },\\n                    epoch_number + 1)\\n    writer.flush()\\n\\n    # Track best performance, and save the model's state\\n    if avg_vloss < best_vloss:\\n        best_vloss = avg_vloss\\n        model_path = 'model_{}_{}'.format(timestamp, epoch_number)\\n        #torch.save(vae.state_dict(), model_path)\\n\\n    epoch_number += 1\";\n",
       "                var nbb_formatted_code = \"# build model\\n\\nvae = VAE(input_dim=784, hidden_dim=[512, 256], z_dim=16)\\n# if torch.backends.mps.is_available():\\n#     DEVICE = 'mps'\\n# else:\\n# train_loader = torch.utils.data.DataLoader(dataset=torch.Tensor(torch.randn(30, 5000)), batch_size=100, shuffle=True)\\n\\nDEVICE = \\\"cpu\\\"\\n\\nvae.to(DEVICE)\\n\\noptimizer = optim.Adam(vae.parameters())\\n\\n\\n# Initializing in a separate cell so we can easily add more epochs to the same run\\ntimestamp = datetime.now().strftime(\\\"%Y%m%d_%H%M%S\\\")\\nwriter = SummaryWriter(\\\"runs/tcga_trainer_{}\\\".format(timestamp))\\nepoch_number = 0\\n\\nEPOCHS = 20\\n\\nbest_vloss = 1_000_000.0\\n\\nfor epoch in range(EPOCHS):\\n    print(\\\"EPOCH {}:\\\".format(epoch_number + 1))\\n\\n    # Make sure gradient tracking is on, and do a pass over the data\\n    vae.train(True)\\n    avg_loss = train_one_epoch(epoch_number, writer)\\n\\n    # We don't need gradients on to do reporting\\n    vae.train(False)\\n\\n    running_vloss = 0.0\\n    for i, (vdata, _) in enumerate(validation_loader):\\n        vinputs = vdata\\n        voutputs, latent = vae(vinputs)\\n\\n        vloss = VAE.loss_function_dist(voutputs, vinputs, latent)\\n        running_vloss += vloss\\n\\n    avg_vloss = running_vloss / (i + 1)\\n\\n    print(\\\"LOSS train {} valid {}\\\".format(avg_loss, avg_vloss))\\n\\n    # Log the running loss averaged per batch\\n    # for both training and validation\\n    writer.add_scalars(\\n        \\\"Training vs. Validation Loss\\\",\\n        {\\\"Training\\\": avg_loss, \\\"Validation\\\": avg_vloss},\\n        epoch_number + 1,\\n    )\\n    writer.flush()\\n\\n    # Track best performance, and save the model's state\\n    if avg_vloss < best_vloss:\\n        best_vloss = avg_vloss\\n        model_path = \\\"model_{}_{}\\\".format(timestamp, epoch_number)\\n        # torch.save(vae.state_dict(), model_path)\\n\\n    epoch_number += 1\";\n",
       "                var nbb_cells = Jupyter.notebook.get_cells();\n",
       "                for (var i = 0; i < nbb_cells.length; ++i) {\n",
       "                    if (nbb_cells[i].input_prompt_number == nbb_cell_id) {\n",
       "                        if (nbb_cells[i].get_text() == nbb_unformatted_code) {\n",
       "                             nbb_cells[i].set_text(nbb_formatted_code);\n",
       "                        }\n",
       "                        break;\n",
       "                    }\n",
       "                }\n",
       "            }, 500);\n",
       "            "
      ],
      "text/plain": [
       "<IPython.core.display.Javascript object>"
      ]
     },
     "metadata": {},
     "output_type": "display_data"
    }
   ],
   "source": [
    "# build model\n",
    "\n",
    "vae = VAE(input_dim=784, hidden_dim=[512, 256], z_dim=16)\n",
    "# if torch.backends.mps.is_available():\n",
    "#     DEVICE = 'mps'\n",
    "# else:\n",
    "#train_loader = torch.utils.data.DataLoader(dataset=torch.Tensor(torch.randn(30, 5000)), batch_size=100, shuffle=True)\n",
    "\n",
    "DEVICE = 'cpu'\n",
    "    \n",
    "vae.to(DEVICE)\n",
    "\n",
    "optimizer = optim.Adam(vae.parameters())\n",
    "\n",
    "\n",
    "# Initializing in a separate cell so we can easily add more epochs to the same run\n",
    "timestamp = datetime.now().strftime('%Y%m%d_%H%M%S')\n",
    "writer = SummaryWriter('runs/tcga_trainer_{}'.format(timestamp))\n",
    "epoch_number = 0\n",
    "\n",
    "EPOCHS = 20\n",
    "\n",
    "best_vloss = 1_000_000.\n",
    "\n",
    "for epoch in range(EPOCHS):\n",
    "    print('EPOCH {}:'.format(epoch_number + 1))\n",
    "\n",
    "    # Make sure gradient tracking is on, and do a pass over the data\n",
    "    vae.train(True)\n",
    "    avg_loss = train_one_epoch(epoch_number, writer)\n",
    "\n",
    "    # We don't need gradients on to do reporting\n",
    "    vae.train(False)\n",
    "\n",
    "    running_vloss = 0.0\n",
    "    for i, (vdata, _) in enumerate(validation_loader):\n",
    "        vinputs = vdata\n",
    "        voutputs, latent = vae(vinputs)\n",
    "        \n",
    "        vloss = VAE.loss_function_dist(voutputs, vinputs, latent)\n",
    "        running_vloss += vloss\n",
    "\n",
    "    avg_vloss = running_vloss / (i + 1)\n",
    "    \n",
    "    print('LOSS train {} valid {}'.format(avg_loss, avg_vloss))\n",
    "\n",
    "    # Log the running loss averaged per batch\n",
    "    # for both training and validation\n",
    "    writer.add_scalars('Training vs. Validation Loss',\n",
    "                    { 'Training' : avg_loss, 'Validation' : avg_vloss },\n",
    "                    epoch_number + 1)\n",
    "    writer.flush()\n",
    "\n",
    "    # Track best performance, and save the model's state\n",
    "    if avg_vloss < best_vloss:\n",
    "        best_vloss = avg_vloss\n",
    "        model_path = 'model_{}_{}'.format(timestamp, epoch_number)\n",
    "        #torch.save(vae.state_dict(), model_path)\n",
    "\n",
    "    epoch_number += 1"
   ]
  },
  {
   "cell_type": "code",
   "execution_count": 9,
   "id": "9250808b-b978-4d1a-9f9f-def2617dde3c",
   "metadata": {
    "tags": []
   },
   "outputs": [
    {
     "data": {
      "text/plain": [
       "<matplotlib.image.AxesImage at 0x2912bd150>"
      ]
     },
     "execution_count": 9,
     "metadata": {},
     "output_type": "execute_result"
    },
    {
     "data": {
      "image/png": "[encoded data removed]",
      "text/plain": [
       "<Figure size 640x480 with 1 Axes>"
      ]
     },
     "metadata": {},
     "output_type": "display_data"
    },
    {
     "data": {
      "application/javascript": [
       "\n",
       "            setTimeout(function() {\n",
       "                var nbb_cell_id = 9;\n",
       "                var nbb_unformatted_code = \"# %%\\nimport matplotlib.pyplot as plt\\nz = torch.randn(64, 16)\\nsample = vae.decoder(z).detach()\\nplt.imshow(sample.view(64, 1, 28, 28)[2].permute(1, 2, 0)  )\";\n",
       "                var nbb_formatted_code = \"# %%\\nimport matplotlib.pyplot as plt\\n\\nz = torch.randn(64, 16)\\nsample = vae.decoder(z).detach()\\nplt.imshow(sample.view(64, 1, 28, 28)[2].permute(1, 2, 0))\";\n",
       "                var nbb_cells = Jupyter.notebook.get_cells();\n",
       "                for (var i = 0; i < nbb_cells.length; ++i) {\n",
       "                    if (nbb_cells[i].input_prompt_number == nbb_cell_id) {\n",
       "                        if (nbb_cells[i].get_text() == nbb_unformatted_code) {\n",
       "                             nbb_cells[i].set_text(nbb_formatted_code);\n",
       "                        }\n",
       "                        break;\n",
       "                    }\n",
       "                }\n",
       "            }, 500);\n",
       "            "
      ],
      "text/plain": [
       "<IPython.core.display.Javascript object>"
      ]
     },
     "metadata": {},
     "output_type": "display_data"
    }
   ],
   "source": [
    "# %%\n",
    "import matplotlib.pyplot as plt\n",
    "z = torch.randn(64, 16)\n",
    "sample = vae.decoder(z).detach()\n",
    "plt.imshow(sample.view(64, 1, 28, 28)[2].permute(1, 2, 0)  )\n"
   ]
  },
  {
   "cell_type": "code",
   "execution_count": 10,
   "id": "40673fb4-6552-437f-a472-d78c4374a776",
   "metadata": {
    "tags": []
   },
   "outputs": [
    {
     "data": {
      "text/plain": [
       "<matplotlib.image.AxesImage at 0x29140bd10>"
      ]
     },
     "execution_count": 10,
     "metadata": {},
     "output_type": "execute_result"
    },
    {
     "data": {
      "image/png": "[encoded data removed]",
      "text/plain": [
       "<Figure size 640x480 with 2 Axes>"
      ]
     },
     "metadata": {},
     "output_type": "display_data"
    },
    {
     "data": {
      "application/javascript": [
       "\n",
       "            setTimeout(function() {\n",
       "                var nbb_cell_id = 10;\n",
       "                var nbb_unformatted_code = \"# %%\\nidx = 4\\nax = plt.subplot(2,1,1)\\nplt.imshow(vdata[idx,:].permute(1, 2, 0)  )\\nax = plt.subplot(2,1,2)\\nplt.imshow(voutputs.detach().view(16, 1, 28, 28)[idx].permute(1, 2, 0))\\n\\n# %%\";\n",
       "                var nbb_formatted_code = \"# %%\\nidx = 4\\nax = plt.subplot(2, 1, 1)\\nplt.imshow(vdata[idx, :].permute(1, 2, 0))\\nax = plt.subplot(2, 1, 2)\\nplt.imshow(voutputs.detach().view(16, 1, 28, 28)[idx].permute(1, 2, 0))\\n\\n# %%\";\n",
       "                var nbb_cells = Jupyter.notebook.get_cells();\n",
       "                for (var i = 0; i < nbb_cells.length; ++i) {\n",
       "                    if (nbb_cells[i].input_prompt_number == nbb_cell_id) {\n",
       "                        if (nbb_cells[i].get_text() == nbb_unformatted_code) {\n",
       "                             nbb_cells[i].set_text(nbb_formatted_code);\n",
       "                        }\n",
       "                        break;\n",
       "                    }\n",
       "                }\n",
       "            }, 500);\n",
       "            "
      ],
      "text/plain": [
       "<IPython.core.display.Javascript object>"
      ]
     },
     "metadata": {},
     "output_type": "display_data"
    }
   ],
   "source": [
    "# %%\n",
    "idx = 4\n",
    "ax = plt.subplot(2,1,1)\n",
    "plt.imshow(vdata[idx,:].permute(1, 2, 0)  )\n",
    "ax = plt.subplot(2,1,2)\n",
    "plt.imshow(voutputs.detach().view(16, 1, 28, 28)[idx].permute(1, 2, 0))\n",
    "\n",
    "# %%"
   ]
  },
  {
   "cell_type": "markdown",
   "id": "e2eef8a0-96d3-4272-9c16-c844db9e9966",
   "metadata": {
    "tags": []
   },
   "source": [
    "Permute some pixals of an image"
   ]
  },
  {
   "cell_type": "code",
   "execution_count": 11,
   "id": "ed3073ec-28fc-4334-b8c8-6c3d72875054",
   "metadata": {
    "tags": []
   },
   "outputs": [
    {
     "data": {
      "application/javascript": [
       "\n",
       "            setTimeout(function() {\n",
       "                var nbb_cell_id = 11;\n",
       "                var nbb_unformatted_code = \"\\n# Get the dimensions of the image tensor\\nC, H, W = vdata[15].shape\\n\\n# Define the number of pixels to permute and randomly select pixel indices\\nnum_pixels_to_permute = int(H*W*0.4) # permute only 50% of pixels\\nperm_indices = torch.randperm(H*W)[:num_pixels_to_permute]\\n\\n# Define the subset of pixels to be permuted\\nsubset_indices = torch.randperm(num_pixels_to_permute)[:num_pixels_to_permute//2]\\n\\n# Create a tensor to hold the permutation order for the selected pixels\\nperm_order = torch.randperm(num_pixels_to_permute//2)\\n\\n# Flatten the image tensor and permute the selected pixels\\nflat_img_tensor = vdata[15].detach().clone().view(C, H*W)\\nflat_img_tensor[:, perm_indices[subset_indices]] = flat_img_tensor[:, perm_indices[subset_indices[perm_order]]]\\n\\n# Reshape the permuted tensor back to its original shape\\npermuted_img_tensor = flat_img_tensor.view(C, H, W)\";\n",
       "                var nbb_formatted_code = \"# Get the dimensions of the image tensor\\nC, H, W = vdata[15].shape\\n\\n# Define the number of pixels to permute and randomly select pixel indices\\nnum_pixels_to_permute = int(H * W * 0.4)  # permute only 50% of pixels\\nperm_indices = torch.randperm(H * W)[:num_pixels_to_permute]\\n\\n# Define the subset of pixels to be permuted\\nsubset_indices = torch.randperm(num_pixels_to_permute)[: num_pixels_to_permute // 2]\\n\\n# Create a tensor to hold the permutation order for the selected pixels\\nperm_order = torch.randperm(num_pixels_to_permute // 2)\\n\\n# Flatten the image tensor and permute the selected pixels\\nflat_img_tensor = vdata[15].detach().clone().view(C, H * W)\\nflat_img_tensor[:, perm_indices[subset_indices]] = flat_img_tensor[\\n    :, perm_indices[subset_indices[perm_order]]\\n]\\n\\n# Reshape the permuted tensor back to its original shape\\npermuted_img_tensor = flat_img_tensor.view(C, H, W)\";\n",
       "                var nbb_cells = Jupyter.notebook.get_cells();\n",
       "                for (var i = 0; i < nbb_cells.length; ++i) {\n",
       "                    if (nbb_cells[i].input_prompt_number == nbb_cell_id) {\n",
       "                        if (nbb_cells[i].get_text() == nbb_unformatted_code) {\n",
       "                             nbb_cells[i].set_text(nbb_formatted_code);\n",
       "                        }\n",
       "                        break;\n",
       "                    }\n",
       "                }\n",
       "            }, 500);\n",
       "            "
      ],
      "text/plain": [
       "<IPython.core.display.Javascript object>"
      ]
     },
     "metadata": {},
     "output_type": "display_data"
    }
   ],
   "source": [
    "\n",
    "# Get the dimensions of the image tensor\n",
    "C, H, W = vdata[15].shape\n",
    "\n",
    "# Define the number of pixels to permute and randomly select pixel indices\n",
    "num_pixels_to_permute = int(H*W*0.4) # permute only 50% of pixels\n",
    "perm_indices = torch.randperm(H*W)[:num_pixels_to_permute]\n",
    "\n",
    "# Define the subset of pixels to be permuted\n",
    "subset_indices = torch.randperm(num_pixels_to_permute)[:num_pixels_to_permute//2]\n",
    "\n",
    "# Create a tensor to hold the permutation order for the selected pixels\n",
    "perm_order = torch.randperm(num_pixels_to_permute//2)\n",
    "\n",
    "# Flatten the image tensor and permute the selected pixels\n",
    "flat_img_tensor = vdata[15].detach().clone().view(C, H*W)\n",
    "flat_img_tensor[:, perm_indices[subset_indices]] = flat_img_tensor[:, perm_indices[subset_indices[perm_order]]]\n",
    "\n",
    "# Reshape the permuted tensor back to its original shape\n",
    "permuted_img_tensor = flat_img_tensor.view(C, H, W)\n",
    "\n"
   ]
  },
  {
   "cell_type": "code",
   "execution_count": 12,
   "id": "86304756-270b-40e8-b8ee-630758835f80",
   "metadata": {
    "tags": []
   },
   "outputs": [
    {
     "data": {
      "application/javascript": [
       "\n",
       "            setTimeout(function() {\n",
       "                var nbb_cell_id = 12;\n",
       "                var nbb_unformatted_code = \"recon_test_orig, latent_test_orig = vae(vdata[15])\";\n",
       "                var nbb_formatted_code = \"recon_test_orig, latent_test_orig = vae(vdata[15])\";\n",
       "                var nbb_cells = Jupyter.notebook.get_cells();\n",
       "                for (var i = 0; i < nbb_cells.length; ++i) {\n",
       "                    if (nbb_cells[i].input_prompt_number == nbb_cell_id) {\n",
       "                        if (nbb_cells[i].get_text() == nbb_unformatted_code) {\n",
       "                             nbb_cells[i].set_text(nbb_formatted_code);\n",
       "                        }\n",
       "                        break;\n",
       "                    }\n",
       "                }\n",
       "            }, 500);\n",
       "            "
      ],
      "text/plain": [
       "<IPython.core.display.Javascript object>"
      ]
     },
     "metadata": {},
     "output_type": "display_data"
    }
   ],
   "source": [
    "recon_test_orig, latent_test_orig = vae(vdata[15])"
   ]
  },
  {
   "cell_type": "code",
   "execution_count": 13,
   "id": "7357d9b5-ee76-455b-baea-429c4d8cea79",
   "metadata": {
    "tags": []
   },
   "outputs": [
    {
     "data": {
      "application/javascript": [
       "\n",
       "            setTimeout(function() {\n",
       "                var nbb_cell_id = 13;\n",
       "                var nbb_unformatted_code = \"recon_test, latent_test = vae(permuted_img_tensor)\";\n",
       "                var nbb_formatted_code = \"recon_test, latent_test = vae(permuted_img_tensor)\";\n",
       "                var nbb_cells = Jupyter.notebook.get_cells();\n",
       "                for (var i = 0; i < nbb_cells.length; ++i) {\n",
       "                    if (nbb_cells[i].input_prompt_number == nbb_cell_id) {\n",
       "                        if (nbb_cells[i].get_text() == nbb_unformatted_code) {\n",
       "                             nbb_cells[i].set_text(nbb_formatted_code);\n",
       "                        }\n",
       "                        break;\n",
       "                    }\n",
       "                }\n",
       "            }, 500);\n",
       "            "
      ],
      "text/plain": [
       "<IPython.core.display.Javascript object>"
      ]
     },
     "metadata": {},
     "output_type": "display_data"
    }
   ],
   "source": [
    "recon_test, latent_test = vae(permuted_img_tensor)"
   ]
  },
  {
   "cell_type": "code",
   "execution_count": 14,
   "id": "ec55a29e-bc2f-4f59-8e84-e3559247dc45",
   "metadata": {
    "tags": []
   },
   "outputs": [
    {
     "data": {
      "text/plain": [
       "<matplotlib.image.AxesImage at 0x29c8728d0>"
      ]
     },
     "execution_count": 14,
     "metadata": {},
     "output_type": "execute_result"
    },
    {
     "data": {
      "image/png": "[encoded data removed]",
      "text/plain": [
       "<Figure size 640x480 with 1 Axes>"
      ]
     },
     "metadata": {},
     "output_type": "display_data"
    },
    {
     "data": {
      "application/javascript": [
       "\n",
       "            setTimeout(function() {\n",
       "                var nbb_cell_id = 14;\n",
       "                var nbb_unformatted_code = \"plt.imshow(permuted_img_tensor.detach().view(1, 28, 28).permute(1, 2, 0))\";\n",
       "                var nbb_formatted_code = \"plt.imshow(permuted_img_tensor.detach().view(1, 28, 28).permute(1, 2, 0))\";\n",
       "                var nbb_cells = Jupyter.notebook.get_cells();\n",
       "                for (var i = 0; i < nbb_cells.length; ++i) {\n",
       "                    if (nbb_cells[i].input_prompt_number == nbb_cell_id) {\n",
       "                        if (nbb_cells[i].get_text() == nbb_unformatted_code) {\n",
       "                             nbb_cells[i].set_text(nbb_formatted_code);\n",
       "                        }\n",
       "                        break;\n",
       "                    }\n",
       "                }\n",
       "            }, 500);\n",
       "            "
      ],
      "text/plain": [
       "<IPython.core.display.Javascript object>"
      ]
     },
     "metadata": {},
     "output_type": "display_data"
    }
   ],
   "source": [
    "plt.imshow(permuted_img_tensor.detach().view(1, 28, 28).permute(1, 2, 0))"
   ]
  },
  {
   "cell_type": "code",
   "execution_count": 15,
   "id": "4de0bf06-5ce5-4a62-9c96-37c487c8da9e",
   "metadata": {
    "tags": []
   },
   "outputs": [
    {
     "data": {
      "text/plain": [
       "<matplotlib.image.AxesImage at 0x298773c50>"
      ]
     },
     "execution_count": 15,
     "metadata": {},
     "output_type": "execute_result"
    },
    {
     "data": {
      "image/png": "[encoded data removed]",
      "text/plain": [
       "<Figure size 640x480 with 1 Axes>"
      ]
     },
     "metadata": {},
     "output_type": "display_data"
    },
    {
     "data": {
      "application/javascript": [
       "\n",
       "            setTimeout(function() {\n",
       "                var nbb_cell_id = 15;\n",
       "                var nbb_unformatted_code = \"plt.imshow(recon_test.detach().view(1, 28, 28).permute(1, 2, 0))\";\n",
       "                var nbb_formatted_code = \"plt.imshow(recon_test.detach().view(1, 28, 28).permute(1, 2, 0))\";\n",
       "                var nbb_cells = Jupyter.notebook.get_cells();\n",
       "                for (var i = 0; i < nbb_cells.length; ++i) {\n",
       "                    if (nbb_cells[i].input_prompt_number == nbb_cell_id) {\n",
       "                        if (nbb_cells[i].get_text() == nbb_unformatted_code) {\n",
       "                             nbb_cells[i].set_text(nbb_formatted_code);\n",
       "                        }\n",
       "                        break;\n",
       "                    }\n",
       "                }\n",
       "            }, 500);\n",
       "            "
      ],
      "text/plain": [
       "<IPython.core.display.Javascript object>"
      ]
     },
     "metadata": {},
     "output_type": "display_data"
    }
   ],
   "source": [
    "plt.imshow(recon_test.detach().view(1, 28, 28).permute(1, 2, 0))"
   ]
  },
  {
   "cell_type": "code",
   "execution_count": 16,
   "id": "286bb8d3-846d-4dc3-b4f6-0d25284a35f8",
   "metadata": {
    "tags": []
   },
   "outputs": [
    {
     "data": {
      "text/plain": [
       "<matplotlib.image.AxesImage at 0x29c8d39d0>"
      ]
     },
     "execution_count": 16,
     "metadata": {},
     "output_type": "execute_result"
    },
    {
     "data": {
      "image/png": "[encoded data removed]",
      "text/plain": [
       "<Figure size 640x480 with 1 Axes>"
      ]
     },
     "metadata": {},
     "output_type": "display_data"
    },
    {
     "data": {
      "application/javascript": [
       "\n",
       "            setTimeout(function() {\n",
       "                var nbb_cell_id = 16;\n",
       "                var nbb_unformatted_code = \"plt.imshow(recon_test_orig.detach().view(1, 28, 28).permute(1, 2, 0))\";\n",
       "                var nbb_formatted_code = \"plt.imshow(recon_test_orig.detach().view(1, 28, 28).permute(1, 2, 0))\";\n",
       "                var nbb_cells = Jupyter.notebook.get_cells();\n",
       "                for (var i = 0; i < nbb_cells.length; ++i) {\n",
       "                    if (nbb_cells[i].input_prompt_number == nbb_cell_id) {\n",
       "                        if (nbb_cells[i].get_text() == nbb_unformatted_code) {\n",
       "                             nbb_cells[i].set_text(nbb_formatted_code);\n",
       "                        }\n",
       "                        break;\n",
       "                    }\n",
       "                }\n",
       "            }, 500);\n",
       "            "
      ],
      "text/plain": [
       "<IPython.core.display.Javascript object>"
      ]
     },
     "metadata": {},
     "output_type": "display_data"
    }
   ],
   "source": [
    "plt.imshow(recon_test_orig.detach().view(1, 28, 28).permute(1, 2, 0))"
   ]
  },
  {
   "cell_type": "code",
   "execution_count": 115,
   "id": "01888136-44c0-4779-8e5d-c0d202dca44b",
   "metadata": {
    "tags": []
   },
   "outputs": [
    {
     "data": {
      "application/javascript": [
       "\n",
       "            setTimeout(function() {\n",
       "                var nbb_cell_id = 115;\n",
       "                var nbb_unformatted_code = \"import warnings\\nwarnings.filterwarnings(\\\"ignore\\\")\\n# Define the number of columns\\nn = 784\\n\\n# Create an empty Pandas dataframe\\nreconstructed_df = pd.DataFrame()\\noriginal_df = pd.DataFrame()\\n\\n# Add n columns to the dataframe\\nfor i in range(n):\\n    reconstructed_df[f'Column {i+1}'] = []\\n    original_df[f'Column {i+1}'] = []\";\n",
       "                var nbb_formatted_code = \"import warnings\\n\\nwarnings.filterwarnings(\\\"ignore\\\")\\n# Define the number of columns\\nn = 784\\n\\n# Create an empty Pandas dataframe\\nreconstructed_df = pd.DataFrame()\\noriginal_df = pd.DataFrame()\\n\\n# Add n columns to the dataframe\\nfor i in range(n):\\n    reconstructed_df[f\\\"Column {i+1}\\\"] = []\\n    original_df[f\\\"Column {i+1}\\\"] = []\";\n",
       "                var nbb_cells = Jupyter.notebook.get_cells();\n",
       "                for (var i = 0; i < nbb_cells.length; ++i) {\n",
       "                    if (nbb_cells[i].input_prompt_number == nbb_cell_id) {\n",
       "                        if (nbb_cells[i].get_text() == nbb_unformatted_code) {\n",
       "                             nbb_cells[i].set_text(nbb_formatted_code);\n",
       "                        }\n",
       "                        break;\n",
       "                    }\n",
       "                }\n",
       "            }, 500);\n",
       "            "
      ],
      "text/plain": [
       "<IPython.core.display.Javascript object>"
      ]
     },
     "metadata": {},
     "output_type": "display_data"
    }
   ],
   "source": [
    "import warnings\n",
    "warnings.filterwarnings(\"ignore\")\n",
    "# Define the number of columns\n",
    "n = 784\n",
    "\n",
    "# Create an empty Pandas dataframe\n",
    "reconstructed_df = pd.DataFrame()\n",
    "original_df = pd.DataFrame()\n",
    "\n",
    "# Add n columns to the dataframe\n",
    "for i in range(n):\n",
    "    reconstructed_df[f'Column {i+1}'] = []\n",
    "    original_df[f'Column {i+1}'] = []"
   ]
  },
  {
   "cell_type": "code",
   "execution_count": 157,
   "id": "b3d12613-334e-405d-9649-e7830a6cd270",
   "metadata": {
    "tags": []
   },
   "outputs": [
    {
     "data": {
      "application/javascript": [
       "\n",
       "            setTimeout(function() {\n",
       "                var nbb_cell_id = 157;\n",
       "                var nbb_unformatted_code = \"BCE_loss = []\\nKLD_loss = []\\nMSE_loss = []\\n\\nfor (vdata, _) in validation_loader:\\n    \\n    for i in vdata:\\n        reconstructed_df = reconstructed_df.append(\\n            pd.DataFrame(vae.forward(i)[0].detach().numpy(), \\n                         columns=reconstructed_df.columns), ignore_index=True)\\n\\n        original_df = original_df.append(pd.DataFrame(i.view(-1,784).numpy(), \\n                                                      columns=original_df.columns), ignore_index=True)\\n        \\n        BCE_loss.append(F.binary_cross_entropy(vae.forward(i)[0], i.view(-1,784), reduction='sum').cpu().detach().item())\\n        MSE_loss.append(F.mse_loss(vae.forward(i)[0], i.view(-1,784), reduction='sum').cpu().detach().item())\\n        \\n        prior = MultivariateNormal(loc = torch.zeros(vae.forward(i)[1].mean.shape[1]),\\n                                   scale_tril=torch.eye(vae.forward(i)[1].mean.shape[1]))\\n        KLD_loss.append(torch.sum(kl_divergence(vae.forward(i)[1], prior)).item())\\n        \";\n",
       "                var nbb_formatted_code = \"BCE_loss = []\\nKLD_loss = []\\nMSE_loss = []\\n\\nfor vdata, _ in validation_loader:\\n    for i in vdata:\\n        reconstructed_df = reconstructed_df.append(\\n            pd.DataFrame(\\n                vae.forward(i)[0].detach().numpy(), columns=reconstructed_df.columns\\n            ),\\n            ignore_index=True,\\n        )\\n\\n        original_df = original_df.append(\\n            pd.DataFrame(i.view(-1, 784).numpy(), columns=original_df.columns),\\n            ignore_index=True,\\n        )\\n\\n        BCE_loss.append(\\n            F.binary_cross_entropy(vae.forward(i)[0], i.view(-1, 784), reduction=\\\"sum\\\")\\n            .cpu()\\n            .detach()\\n            .item()\\n        )\\n        MSE_loss.append(\\n            F.mse_loss(vae.forward(i)[0], i.view(-1, 784), reduction=\\\"sum\\\")\\n            .cpu()\\n            .detach()\\n            .item()\\n        )\\n\\n        prior = MultivariateNormal(\\n            loc=torch.zeros(vae.forward(i)[1].mean.shape[1]),\\n            scale_tril=torch.eye(vae.forward(i)[1].mean.shape[1]),\\n        )\\n        KLD_loss.append(torch.sum(kl_divergence(vae.forward(i)[1], prior)).item())\";\n",
       "                var nbb_cells = Jupyter.notebook.get_cells();\n",
       "                for (var i = 0; i < nbb_cells.length; ++i) {\n",
       "                    if (nbb_cells[i].input_prompt_number == nbb_cell_id) {\n",
       "                        if (nbb_cells[i].get_text() == nbb_unformatted_code) {\n",
       "                             nbb_cells[i].set_text(nbb_formatted_code);\n",
       "                        }\n",
       "                        break;\n",
       "                    }\n",
       "                }\n",
       "            }, 500);\n",
       "            "
      ],
      "text/plain": [
       "<IPython.core.display.Javascript object>"
      ]
     },
     "metadata": {},
     "output_type": "display_data"
    }
   ],
   "source": [
    "BCE_loss = []\n",
    "KLD_loss = []\n",
    "MSE_loss = []\n",
    "\n",
    "for (vdata, _) in validation_loader:\n",
    "    \n",
    "    for i in vdata:\n",
    "        reconstructed_df = reconstructed_df.append(\n",
    "            pd.DataFrame(vae.forward(i)[0].detach().numpy(), \n",
    "                         columns=reconstructed_df.columns), ignore_index=True)\n",
    "\n",
    "        original_df = original_df.append(pd.DataFrame(i.view(-1,784).numpy(), \n",
    "                                                      columns=original_df.columns), ignore_index=True)\n",
    "        \n",
    "        BCE_loss.append(F.binary_cross_entropy(vae.forward(i)[0], i.view(-1,784), reduction='sum').cpu().detach().item())\n",
    "        MSE_loss.append(F.mse_loss(vae.forward(i)[0], i.view(-1,784), reduction='sum').cpu().detach().item())\n",
    "        \n",
    "        prior = MultivariateNormal(loc = torch.zeros(vae.forward(i)[1].mean.shape[1]),\n",
    "                                   scale_tril=torch.eye(vae.forward(i)[1].mean.shape[1]))\n",
    "        KLD_loss.append(torch.sum(kl_divergence(vae.forward(i)[1], prior)).item())\n",
    "        \n"
   ]
  },
  {
   "cell_type": "code",
   "execution_count": 158,
   "id": "08fb6fcf-c5c3-4fb8-ae99-0d9a9290251e",
   "metadata": {
    "tags": []
   },
   "outputs": [
    {
     "data": {
      "application/javascript": [
       "\n",
       "            setTimeout(function() {\n",
       "                var nbb_cell_id = 158;\n",
       "                var nbb_unformatted_code = \"reconstruction_fidelity = reconstructed_df - original_df\";\n",
       "                var nbb_formatted_code = \"reconstruction_fidelity = reconstructed_df - original_df\";\n",
       "                var nbb_cells = Jupyter.notebook.get_cells();\n",
       "                for (var i = 0; i < nbb_cells.length; ++i) {\n",
       "                    if (nbb_cells[i].input_prompt_number == nbb_cell_id) {\n",
       "                        if (nbb_cells[i].get_text() == nbb_unformatted_code) {\n",
       "                             nbb_cells[i].set_text(nbb_formatted_code);\n",
       "                        }\n",
       "                        break;\n",
       "                    }\n",
       "                }\n",
       "            }, 500);\n",
       "            "
      ],
      "text/plain": [
       "<IPython.core.display.Javascript object>"
      ]
     },
     "metadata": {},
     "output_type": "display_data"
    }
   ],
   "source": [
    "reconstruction_fidelity = reconstructed_df - original_df"
   ]
  },
  {
   "cell_type": "code",
   "execution_count": 159,
   "id": "feab856e-6c1c-45d0-8577-4e6a2f3e9167",
   "metadata": {
    "tags": []
   },
   "outputs": [
    {
     "data": {
      "application/javascript": [
       "\n",
       "            setTimeout(function() {\n",
       "                var nbb_cell_id = 159;\n",
       "                var nbb_unformatted_code = \"mnist_mean = reconstruction_fidelity.mean(axis=0)\";\n",
       "                var nbb_formatted_code = \"mnist_mean = reconstruction_fidelity.mean(axis=0)\";\n",
       "                var nbb_cells = Jupyter.notebook.get_cells();\n",
       "                for (var i = 0; i < nbb_cells.length; ++i) {\n",
       "                    if (nbb_cells[i].input_prompt_number == nbb_cell_id) {\n",
       "                        if (nbb_cells[i].get_text() == nbb_unformatted_code) {\n",
       "                             nbb_cells[i].set_text(nbb_formatted_code);\n",
       "                        }\n",
       "                        break;\n",
       "                    }\n",
       "                }\n",
       "            }, 500);\n",
       "            "
      ],
      "text/plain": [
       "<IPython.core.display.Javascript object>"
      ]
     },
     "metadata": {},
     "output_type": "display_data"
    }
   ],
   "source": [
    "mnist_mean = reconstruction_fidelity.mean(axis=0)"
   ]
  },
  {
   "cell_type": "code",
   "execution_count": 160,
   "id": "f4634d8b-fce6-4872-bb1f-9c7662e6657e",
   "metadata": {
    "tags": []
   },
   "outputs": [
    {
     "data": {
      "application/javascript": [
       "\n",
       "            setTimeout(function() {\n",
       "                var nbb_cell_id = 160;\n",
       "                var nbb_unformatted_code = \"mnist_abssum = reconstruction_fidelity.abs().sum(axis=0).divide(reconstructed_df.shape[0])\";\n",
       "                var nbb_formatted_code = \"mnist_abssum = (\\n    reconstruction_fidelity.abs().sum(axis=0).divide(reconstructed_df.shape[0])\\n)\";\n",
       "                var nbb_cells = Jupyter.notebook.get_cells();\n",
       "                for (var i = 0; i < nbb_cells.length; ++i) {\n",
       "                    if (nbb_cells[i].input_prompt_number == nbb_cell_id) {\n",
       "                        if (nbb_cells[i].get_text() == nbb_unformatted_code) {\n",
       "                             nbb_cells[i].set_text(nbb_formatted_code);\n",
       "                        }\n",
       "                        break;\n",
       "                    }\n",
       "                }\n",
       "            }, 500);\n",
       "            "
      ],
      "text/plain": [
       "<IPython.core.display.Javascript object>"
      ]
     },
     "metadata": {},
     "output_type": "display_data"
    }
   ],
   "source": [
    "mnist_abssum = reconstruction_fidelity.abs().sum(axis=0).divide(reconstructed_df.shape[0])"
   ]
  },
  {
   "cell_type": "code",
   "execution_count": 161,
   "id": "ec5bfc56-c43a-4b67-9c1d-9a169714f846",
   "metadata": {
    "tags": []
   },
   "outputs": [
    {
     "data": {
      "application/javascript": [
       "\n",
       "            setTimeout(function() {\n",
       "                var nbb_cell_id = 161;\n",
       "                var nbb_unformatted_code = \"summary = pd.DataFrame([mnist_mean, mnist_abssum], index=['mean', 'abs(sum)']).T\";\n",
       "                var nbb_formatted_code = \"summary = pd.DataFrame([mnist_mean, mnist_abssum], index=[\\\"mean\\\", \\\"abs(sum)\\\"]).T\";\n",
       "                var nbb_cells = Jupyter.notebook.get_cells();\n",
       "                for (var i = 0; i < nbb_cells.length; ++i) {\n",
       "                    if (nbb_cells[i].input_prompt_number == nbb_cell_id) {\n",
       "                        if (nbb_cells[i].get_text() == nbb_unformatted_code) {\n",
       "                             nbb_cells[i].set_text(nbb_formatted_code);\n",
       "                        }\n",
       "                        break;\n",
       "                    }\n",
       "                }\n",
       "            }, 500);\n",
       "            "
      ],
      "text/plain": [
       "<IPython.core.display.Javascript object>"
      ]
     },
     "metadata": {},
     "output_type": "display_data"
    }
   ],
   "source": [
    "summary = pd.DataFrame([mnist_mean, mnist_abssum], index=['mean', 'abs(sum)']).T"
   ]
  },
  {
   "cell_type": "code",
   "execution_count": 162,
   "id": "4a70553e-693b-49d8-b2df-f5b7eca00fa5",
   "metadata": {
    "tags": []
   },
   "outputs": [
    {
     "data": {
      "text/html": [
       "<div>\n",
       "<style scoped>\n",
       "    .dataframe tbody tr th:only-of-type {\n",
       "        vertical-align: middle;\n",
       "    }\n",
       "\n",
       "    .dataframe tbody tr th {\n",
       "        vertical-align: top;\n",
       "    }\n",
       "\n",
       "    .dataframe thead th {\n",
       "        text-align: right;\n",
       "    }\n",
       "</style>\n",
       "<table border=\"1\" class=\"dataframe\">\n",
       "  <thead>\n",
       "    <tr style=\"text-align: right;\">\n",
       "      <th></th>\n",
       "      <th>mean</th>\n",
       "      <th>abs(sum)</th>\n",
       "    </tr>\n",
       "  </thead>\n",
       "  <tbody>\n",
       "    <tr>\n",
       "      <th>Column 214</th>\n",
       "      <td>0.023259</td>\n",
       "      <td>0.152711</td>\n",
       "    </tr>\n",
       "    <tr>\n",
       "      <th>Column 213</th>\n",
       "      <td>0.006276</td>\n",
       "      <td>0.152560</td>\n",
       "    </tr>\n",
       "    <tr>\n",
       "      <th>Column 215</th>\n",
       "      <td>0.020499</td>\n",
       "      <td>0.150992</td>\n",
       "    </tr>\n",
       "    <tr>\n",
       "      <th>Column 241</th>\n",
       "      <td>-0.010663</td>\n",
       "      <td>0.149478</td>\n",
       "    </tr>\n",
       "    <tr>\n",
       "      <th>Column 212</th>\n",
       "      <td>-0.003811</td>\n",
       "      <td>0.146984</td>\n",
       "    </tr>\n",
       "  </tbody>\n",
       "</table>\n",
       "</div>"
      ],
      "text/plain": [
       "                mean  abs(sum)\n",
       "Column 214  0.023259  0.152711\n",
       "Column 213  0.006276  0.152560\n",
       "Column 215  0.020499  0.150992\n",
       "Column 241 -0.010663  0.149478\n",
       "Column 212 -0.003811  0.146984"
      ]
     },
     "execution_count": 162,
     "metadata": {},
     "output_type": "execute_result"
    },
    {
     "data": {
      "application/javascript": [
       "\n",
       "            setTimeout(function() {\n",
       "                var nbb_cell_id = 162;\n",
       "                var nbb_unformatted_code = \"summary.sort_values(by='abs(sum)', ascending=False).head()\";\n",
       "                var nbb_formatted_code = \"summary.sort_values(by=\\\"abs(sum)\\\", ascending=False).head()\";\n",
       "                var nbb_cells = Jupyter.notebook.get_cells();\n",
       "                for (var i = 0; i < nbb_cells.length; ++i) {\n",
       "                    if (nbb_cells[i].input_prompt_number == nbb_cell_id) {\n",
       "                        if (nbb_cells[i].get_text() == nbb_unformatted_code) {\n",
       "                             nbb_cells[i].set_text(nbb_formatted_code);\n",
       "                        }\n",
       "                        break;\n",
       "                    }\n",
       "                }\n",
       "            }, 500);\n",
       "            "
      ],
      "text/plain": [
       "<IPython.core.display.Javascript object>"
      ]
     },
     "metadata": {},
     "output_type": "display_data"
    }
   ],
   "source": [
    "summary.sort_values(by='abs(sum)', ascending=False).head()"
   ]
  },
  {
   "cell_type": "code",
   "execution_count": 163,
   "id": "e30666d0-13cd-456e-8c2d-7d88f86349bf",
   "metadata": {
    "tags": []
   },
   "outputs": [
    {
     "data": {
      "image/png": "[encoded data removed]",
      "text/plain": [
       "<Figure size 600x600 with 3 Axes>"
      ]
     },
     "metadata": {},
     "output_type": "display_data"
    },
    {
     "data": {
      "application/javascript": [
       "\n",
       "            setTimeout(function() {\n",
       "                var nbb_cell_id = 163;\n",
       "                var nbb_unformatted_code = \"sns.jointplot(x = 'mean', y = 'abs(sum)',\\n              kind = \\\"scatter\\\", data = summary)\\nplt.savefig('results/no_permute.png')\";\n",
       "                var nbb_formatted_code = \"sns.jointplot(x=\\\"mean\\\", y=\\\"abs(sum)\\\", kind=\\\"scatter\\\", data=summary)\\nplt.savefig(\\\"results/no_permute.png\\\")\";\n",
       "                var nbb_cells = Jupyter.notebook.get_cells();\n",
       "                for (var i = 0; i < nbb_cells.length; ++i) {\n",
       "                    if (nbb_cells[i].input_prompt_number == nbb_cell_id) {\n",
       "                        if (nbb_cells[i].get_text() == nbb_unformatted_code) {\n",
       "                             nbb_cells[i].set_text(nbb_formatted_code);\n",
       "                        }\n",
       "                        break;\n",
       "                    }\n",
       "                }\n",
       "            }, 500);\n",
       "            "
      ],
      "text/plain": [
       "<IPython.core.display.Javascript object>"
      ]
     },
     "metadata": {},
     "output_type": "display_data"
    }
   ],
   "source": [
    "sns.jointplot(x = 'mean', y = 'abs(sum)',\n",
    "              kind = \"scatter\", data = summary)\n",
    "plt.savefig('results/no_permute.png')"
   ]
  },
  {
   "cell_type": "code",
   "execution_count": 164,
   "id": "06b95e12-89c8-4fa0-acb2-0c85f8e1a6c4",
   "metadata": {
    "tags": []
   },
   "outputs": [
    {
     "data": {
      "application/javascript": [
       "\n",
       "            setTimeout(function() {\n",
       "                var nbb_cell_id = 164;\n",
       "                var nbb_unformatted_code = \"n = 784\\n\\n# Create an empty Pandas dataframe\\nreconstructed_permuted_30_df = pd.DataFrame()\\nreconstructed_permuted_50_df = pd.DataFrame()\\nreconstructed_permuted_90_df = pd.DataFrame()\\n\\n# Add n columns to the dataframe\\nfor i in range(n):\\n    reconstructed_permuted_30_df[f'Column {i+1}'] = []\\n    reconstructed_permuted_50_df[f'Column {i+1}'] = []\\n    reconstructed_permuted_90_df[f'Column {i+1}'] = []\";\n",
       "                var nbb_formatted_code = \"n = 784\\n\\n# Create an empty Pandas dataframe\\nreconstructed_permuted_30_df = pd.DataFrame()\\nreconstructed_permuted_50_df = pd.DataFrame()\\nreconstructed_permuted_90_df = pd.DataFrame()\\n\\n# Add n columns to the dataframe\\nfor i in range(n):\\n    reconstructed_permuted_30_df[f\\\"Column {i+1}\\\"] = []\\n    reconstructed_permuted_50_df[f\\\"Column {i+1}\\\"] = []\\n    reconstructed_permuted_90_df[f\\\"Column {i+1}\\\"] = []\";\n",
       "                var nbb_cells = Jupyter.notebook.get_cells();\n",
       "                for (var i = 0; i < nbb_cells.length; ++i) {\n",
       "                    if (nbb_cells[i].input_prompt_number == nbb_cell_id) {\n",
       "                        if (nbb_cells[i].get_text() == nbb_unformatted_code) {\n",
       "                             nbb_cells[i].set_text(nbb_formatted_code);\n",
       "                        }\n",
       "                        break;\n",
       "                    }\n",
       "                }\n",
       "            }, 500);\n",
       "            "
      ],
      "text/plain": [
       "<IPython.core.display.Javascript object>"
      ]
     },
     "metadata": {},
     "output_type": "display_data"
    }
   ],
   "source": [
    "n = 784\n",
    "\n",
    "# Create an empty Pandas dataframe\n",
    "reconstructed_permuted_30_df = pd.DataFrame()\n",
    "reconstructed_permuted_50_df = pd.DataFrame()\n",
    "reconstructed_permuted_90_df = pd.DataFrame()\n",
    "\n",
    "# Add n columns to the dataframe\n",
    "for i in range(n):\n",
    "    reconstructed_permuted_30_df[f'Column {i+1}'] = []\n",
    "    reconstructed_permuted_50_df[f'Column {i+1}'] = []\n",
    "    reconstructed_permuted_90_df[f'Column {i+1}'] = []"
   ]
  },
  {
   "cell_type": "code",
   "execution_count": 165,
   "id": "93af6ec1-5634-4b4f-a1e6-9b10ce8697f3",
   "metadata": {
    "tags": []
   },
   "outputs": [
    {
     "data": {
      "application/javascript": [
       "\n",
       "            setTimeout(function() {\n",
       "                var nbb_cell_id = 165;\n",
       "                var nbb_unformatted_code = \"# Create a clone of the original DataLoader object\\nvalidation_loader_30_permute = DataLoader(validation_loader.dataset, \\n                                          batch_size=validation_loader.batch_size)\\nvalidation_loader_50_permute = DataLoader(validation_loader.dataset, \\n                                          batch_size=validation_loader.batch_size)\\nvalidation_loader_90_permute = DataLoader(validation_loader.dataset, \\n                                          batch_size=validation_loader.batch_size)\";\n",
       "                var nbb_formatted_code = \"# Create a clone of the original DataLoader object\\nvalidation_loader_30_permute = DataLoader(\\n    validation_loader.dataset, batch_size=validation_loader.batch_size\\n)\\nvalidation_loader_50_permute = DataLoader(\\n    validation_loader.dataset, batch_size=validation_loader.batch_size\\n)\\nvalidation_loader_90_permute = DataLoader(\\n    validation_loader.dataset, batch_size=validation_loader.batch_size\\n)\";\n",
       "                var nbb_cells = Jupyter.notebook.get_cells();\n",
       "                for (var i = 0; i < nbb_cells.length; ++i) {\n",
       "                    if (nbb_cells[i].input_prompt_number == nbb_cell_id) {\n",
       "                        if (nbb_cells[i].get_text() == nbb_unformatted_code) {\n",
       "                             nbb_cells[i].set_text(nbb_formatted_code);\n",
       "                        }\n",
       "                        break;\n",
       "                    }\n",
       "                }\n",
       "            }, 500);\n",
       "            "
      ],
      "text/plain": [
       "<IPython.core.display.Javascript object>"
      ]
     },
     "metadata": {},
     "output_type": "display_data"
    }
   ],
   "source": [
    "# Create a clone of the original DataLoader object\n",
    "validation_loader_30_permute = DataLoader(validation_loader.dataset, \n",
    "                                          batch_size=validation_loader.batch_size)\n",
    "validation_loader_50_permute = DataLoader(validation_loader.dataset, \n",
    "                                          batch_size=validation_loader.batch_size)\n",
    "validation_loader_90_permute = DataLoader(validation_loader.dataset, \n",
    "                                          batch_size=validation_loader.batch_size)"
   ]
  },
  {
   "cell_type": "code",
   "execution_count": 166,
   "id": "e70cb244-732b-4a73-b27f-21bd5c79dd03",
   "metadata": {},
   "outputs": [
    {
     "data": {
      "application/javascript": [
       "\n",
       "            setTimeout(function() {\n",
       "                var nbb_cell_id = 166;\n",
       "                var nbb_unformatted_code = \"BCE_loss_30_permute = []\\nKLD_loss_30_permute = []\\nMSE_loss_30_permute = []\\n\\nfor (vdata, _) in validation_loader_30_permute:\\n    \\n    for i in vdata:\\n    \\n        # Get the dimensions of the image tensor\\n        C, H, W = i.shape\\n\\n        # Define the number of pixels to permute and randomly select pixel indices\\n        num_pixels_to_permute = int(H*W*0.3) # permute only 50% of pixels\\n        perm_indices = torch.randperm(H*W)[:num_pixels_to_permute]\\n\\n        # Define the subset of pixels to be permuted\\n        subset_indices = torch.randperm(num_pixels_to_permute)[:num_pixels_to_permute//2]\\n\\n        # Create a tensor to hold the permutation order for the selected pixels\\n        perm_order = torch.randperm(num_pixels_to_permute//2)\\n\\n        # Flatten the image tensor and permute the selected pixels\\n        flat_img_tensor = i.detach().clone().view(C, H*W)\\n        flat_img_tensor[:, perm_indices[subset_indices]] = flat_img_tensor[:, perm_indices[subset_indices[perm_order]]]\\n\\n        # Reshape the permuted tensor back to its original shape\\n        permuted_img_tensor = flat_img_tensor.view(C, H, W)\\n\\n\\n        reconstructed_permuted_30_df = reconstructed_permuted_30_df.append(\\n            pd.DataFrame(vae.forward(permuted_img_tensor)[0].detach().numpy(), \\n                         columns=reconstructed_permuted_30_df.columns), ignore_index=True)\\n        \\n        BCE_loss_30_permute.append(F.binary_cross_entropy(vae.forward(permuted_img_tensor)[0], \\n                                                          i.view(-1,784), reduction='sum').cpu().detach().item())\\n        MSE_loss_30_permute.append(F.mse_loss(vae.forward(permuted_img_tensor)[0], \\n                                              i.view(-1,784), reduction='sum').cpu().detach().item())\\n        \\n        prior = MultivariateNormal(loc = torch.zeros(vae.forward(permuted_img_tensor)[1].mean.shape[1]),\\n                                   scale_tril=torch.eye(vae.forward(permuted_img_tensor)[1].mean.shape[1]))\\n        KLD_loss_30_permute.append(torch.sum(kl_divergence(vae.forward(permuted_img_tensor)[1], prior)).item())\\n        \";\n",
       "                var nbb_formatted_code = \"BCE_loss_30_permute = []\\nKLD_loss_30_permute = []\\nMSE_loss_30_permute = []\\n\\nfor vdata, _ in validation_loader_30_permute:\\n    for i in vdata:\\n        # Get the dimensions of the image tensor\\n        C, H, W = i.shape\\n\\n        # Define the number of pixels to permute and randomly select pixel indices\\n        num_pixels_to_permute = int(H * W * 0.3)  # permute only 50% of pixels\\n        perm_indices = torch.randperm(H * W)[:num_pixels_to_permute]\\n\\n        # Define the subset of pixels to be permuted\\n        subset_indices = torch.randperm(num_pixels_to_permute)[\\n            : num_pixels_to_permute // 2\\n        ]\\n\\n        # Create a tensor to hold the permutation order for the selected pixels\\n        perm_order = torch.randperm(num_pixels_to_permute // 2)\\n\\n        # Flatten the image tensor and permute the selected pixels\\n        flat_img_tensor = i.detach().clone().view(C, H * W)\\n        flat_img_tensor[:, perm_indices[subset_indices]] = flat_img_tensor[\\n            :, perm_indices[subset_indices[perm_order]]\\n        ]\\n\\n        # Reshape the permuted tensor back to its original shape\\n        permuted_img_tensor = flat_img_tensor.view(C, H, W)\\n\\n        reconstructed_permuted_30_df = reconstructed_permuted_30_df.append(\\n            pd.DataFrame(\\n                vae.forward(permuted_img_tensor)[0].detach().numpy(),\\n                columns=reconstructed_permuted_30_df.columns,\\n            ),\\n            ignore_index=True,\\n        )\\n\\n        BCE_loss_30_permute.append(\\n            F.binary_cross_entropy(\\n                vae.forward(permuted_img_tensor)[0], i.view(-1, 784), reduction=\\\"sum\\\"\\n            )\\n            .cpu()\\n            .detach()\\n            .item()\\n        )\\n        MSE_loss_30_permute.append(\\n            F.mse_loss(\\n                vae.forward(permuted_img_tensor)[0], i.view(-1, 784), reduction=\\\"sum\\\"\\n            )\\n            .cpu()\\n            .detach()\\n            .item()\\n        )\\n\\n        prior = MultivariateNormal(\\n            loc=torch.zeros(vae.forward(permuted_img_tensor)[1].mean.shape[1]),\\n            scale_tril=torch.eye(vae.forward(permuted_img_tensor)[1].mean.shape[1]),\\n        )\\n        KLD_loss_30_permute.append(\\n            torch.sum(kl_divergence(vae.forward(permuted_img_tensor)[1], prior)).item()\\n        )\";\n",
       "                var nbb_cells = Jupyter.notebook.get_cells();\n",
       "                for (var i = 0; i < nbb_cells.length; ++i) {\n",
       "                    if (nbb_cells[i].input_prompt_number == nbb_cell_id) {\n",
       "                        if (nbb_cells[i].get_text() == nbb_unformatted_code) {\n",
       "                             nbb_cells[i].set_text(nbb_formatted_code);\n",
       "                        }\n",
       "                        break;\n",
       "                    }\n",
       "                }\n",
       "            }, 500);\n",
       "            "
      ],
      "text/plain": [
       "<IPython.core.display.Javascript object>"
      ]
     },
     "metadata": {},
     "output_type": "display_data"
    }
   ],
   "source": [
    "BCE_loss_30_permute = []\n",
    "KLD_loss_30_permute = []\n",
    "MSE_loss_30_permute = []\n",
    "\n",
    "for (vdata, _) in validation_loader_30_permute:\n",
    "    \n",
    "    for i in vdata:\n",
    "    \n",
    "        # Get the dimensions of the image tensor\n",
    "        C, H, W = i.shape\n",
    "\n",
    "        # Define the number of pixels to permute and randomly select pixel indices\n",
    "        num_pixels_to_permute = int(H*W*0.3) # permute only 50% of pixels\n",
    "        perm_indices = torch.randperm(H*W)[:num_pixels_to_permute]\n",
    "\n",
    "        # Define the subset of pixels to be permuted\n",
    "        subset_indices = torch.randperm(num_pixels_to_permute)[:num_pixels_to_permute//2]\n",
    "\n",
    "        # Create a tensor to hold the permutation order for the selected pixels\n",
    "        perm_order = torch.randperm(num_pixels_to_permute//2)\n",
    "\n",
    "        # Flatten the image tensor and permute the selected pixels\n",
    "        flat_img_tensor = i.detach().clone().view(C, H*W)\n",
    "        flat_img_tensor[:, perm_indices[subset_indices]] = flat_img_tensor[:, perm_indices[subset_indices[perm_order]]]\n",
    "\n",
    "        # Reshape the permuted tensor back to its original shape\n",
    "        permuted_img_tensor = flat_img_tensor.view(C, H, W)\n",
    "\n",
    "\n",
    "        reconstructed_permuted_30_df = reconstructed_permuted_30_df.append(\n",
    "            pd.DataFrame(vae.forward(permuted_img_tensor)[0].detach().numpy(), \n",
    "                         columns=reconstructed_permuted_30_df.columns), ignore_index=True)\n",
    "        \n",
    "        BCE_loss_30_permute.append(F.binary_cross_entropy(vae.forward(permuted_img_tensor)[0], \n",
    "                                                          i.view(-1,784), reduction='sum').cpu().detach().item())\n",
    "        MSE_loss_30_permute.append(F.mse_loss(vae.forward(permuted_img_tensor)[0], \n",
    "                                              i.view(-1,784), reduction='sum').cpu().detach().item())\n",
    "        \n",
    "        prior = MultivariateNormal(loc = torch.zeros(vae.forward(permuted_img_tensor)[1].mean.shape[1]),\n",
    "                                   scale_tril=torch.eye(vae.forward(permuted_img_tensor)[1].mean.shape[1]))\n",
    "        KLD_loss_30_permute.append(torch.sum(kl_divergence(vae.forward(permuted_img_tensor)[1], prior)).item())\n",
    "        "
   ]
  },
  {
   "cell_type": "code",
   "execution_count": 167,
   "id": "a552e5c7-9451-4f3b-a0a9-f472a85c128f",
   "metadata": {
    "tags": []
   },
   "outputs": [
    {
     "data": {
      "application/javascript": [
       "\n",
       "            setTimeout(function() {\n",
       "                var nbb_cell_id = 167;\n",
       "                var nbb_unformatted_code = \"BCE_loss_50_permute = []\\nKLD_loss_50_permute = []\\nMSE_loss_50_permute = []\\n\\nfor (vdata, _) in validation_loader_50_permute:\\n    \\n    for i in vdata:\\n    \\n        # Get the dimensions of the image tensor\\n        C, H, W = i.shape\\n\\n        # Define the number of pixels to permute and randomly select pixel indices\\n        num_pixels_to_permute = int(H*W*0.5) # permute only 50% of pixels\\n        perm_indices = torch.randperm(H*W)[:num_pixels_to_permute]\\n\\n        # Define the subset of pixels to be permuted\\n        subset_indices = torch.randperm(num_pixels_to_permute)[:num_pixels_to_permute//2]\\n\\n        # Create a tensor to hold the permutation order for the selected pixels\\n        perm_order = torch.randperm(num_pixels_to_permute//2)\\n\\n        # Flatten the image tensor and permute the selected pixels\\n        flat_img_tensor = i.detach().clone().view(C, H*W)\\n        flat_img_tensor[:, perm_indices[subset_indices]] = flat_img_tensor[:, perm_indices[subset_indices[perm_order]]]\\n\\n        # Reshape the permuted tensor back to its original shape\\n        permuted_img_tensor = flat_img_tensor.view(C, H, W)\\n\\n\\n        reconstructed_permuted_50_df = reconstructed_permuted_50_df.append(\\n            pd.DataFrame(vae.forward(permuted_img_tensor)[0].detach().numpy(), \\n                         columns=reconstructed_permuted_50_df.columns), ignore_index=True)\\n        \\n        BCE_loss_50_permute.append(F.binary_cross_entropy(vae.forward(permuted_img_tensor)[0], \\n                                                          i.view(-1,784), reduction='sum').cpu().detach().item())\\n        MSE_loss_50_permute.append(F.mse_loss(vae.forward(permuted_img_tensor)[0], \\n                                              i.view(-1,784), reduction='sum').cpu().detach().item())\\n        \\n        prior = MultivariateNormal(loc = torch.zeros(vae.forward(permuted_img_tensor)[1].mean.shape[1]),\\n                                   scale_tril=torch.eye(vae.forward(permuted_img_tensor)[1].mean.shape[1]))\\n        KLD_loss_50_permute.append(torch.sum(kl_divergence(vae.forward(permuted_img_tensor)[1], prior)).item())\\n        \";\n",
       "                var nbb_formatted_code = \"BCE_loss_50_permute = []\\nKLD_loss_50_permute = []\\nMSE_loss_50_permute = []\\n\\nfor vdata, _ in validation_loader_50_permute:\\n    for i in vdata:\\n        # Get the dimensions of the image tensor\\n        C, H, W = i.shape\\n\\n        # Define the number of pixels to permute and randomly select pixel indices\\n        num_pixels_to_permute = int(H * W * 0.5)  # permute only 50% of pixels\\n        perm_indices = torch.randperm(H * W)[:num_pixels_to_permute]\\n\\n        # Define the subset of pixels to be permuted\\n        subset_indices = torch.randperm(num_pixels_to_permute)[\\n            : num_pixels_to_permute // 2\\n        ]\\n\\n        # Create a tensor to hold the permutation order for the selected pixels\\n        perm_order = torch.randperm(num_pixels_to_permute // 2)\\n\\n        # Flatten the image tensor and permute the selected pixels\\n        flat_img_tensor = i.detach().clone().view(C, H * W)\\n        flat_img_tensor[:, perm_indices[subset_indices]] = flat_img_tensor[\\n            :, perm_indices[subset_indices[perm_order]]\\n        ]\\n\\n        # Reshape the permuted tensor back to its original shape\\n        permuted_img_tensor = flat_img_tensor.view(C, H, W)\\n\\n        reconstructed_permuted_50_df = reconstructed_permuted_50_df.append(\\n            pd.DataFrame(\\n                vae.forward(permuted_img_tensor)[0].detach().numpy(),\\n                columns=reconstructed_permuted_50_df.columns,\\n            ),\\n            ignore_index=True,\\n        )\\n\\n        BCE_loss_50_permute.append(\\n            F.binary_cross_entropy(\\n                vae.forward(permuted_img_tensor)[0], i.view(-1, 784), reduction=\\\"sum\\\"\\n            )\\n            .cpu()\\n            .detach()\\n            .item()\\n        )\\n        MSE_loss_50_permute.append(\\n            F.mse_loss(\\n                vae.forward(permuted_img_tensor)[0], i.view(-1, 784), reduction=\\\"sum\\\"\\n            )\\n            .cpu()\\n            .detach()\\n            .item()\\n        )\\n\\n        prior = MultivariateNormal(\\n            loc=torch.zeros(vae.forward(permuted_img_tensor)[1].mean.shape[1]),\\n            scale_tril=torch.eye(vae.forward(permuted_img_tensor)[1].mean.shape[1]),\\n        )\\n        KLD_loss_50_permute.append(\\n            torch.sum(kl_divergence(vae.forward(permuted_img_tensor)[1], prior)).item()\\n        )\";\n",
       "                var nbb_cells = Jupyter.notebook.get_cells();\n",
       "                for (var i = 0; i < nbb_cells.length; ++i) {\n",
       "                    if (nbb_cells[i].input_prompt_number == nbb_cell_id) {\n",
       "                        if (nbb_cells[i].get_text() == nbb_unformatted_code) {\n",
       "                             nbb_cells[i].set_text(nbb_formatted_code);\n",
       "                        }\n",
       "                        break;\n",
       "                    }\n",
       "                }\n",
       "            }, 500);\n",
       "            "
      ],
      "text/plain": [
       "<IPython.core.display.Javascript object>"
      ]
     },
     "metadata": {},
     "output_type": "display_data"
    }
   ],
   "source": [
    "BCE_loss_50_permute = []\n",
    "KLD_loss_50_permute = []\n",
    "MSE_loss_50_permute = []\n",
    "\n",
    "for (vdata, _) in validation_loader_50_permute:\n",
    "    \n",
    "    for i in vdata:\n",
    "    \n",
    "        # Get the dimensions of the image tensor\n",
    "        C, H, W = i.shape\n",
    "\n",
    "        # Define the number of pixels to permute and randomly select pixel indices\n",
    "        num_pixels_to_permute = int(H*W*0.5) # permute only 50% of pixels\n",
    "        perm_indices = torch.randperm(H*W)[:num_pixels_to_permute]\n",
    "\n",
    "        # Define the subset of pixels to be permuted\n",
    "        subset_indices = torch.randperm(num_pixels_to_permute)[:num_pixels_to_permute//2]\n",
    "\n",
    "        # Create a tensor to hold the permutation order for the selected pixels\n",
    "        perm_order = torch.randperm(num_pixels_to_permute//2)\n",
    "\n",
    "        # Flatten the image tensor and permute the selected pixels\n",
    "        flat_img_tensor = i.detach().clone().view(C, H*W)\n",
    "        flat_img_tensor[:, perm_indices[subset_indices]] = flat_img_tensor[:, perm_indices[subset_indices[perm_order]]]\n",
    "\n",
    "        # Reshape the permuted tensor back to its original shape\n",
    "        permuted_img_tensor = flat_img_tensor.view(C, H, W)\n",
    "\n",
    "\n",
    "        reconstructed_permuted_50_df = reconstructed_permuted_50_df.append(\n",
    "            pd.DataFrame(vae.forward(permuted_img_tensor)[0].detach().numpy(), \n",
    "                         columns=reconstructed_permuted_50_df.columns), ignore_index=True)\n",
    "        \n",
    "        BCE_loss_50_permute.append(F.binary_cross_entropy(vae.forward(permuted_img_tensor)[0], \n",
    "                                                          i.view(-1,784), reduction='sum').cpu().detach().item())\n",
    "        MSE_loss_50_permute.append(F.mse_loss(vae.forward(permuted_img_tensor)[0], \n",
    "                                              i.view(-1,784), reduction='sum').cpu().detach().item())\n",
    "        \n",
    "        prior = MultivariateNormal(loc = torch.zeros(vae.forward(permuted_img_tensor)[1].mean.shape[1]),\n",
    "                                   scale_tril=torch.eye(vae.forward(permuted_img_tensor)[1].mean.shape[1]))\n",
    "        KLD_loss_50_permute.append(torch.sum(kl_divergence(vae.forward(permuted_img_tensor)[1], prior)).item())\n",
    "        "
   ]
  },
  {
   "cell_type": "code",
   "execution_count": 168,
   "id": "032f4dcb-fe04-497d-a090-b0f8e05e5863",
   "metadata": {
    "tags": []
   },
   "outputs": [
    {
     "data": {
      "application/javascript": [
       "\n",
       "            setTimeout(function() {\n",
       "                var nbb_cell_id = 168;\n",
       "                var nbb_unformatted_code = \"BCE_loss_90_permute = []\\nKLD_loss_90_permute = []\\nMSE_loss_90_permute = []\\nfor (vdata, _) in validation_loader_90_permute:\\n    \\n    for i in vdata:\\n    \\n        # Get the dimensions of the image tensor\\n        C, H, W = i.shape\\n\\n        # Define the number of pixels to permute and randomly select pixel indices\\n        num_pixels_to_permute = int(H*W*0.8) # permute only 50% of pixels\\n        perm_indices = torch.randperm(H*W)[:num_pixels_to_permute]\\n\\n        # Define the subset of pixels to be permuted\\n        subset_indices = torch.randperm(num_pixels_to_permute)[:num_pixels_to_permute//2]\\n\\n        # Create a tensor to hold the permutation order for the selected pixels\\n        perm_order = torch.randperm(num_pixels_to_permute//2)\\n\\n        # Flatten the image tensor and permute the selected pixels\\n        flat_img_tensor = i.detach().clone().view(C, H*W)\\n        flat_img_tensor[:, perm_indices[subset_indices]] = flat_img_tensor[:, perm_indices[subset_indices[perm_order]]]\\n\\n        # Reshape the permuted tensor back to its original shape\\n        permuted_img_tensor = flat_img_tensor.view(C, H, W)\\n\\n\\n        reconstructed_permuted_90_df = reconstructed_permuted_90_df.append(\\n            pd.DataFrame(vae.forward(permuted_img_tensor)[0].detach().numpy(), \\n                         columns=reconstructed_permuted_90_df.columns), ignore_index=True)\\n        \\n        BCE_loss_90_permute.append(F.binary_cross_entropy(vae.forward(permuted_img_tensor)[0], \\n                                                          i.view(-1,784), reduction='sum').cpu().detach().item())\\n        MSE_loss_90_permute.append(F.mse_loss(vae.forward(permuted_img_tensor)[0], \\n                                              i.view(-1,784), reduction='sum').cpu().detach().item())\\n        \\n        prior = MultivariateNormal(loc = torch.zeros(vae.forward(permuted_img_tensor)[1].mean.shape[1]),\\n                                   scale_tril=torch.eye(vae.forward(permuted_img_tensor)[1].mean.shape[1]))\\n        KLD_loss_90_permute.append(torch.sum(kl_divergence(vae.forward(permuted_img_tensor)[1], prior)).item())\\n        \";\n",
       "                var nbb_formatted_code = \"BCE_loss_90_permute = []\\nKLD_loss_90_permute = []\\nMSE_loss_90_permute = []\\nfor vdata, _ in validation_loader_90_permute:\\n    for i in vdata:\\n        # Get the dimensions of the image tensor\\n        C, H, W = i.shape\\n\\n        # Define the number of pixels to permute and randomly select pixel indices\\n        num_pixels_to_permute = int(H * W * 0.8)  # permute only 50% of pixels\\n        perm_indices = torch.randperm(H * W)[:num_pixels_to_permute]\\n\\n        # Define the subset of pixels to be permuted\\n        subset_indices = torch.randperm(num_pixels_to_permute)[\\n            : num_pixels_to_permute // 2\\n        ]\\n\\n        # Create a tensor to hold the permutation order for the selected pixels\\n        perm_order = torch.randperm(num_pixels_to_permute // 2)\\n\\n        # Flatten the image tensor and permute the selected pixels\\n        flat_img_tensor = i.detach().clone().view(C, H * W)\\n        flat_img_tensor[:, perm_indices[subset_indices]] = flat_img_tensor[\\n            :, perm_indices[subset_indices[perm_order]]\\n        ]\\n\\n        # Reshape the permuted tensor back to its original shape\\n        permuted_img_tensor = flat_img_tensor.view(C, H, W)\\n\\n        reconstructed_permuted_90_df = reconstructed_permuted_90_df.append(\\n            pd.DataFrame(\\n                vae.forward(permuted_img_tensor)[0].detach().numpy(),\\n                columns=reconstructed_permuted_90_df.columns,\\n            ),\\n            ignore_index=True,\\n        )\\n\\n        BCE_loss_90_permute.append(\\n            F.binary_cross_entropy(\\n                vae.forward(permuted_img_tensor)[0], i.view(-1, 784), reduction=\\\"sum\\\"\\n            )\\n            .cpu()\\n            .detach()\\n            .item()\\n        )\\n        MSE_loss_90_permute.append(\\n            F.mse_loss(\\n                vae.forward(permuted_img_tensor)[0], i.view(-1, 784), reduction=\\\"sum\\\"\\n            )\\n            .cpu()\\n            .detach()\\n            .item()\\n        )\\n\\n        prior = MultivariateNormal(\\n            loc=torch.zeros(vae.forward(permuted_img_tensor)[1].mean.shape[1]),\\n            scale_tril=torch.eye(vae.forward(permuted_img_tensor)[1].mean.shape[1]),\\n        )\\n        KLD_loss_90_permute.append(\\n            torch.sum(kl_divergence(vae.forward(permuted_img_tensor)[1], prior)).item()\\n        )\";\n",
       "                var nbb_cells = Jupyter.notebook.get_cells();\n",
       "                for (var i = 0; i < nbb_cells.length; ++i) {\n",
       "                    if (nbb_cells[i].input_prompt_number == nbb_cell_id) {\n",
       "                        if (nbb_cells[i].get_text() == nbb_unformatted_code) {\n",
       "                             nbb_cells[i].set_text(nbb_formatted_code);\n",
       "                        }\n",
       "                        break;\n",
       "                    }\n",
       "                }\n",
       "            }, 500);\n",
       "            "
      ],
      "text/plain": [
       "<IPython.core.display.Javascript object>"
      ]
     },
     "metadata": {},
     "output_type": "display_data"
    }
   ],
   "source": [
    "BCE_loss_90_permute = []\n",
    "KLD_loss_90_permute = []\n",
    "MSE_loss_90_permute = []\n",
    "for (vdata, _) in validation_loader_90_permute:\n",
    "    \n",
    "    for i in vdata:\n",
    "    \n",
    "        # Get the dimensions of the image tensor\n",
    "        C, H, W = i.shape\n",
    "\n",
    "        # Define the number of pixels to permute and randomly select pixel indices\n",
    "        num_pixels_to_permute = int(H*W*0.8) # permute only 50% of pixels\n",
    "        perm_indices = torch.randperm(H*W)[:num_pixels_to_permute]\n",
    "\n",
    "        # Define the subset of pixels to be permuted\n",
    "        subset_indices = torch.randperm(num_pixels_to_permute)[:num_pixels_to_permute//2]\n",
    "\n",
    "        # Create a tensor to hold the permutation order for the selected pixels\n",
    "        perm_order = torch.randperm(num_pixels_to_permute//2)\n",
    "\n",
    "        # Flatten the image tensor and permute the selected pixels\n",
    "        flat_img_tensor = i.detach().clone().view(C, H*W)\n",
    "        flat_img_tensor[:, perm_indices[subset_indices]] = flat_img_tensor[:, perm_indices[subset_indices[perm_order]]]\n",
    "\n",
    "        # Reshape the permuted tensor back to its original shape\n",
    "        permuted_img_tensor = flat_img_tensor.view(C, H, W)\n",
    "\n",
    "\n",
    "        reconstructed_permuted_90_df = reconstructed_permuted_90_df.append(\n",
    "            pd.DataFrame(vae.forward(permuted_img_tensor)[0].detach().numpy(), \n",
    "                         columns=reconstructed_permuted_90_df.columns), ignore_index=True)\n",
    "        \n",
    "        BCE_loss_90_permute.append(F.binary_cross_entropy(vae.forward(permuted_img_tensor)[0], \n",
    "                                                          i.view(-1,784), reduction='sum').cpu().detach().item())\n",
    "        MSE_loss_90_permute.append(F.mse_loss(vae.forward(permuted_img_tensor)[0], \n",
    "                                              i.view(-1,784), reduction='sum').cpu().detach().item())\n",
    "        \n",
    "        prior = MultivariateNormal(loc = torch.zeros(vae.forward(permuted_img_tensor)[1].mean.shape[1]),\n",
    "                                   scale_tril=torch.eye(vae.forward(permuted_img_tensor)[1].mean.shape[1]))\n",
    "        KLD_loss_90_permute.append(torch.sum(kl_divergence(vae.forward(permuted_img_tensor)[1], prior)).item())\n",
    "        "
   ]
  },
  {
   "cell_type": "code",
   "execution_count": 169,
   "id": "bf7c445b-e9d5-47ec-8fc0-20e529d5e86c",
   "metadata": {
    "tags": []
   },
   "outputs": [
    {
     "data": {
      "application/javascript": [
       "\n",
       "            setTimeout(function() {\n",
       "                var nbb_cell_id = 169;\n",
       "                var nbb_unformatted_code = \"reconstruction_fidelity_30 = reconstructed_permuted_30_df - original_df\\nreconstruction_fidelity_50 = reconstructed_permuted_50_df - original_df\\nreconstruction_fidelity_90 = reconstructed_permuted_90_df - original_df\";\n",
       "                var nbb_formatted_code = \"reconstruction_fidelity_30 = reconstructed_permuted_30_df - original_df\\nreconstruction_fidelity_50 = reconstructed_permuted_50_df - original_df\\nreconstruction_fidelity_90 = reconstructed_permuted_90_df - original_df\";\n",
       "                var nbb_cells = Jupyter.notebook.get_cells();\n",
       "                for (var i = 0; i < nbb_cells.length; ++i) {\n",
       "                    if (nbb_cells[i].input_prompt_number == nbb_cell_id) {\n",
       "                        if (nbb_cells[i].get_text() == nbb_unformatted_code) {\n",
       "                             nbb_cells[i].set_text(nbb_formatted_code);\n",
       "                        }\n",
       "                        break;\n",
       "                    }\n",
       "                }\n",
       "            }, 500);\n",
       "            "
      ],
      "text/plain": [
       "<IPython.core.display.Javascript object>"
      ]
     },
     "metadata": {},
     "output_type": "display_data"
    }
   ],
   "source": [
    "reconstruction_fidelity_30 = reconstructed_permuted_30_df - original_df\n",
    "reconstruction_fidelity_50 = reconstructed_permuted_50_df - original_df\n",
    "reconstruction_fidelity_90 = reconstructed_permuted_90_df - original_df"
   ]
  },
  {
   "cell_type": "code",
   "execution_count": 170,
   "id": "bce0ec1f-3083-48ae-bd6b-0d7c8b67d52d",
   "metadata": {
    "tags": []
   },
   "outputs": [
    {
     "data": {
      "application/javascript": [
       "\n",
       "            setTimeout(function() {\n",
       "                var nbb_cell_id = 170;\n",
       "                var nbb_unformatted_code = \"mnist_mean_30 = reconstruction_fidelity_30.mean(axis=0)\\nmnist_mean_50 = reconstruction_fidelity_50.mean(axis=0)\\nmnist_mean_90 = reconstruction_fidelity_90.mean(axis=0)\";\n",
       "                var nbb_formatted_code = \"mnist_mean_30 = reconstruction_fidelity_30.mean(axis=0)\\nmnist_mean_50 = reconstruction_fidelity_50.mean(axis=0)\\nmnist_mean_90 = reconstruction_fidelity_90.mean(axis=0)\";\n",
       "                var nbb_cells = Jupyter.notebook.get_cells();\n",
       "                for (var i = 0; i < nbb_cells.length; ++i) {\n",
       "                    if (nbb_cells[i].input_prompt_number == nbb_cell_id) {\n",
       "                        if (nbb_cells[i].get_text() == nbb_unformatted_code) {\n",
       "                             nbb_cells[i].set_text(nbb_formatted_code);\n",
       "                        }\n",
       "                        break;\n",
       "                    }\n",
       "                }\n",
       "            }, 500);\n",
       "            "
      ],
      "text/plain": [
       "<IPython.core.display.Javascript object>"
      ]
     },
     "metadata": {},
     "output_type": "display_data"
    }
   ],
   "source": [
    "mnist_mean_30 = reconstruction_fidelity_30.mean(axis=0)\n",
    "mnist_mean_50 = reconstruction_fidelity_50.mean(axis=0)\n",
    "mnist_mean_90 = reconstruction_fidelity_90.mean(axis=0)"
   ]
  },
  {
   "cell_type": "code",
   "execution_count": 171,
   "id": "e2904f6d-b562-4025-9110-e77da59650c8",
   "metadata": {
    "tags": []
   },
   "outputs": [
    {
     "data": {
      "application/javascript": [
       "\n",
       "            setTimeout(function() {\n",
       "                var nbb_cell_id = 171;\n",
       "                var nbb_unformatted_code = \"mnist_abssum_30 = reconstruction_fidelity_30.abs().sum(axis=0).divide(reconstructed_permuted_30_df.shape[0])\\nmnist_abssum_50 = reconstruction_fidelity_50.abs().sum(axis=0).divide(reconstructed_permuted_50_df.shape[0])\\nmnist_abssum_90 = reconstruction_fidelity_90.abs().sum(axis=0).divide(reconstructed_permuted_90_df.shape[0])\";\n",
       "                var nbb_formatted_code = \"mnist_abssum_30 = (\\n    reconstruction_fidelity_30.abs()\\n    .sum(axis=0)\\n    .divide(reconstructed_permuted_30_df.shape[0])\\n)\\nmnist_abssum_50 = (\\n    reconstruction_fidelity_50.abs()\\n    .sum(axis=0)\\n    .divide(reconstructed_permuted_50_df.shape[0])\\n)\\nmnist_abssum_90 = (\\n    reconstruction_fidelity_90.abs()\\n    .sum(axis=0)\\n    .divide(reconstructed_permuted_90_df.shape[0])\\n)\";\n",
       "                var nbb_cells = Jupyter.notebook.get_cells();\n",
       "                for (var i = 0; i < nbb_cells.length; ++i) {\n",
       "                    if (nbb_cells[i].input_prompt_number == nbb_cell_id) {\n",
       "                        if (nbb_cells[i].get_text() == nbb_unformatted_code) {\n",
       "                             nbb_cells[i].set_text(nbb_formatted_code);\n",
       "                        }\n",
       "                        break;\n",
       "                    }\n",
       "                }\n",
       "            }, 500);\n",
       "            "
      ],
      "text/plain": [
       "<IPython.core.display.Javascript object>"
      ]
     },
     "metadata": {},
     "output_type": "display_data"
    }
   ],
   "source": [
    "mnist_abssum_30 = reconstruction_fidelity_30.abs().sum(axis=0).divide(reconstructed_permuted_30_df.shape[0])\n",
    "mnist_abssum_50 = reconstruction_fidelity_50.abs().sum(axis=0).divide(reconstructed_permuted_50_df.shape[0])\n",
    "mnist_abssum_90 = reconstruction_fidelity_90.abs().sum(axis=0).divide(reconstructed_permuted_90_df.shape[0])"
   ]
  },
  {
   "cell_type": "code",
   "execution_count": 172,
   "id": "27f6df3e-3e58-499a-97a9-078b2cde20ef",
   "metadata": {
    "tags": []
   },
   "outputs": [
    {
     "data": {
      "application/javascript": [
       "\n",
       "            setTimeout(function() {\n",
       "                var nbb_cell_id = 172;\n",
       "                var nbb_unformatted_code = \"summary_30 = pd.DataFrame([mnist_mean_30, mnist_abssum_30], index=['mean', 'abs(sum)']).T\\nsummary_50 = pd.DataFrame([mnist_mean_50, mnist_abssum_50], index=['mean', 'abs(sum)']).T\\nsummary_90 = pd.DataFrame([mnist_mean_90, mnist_abssum_90], index=['mean', 'abs(sum)']).T\";\n",
       "                var nbb_formatted_code = \"summary_30 = pd.DataFrame(\\n    [mnist_mean_30, mnist_abssum_30], index=[\\\"mean\\\", \\\"abs(sum)\\\"]\\n).T\\nsummary_50 = pd.DataFrame(\\n    [mnist_mean_50, mnist_abssum_50], index=[\\\"mean\\\", \\\"abs(sum)\\\"]\\n).T\\nsummary_90 = pd.DataFrame(\\n    [mnist_mean_90, mnist_abssum_90], index=[\\\"mean\\\", \\\"abs(sum)\\\"]\\n).T\";\n",
       "                var nbb_cells = Jupyter.notebook.get_cells();\n",
       "                for (var i = 0; i < nbb_cells.length; ++i) {\n",
       "                    if (nbb_cells[i].input_prompt_number == nbb_cell_id) {\n",
       "                        if (nbb_cells[i].get_text() == nbb_unformatted_code) {\n",
       "                             nbb_cells[i].set_text(nbb_formatted_code);\n",
       "                        }\n",
       "                        break;\n",
       "                    }\n",
       "                }\n",
       "            }, 500);\n",
       "            "
      ],
      "text/plain": [
       "<IPython.core.display.Javascript object>"
      ]
     },
     "metadata": {},
     "output_type": "display_data"
    }
   ],
   "source": [
    "summary_30 = pd.DataFrame([mnist_mean_30, mnist_abssum_30], index=['mean', 'abs(sum)']).T\n",
    "summary_50 = pd.DataFrame([mnist_mean_50, mnist_abssum_50], index=['mean', 'abs(sum)']).T\n",
    "summary_90 = pd.DataFrame([mnist_mean_90, mnist_abssum_90], index=['mean', 'abs(sum)']).T"
   ]
  },
  {
   "cell_type": "code",
   "execution_count": 173,
   "id": "388feff2-e853-4f28-9289-88fb9f08da71",
   "metadata": {
    "tags": []
   },
   "outputs": [
    {
     "data": {
      "text/html": [
       "<div>\n",
       "<style scoped>\n",
       "    .dataframe tbody tr th:only-of-type {\n",
       "        vertical-align: middle;\n",
       "    }\n",
       "\n",
       "    .dataframe tbody tr th {\n",
       "        vertical-align: top;\n",
       "    }\n",
       "\n",
       "    .dataframe thead th {\n",
       "        text-align: right;\n",
       "    }\n",
       "</style>\n",
       "<table border=\"1\" class=\"dataframe\">\n",
       "  <thead>\n",
       "    <tr style=\"text-align: right;\">\n",
       "      <th></th>\n",
       "      <th>mean</th>\n",
       "      <th>abs(sum)</th>\n",
       "    </tr>\n",
       "  </thead>\n",
       "  <tbody>\n",
       "    <tr>\n",
       "      <th>Column 213</th>\n",
       "      <td>-0.071543</td>\n",
       "      <td>0.210777</td>\n",
       "    </tr>\n",
       "    <tr>\n",
       "      <th>Column 214</th>\n",
       "      <td>-0.065609</td>\n",
       "      <td>0.208677</td>\n",
       "    </tr>\n",
       "    <tr>\n",
       "      <th>Column 212</th>\n",
       "      <td>-0.068290</td>\n",
       "      <td>0.207022</td>\n",
       "    </tr>\n",
       "    <tr>\n",
       "      <th>Column 434</th>\n",
       "      <td>-0.035909</td>\n",
       "      <td>0.204502</td>\n",
       "    </tr>\n",
       "    <tr>\n",
       "      <th>Column 461</th>\n",
       "      <td>-0.007063</td>\n",
       "      <td>0.203576</td>\n",
       "    </tr>\n",
       "  </tbody>\n",
       "</table>\n",
       "</div>"
      ],
      "text/plain": [
       "                mean  abs(sum)\n",
       "Column 213 -0.071543  0.210777\n",
       "Column 214 -0.065609  0.208677\n",
       "Column 212 -0.068290  0.207022\n",
       "Column 434 -0.035909  0.204502\n",
       "Column 461 -0.007063  0.203576"
      ]
     },
     "execution_count": 173,
     "metadata": {},
     "output_type": "execute_result"
    },
    {
     "data": {
      "application/javascript": [
       "\n",
       "            setTimeout(function() {\n",
       "                var nbb_cell_id = 173;\n",
       "                var nbb_unformatted_code = \"summary_30.sort_values(by='abs(sum)', ascending=False).head()\";\n",
       "                var nbb_formatted_code = \"summary_30.sort_values(by=\\\"abs(sum)\\\", ascending=False).head()\";\n",
       "                var nbb_cells = Jupyter.notebook.get_cells();\n",
       "                for (var i = 0; i < nbb_cells.length; ++i) {\n",
       "                    if (nbb_cells[i].input_prompt_number == nbb_cell_id) {\n",
       "                        if (nbb_cells[i].get_text() == nbb_unformatted_code) {\n",
       "                             nbb_cells[i].set_text(nbb_formatted_code);\n",
       "                        }\n",
       "                        break;\n",
       "                    }\n",
       "                }\n",
       "            }, 500);\n",
       "            "
      ],
      "text/plain": [
       "<IPython.core.display.Javascript object>"
      ]
     },
     "metadata": {},
     "output_type": "display_data"
    }
   ],
   "source": [
    "summary_30.sort_values(by='abs(sum)', ascending=False).head()"
   ]
  },
  {
   "cell_type": "code",
   "execution_count": 174,
   "id": "911fb6b5-ff34-43d8-a900-4c1d8aba5cbe",
   "metadata": {
    "tags": []
   },
   "outputs": [
    {
     "data": {
      "image/png": "[encoded data removed]",
      "text/plain": [
       "<Figure size 600x600 with 3 Axes>"
      ]
     },
     "metadata": {},
     "output_type": "display_data"
    },
    {
     "data": {
      "application/javascript": [
       "\n",
       "            setTimeout(function() {\n",
       "                var nbb_cell_id = 174;\n",
       "                var nbb_unformatted_code = \"sns.jointplot(x = 'mean', y = 'abs(sum)',\\n              kind = \\\"scatter\\\", data = summary_30)\\nplt.savefig('results/30_percent_permute.png')\";\n",
       "                var nbb_formatted_code = \"sns.jointplot(x=\\\"mean\\\", y=\\\"abs(sum)\\\", kind=\\\"scatter\\\", data=summary_30)\\nplt.savefig(\\\"results/30_percent_permute.png\\\")\";\n",
       "                var nbb_cells = Jupyter.notebook.get_cells();\n",
       "                for (var i = 0; i < nbb_cells.length; ++i) {\n",
       "                    if (nbb_cells[i].input_prompt_number == nbb_cell_id) {\n",
       "                        if (nbb_cells[i].get_text() == nbb_unformatted_code) {\n",
       "                             nbb_cells[i].set_text(nbb_formatted_code);\n",
       "                        }\n",
       "                        break;\n",
       "                    }\n",
       "                }\n",
       "            }, 500);\n",
       "            "
      ],
      "text/plain": [
       "<IPython.core.display.Javascript object>"
      ]
     },
     "metadata": {},
     "output_type": "display_data"
    }
   ],
   "source": [
    "sns.jointplot(x = 'mean', y = 'abs(sum)',\n",
    "              kind = \"scatter\", data = summary_30)\n",
    "plt.savefig('results/30_percent_permute.png')"
   ]
  },
  {
   "cell_type": "code",
   "execution_count": 175,
   "id": "41702b04-b0cf-43e3-b7b7-8b1d51a648eb",
   "metadata": {
    "tags": []
   },
   "outputs": [
    {
     "data": {
      "image/png": "[encoded data removed]",
      "text/plain": [
       "<Figure size 600x600 with 3 Axes>"
      ]
     },
     "metadata": {},
     "output_type": "display_data"
    },
    {
     "data": {
      "application/javascript": [
       "\n",
       "            setTimeout(function() {\n",
       "                var nbb_cell_id = 175;\n",
       "                var nbb_unformatted_code = \"sns.jointplot(x = 'mean', y = 'abs(sum)',\\n              kind = \\\"scatter\\\", data = summary_50)\\nplt.savefig('results/50_percent_permute.png')\";\n",
       "                var nbb_formatted_code = \"sns.jointplot(x=\\\"mean\\\", y=\\\"abs(sum)\\\", kind=\\\"scatter\\\", data=summary_50)\\nplt.savefig(\\\"results/50_percent_permute.png\\\")\";\n",
       "                var nbb_cells = Jupyter.notebook.get_cells();\n",
       "                for (var i = 0; i < nbb_cells.length; ++i) {\n",
       "                    if (nbb_cells[i].input_prompt_number == nbb_cell_id) {\n",
       "                        if (nbb_cells[i].get_text() == nbb_unformatted_code) {\n",
       "                             nbb_cells[i].set_text(nbb_formatted_code);\n",
       "                        }\n",
       "                        break;\n",
       "                    }\n",
       "                }\n",
       "            }, 500);\n",
       "            "
      ],
      "text/plain": [
       "<IPython.core.display.Javascript object>"
      ]
     },
     "metadata": {},
     "output_type": "display_data"
    }
   ],
   "source": [
    "sns.jointplot(x = 'mean', y = 'abs(sum)',\n",
    "              kind = \"scatter\", data = summary_50)\n",
    "plt.savefig('results/50_percent_permute.png')"
   ]
  },
  {
   "cell_type": "code",
   "execution_count": 176,
   "id": "f0400ed2-5708-4037-bbb2-a824544c26a2",
   "metadata": {
    "tags": []
   },
   "outputs": [
    {
     "data": {
      "image/png": "[encoded data removed]",
      "text/plain": [
       "<Figure size 600x600 with 3 Axes>"
      ]
     },
     "metadata": {},
     "output_type": "display_data"
    },
    {
     "data": {
      "application/javascript": [
       "\n",
       "            setTimeout(function() {\n",
       "                var nbb_cell_id = 176;\n",
       "                var nbb_unformatted_code = \"sns.jointplot(x = 'mean', y = 'abs(sum)',\\n              kind = \\\"scatter\\\", data = summary_90)\\nplt.savefig('results/90_percent_permute.png')\";\n",
       "                var nbb_formatted_code = \"sns.jointplot(x=\\\"mean\\\", y=\\\"abs(sum)\\\", kind=\\\"scatter\\\", data=summary_90)\\nplt.savefig(\\\"results/90_percent_permute.png\\\")\";\n",
       "                var nbb_cells = Jupyter.notebook.get_cells();\n",
       "                for (var i = 0; i < nbb_cells.length; ++i) {\n",
       "                    if (nbb_cells[i].input_prompt_number == nbb_cell_id) {\n",
       "                        if (nbb_cells[i].get_text() == nbb_unformatted_code) {\n",
       "                             nbb_cells[i].set_text(nbb_formatted_code);\n",
       "                        }\n",
       "                        break;\n",
       "                    }\n",
       "                }\n",
       "            }, 500);\n",
       "            "
      ],
      "text/plain": [
       "<IPython.core.display.Javascript object>"
      ]
     },
     "metadata": {},
     "output_type": "display_data"
    }
   ],
   "source": [
    "sns.jointplot(x = 'mean', y = 'abs(sum)',\n",
    "              kind = \"scatter\", data = summary_90)\n",
    "plt.savefig('results/90_percent_permute.png')"
   ]
  },
  {
   "cell_type": "markdown",
   "id": "75b4c3fd-9a84-48d3-bd80-d8c23985b4c2",
   "metadata": {},
   "source": [
    "plots"
   ]
  },
  {
   "cell_type": "code",
   "execution_count": 192,
   "id": "c8d2b699-d9cc-4158-b7f1-45ead2d536af",
   "metadata": {
    "tags": []
   },
   "outputs": [
    {
     "data": {
      "image/png": "[encoded data removed]",
      "text/plain": [
       "<Figure size 800x600 with 1 Axes>"
      ]
     },
     "metadata": {},
     "output_type": "display_data"
    },
    {
     "data": {
      "text/plain": [
       "<Figure size 640x480 with 0 Axes>"
      ]
     },
     "metadata": {},
     "output_type": "display_data"
    },
    {
     "data": {
      "application/javascript": [
       "\n",
       "            setTimeout(function() {\n",
       "                var nbb_cell_id = 192;\n",
       "                var nbb_unformatted_code = \"## compare the performance here\\nplt.figure(figsize=(8,6))\\n\\nplt.scatter([0], [np.mean(BCE_loss)], c='r', s=200, alpha=.6, label=\\\"Mean BCE\\\")\\nplt.scatter([1], [np.mean(BCE_loss_30_permute)], c='r', s=200, alpha=.6)\\nplt.scatter([2], [np.mean(BCE_loss_50_permute)], c='r', s=200, alpha=.6)\\nplt.scatter([3], [np.mean(BCE_loss_90_permute)], c='r', s=200, alpha=.6)\\n\\nplt.legend(fontsize=14, loc=4)\\n\\nplt.yticks(fontsize=12)\\nplt.xticks([0,1,2,3], ['No permutation', '30% permutation', '50% permutation', '90% permutation'], fontsize=12)\\n\\nplt.ylabel(\\\"BCE loss\\\", fontsize=14)\\nplt.show()\\nplt.savefig('results/BCE_loss.png')\";\n",
       "                var nbb_formatted_code = \"## compare the performance here\\nplt.figure(figsize=(8, 6))\\n\\nplt.scatter([0], [np.mean(BCE_loss)], c=\\\"r\\\", s=200, alpha=0.6, label=\\\"Mean BCE\\\")\\nplt.scatter([1], [np.mean(BCE_loss_30_permute)], c=\\\"r\\\", s=200, alpha=0.6)\\nplt.scatter([2], [np.mean(BCE_loss_50_permute)], c=\\\"r\\\", s=200, alpha=0.6)\\nplt.scatter([3], [np.mean(BCE_loss_90_permute)], c=\\\"r\\\", s=200, alpha=0.6)\\n\\nplt.legend(fontsize=14, loc=4)\\n\\nplt.yticks(fontsize=12)\\nplt.xticks(\\n    [0, 1, 2, 3],\\n    [\\\"No permutation\\\", \\\"30% permutation\\\", \\\"50% permutation\\\", \\\"90% permutation\\\"],\\n    fontsize=12,\\n)\\n\\nplt.ylabel(\\\"BCE loss\\\", fontsize=14)\\nplt.show()\\nplt.savefig(\\\"results/BCE_loss.png\\\")\";\n",
       "                var nbb_cells = Jupyter.notebook.get_cells();\n",
       "                for (var i = 0; i < nbb_cells.length; ++i) {\n",
       "                    if (nbb_cells[i].input_prompt_number == nbb_cell_id) {\n",
       "                        if (nbb_cells[i].get_text() == nbb_unformatted_code) {\n",
       "                             nbb_cells[i].set_text(nbb_formatted_code);\n",
       "                        }\n",
       "                        break;\n",
       "                    }\n",
       "                }\n",
       "            }, 500);\n",
       "            "
      ],
      "text/plain": [
       "<IPython.core.display.Javascript object>"
      ]
     },
     "metadata": {},
     "output_type": "display_data"
    }
   ],
   "source": [
    "## compare the performance here\n",
    "plt.figure(figsize=(8,6))\n",
    "\n",
    "plt.scatter([0], [np.mean(BCE_loss)], c='r', s=200, alpha=.6, label=\"Mean BCE\")\n",
    "plt.scatter([1], [np.mean(BCE_loss_30_permute)], c='r', s=200, alpha=.6)\n",
    "plt.scatter([2], [np.mean(BCE_loss_50_permute)], c='r', s=200, alpha=.6)\n",
    "plt.scatter([3], [np.mean(BCE_loss_90_permute)], c='r', s=200, alpha=.6)\n",
    "\n",
    "plt.legend(fontsize=14, loc=4)\n",
    "\n",
    "plt.yticks(fontsize=12)\n",
    "plt.xticks([0,1,2,3], ['No permutation', '30% permutation', '50% permutation', '90% permutation'], fontsize=12)\n",
    "\n",
    "plt.ylabel(\"BCE loss\", fontsize=14)\n",
    "plt.show()\n",
    "plt.savefig('results/BCE_loss.png')"
   ]
  },
  {
   "cell_type": "code",
   "execution_count": 193,
   "id": "c9c542e1-e03c-4cdf-9113-88ddd1a3ce49",
   "metadata": {
    "tags": []
   },
   "outputs": [
    {
     "data": {
      "image/png": "[encoded data removed]",
      "text/plain": [
       "<Figure size 800x600 with 1 Axes>"
      ]
     },
     "metadata": {},
     "output_type": "display_data"
    },
    {
     "data": {
      "text/plain": [
       "<Figure size 640x480 with 0 Axes>"
      ]
     },
     "metadata": {},
     "output_type": "display_data"
    },
    {
     "data": {
      "application/javascript": [
       "\n",
       "            setTimeout(function() {\n",
       "                var nbb_cell_id = 193;\n",
       "                var nbb_unformatted_code = \"## compare the performance here\\nplt.figure(figsize=(8,6))\\n\\nplt.scatter([0], [np.mean(KLD_loss)], c='r', s=200, alpha=.6, label=\\\"Mean KLD \\\")\\nplt.scatter([1], [np.mean(KLD_loss_30_permute)], c='r', s=200, alpha=.6)\\nplt.scatter([2], [np.mean(KLD_loss_50_permute)], c='r', s=200, alpha=.6)\\nplt.scatter([3], [np.mean(KLD_loss_90_permute)], c='r', s=200, alpha=.6)\\n\\nplt.legend(fontsize=14, loc=4)\\n\\nplt.yticks(fontsize=12)\\nplt.xticks([0,1,2,3], ['No permutation', '30% permutation', '50% permutation', '90% permutation'], fontsize=12)\\n\\nplt.ylabel(\\\"KLD loss\\\", fontsize=14)\\nplt.show()\\nplt.savefig('results/KLD_loss.png')\";\n",
       "                var nbb_formatted_code = \"## compare the performance here\\nplt.figure(figsize=(8, 6))\\n\\nplt.scatter([0], [np.mean(KLD_loss)], c=\\\"r\\\", s=200, alpha=0.6, label=\\\"Mean KLD \\\")\\nplt.scatter([1], [np.mean(KLD_loss_30_permute)], c=\\\"r\\\", s=200, alpha=0.6)\\nplt.scatter([2], [np.mean(KLD_loss_50_permute)], c=\\\"r\\\", s=200, alpha=0.6)\\nplt.scatter([3], [np.mean(KLD_loss_90_permute)], c=\\\"r\\\", s=200, alpha=0.6)\\n\\nplt.legend(fontsize=14, loc=4)\\n\\nplt.yticks(fontsize=12)\\nplt.xticks(\\n    [0, 1, 2, 3],\\n    [\\\"No permutation\\\", \\\"30% permutation\\\", \\\"50% permutation\\\", \\\"90% permutation\\\"],\\n    fontsize=12,\\n)\\n\\nplt.ylabel(\\\"KLD loss\\\", fontsize=14)\\nplt.show()\\nplt.savefig(\\\"results/KLD_loss.png\\\")\";\n",
       "                var nbb_cells = Jupyter.notebook.get_cells();\n",
       "                for (var i = 0; i < nbb_cells.length; ++i) {\n",
       "                    if (nbb_cells[i].input_prompt_number == nbb_cell_id) {\n",
       "                        if (nbb_cells[i].get_text() == nbb_unformatted_code) {\n",
       "                             nbb_cells[i].set_text(nbb_formatted_code);\n",
       "                        }\n",
       "                        break;\n",
       "                    }\n",
       "                }\n",
       "            }, 500);\n",
       "            "
      ],
      "text/plain": [
       "<IPython.core.display.Javascript object>"
      ]
     },
     "metadata": {},
     "output_type": "display_data"
    }
   ],
   "source": [
    "## compare the performance here\n",
    "plt.figure(figsize=(8,6))\n",
    "\n",
    "plt.scatter([0], [np.mean(KLD_loss)], c='r', s=200, alpha=.6, label=\"Mean KLD \")\n",
    "plt.scatter([1], [np.mean(KLD_loss_30_permute)], c='r', s=200, alpha=.6)\n",
    "plt.scatter([2], [np.mean(KLD_loss_50_permute)], c='r', s=200, alpha=.6)\n",
    "plt.scatter([3], [np.mean(KLD_loss_90_permute)], c='r', s=200, alpha=.6)\n",
    "\n",
    "plt.legend(fontsize=14, loc=4)\n",
    "\n",
    "plt.yticks(fontsize=12)\n",
    "plt.xticks([0,1,2,3], ['No permutation', '30% permutation', '50% permutation', '90% permutation'], fontsize=12)\n",
    "\n",
    "plt.ylabel(\"KLD loss\", fontsize=14)\n",
    "plt.show()\n",
    "plt.savefig('results/KLD_loss.png')"
   ]
  },
  {
   "cell_type": "code",
   "execution_count": 194,
   "id": "45937f89-1636-4458-aa67-680c0d56302d",
   "metadata": {
    "tags": []
   },
   "outputs": [
    {
     "data": {
      "image/png": "[encoded data removed]",
      "text/plain": [
       "<Figure size 800x600 with 1 Axes>"
      ]
     },
     "metadata": {},
     "output_type": "display_data"
    },
    {
     "data": {
      "text/plain": [
       "<Figure size 640x480 with 0 Axes>"
      ]
     },
     "metadata": {},
     "output_type": "display_data"
    },
    {
     "data": {
      "application/javascript": [
       "\n",
       "            setTimeout(function() {\n",
       "                var nbb_cell_id = 194;\n",
       "                var nbb_unformatted_code = \"## compare the performance here\\nplt.figure(figsize=(8,6))\\n\\nplt.scatter([0], [np.mean(MSE_loss)], c='r', s=200, alpha=.6, label=\\\"Mean MSE\\\")\\nplt.scatter([1], [np.mean(MSE_loss_30_permute)], c='r', s=200, alpha=.6)\\nplt.scatter([2], [np.mean(MSE_loss_50_permute)], c='r', s=200, alpha=.6)\\nplt.scatter([3], [np.mean(MSE_loss_90_permute)], c='r', s=200, alpha=.6)\\n\\nplt.legend(fontsize=14, loc=4)\\n\\nplt.yticks(fontsize=12)\\nplt.xticks([0,1,2,3], ['No permutation', '30% permutation', '50% permutation', '90% permutation'], fontsize=12)\\n\\nplt.ylabel(\\\"MSE loss\\\", fontsize=14)\\nplt.show()\\nplt.savefig('results/MSE_loss.png')\";\n",
       "                var nbb_formatted_code = \"## compare the performance here\\nplt.figure(figsize=(8, 6))\\n\\nplt.scatter([0], [np.mean(MSE_loss)], c=\\\"r\\\", s=200, alpha=0.6, label=\\\"Mean MSE\\\")\\nplt.scatter([1], [np.mean(MSE_loss_30_permute)], c=\\\"r\\\", s=200, alpha=0.6)\\nplt.scatter([2], [np.mean(MSE_loss_50_permute)], c=\\\"r\\\", s=200, alpha=0.6)\\nplt.scatter([3], [np.mean(MSE_loss_90_permute)], c=\\\"r\\\", s=200, alpha=0.6)\\n\\nplt.legend(fontsize=14, loc=4)\\n\\nplt.yticks(fontsize=12)\\nplt.xticks(\\n    [0, 1, 2, 3],\\n    [\\\"No permutation\\\", \\\"30% permutation\\\", \\\"50% permutation\\\", \\\"90% permutation\\\"],\\n    fontsize=12,\\n)\\n\\nplt.ylabel(\\\"MSE loss\\\", fontsize=14)\\nplt.show()\\nplt.savefig(\\\"results/MSE_loss.png\\\")\";\n",
       "                var nbb_cells = Jupyter.notebook.get_cells();\n",
       "                for (var i = 0; i < nbb_cells.length; ++i) {\n",
       "                    if (nbb_cells[i].input_prompt_number == nbb_cell_id) {\n",
       "                        if (nbb_cells[i].get_text() == nbb_unformatted_code) {\n",
       "                             nbb_cells[i].set_text(nbb_formatted_code);\n",
       "                        }\n",
       "                        break;\n",
       "                    }\n",
       "                }\n",
       "            }, 500);\n",
       "            "
      ],
      "text/plain": [
       "<IPython.core.display.Javascript object>"
      ]
     },
     "metadata": {},
     "output_type": "display_data"
    }
   ],
   "source": [
    "## compare the performance here\n",
    "plt.figure(figsize=(8,6))\n",
    "\n",
    "plt.scatter([0], [np.mean(MSE_loss)], c='r', s=200, alpha=.6, label=\"Mean MSE\")\n",
    "plt.scatter([1], [np.mean(MSE_loss_30_permute)], c='r', s=200, alpha=.6)\n",
    "plt.scatter([2], [np.mean(MSE_loss_50_permute)], c='r', s=200, alpha=.6)\n",
    "plt.scatter([3], [np.mean(MSE_loss_90_permute)], c='r', s=200, alpha=.6)\n",
    "\n",
    "plt.legend(fontsize=14, loc=4)\n",
    "\n",
    "plt.yticks(fontsize=12)\n",
    "plt.xticks([0,1,2,3], ['No permutation', '30% permutation', '50% permutation', '90% permutation'], fontsize=12)\n",
    "\n",
    "plt.ylabel(\"MSE loss\", fontsize=14)\n",
    "plt.show()\n",
    "plt.savefig('results/MSE_loss.png')"
   ]
  },
  {
   "cell_type": "code",
   "execution_count": null,
   "id": "ad8d369e-c326-4acb-9fac-4612d87e1b8c",
   "metadata": {},
   "outputs": [],
   "source": []
  },
  {
   "cell_type": "code",
   "execution_count": null,
   "id": "76e8982d-6cbe-473d-bd09-add7ee81e559",
   "metadata": {},
   "outputs": [],
   "source": []
  }
 ],
 "metadata": {
  "kernelspec": {
   "display_name": "Python 3 (ipykernel)",
   "language": "python",
   "name": "python3"
  },
  "language_info": {
   "codemirror_mode": {
    "name": "ipython",
    "version": 3
   },
   "file_extension": ".py",
   "mimetype": "text/x-python",
   "name": "python",
   "nbconvert_exporter": "python",
   "pygments_lexer": "ipython3",
   "version": "3.11.2"
  }
 },
 "nbformat": 4,
 "nbformat_minor": 5
}
